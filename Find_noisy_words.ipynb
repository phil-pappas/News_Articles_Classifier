{
 "metadata": {
  "language_info": {
   "codemirror_mode": {
    "name": "ipython",
    "version": 3
   },
   "file_extension": ".py",
   "mimetype": "text/x-python",
   "name": "python",
   "nbconvert_exporter": "python",
   "pygments_lexer": "ipython3",
   "version": "3.7.4-final"
  },
  "orig_nbformat": 2,
  "kernelspec": {
   "name": "Python 3.7.4 64-bit ('base': conda)",
   "display_name": "Python 3.7.4 64-bit ('base': conda)",
   "metadata": {
    "interpreter": {
     "hash": "b3ba2566441a7c06988d0923437866b63cedc61552a5af99d1f4fb67d367b25f"
    }
   }
  }
 },
 "nbformat": 4,
 "nbformat_minor": 2,
 "cells": [
  {
   "source": [
    "Explain what this notebook is about + put headers/formating + data source"
   ],
   "cell_type": "markdown",
   "metadata": {}
  },
  {
   "cell_type": "code",
   "execution_count": 2,
   "metadata": {},
   "outputs": [],
   "source": [
    "%run packages_imported.py\n",
    "%run EDA.py\n",
    "%run NLP.py\n",
    "%run Cleaner.py"
   ]
  },
  {
   "cell_type": "code",
   "execution_count": 3,
   "metadata": {},
   "outputs": [
    {
     "output_type": "execute_result",
     "data": {
      "text/plain": [
       "                                                       Title  \\\n",
       "0                  NYC art exhibition gives food for thought   \n",
       "1   Tracy Morgan performs first stand-up show since accident   \n",
       "2  Esquire's Sexiest Woman Alive is the sultry Emilia Clarke   \n",
       "\n",
       "                                                                                                                                                                                                                                                                                                                                                                                                                                                                                                                  Text  \\\n",
       "0  > Entertainment NYC art exhibition gives food for thought CORRECTS DATE THAT EXHIBITION ENDS TO APRIL 3, NOT APRIL 4 - Artist Pascal Bernier's mixed media taxidermic \"Piglets Farm Set,\" appears among the works of 30 artists in the multimedia exhibition β€The Value of Food: Sustaining a Green Planetβ€ at the Cathedral of St. John the Divine, Wednesday, Oct. 7, 2015, in New York. The exhibition, installed in the cathedralβ€™s seven chapels and 14 bays, explores food accessibility, sustainabili...   \n",
       "1  Tracy Morgan performs first stand-up show since accident Tracy Morgan is coming back with a bang. Post to Facebook Tracy Morgan performs first stand-up show since accident Tracy Morgan is coming back with a bang. Check out this story on wtsp.com: http://on.wtsp.com/1REw1aj Cancel Send A link has been sent to your friend's email address. Posted! A link has been posted to your Facebook feed. Join the Conversation To find out more about Facebook commenting please read the Conversation Guideline...   \n",
       "2  SUBSCRIBE FOLLOW US Β© 2015 Cox Media Group . By using this website, you accept the terms of our Visitor Agreement and Privacy Policy , and understand your options regarding Ad Choices . Learn about careers at Cox Media Group . Esquire's Sexiest Woman Alive is the sultry Emilia Clarke FILE - In this Jan. 12, 2014 file photo, actress Emilia Clarke arrives at the 71st annual Golden Globe Awards in Beverly Hills, Calif. The 28-year-old Clarke, who plays menacing, white-haired Daenerys Targaryen...   \n",
       "\n",
       "        Category  Text_TotalWords  \n",
       "0  entertainment               92  \n",
       "1  entertainment              380  \n",
       "2  entertainment              424  "
      ],
      "text/html": "<div>\n<style scoped>\n    .dataframe tbody tr th:only-of-type {\n        vertical-align: middle;\n    }\n\n    .dataframe tbody tr th {\n        vertical-align: top;\n    }\n\n    .dataframe thead th {\n        text-align: right;\n    }\n</style>\n<table border=\"1\" class=\"dataframe\">\n  <thead>\n    <tr style=\"text-align: right;\">\n      <th></th>\n      <th>Title</th>\n      <th>Text</th>\n      <th>Category</th>\n      <th>Text_TotalWords</th>\n    </tr>\n  </thead>\n  <tbody>\n    <tr>\n      <td>0</td>\n      <td>NYC art exhibition gives food for thought</td>\n      <td>&gt; Entertainment NYC art exhibition gives food for thought CORRECTS DATE THAT EXHIBITION ENDS TO APRIL 3, NOT APRIL 4 - Artist Pascal Bernier's mixed media taxidermic \"Piglets Farm Set,\" appears among the works of 30 artists in the multimedia exhibition β€The Value of Food: Sustaining a Green Planetβ€ at the Cathedral of St. John the Divine, Wednesday, Oct. 7, 2015, in New York. The exhibition, installed in the cathedralβ€™s seven chapels and 14 bays, explores food accessibility, sustainabili...</td>\n      <td>entertainment</td>\n      <td>92</td>\n    </tr>\n    <tr>\n      <td>1</td>\n      <td>Tracy Morgan performs first stand-up show since accident</td>\n      <td>Tracy Morgan performs first stand-up show since accident Tracy Morgan is coming back with a bang. Post to Facebook Tracy Morgan performs first stand-up show since accident Tracy Morgan is coming back with a bang. Check out this story on wtsp.com: http://on.wtsp.com/1REw1aj Cancel Send A link has been sent to your friend's email address. Posted! A link has been posted to your Facebook feed. Join the Conversation To find out more about Facebook commenting please read the Conversation Guideline...</td>\n      <td>entertainment</td>\n      <td>380</td>\n    </tr>\n    <tr>\n      <td>2</td>\n      <td>Esquire's Sexiest Woman Alive is the sultry Emilia Clarke</td>\n      <td>SUBSCRIBE FOLLOW US Β© 2015 Cox Media Group . By using this website, you accept the terms of our Visitor Agreement and Privacy Policy , and understand your options regarding Ad Choices . Learn about careers at Cox Media Group . Esquire's Sexiest Woman Alive is the sultry Emilia Clarke FILE - In this Jan. 12, 2014 file photo, actress Emilia Clarke arrives at the 71st annual Golden Globe Awards in Beverly Hills, Calif. The 28-year-old Clarke, who plays menacing, white-haired Daenerys Targaryen...</td>\n      <td>entertainment</td>\n      <td>424</td>\n    </tr>\n  </tbody>\n</table>\n</div>"
     },
     "metadata": {},
     "execution_count": 3
    }
   ],
   "source": [
    "df_all_news_processed = pd.read_pickle(r'data/original_data/pickles/df_all_news_processed_pre_cleaning')\n",
    "pd.options.display.max_colwidth = 500\n",
    "df_all_news_processed.head(3)"
   ]
  },
  {
   "cell_type": "code",
   "execution_count": 4,
   "metadata": {},
   "outputs": [],
   "source": [
    "#THIS CELL WILL BE REMOVED\n",
    "df_all_news_processed = Cleaner.remove_non_ascii_chars(df_all_news_processed)\n",
    "df_all_news_processed = Cleaner.remove_multiple_spaces(df_all_news_processed)\n",
    "len(df_all_news_processed)"
   ]
  },
  {
   "cell_type": "code",
   "execution_count": 6,
   "metadata": {},
   "outputs": [],
   "source": [
    "articles_split_by_word = NLP.tokenization(df_all_news_processed)"
   ]
  },
  {
   "cell_type": "code",
   "execution_count": 7,
   "metadata": {},
   "outputs": [
    {
     "output_type": "stream",
     "name": "stdout",
     "text": [
      "Process completed.\nTime taken: 1mins 11secs\n"
     ]
    },
    {
     "output_type": "execute_result",
     "data": {
      "text/plain": [
       "[('{* registration_firstName *}', 14154),\n",
       " ('( Source :', 8950),\n",
       " ('our Visitor Agreement', 5970),\n",
       " ('Published By: Charlotte', 4594),\n",
       " ('Published By: Reuters', 4278),\n",
       " ('Published By: USATODAY.com:', 4254),\n",
       " ('Published By: Fox', 3930),\n",
       " ('Published By: Huffington', 3634),\n",
       " ('Thank you for', 3328),\n",
       " ('Published By: NYTimes', 2982),\n",
       " ('Published By: Forbes.com:', 2770),\n",
       " ('Published By: CBS', 2430),\n",
       " ('- news )', 2160),\n",
       " ('Published By: Pittsburgh', 2024),\n",
       " ('Published By: Philly', 1868),\n",
       " ('Published By: Cleveland.com:', 1834),\n",
       " ('Ads with Photos', 1811),\n",
       " ('Published By: Boston', 1708),\n",
       " ('Published By: Denver', 1640),\n",
       " ('Published By: ABC', 1608),\n",
       " ('one of the', 1451),\n",
       " ('Published By: The', 1414),\n",
       " ('Published By: Des', 1386),\n",
       " ('Published By: Baltimore', 1312),\n",
       " ('Published By: Billings', 1296),\n",
       " ('Published By: Las', 1260),\n",
       " ('Published By: Detroit', 1246),\n",
       " ('{* #registrationFormBlank *}', 1232),\n",
       " ('Published By: Beaumont', 1192),\n",
       " ('Published By: Asbury', 1172)]"
      ]
     },
     "metadata": {},
     "execution_count": 7
    }
   ],
   "source": [
    "########## N-GRAMS ###########\n",
    "t1 = time.time()\n",
    "n = 3 #Specify number for N-Grams\n",
    "occurrences = EDA.find_most_common_n_grams(articles_split_by_word, n)\n",
    "EDA.process_time(round(time.time()-t1))\n",
    "sorted(occurrences.items(), key=lambda x: x[1], reverse=True)[:100]"
   ]
  },
  {
   "source": [
    "With the first look we see already quite some noise. Let's see what we have with 6-grams"
   ],
   "cell_type": "markdown",
   "metadata": {}
  },
  {
   "cell_type": "code",
   "execution_count": 11,
   "metadata": {},
   "outputs": [
    {
     "output_type": "stream",
     "name": "stdout",
     "text": [
      "Process completed.\nTime taken: 1mins 1secs\n"
     ]
    },
    {
     "output_type": "execute_result",
     "data": {
      "text/plain": [
       "[('{* registration_firstName *} {* registration_lastName *}', 14161),\n",
       " ('our Visitor Agreement and Privacy Policy', 5976),\n",
       " ('Tip : Use comma (,) to', 3388),\n",
       " ('{* /registrationForm *} Thank you for', 3316),\n",
       " ('Published By: Forbes.com: Latest News -', 2424),\n",
       " ('Ads with Photos only: Note: By', 1811),\n",
       " ('Published By: Charlotte Observer - Today', 1762),\n",
       " ('Published By: Reuters - Company News', 1498),\n",
       " ('Published By: Des Moines Register -', 1412),\n",
       " ('Published By: Fox News: Sports -', 1326),\n",
       " ('Published By: Detroit Free Press -', 1248),\n",
       " ('{* #registrationFormBlank *} {* traditionalRegistration_emailAddressBlank *}',\n",
       "  1232),\n",
       " ('Published By: Asbury Park Press -', 1180),\n",
       " ('Published By: Charlotte Observer: Sports -', 1090),\n",
       " ('Published By: Fox News: World -', 1004),\n",
       " ('chart data and daily updates provided', 979),\n",
       " ('Published By: USATODAY.com: Nation - Today', 842),\n",
       " ('Published By: Denver Post - Today', 812),\n",
       " ('Published By: USATODAY.com: NFL - Today', 790),\n",
       " ('Published By: Reuters - World news', 790),\n",
       " ('Published By: Boston Herald - Today', 650),\n",
       " ('Article extract not available. Link to', 632),\n",
       " ('Published By: Centre Daily Times -', 632),\n",
       " ('Published By: Las Vegas Sun -', 620),\n",
       " ('Published By: CBS News - Today', 616),\n",
       " ('Published By: Al Jazeera - Today', 608),\n",
       " ('Published By: Louisville Courier-Journal: Sports -', 604),\n",
       " ('Published By: Charlotte Observer: Business -', 602),\n",
       " ('Published By: CBS News: Video -', 578),\n",
       " ('Published By: Watch Live - Today', 572),\n",
       " ('Published By: Reuters - Business -', 570),\n",
       " ('Published By: Huffington Post Politics -', 558),\n",
       " ('Published By: ABC News: US -', 518),\n",
       " ('Published By: Hollywood Life - Today', 512),\n",
       " ('Published By: CBS News: U.S. -', 470),\n",
       " ('Published By: Indy Star - Today', 462),\n",
       " ('Need an account? Create one now.', 461),\n",
       " ('Published By: Cincinnati Enquirer: Breaking -', 460),\n",
       " ('Return to video Video settings Please', 458),\n",
       " ('Published By: The Daily Beast -', 454),\n",
       " ('Published By: Philly News - Today', 420),\n",
       " ('Published By: Media Ite - Today', 416),\n",
       " ('Published By: NYTimes US News -', 402),\n",
       " ('Published By: Hollywood Gossip - Today', 392),\n",
       " ('Published By: Delaware Online - Today', 378),\n",
       " ('Published By: Fox News: Video -', 376),\n",
       " ('Published By: Wall Street Journal -', 358),\n",
       " ('Published By: USATODAY.com: Entertainment - Today', 352),\n",
       " ('Published By: Cleveland.com: Sports - Today', 352),\n",
       " ('Published By: USATODAY.com: Money - Today', 350),\n",
       " ('Published By: Charlotte Observer: Politics -', 342),\n",
       " ('Published By: Houston Chronicle Sports -', 340),\n",
       " ('Published By: Pittsburgh Post: Opinion -', 336),\n",
       " ('Published By: Beaumont Enterprise - Today', 326),\n",
       " ('Published By: Finger Lake Times -', 316),\n",
       " ('Published By: Huffington Post Business -', 312),\n",
       " ('Published By: Montgomery Advertiser: Sports -', 308),\n",
       " ('Published By: Charlotte Observer: Local -', 308),\n",
       " ('Noah Consulting being acquired by Infosys', 306),\n",
       " ('Published By: Boston Herald Sports -', 304),\n",
       " ('Published By: Baltimore Sun News -', 300),\n",
       " ('Published By: ABC News: Politics -', 298),\n",
       " ('Published By: Louisville Courier-Journal - Today', 298),\n",
       " ('Published By: ABC News - Today', 284),\n",
       " ('Published By: Montgomery Advertiser - Today', 280),\n",
       " ('Published By: Indy Star: Sports -', 280),\n",
       " ('Published By: Las Vegas RJ -', 276),\n",
       " ('Make Your Passion Your Career. Work', 271),\n",
       " ('Published By: Las Vegas Review-Journal -', 270),\n",
       " ('Published By: Florida Today - Today', 268),\n",
       " ('Published By: Fox News - Today', 264),\n",
       " ('( Source : Ministry of Foreign', 258),\n",
       " ('Published By: USATODAY.com: NHL - Today', 258),\n",
       " ('Published By: Gossip Cop - Today', 254),\n",
       " (\"Don't have an account? Sign up\", 252),\n",
       " ('Published By: Huffington Post Entertainment -', 250),\n",
       " ('Local Real Estate Cars For Sale', 243),\n",
       " ('Published By: Buffalow News: Sports -', 242),\n",
       " ('Elemental Technologies being acquired by Amazon', 241),\n",
       " ('TelegraphSportPage Follow @telefootball Telegraph Fantasy Football', 240),\n",
       " ('Published By: Anchorage Daily News -', 238),\n",
       " ('Published By: Reuters - US News', 236),\n",
       " ('Published By: Iowa City Press -', 236),\n",
       " ('Published By: Houston Chronicle Mom -', 234),\n",
       " ('Published By: Cincinnati Enquirer: Sports -', 230),\n",
       " ('CONNECT TWEET LINKEDIN COMMENT EMAIL MORE', 229),\n",
       " ('Published By: NYTimes Baseball - Today', 228),\n",
       " ('Published By: Reuters - Sports -', 228),\n",
       " ('Published By: Philly News Nation/World -', 226),\n",
       " ('Published By: Charlotte Observer: Entertainment -', 224),\n",
       " ('Published By: USATODAY.com: NBA - Today', 222),\n",
       " ('Published By: USATODAY.com: World - Today', 220),\n",
       " ('Published By: NYTimes NY Region -', 220),\n",
       " ('Published By: NYTimes Arts - Today', 218),\n",
       " ('Published By: Florida Today: Sports -', 218),\n",
       " ('Published By: USATODAY.com: Washington - Today', 216),\n",
       " ('Health Tip of the Day Sign', 215),\n",
       " ('By Kyle Newport, Bleacher Report Posted', 208),\n",
       " ('Published By: The Coloradoan - Today', 206),\n",
       " ('Published By: Pittsburgh Post: Sports -', 206)]"
      ]
     },
     "metadata": {},
     "execution_count": 11
    }
   ],
   "source": [
    "########## N-GRAMS ###########\n",
    "t1 = time.time()\n",
    "n = 6 #Specify number for N-Grams\n",
    "occurrences = EDA.find_most_common_n_grams(articles_split_by_word, n)\n",
    "EDA.process_time(round(time.time()-t1))\n",
    "sorted(occurrences.items(), key=lambda x: x[1], reverse=True)[:100]"
   ]
  },
  {
   "source": [
    "First let's focus on the most noisy n-grams: <br/>\n",
    "<i><b>{\\* registration_firstName \\*}</b></i><br/>\n",
    "<i><b>our Visitor Agreement and Privacy Policy</b></i><br/>\n",
    "<i><b>Tip : Use comma (,) to</b></i><br/>\n",
    "<i><b>Published By: Forbes.com: Latest News -</b></i><br/>\n",
    "<i><b>Ads with Photos only: Note: By</b></i><br/>\n",
    "<i><b>chart data and daily updates provided</b></i><br/>"
   ],
   "cell_type": "markdown",
   "metadata": {}
  },
  {
   "source": [
    "#### <i><b>{\\* registration_firstName \\*}</b></i> - Capture everything within curly brackets<br/>\n"
   ],
   "cell_type": "markdown",
   "metadata": {}
  },
  {
   "cell_type": "code",
   "execution_count": 60,
   "metadata": {},
   "outputs": [],
   "source": [
    "#todo"
   ]
  },
  {
   "source": [
    "<i><b>our Visitor Agreement and Privacy Policy</b></i><br/>\n"
   ],
   "cell_type": "markdown",
   "metadata": {}
  },
  {
   "cell_type": "code",
   "execution_count": null,
   "metadata": {},
   "outputs": [],
   "source": [
    "#todo"
   ]
  },
  {
   "source": [
    "<i><b>Tip : Use comma (,) to</b></i> - <br/>"
   ],
   "cell_type": "markdown",
   "metadata": {}
  },
  {
   "cell_type": "code",
   "execution_count": null,
   "metadata": {},
   "outputs": [],
   "source": [
    "#todo"
   ]
  },
  {
   "source": [
    "<i><b>Published By: Forbes.com: Latest News -</b></i> - <br/>\n"
   ],
   "cell_type": "markdown",
   "metadata": {}
  },
  {
   "cell_type": "code",
   "execution_count": null,
   "metadata": {},
   "outputs": [],
   "source": [
    "#todo"
   ]
  },
  {
   "source": [
    "<i><b>Ads with Photos only: Note: By</b></i> - <br/>\n"
   ],
   "cell_type": "markdown",
   "metadata": {}
  },
  {
   "cell_type": "code",
   "execution_count": null,
   "metadata": {},
   "outputs": [],
   "source": [
    "#todo"
   ]
  },
  {
   "source": [
    "<i><b>chart data and daily updates provided</b></i> - <br/>"
   ],
   "cell_type": "markdown",
   "metadata": {}
  },
  {
   "cell_type": "code",
   "execution_count": null,
   "metadata": {},
   "outputs": [],
   "source": [
    "#todo"
   ]
  },
  {
   "source": [
    "Let's rerun the n-grams and see what is left"
   ],
   "cell_type": "markdown",
   "metadata": {}
  },
  {
   "cell_type": "code",
   "execution_count": null,
   "metadata": {},
   "outputs": [],
   "source": []
  },
  {
   "cell_type": "code",
   "execution_count": 7,
   "metadata": {},
   "outputs": [],
   "source": [
    "df_all_news_processed = Cleaner.remove_most_noisy_words(df_all_news_processed)\n",
    "articles_split_by_word = NLP.tokenization(df_all_news_processed)"
   ]
  },
  {
   "cell_type": "code",
   "execution_count": 15,
   "metadata": {},
   "outputs": [
    {
     "output_type": "stream",
     "name": "stdout",
     "text": [
      "Process completed.\nTime taken: 1mins 40secs\n"
     ]
    },
    {
     "output_type": "execute_result",
     "data": {
      "text/plain": [
       "[('     ', 21418),\n",
       " ('Tip : Use comma (,) to', 3388),\n",
       " ('  Thank you for registering!', 3316),\n",
       " ('Ads with Photos only: Note: By', 1811),\n",
       " ('  Company News - Today', 1436),\n",
       " ('chart data and daily updates provided', 979),\n",
       " ('  World news - Today', 764),\n",
       " ('Article extract not available. Link to', 632),\n",
       " ('Need an account? Create one now.', 481),\n",
       " ('Return to video Video settings Please', 458),\n",
       " ('Noah Consulting being acquired by Infosys', 306),\n",
       " ('Make Your Passion Your Career. Work', 271),\n",
       " (\"Don't have an account? Sign up\", 252),\n",
       " ('Local Real Estate Cars For Sale', 243),\n",
       " ('Elemental Technologies being acquired by Amazon', 241),\n",
       " ('TelegraphSportPage Follow @telefootball Telegraph Fantasy Football', 240),\n",
       " ('  US News - Today', 232),\n",
       " ('CONNECT TWEET LINKEDIN COMMENT EMAIL MORE', 229),\n",
       " ('Health Tip of the Day Sign', 215),\n",
       " ('  Today The latest on', 208),\n",
       " ('By Kyle Newport, Bleacher Report Posted', 208),\n",
       " ('In order to deliver a personalized,', 205),\n",
       " ('relevant securities of the offeror or', 204),\n",
       " ('  Business - Today (Reuters)', 204),\n",
       " ('SUBSCRIBE FOLLOW US 2015 Cox Media', 195),\n",
       " ('Information contained on this page is', 189),\n",
       " ('Only registered TrekEarth members may write', 187),\n",
       " ('GRAEME SMITH / / World News', 170),\n",
       " ('SPECIAL OFFER FOR NEW READERS 99', 168),\n",
       " ('1 CONNECT TWEET LINKEDIN COMMENT EMAIL', 159),\n",
       " ('Students loan re-financier SoFi successfully raises', 153),\n",
       " ('stock that TheStreet Ratings rated a', 148),\n",
       " ('  Today NEW YORK (AP)', 148),\n",
       " (' * * A version of', 148),\n",
       " ('Russian Nuclear Official Pleads Guilty To', 146),\n",
       " ('during the first half of an', 143),\n",
       " ('telegraph.co.uk Follow @telegraph The Telegraph Investor', 143),\n",
       " ('By Dan Carson, Bleacher Report Posted', 135),\n",
       " ('Sri Lanka may restrict visitors to', 133),\n",
       " ('1 of 3 | License Photo', 132),\n",
       " ('video Return to video Video settings', 131),\n",
       " ('By Thomas Duffy, Bleacher Report Posted', 130),\n",
       " ('  Today The latest developments', 128),\n",
       " ('Advertisement Continue reading the main story', 123),\n",
       " (' * * Recommended Related Articles', 123),\n",
       " ('Want the latest recommendations from Zacks', 121),\n",
       " ('to view this article in its', 120),\n",
       " ('Privacy Policy | More Newsletters AP', 119),\n",
       " (' press.com: Ft. Myers - Today', 116),\n",
       " ('Wednesday entered into a definitive agreement', 112),\n",
       " ('  Today Live Football Streams', 108),\n",
       " ('X Zawya Comment Policy Zawya encourages', 106),\n",
       " (' Celebrities at Mets playoff games', 103),\n",
       " (\"It's a good news, bad news\", 103),\n",
       " ('Registration on or use of this', 102),\n",
       " ('  Today Share This Video', 102),\n",
       " ('View Larger FILE - In this', 101),\n",
       " ('Thanks for sharing About.com with others!', 101),\n",
       " ('Concept tagging by the AlchemyAPI About', 100),\n",
       " ('You have successfully emailed the post.', 98),\n",
       " ('  Today The latest news', 98),\n",
       " ('How much do you know about', 98),\n",
       " ('By DAVE SKRETTA AP Sports Writer', 98),\n",
       " ('Khloe Kardashian has finally broken her', 95),\n",
       " ('  Politics - Today WASHINGTON', 94),\n",
       " ('> Top News AP PHOTOS: The', 94),\n",
       " (\"Actress Maureen O'Hara died Saturday at\", 92),\n",
       " ('We want you to tell us', 91),\n",
       " ('Donald Trump will bring his notorious', 89),\n",
       " (\"you've reached a subscriber-only article. Take\", 89),\n",
       " ('Follow @telegraph The Telegraph Investor Transfer', 88),\n",
       " ('By Jack Sommer, Business Insider Posted', 88),\n",
       " ('  Today A look at', 86),\n",
       " ('half of an NFL football game', 85),\n",
       " ('By Cindy Boren, The Washington Post', 83),\n",
       " ('  Today One of the', 82),\n",
       " ('Coral Pink Sand Dunes State Park', 81),\n",
       " ('ABC Family has pulled the plug', 80),\n",
       " ('ManchesterUnitedTelegraph Follow @telefootball Telegraph Fantasy Football',\n",
       "  80),\n",
       " ('Click here for information and nomination', 79),\n",
       " ('talks to correspondent Tracy Smith about', 78),\n",
       " ('For latest Hollywood updates follow us', 78),\n",
       " (' Journal: Sports - Today Kentucky', 78),\n",
       " ('at the Jack Nicklaus Golf Club', 78),\n",
       " ('By GARY B. GRAVES, The Associated', 78),\n",
       " (\"A look at what's happening around\", 77),\n",
       " ('Some say love... is Amy Poehler', 76),\n",
       " ('Facebook Twitter Pinterest Share Share this', 75),\n",
       " ('The Canadian Press - ONLINE EDITION', 74),\n",
       " ('Submitted by admin on 9/29/2015 @', 74),\n",
       " ('Submitted by admin on 9/3/2015 @', 73),\n",
       " ('By Lindsey Bever, The Washington Post', 73),\n",
       " ('Dance Moms star Abby Lee Miller', 72),\n",
       " ('Undateable is doubling down on its', 72),\n",
       " ('By Matt Fitzgerald, Bleacher Report Posted', 72),\n",
       " ('You are here: News Home World', 72),\n",
       " ('By Todd Dewey, The Las Vegas', 69),\n",
       " ('1 of 5 | License Photo', 68),\n",
       " ('Moneylife Magazine issues launched during the', 68),\n",
       " (' Journal: Sports - Today The', 68)]"
      ]
     },
     "metadata": {},
     "execution_count": 15
    }
   ],
   "source": [
    "########## N-GRAMS ###########\n",
    "t1 = time.time()\n",
    "n = 6 #Specify number for N-Grams\n",
    "occurrences = EDA.find_most_common_n_grams(articles_split_by_word, n)\n",
    "EDA.process_time(round(time.time()-t1))\n",
    "sorted(occurrences.items(), key=lambda x: x[1], reverse=True)[:100]"
   ]
  },
  {
   "cell_type": "code",
   "execution_count": null,
   "metadata": {},
   "outputs": [],
   "source": []
  },
  {
   "cell_type": "code",
   "execution_count": 56,
   "metadata": {},
   "outputs": [
    {
     "output_type": "execute_result",
     "data": {
      "text/plain": [
       "                                                                                                      Title  \\\n",
       "757                          The Dressmaker author Rosalie Ham's surreal moment as her book becomes a movie   \n",
       "1068                             X Factor Australia: Guy Sebastian feuds with eliminated singer Jimmy Davis   \n",
       "1775                     The Bachelorette Sam Frost tipped to join Rove as co-host of 2DayFM breakfast show   \n",
       "1906                        Jeremy Clarkson, Richard Hammond, James May share first look at new Amazon show   \n",
       "2232                         The Verdict is in: Karl Stefanovic controversial new show tanks in the ratings   \n",
       "...                                                                                                     ...   \n",
       "493143                                                             Treasury's US wine swoop looks promising   \n",
       "493144  It's either aliens or a swarm of comets: scientists baffled by WTF 001, our galaxy's strangest star   \n",
       "493161             Education Minister Simon Birmingham vows to develop uni reforms that can pass Parliament   \n",
       "493230                        Royal Australasian College of Surgeons 'ignored sexual harassment complaints'   \n",
       "493428                                        AFL grand final 2015: Hawthorn drop Billy Hartung for decider   \n",
       "\n",
       "                                                                                                                                                                                                                                                                                                                                                                                                                                                                                                                                                                                                                                                                                                                                                                                                                                                                                                                                                                                                                                                                                                                                                                                                                                                                                                                                                                                                                                                                                                                                                                                                                                                                                                                                                                                                                                                                                                                                                                                                                                                                                   Text  \\\n",
       "757     Click to play video Return to video Video settings Please Log in to update your video settings Video will begin in 5 seconds. Don't play Play now More video Recommended Replay video Return to video Video settings Please Log in to update your video settings Trailer: The Dressmaker Small town girl, Tilly (Kate Winslet) returns from international adventures to reconcile with her mother and set chins wagging. PT2M11S http://www.canberratimes.com.au/action/externalEmbeddedPlayer?id=d-405po 620 349 July 30, 2015 Autoplay On Off Video feedback Video settings Sarah Snook in The Dressmaker We were on the penultimate hole of our Friday morning golf game when Sue Maslin told me Kate Winslet would play the lead role in the film adaption of my first novel, The Dressmaker . Sue and I went to school together and I knew her as a tenacious, and somewhat formidable, golf partner and a very fine film producer. Rosalie Ham: \"Film is another medium so it can't be my novel but what I intended has been made to work for film.\" Photo: Supplied She's brought us Japanese Story and Road to Nhill and was working hard producing The Dressmaker; Jocelyn Moorhouse had written the adaptation and would direct, and there was interest from investors and filmmakers locally and internationally. Advertisement But, Kate Winslet? It was a task to focus on the small white ball and the final fairway, but there were more surreal experiences ahead. The first was sitting in the extras tent for hair and makeup and seeing myself reflected as my mother in 1950. The town of Dungatar, as created in The Dressmaker . Photo: Supplied Then there was the friends and family (mostly farmers and nurses) as extras 'acting' in crowd scenes behind Shane Jacobson, Gyton Grantley, Sarah Snook and Sacha Horler. My brother looked just like my father in 1950. Then I stepped off a bus into Dungatar, the town I created in the novel, and shook hands with Mad Molly (Judy Davis) and Muriel Pratt (Rebecca Gibney). A new edition of Ros...   \n",
       "1068    Click to play video Return to video Video settings Please Log in to update your video settings Video will begin in 5 seconds. Don't play Play now More video Recommended Replay video Return to video Video settings Please Log in to update your video settings X Factor judges lock horns James Blunt, Chris Isaak and Guy Sebastian express their disappointment in Dannii Minogue's song choice for her contestant, Georgia. X Factor airs Mondays and Tuesdays, 7:30pm on Channel Seven. PT2M4S http://www.canberratimes.com.au/action/externalEmbeddedPlayer?id=d-44fmm 620 349 October 13, 2015 Autoplay On Off Video feedback Video settings X Factor Australia judges attack Dannii Minogue Backlash after mother and daughter finalists erased Guy Sebastian has fired a scathing salvo of tweets at ousted X Factor contestant Jimmy Davis after the singer called the competition a \"game show\" and blamed poor song choices for his elimination. The X Factor judge called Davis's comments a \"huge slap in the face\" and \"incredibly disappointing\", and accused Davis of being ungrateful after being given exposure and flown around the world. Eliminated X Factor contestant Jimmy Davis said the show would have given him \"a total breakdown\". Photo: Channel Seven In an interview with News Corp Australia, the 21-year-old said being on the show brought up 'contradicting emotions with his soul' and that he didn't know how far he could have gone in the competition \"without having a total breakdown\". Advertisement \"I sing my own songs. Having a show based off covers, they kept saying they need to see it through my eyes and if I was singing my own songs, you'd really see me connecting, that's when you'd see my true artistry,\" he said. After reading the comments, a fired-up Sebastian attacked Davis - an apprentice of Chris Isaak's - for being ungrateful and said his own songs weren't good enough to get him through the show. The X-Factor 2015 judges. Photo: Supplied \"How incredibly disappointing. After all the ti...   \n",
       "1775    Click to play video Return to video Video settings Please Log in to update your video settings Video will begin in 5 seconds. Don't play Play now More video Recommended Replay video Return to video Video settings Please Log in to update your video settings Bachelorette Sam Frost chooses Sasha Sam Frost reveals she has finally found love after picking builder Sasha Mielczarek. PT0M42S http://www.canberratimes.com.au/action/externalEmbeddedPlayer?id=d-4508a 620 349 October 22, 2015 Autoplay On Off Video feedback Video settings She's apparently just found the love of her life on The Bachelorette , but Sam Frost is about to undertake what ranks as one of the great passion killers: waking up at ungodly hours to work on breakfast radio. Strong rumours circulating the Sydney radio market indicate that Frost will join Rove McManus as co-host of the embattled FM radio station 2DayFM's ailing breakfast show following the ousting of previous breakfast hosts Maz Compton and Dan Debuf. However verifying the rumours with 2DayFM owners, Southern Cross Austereo, has proven difficult as the network's head publicist, Heidi Virtue, has left the media company just five weeks after starting in the gig. Another spokesperson for the network declined to comment on whether Frost will be joining McManus in the studio. New lovers Sam Frost and Sasha Mielczarek after The Bachelorette finale last week. Photo: Instagram PS understands McManus, who is being paid a reported $350,000 worth of shares every six months for the duration of his three year contract, will launch the new show on Sydney airwaves next Monday with Frost by his side. Advertisement The move is the latest attempt by 2DayFM to regain the FM breakfast ratings crown in Sydney which was ripped away when its former star personalities, Kyle Sandilands and Jackie O, were poached by rival KIISFM, taking their huge audience and advertising revenue with them. Since then the station has experimented with a long line of personalities, i...   \n",
       "1906    Click to play video Return to video Video settings Please Log in to update your video settings Video will begin in 5 seconds. Don't play Play now More video Recommended Replay video Return to video Video settings Please Log in to update your video settings Margot Robbie's Top Gear close call In the original version of the UK show, Australian star Margot Robbie almost collided with a camera operator while driving a hatchback. PT0M55S http://www.canberratimes.com.au/action/externalEmbeddedPlayer?id=d-3qdlt 620 349 February 17, 2015 Autoplay On Off Video feedback Video settings Amazon pays big bucks for Jeremy Clarkson Richard Hammond says end Top Gear 'broke my heart' After a tumultuous six months, former Top Gear hosts Jeremy Clarkson, James May and Richard Hammond are back bigger and better than ever before. The trio returned to work on the set of their new Amazon Prime show this week, in a deal rumoured to be worth $338 million which also secured former Top Gear executive producer Andy Wilman. The Top Gear gang are back together again. Photo: Twitter Clarkson was sacked by the BBC in March for assaulting a Top Gear Producer, with Clarkson and May refusing to return to work without him. Advertisement It looks like Amazon has spared no expense for the new motoring show, with Clarkson sharing a photo of the huge crew on Twitter on Thursday along with a wry caption taking aim at the BBC. \"With a skeleton crew, filming for Amazon Prime's new motoring show has begun,\" the 55-year-old wrote, posing with a Ferrari, Porsche and McLaren. Clarkson, Hammond and May have hosted Top Gear since the late 1990s. Hammond shared the same photo, adding: \"The band is back together and it feels brilliant\". Clarkson boasted about the new Amazon deal in July and took no time in swiping the BBC, telling Daily Mail : 'I feel like I've climbed out of a bi-plane and into a spaceship.\" Great first day at work. I can't stop staring. pic.twitter.com/GtYVHaGmYR James May (@MrJamesMay) October...   \n",
       "2232    Click to play video Return to video Video settings Please Log in to update your video settings Video will begin in 5 seconds. Don't play Play now More video Recommended Replay video Return to video Video settings Please Log in to update your video settings The Verdict: Miranda Tapsell doesn't feel Australian The actress is candid about the difficulties she has faced growing up black in Australia on Channel Nine's The Verdict. PT0M30S http://www.canberratimes.com.au/action/externalEmbeddedPlayer?id=d-44l5a 620 349 October 16, 2015 - 8:04AM Autoplay On Off Video feedback Video settings What happens if Stefanovic's show is a bust? Mark Latham admits to having trolling on Twitter Despite much hype, a controversial line-up of panelists and a charismatic host, Nine's new talk show The Verdict has pulled only 9000 more viewers than an afternoon screening of The Bold and the Beautiful in its second outing. This represents a significant drop in audience numbers from last week, when 522,000 people tuned in to the premiere. The Verdict panel and host Karl Stefanovic. The weekly program, modelled on a mixture of The Project and Q&A , promised fiery debate and a \"bumpy ride\" but in its second week was watched by fewer people than an episode of Grant Denyer's Family Feud . Advertisement In the capital cities, 369,000 Australians tuned in to watch The Verdict, narrowly beating Ten's soap The Bold and the Beautiful, which snagged 360,000 viewers. The abysmal result could spell the death knell for the show, which was reportedly given a five-episode run as the Nine Network trialled the new format. Karl Stefanovic on set of new show The Verdict. photo: supplied Photo: Supplied The Verdict finished in 24th spot on Thursday night, trailing programs like Gogglebox , The Project , The Chaser's Media Circus and Highway Patrol . As prime-time programs such as The X Factor pull in more than one million viewers a night, the new Nine show is a certifiable flop. The ratings will come as a h...   \n",
       "...                                                                                                                                                                                                                                                                                                                                                                                                                                                                                                                                                                                                                                                                                                                                                                                                                                                                                                                                                                                                                                                                                                                                                                                                                                                                                                                                                                                                                                                                                                                                                                                                                                                                                                                                                                                                                                                                                                                                                                                                                                                                                 ...   \n",
       "493143  Return to video Video settings Please Log in to update your video settings Video will begin in 5 seconds. Don't play Play now More video Recommended Mal Maiden: Beer giants merge Westpac increases home loan interest rates Global beer market shrinks Westpac raises home loan rates Westpac may lose customers with mortgage rate rise Replay video Return to video Video settings Please Log in to update your video settings Mal Maiden: Beer giants merge With one of the biggest brewery takeovers ever agreed to this week, Penfolds looking to expand in the US and Westpac leading the charge in raising rates, Mal Maiden examines a busy week in the markets. PT4M24S 620 349 Autoplay On Off Video feedback Video settings Treasury Wine eyes split after $754m Diageo wine buy Treasury Wine estates chief executive Mike Clarke was negotiating the purchase of the Diageo group's wine business for about a year, which tells you he would probably make a good poker player. Large parts of Diageo's wine portfolio were almost tailor-made for the business Clarke says he wants Treasury to become capital-light, and aimed at the high-profit luxury end of the wine market, and the higher-volume but still lucrative prestige or \"masstige\" market that sits beneath it. Illustration: John Shakespeare They are the parts of the global wine market where supply is tight and demand is growing, and for 18 months Clarke has been steering Treasury in the same direction, by selling the Penfolds range worldwide for example. (The new Penfolds vintage will be launched on Thursday in Shanghai). Diageo also owned the No.2 mass-market wine brand in Britain, Blossom Hill, and wanted to offload that, too. It is lower-margin business and not such a great fit for Treasury, but Clarke has bought it as well to get the deal done. The businesses Treasury is buying will still be generating about three-quarters of their earnings from luxury and masstige wine, and Blossom Hill bulks up Treasury's mass-market business, preparing i...   \n",
       "493144  Return to video Video settings Please Log in to update your video settings Video will begin in 5 seconds. Don't play Play now More video Recommended Former child soldier's message Iran airs footage of missiles in tunnels US intelligence knew Afghan site was hospital US troops to stay in Afghanistan Plane engine breaks apart at take-off Replay video Return to video Video settings Please Log in to update your video settings Is this an alien megastructure? Something is blotting out the light of a star and scientists are getting excited. Here's why. PT1M22S 620 349 Autoplay On Off Video feedback Video settings It has been called the most bizarre star in our galaxy and some think it just might be home to high-tech aliens. The unlikely suggestion that aliens live in this star system is being taken so seriously that a team of astrophysicists wants to train a radio telescope in its direction to determine if any signals could indicate advanced extraterrestrial life. Andrew Siemion, director of the Search for Extraterrestrial Intelligence at the University of California, Berkeley , told Fairfax Media the star had become SETI's candidate number one. One outlandish hypothesis suggests the star's light signal is caused by a Dyson sphere, an alien megastructure designed to capture solar energy. Photo: Artist's impression by CapnHack It is clear that something big is blocking light coming from the star between the Cygnus and Lyra constellations, but no-one really knows what it is. Advertisement \"Aliens should always be the very last hypothesis you consider,\" Penn State astrophysicist Jason Wright told The Atlantic . \"But this looked like something you would expect an alien civilisation to build.\" The light from the star is \"consistent with a swarm of megastructures\" around it, he said. KIC 8462852 has been informally renamed WTF 001. Photo: arXiv The star has the cumbersome name of KIC 8462852, but the research group that will look for \"unambiguous indicators\" of technology in...   \n",
       "493161  Return to video Video settings Please Log in to update your video settings Video will begin in 5 seconds. Don't play Play now More video Recommended What does a 4-year-old know about Australian politics? Explainer: is some Federal spending unlawful? Wind turbines worse than asbestos? United on jobs and growth University deregulation: Turnbull's first big change Replay video Return to video Video settings Please Log in to update your video settings Abbott: 'The last people that need to be nannied are our unis' Ex-PM Tony Abbott weighs in on the Turnbull government's uni reform announcement. PT1M38S 620 349 Autoplay On Off Video feedback Video settings Comment: Christopher Pyne never earned 'fixer' title but his flatmate might Education Minister Simon Birmingham has vowed to move quickly to develop a set of higher education policies that can pass Parliament, as he dropped the government's controversial plan to allow universities to set their own fees from next year. The decision to shelve one of the government's most controversial policies was immediately lamented by former prime minister Tony Abbott, who said he was disappointed his \"gutsy\" reforms had been delayed. Minister for Education Simon Birmingham. Photo: Andrew Meares Senator Birmingham announced on Thursday that he will not reintroduce the government's higher education bills into the Senate for another vote this year, meaning any changes would not come into force until 2017 at the earliest. The government has also put a proposed 20 per cent cut to university funding on ice. Advertisement Senator Birmingham said he would consult with universities, students, employers and the Senate crossbenchers before introducing any legislation. The government has included $17 billion in higher education savings in its budget projections for the next decade, meaning a full retreat from its reforms would further blow out the budget deficit. Senator Birmingham told Fairfax Media he hoped to resolve the government's highe...   \n",
       "493230  EXCLUSIVE Return to video Video settings Please Log in to update your video settings Video will begin in 5 seconds. Don't play Play now More video Recommended NRL Grand Final safety warning Police shooting in Parramatta What does a 4-year-old know about Australian politics? Who was the real Alice? We are not the USA Replay video Return to video Video settings Please Log in to update your video settings Letter alleges history of sexual harassment among surgeons A leaked letter written by Dr Gabrielle McMullin to the Royal Australian College of Surgeons reveals the body was aware of sexual harassment claims against senior surgeons seven years ago. PT2M18S 620 349 Autoplay On Off Video feedback Video settings Complaints that female trainees were being sexually harassed by senior surgeons corruptly wielding power over their careers have been ignored by the Royal Australasian College of Surgeons for seven years, a doctor says. Explosive leaked documents reveal Sydney surgeon Gabrielle McMullin told the college in 2008 that three female trainees had asked her advice on how to deal with senior surgeons asking for sexual favours. In two cases, corruption of training processes was alleged. \"In one case the surgeon has offered a place on a training scheme based on the granting of sexual services. In another case the surgeon has become very angry about the refusal of sexual services and consequently produced a report that questioned the ability of the trainee,\" Dr McMullin wrote in a letter to then president Ian Gough. Vascular surgeon Gabrielle McMullin. Dr McMullin said she told the trainees that granting sexual services was \"probably the safest way to play it in that there will be no 'fuss' \". However, she said she warned the women that \"men have very short memories following sex and are unlikely to follow through with promises of training positions\". Advertisement \"Refusing sexual services is the most palatable option but it is likely to lead to some grief in terms of ...   \n",
       "493428  Return to video Video settings Please Log in to update your video settings Video will begin in 5 seconds. Don't play Play now More video Recommended 'This is why you play football' Grand final - 'Just a normal week' for Nic Nat Melbourne warms to GF eve holiday Grand final - 'Just a normal week' for Nic Nat Greatest grand finals: 1989 Replay video Return to video Video settings Please Log in to update your video settings Grand Final - Hawthorn v West Coast Two-time premiership captain Wayne Carey previews the 2015 AFL Grand Final. PT2M15S 620 349 Autoplay On Off Video feedback Video settings Missed out: Five famous grand final omissions Twenty-year-old Hawthorn midfielder Billy Hartung is this year's hard luck story at selection for the grand final. The speedy Hawk was on Thursday night omitted for Saturday's decider at the MCG, with tall forward Jack Gunston brought back to play West Coast, having suffered an ankle injury three weeks ago against the same opponent in the qualifying final at Domain Stadium. Dropped: Billy Hartung. Photo: Getty Images The Eagles have selected the same 22 players who defeated North Melbourne in last Saturday night's preliminary final win over North Melbourne. Advertisement The decision to leave out Hartung means that versatile tall Ryan Schoenmakers has been named, and therefore avoided being left on the outer for a third consecutive grand final. The 24-year-old was unavailable for the 2013 win over Fremantle, due to injury and missed selection for the 2014 victory over Sydney. The Hawks' call to pick a tall in place of a small was made despite the forecast 28 degree heat for Saturday, which would make it among the hottest grand final days ever. Gunston and captain Luke Hodge both trained strongly at Waverley Park in front of a large crowd on Thursday. Hodge had also been under an injury cloud having missed a session earlier in the week, but appears set to lead the Hawks in their bid to win a third straight premiership, and fourth ...   \n",
       "\n",
       "             Category  Text_TotalWords  \n",
       "757     entertainment              660  \n",
       "1068    entertainment              707  \n",
       "1775    entertainment              428  \n",
       "1906    entertainment              492  \n",
       "2232    entertainment              518  \n",
       "...               ...              ...  \n",
       "493143          world              963  \n",
       "493144          world              980  \n",
       "493161          world              755  \n",
       "493230          world              944  \n",
       "493428          world              635  \n",
       "\n",
       "[605 rows x 4 columns]"
      ],
      "text/html": "<div>\n<style scoped>\n    .dataframe tbody tr th:only-of-type {\n        vertical-align: middle;\n    }\n\n    .dataframe tbody tr th {\n        vertical-align: top;\n    }\n\n    .dataframe thead th {\n        text-align: right;\n    }\n</style>\n<table border=\"1\" class=\"dataframe\">\n  <thead>\n    <tr style=\"text-align: right;\">\n      <th></th>\n      <th>Title</th>\n      <th>Text</th>\n      <th>Category</th>\n      <th>Text_TotalWords</th>\n    </tr>\n  </thead>\n  <tbody>\n    <tr>\n      <td>757</td>\n      <td>The Dressmaker author Rosalie Ham's surreal moment as her book becomes a movie</td>\n      <td>Click to play video Return to video Video settings Please Log in to update your video settings Video will begin in 5 seconds. Don't play Play now More video Recommended Replay video Return to video Video settings Please Log in to update your video settings Trailer: The Dressmaker Small town girl, Tilly (Kate Winslet) returns from international adventures to reconcile with her mother and set chins wagging. PT2M11S http://www.canberratimes.com.au/action/externalEmbeddedPlayer?id=d-405po 620 349 July 30, 2015 Autoplay On Off Video feedback Video settings Sarah Snook in The Dressmaker We were on the penultimate hole of our Friday morning golf game when Sue Maslin told me Kate Winslet would play the lead role in the film adaption of my first novel, The Dressmaker . Sue and I went to school together and I knew her as a tenacious, and somewhat formidable, golf partner and a very fine film producer. Rosalie Ham: \"Film is another medium so it can't be my novel but what I intended has been made to work for film.\" Photo: Supplied She's brought us Japanese Story and Road to Nhill and was working hard producing The Dressmaker; Jocelyn Moorhouse had written the adaptation and would direct, and there was interest from investors and filmmakers locally and internationally. Advertisement But, Kate Winslet? It was a task to focus on the small white ball and the final fairway, but there were more surreal experiences ahead. The first was sitting in the extras tent for hair and makeup and seeing myself reflected as my mother in 1950. The town of Dungatar, as created in The Dressmaker . Photo: Supplied Then there was the friends and family (mostly farmers and nurses) as extras 'acting' in crowd scenes behind Shane Jacobson, Gyton Grantley, Sarah Snook and Sacha Horler. My brother looked just like my father in 1950. Then I stepped off a bus into Dungatar, the town I created in the novel, and shook hands with Mad Molly (Judy Davis) and Muriel Pratt (Rebecca Gibney). A new edition of Ros...</td>\n      <td>entertainment</td>\n      <td>660</td>\n    </tr>\n    <tr>\n      <td>1068</td>\n      <td>X Factor Australia: Guy Sebastian feuds with eliminated singer Jimmy Davis</td>\n      <td>Click to play video Return to video Video settings Please Log in to update your video settings Video will begin in 5 seconds. Don't play Play now More video Recommended Replay video Return to video Video settings Please Log in to update your video settings X Factor judges lock horns James Blunt, Chris Isaak and Guy Sebastian express their disappointment in Dannii Minogue's song choice for her contestant, Georgia. X Factor airs Mondays and Tuesdays, 7:30pm on Channel Seven. PT2M4S http://www.canberratimes.com.au/action/externalEmbeddedPlayer?id=d-44fmm 620 349 October 13, 2015 Autoplay On Off Video feedback Video settings X Factor Australia judges attack Dannii Minogue Backlash after mother and daughter finalists erased Guy Sebastian has fired a scathing salvo of tweets at ousted X Factor contestant Jimmy Davis after the singer called the competition a \"game show\" and blamed poor song choices for his elimination. The X Factor judge called Davis's comments a \"huge slap in the face\" and \"incredibly disappointing\", and accused Davis of being ungrateful after being given exposure and flown around the world. Eliminated X Factor contestant Jimmy Davis said the show would have given him \"a total breakdown\". Photo: Channel Seven In an interview with News Corp Australia, the 21-year-old said being on the show brought up 'contradicting emotions with his soul' and that he didn't know how far he could have gone in the competition \"without having a total breakdown\". Advertisement \"I sing my own songs. Having a show based off covers, they kept saying they need to see it through my eyes and if I was singing my own songs, you'd really see me connecting, that's when you'd see my true artistry,\" he said. After reading the comments, a fired-up Sebastian attacked Davis - an apprentice of Chris Isaak's - for being ungrateful and said his own songs weren't good enough to get him through the show. The X-Factor 2015 judges. Photo: Supplied \"How incredibly disappointing. After all the ti...</td>\n      <td>entertainment</td>\n      <td>707</td>\n    </tr>\n    <tr>\n      <td>1775</td>\n      <td>The Bachelorette Sam Frost tipped to join Rove as co-host of 2DayFM breakfast show</td>\n      <td>Click to play video Return to video Video settings Please Log in to update your video settings Video will begin in 5 seconds. Don't play Play now More video Recommended Replay video Return to video Video settings Please Log in to update your video settings Bachelorette Sam Frost chooses Sasha Sam Frost reveals she has finally found love after picking builder Sasha Mielczarek. PT0M42S http://www.canberratimes.com.au/action/externalEmbeddedPlayer?id=d-4508a 620 349 October 22, 2015 Autoplay On Off Video feedback Video settings She's apparently just found the love of her life on The Bachelorette , but Sam Frost is about to undertake what ranks as one of the great passion killers: waking up at ungodly hours to work on breakfast radio. Strong rumours circulating the Sydney radio market indicate that Frost will join Rove McManus as co-host of the embattled FM radio station 2DayFM's ailing breakfast show following the ousting of previous breakfast hosts Maz Compton and Dan Debuf. However verifying the rumours with 2DayFM owners, Southern Cross Austereo, has proven difficult as the network's head publicist, Heidi Virtue, has left the media company just five weeks after starting in the gig. Another spokesperson for the network declined to comment on whether Frost will be joining McManus in the studio. New lovers Sam Frost and Sasha Mielczarek after The Bachelorette finale last week. Photo: Instagram PS understands McManus, who is being paid a reported $350,000 worth of shares every six months for the duration of his three year contract, will launch the new show on Sydney airwaves next Monday with Frost by his side. Advertisement The move is the latest attempt by 2DayFM to regain the FM breakfast ratings crown in Sydney which was ripped away when its former star personalities, Kyle Sandilands and Jackie O, were poached by rival KIISFM, taking their huge audience and advertising revenue with them. Since then the station has experimented with a long line of personalities, i...</td>\n      <td>entertainment</td>\n      <td>428</td>\n    </tr>\n    <tr>\n      <td>1906</td>\n      <td>Jeremy Clarkson, Richard Hammond, James May share first look at new Amazon show</td>\n      <td>Click to play video Return to video Video settings Please Log in to update your video settings Video will begin in 5 seconds. Don't play Play now More video Recommended Replay video Return to video Video settings Please Log in to update your video settings Margot Robbie's Top Gear close call In the original version of the UK show, Australian star Margot Robbie almost collided with a camera operator while driving a hatchback. PT0M55S http://www.canberratimes.com.au/action/externalEmbeddedPlayer?id=d-3qdlt 620 349 February 17, 2015 Autoplay On Off Video feedback Video settings Amazon pays big bucks for Jeremy Clarkson Richard Hammond says end Top Gear 'broke my heart' After a tumultuous six months, former Top Gear hosts Jeremy Clarkson, James May and Richard Hammond are back bigger and better than ever before. The trio returned to work on the set of their new Amazon Prime show this week, in a deal rumoured to be worth $338 million which also secured former Top Gear executive producer Andy Wilman. The Top Gear gang are back together again. Photo: Twitter Clarkson was sacked by the BBC in March for assaulting a Top Gear Producer, with Clarkson and May refusing to return to work without him. Advertisement It looks like Amazon has spared no expense for the new motoring show, with Clarkson sharing a photo of the huge crew on Twitter on Thursday along with a wry caption taking aim at the BBC. \"With a skeleton crew, filming for Amazon Prime's new motoring show has begun,\" the 55-year-old wrote, posing with a Ferrari, Porsche and McLaren. Clarkson, Hammond and May have hosted Top Gear since the late 1990s. Hammond shared the same photo, adding: \"The band is back together and it feels brilliant\". Clarkson boasted about the new Amazon deal in July and took no time in swiping the BBC, telling Daily Mail : 'I feel like I've climbed out of a bi-plane and into a spaceship.\" Great first day at work. I can't stop staring. pic.twitter.com/GtYVHaGmYR James May (@MrJamesMay) October...</td>\n      <td>entertainment</td>\n      <td>492</td>\n    </tr>\n    <tr>\n      <td>2232</td>\n      <td>The Verdict is in: Karl Stefanovic controversial new show tanks in the ratings</td>\n      <td>Click to play video Return to video Video settings Please Log in to update your video settings Video will begin in 5 seconds. Don't play Play now More video Recommended Replay video Return to video Video settings Please Log in to update your video settings The Verdict: Miranda Tapsell doesn't feel Australian The actress is candid about the difficulties she has faced growing up black in Australia on Channel Nine's The Verdict. PT0M30S http://www.canberratimes.com.au/action/externalEmbeddedPlayer?id=d-44l5a 620 349 October 16, 2015 - 8:04AM Autoplay On Off Video feedback Video settings What happens if Stefanovic's show is a bust? Mark Latham admits to having trolling on Twitter Despite much hype, a controversial line-up of panelists and a charismatic host, Nine's new talk show The Verdict has pulled only 9000 more viewers than an afternoon screening of The Bold and the Beautiful in its second outing. This represents a significant drop in audience numbers from last week, when 522,000 people tuned in to the premiere. The Verdict panel and host Karl Stefanovic. The weekly program, modelled on a mixture of The Project and Q&amp;A , promised fiery debate and a \"bumpy ride\" but in its second week was watched by fewer people than an episode of Grant Denyer's Family Feud . Advertisement In the capital cities, 369,000 Australians tuned in to watch The Verdict, narrowly beating Ten's soap The Bold and the Beautiful, which snagged 360,000 viewers. The abysmal result could spell the death knell for the show, which was reportedly given a five-episode run as the Nine Network trialled the new format. Karl Stefanovic on set of new show The Verdict. photo: supplied Photo: Supplied The Verdict finished in 24th spot on Thursday night, trailing programs like Gogglebox , The Project , The Chaser's Media Circus and Highway Patrol . As prime-time programs such as The X Factor pull in more than one million viewers a night, the new Nine show is a certifiable flop. The ratings will come as a h...</td>\n      <td>entertainment</td>\n      <td>518</td>\n    </tr>\n    <tr>\n      <td>...</td>\n      <td>...</td>\n      <td>...</td>\n      <td>...</td>\n      <td>...</td>\n    </tr>\n    <tr>\n      <td>493143</td>\n      <td>Treasury's US wine swoop looks promising</td>\n      <td>Return to video Video settings Please Log in to update your video settings Video will begin in 5 seconds. Don't play Play now More video Recommended Mal Maiden: Beer giants merge Westpac increases home loan interest rates Global beer market shrinks Westpac raises home loan rates Westpac may lose customers with mortgage rate rise Replay video Return to video Video settings Please Log in to update your video settings Mal Maiden: Beer giants merge With one of the biggest brewery takeovers ever agreed to this week, Penfolds looking to expand in the US and Westpac leading the charge in raising rates, Mal Maiden examines a busy week in the markets. PT4M24S 620 349 Autoplay On Off Video feedback Video settings Treasury Wine eyes split after $754m Diageo wine buy Treasury Wine estates chief executive Mike Clarke was negotiating the purchase of the Diageo group's wine business for about a year, which tells you he would probably make a good poker player. Large parts of Diageo's wine portfolio were almost tailor-made for the business Clarke says he wants Treasury to become capital-light, and aimed at the high-profit luxury end of the wine market, and the higher-volume but still lucrative prestige or \"masstige\" market that sits beneath it. Illustration: John Shakespeare They are the parts of the global wine market where supply is tight and demand is growing, and for 18 months Clarke has been steering Treasury in the same direction, by selling the Penfolds range worldwide for example. (The new Penfolds vintage will be launched on Thursday in Shanghai). Diageo also owned the No.2 mass-market wine brand in Britain, Blossom Hill, and wanted to offload that, too. It is lower-margin business and not such a great fit for Treasury, but Clarke has bought it as well to get the deal done. The businesses Treasury is buying will still be generating about three-quarters of their earnings from luxury and masstige wine, and Blossom Hill bulks up Treasury's mass-market business, preparing i...</td>\n      <td>world</td>\n      <td>963</td>\n    </tr>\n    <tr>\n      <td>493144</td>\n      <td>It's either aliens or a swarm of comets: scientists baffled by WTF 001, our galaxy's strangest star</td>\n      <td>Return to video Video settings Please Log in to update your video settings Video will begin in 5 seconds. Don't play Play now More video Recommended Former child soldier's message Iran airs footage of missiles in tunnels US intelligence knew Afghan site was hospital US troops to stay in Afghanistan Plane engine breaks apart at take-off Replay video Return to video Video settings Please Log in to update your video settings Is this an alien megastructure? Something is blotting out the light of a star and scientists are getting excited. Here's why. PT1M22S 620 349 Autoplay On Off Video feedback Video settings It has been called the most bizarre star in our galaxy and some think it just might be home to high-tech aliens. The unlikely suggestion that aliens live in this star system is being taken so seriously that a team of astrophysicists wants to train a radio telescope in its direction to determine if any signals could indicate advanced extraterrestrial life. Andrew Siemion, director of the Search for Extraterrestrial Intelligence at the University of California, Berkeley , told Fairfax Media the star had become SETI's candidate number one. One outlandish hypothesis suggests the star's light signal is caused by a Dyson sphere, an alien megastructure designed to capture solar energy. Photo: Artist's impression by CapnHack It is clear that something big is blocking light coming from the star between the Cygnus and Lyra constellations, but no-one really knows what it is. Advertisement \"Aliens should always be the very last hypothesis you consider,\" Penn State astrophysicist Jason Wright told The Atlantic . \"But this looked like something you would expect an alien civilisation to build.\" The light from the star is \"consistent with a swarm of megastructures\" around it, he said. KIC 8462852 has been informally renamed WTF 001. Photo: arXiv The star has the cumbersome name of KIC 8462852, but the research group that will look for \"unambiguous indicators\" of technology in...</td>\n      <td>world</td>\n      <td>980</td>\n    </tr>\n    <tr>\n      <td>493161</td>\n      <td>Education Minister Simon Birmingham vows to develop uni reforms that can pass Parliament</td>\n      <td>Return to video Video settings Please Log in to update your video settings Video will begin in 5 seconds. Don't play Play now More video Recommended What does a 4-year-old know about Australian politics? Explainer: is some Federal spending unlawful? Wind turbines worse than asbestos? United on jobs and growth University deregulation: Turnbull's first big change Replay video Return to video Video settings Please Log in to update your video settings Abbott: 'The last people that need to be nannied are our unis' Ex-PM Tony Abbott weighs in on the Turnbull government's uni reform announcement. PT1M38S 620 349 Autoplay On Off Video feedback Video settings Comment: Christopher Pyne never earned 'fixer' title but his flatmate might Education Minister Simon Birmingham has vowed to move quickly to develop a set of higher education policies that can pass Parliament, as he dropped the government's controversial plan to allow universities to set their own fees from next year. The decision to shelve one of the government's most controversial policies was immediately lamented by former prime minister Tony Abbott, who said he was disappointed his \"gutsy\" reforms had been delayed. Minister for Education Simon Birmingham. Photo: Andrew Meares Senator Birmingham announced on Thursday that he will not reintroduce the government's higher education bills into the Senate for another vote this year, meaning any changes would not come into force until 2017 at the earliest. The government has also put a proposed 20 per cent cut to university funding on ice. Advertisement Senator Birmingham said he would consult with universities, students, employers and the Senate crossbenchers before introducing any legislation. The government has included $17 billion in higher education savings in its budget projections for the next decade, meaning a full retreat from its reforms would further blow out the budget deficit. Senator Birmingham told Fairfax Media he hoped to resolve the government's highe...</td>\n      <td>world</td>\n      <td>755</td>\n    </tr>\n    <tr>\n      <td>493230</td>\n      <td>Royal Australasian College of Surgeons 'ignored sexual harassment complaints'</td>\n      <td>EXCLUSIVE Return to video Video settings Please Log in to update your video settings Video will begin in 5 seconds. Don't play Play now More video Recommended NRL Grand Final safety warning Police shooting in Parramatta What does a 4-year-old know about Australian politics? Who was the real Alice? We are not the USA Replay video Return to video Video settings Please Log in to update your video settings Letter alleges history of sexual harassment among surgeons A leaked letter written by Dr Gabrielle McMullin to the Royal Australian College of Surgeons reveals the body was aware of sexual harassment claims against senior surgeons seven years ago. PT2M18S 620 349 Autoplay On Off Video feedback Video settings Complaints that female trainees were being sexually harassed by senior surgeons corruptly wielding power over their careers have been ignored by the Royal Australasian College of Surgeons for seven years, a doctor says. Explosive leaked documents reveal Sydney surgeon Gabrielle McMullin told the college in 2008 that three female trainees had asked her advice on how to deal with senior surgeons asking for sexual favours. In two cases, corruption of training processes was alleged. \"In one case the surgeon has offered a place on a training scheme based on the granting of sexual services. In another case the surgeon has become very angry about the refusal of sexual services and consequently produced a report that questioned the ability of the trainee,\" Dr McMullin wrote in a letter to then president Ian Gough. Vascular surgeon Gabrielle McMullin. Dr McMullin said she told the trainees that granting sexual services was \"probably the safest way to play it in that there will be no 'fuss' \". However, she said she warned the women that \"men have very short memories following sex and are unlikely to follow through with promises of training positions\". Advertisement \"Refusing sexual services is the most palatable option but it is likely to lead to some grief in terms of ...</td>\n      <td>world</td>\n      <td>944</td>\n    </tr>\n    <tr>\n      <td>493428</td>\n      <td>AFL grand final 2015: Hawthorn drop Billy Hartung for decider</td>\n      <td>Return to video Video settings Please Log in to update your video settings Video will begin in 5 seconds. Don't play Play now More video Recommended 'This is why you play football' Grand final - 'Just a normal week' for Nic Nat Melbourne warms to GF eve holiday Grand final - 'Just a normal week' for Nic Nat Greatest grand finals: 1989 Replay video Return to video Video settings Please Log in to update your video settings Grand Final - Hawthorn v West Coast Two-time premiership captain Wayne Carey previews the 2015 AFL Grand Final. PT2M15S 620 349 Autoplay On Off Video feedback Video settings Missed out: Five famous grand final omissions Twenty-year-old Hawthorn midfielder Billy Hartung is this year's hard luck story at selection for the grand final. The speedy Hawk was on Thursday night omitted for Saturday's decider at the MCG, with tall forward Jack Gunston brought back to play West Coast, having suffered an ankle injury three weeks ago against the same opponent in the qualifying final at Domain Stadium. Dropped: Billy Hartung. Photo: Getty Images The Eagles have selected the same 22 players who defeated North Melbourne in last Saturday night's preliminary final win over North Melbourne. Advertisement The decision to leave out Hartung means that versatile tall Ryan Schoenmakers has been named, and therefore avoided being left on the outer for a third consecutive grand final. The 24-year-old was unavailable for the 2013 win over Fremantle, due to injury and missed selection for the 2014 victory over Sydney. The Hawks' call to pick a tall in place of a small was made despite the forecast 28 degree heat for Saturday, which would make it among the hottest grand final days ever. Gunston and captain Luke Hodge both trained strongly at Waverley Park in front of a large crowd on Thursday. Hodge had also been under an injury cloud having missed a session earlier in the week, but appears set to lead the Hawks in their bid to win a third straight premiership, and fourth ...</td>\n      <td>world</td>\n      <td>635</td>\n    </tr>\n  </tbody>\n</table>\n<p>605 rows × 4 columns</p>\n</div>"
     },
     "metadata": {},
     "execution_count": 56
    }
   ],
   "source": [
    "pd.options.display.max_colwidth = 2000\n",
    "df_all_news_processed[df_all_news_processed['Text'].str.contains(\"Return to video Video settings Please Log\")]"
   ]
  },
  {
   "cell_type": "code",
   "execution_count": 10,
   "metadata": {},
   "outputs": [
    {
     "output_type": "stream",
     "name": "stdout",
     "text": [
      "Process completed.\nTime taken: 1mins 21secs\n"
     ]
    },
    {
     "output_type": "execute_result",
     "data": {
      "text/plain": [
       "[('      ', 21417),\n",
       " ('Tip : Use comma (,) to separate', 3675),\n",
       " ('  Thank you for registering! We', 3316),\n",
       " ('Ads with Photos only: Note: By using', 1811),\n",
       " ('chart data and daily updates provided by', 992),\n",
       " ('Return to video Video settings Please Log', 465),\n",
       " ('Article extract not available. Link to source', 433),\n",
       " ('  Company News - Today Oct', 412),\n",
       " ('Noah Consulting being acquired by Infosys in', 306),\n",
       " ('Make Your Passion Your Career. Work In', 272),\n",
       " ('  Company News - Today *', 256),\n",
       " (\"Don't have an account? Sign up Close\", 252),\n",
       " ('Elemental Technologies being acquired by Amazon Web', 241),\n",
       " ('Information contained on this page is provided', 240),\n",
       " ('TelegraphSportPage Follow @telefootball Telegraph Fantasy Football 2015/16',\n",
       "  240),\n",
       " ('Health Tip of the Day Sign up', 215),\n",
       " ('By Kyle Newport, Bleacher Report Posted Oct.', 208),\n",
       " ('Need an account? Create one now. Need', 205),\n",
       " ('In order to deliver a personalized, responsive', 205),\n",
       " ('relevant securities of the offeror or offeree', 204),\n",
       " ('  Business - Today (Reuters) -', 204),\n",
       " ('Article extract not available. Link to the', 199),\n",
       " ('SUBSCRIBE FOLLOW US 2015 Cox Media Group', 197),\n",
       " ('Only registered TrekEarth members may write critiques.', 187),\n",
       " ('GRAEME SMITH / / World News Share', 183),\n",
       " ('SPECIAL OFFER FOR NEW READERS 99 cent', 172),\n",
       " ('1 CONNECT TWEET LINKEDIN COMMENT EMAIL MORE', 160),\n",
       " ('Students loan re-financier SoFi successfully raises $1', 153),\n",
       " ('  Today The latest on the', 148),\n",
       " (' * * A version of this', 148),\n",
       " ('Russian Nuclear Official Pleads Guilty To Corruption', 146),\n",
       " ('  Company News - Today LONDON,', 136),\n",
       " ('to view this article in its entirety.', 135),\n",
       " ('By Dan Carson, Bleacher Report Posted Oct.', 135),\n",
       " ('video Return to video Video settings Please', 134),\n",
       " ('Kim Kardashian gets 45 mn Instagram followers', 134),\n",
       " ('Want the latest recommendations from Zacks Investment', 132),\n",
       " ('stock that TheStreet Ratings rated a \"buy\"', 130),\n",
       " ('By Thomas Duffy, Bleacher Report Posted Oct.', 130),\n",
       " ('Wednesday entered into a definitive agreement to', 113),\n",
       " ('during the first half of an NCAA', 107),\n",
       " ('X Zawya Comment Policy Zawya encourages you', 106),\n",
       " (' Celebrities at Mets playoff games Newsday', 103),\n",
       " (\"It's a good news, bad news kind\", 103),\n",
       " ('Registration on or use of this site', 102),\n",
       " ('Thanks for sharing About.com with others! Most', 101),\n",
       " ('Khloe Kardashian has finally broken her silence', 95),\n",
       " ('telegraph.co.uk Follow @telegraph The Telegraph Investor Transfer', 94),\n",
       " ('  Politics - Today WASHINGTON (Reuters)', 94),\n",
       " ('> Top News AP PHOTOS: The rise', 94),\n",
       " ('We want you to tell us what', 92),\n",
       " (\"Actress Maureen O'Hara died Saturday at her\", 92),\n",
       " ('  Today The latest developments in', 92),\n",
       " ('  Today The latest news as', 90),\n",
       " ('By Todd Dewey, The Las Vegas Review-Journal', 90),\n",
       " ('Donald Trump will bring his notorious comedy', 89),\n",
       " (\"you've reached a subscriber-only article. Take the\", 89),\n",
       " ('Follow @telegraph The Telegraph Investor Transfer your', 88),\n",
       " ('By Jack Sommer, Business Insider Posted Oct.', 88),\n",
       " ('For latest Hollywood updates follow us on', 85),\n",
       " ('ABC Family has pulled the plug on', 80),\n",
       " ('By GARY B. GRAVES, The Associated Press', 80),\n",
       " ('Concept tagging by the AlchemyAPI About i360Gov', 80),\n",
       " ('ManchesterUnitedTelegraph Follow @telefootball Telegraph Fantasy Football 2015/16',\n",
       "  80),\n",
       " ('By DAVE SKRETTA AP Sports Writer KANSAS', 79),\n",
       " ('talks to correspondent Tracy Smith about the', 78),\n",
       " (\"A look at what's happening around the\", 77),\n",
       " ('Some say love... is Amy Poehler belting', 76),\n",
       " ('Facebook Twitter Pinterest Share Share this post', 75),\n",
       " ('Reprint NEW YORK ( TheStreet ) --', 73),\n",
       " ('Dance Moms star Abby Lee Miller has', 72),\n",
       " ('Undateable is doubling down on its live', 72),\n",
       " ('By Matt Fitzgerald, Bleacher Report Posted Oct.', 72),\n",
       " ('Media playback is unsupported on your device', 70),\n",
       " ('Moneylife Magazine issues launched during the month', 68),\n",
       " ('ET SPECIAL: Love visual aspect of news?', 68),\n",
       " ('By Cindy Boren, The Washington Post Posted', 68),\n",
       " (' A version of this article appeared', 68),\n",
       " (' Jolie believes you can love the', 67),\n",
       " ('Ely, Nevada, uses historical attractions to focus', 67),\n",
       " ('Property Insider In Focus BusinessPulse helps business', 66),\n",
       " ('(Photo: The Associated Press) CONNECT TWEET LINKEDIN', 65),\n",
       " ('More coverage: Southeastern Pa. high school sports', 64),\n",
       " ('1 CONNECT 1 TWEET LINKEDIN COMMENT EMAIL', 63),\n",
       " ('By The Associated Press Your daily look', 63),\n",
       " ('THE LIST: 5 Star Rated by eTN', 63),\n",
       " ('  Company News - Today NEW', 62),\n",
       " ('CNN Leadership <div class=\"banner\" id=\"cnn_300x250_sync_freewheel-rail_0_banner\"><span id=\"cnn_300x250_sync_freewheel-rail_0\" class=\"_fwph\"><form',\n",
       "  61),\n",
       " ('Sign Up Today Sign up for our', 61),\n",
       " ('By Adam Wells, Bleacher Report Posted Oct.', 61),\n",
       " ('Your email address will not be published.', 60),\n",
       " ('THE FASTEST EMAIL ALERTS IN NEWS Major', 60),\n",
       " ('* Comment You may use these HTML', 59),\n",
       " ('By RALPH D. RUSSO AP College Football', 59),\n",
       " ('  Today Originally published on Unwritten', 58),\n",
       " ('By Steve Stephens, The Columbus Dispatch Posted', 58),\n",
       " ('  Sports - Today (Reuters) -', 56),\n",
       " ('> Top News AP PHOTOS: Memorable Ferraris', 56),\n",
       " ('Is Nicole Kidman the latest celebrity to', 54),\n",
       " ('Less than a month after he took', 54)]"
      ]
     },
     "metadata": {},
     "execution_count": 10
    }
   ],
   "source": [
    "########## N-GRAMS ###########\n",
    "t1 = time.time()\n",
    "n = 7 #Specify number for N-Grams\n",
    "occurrences = EDA.find_most_common_n_grams(articles_split_by_word, n)\n",
    "EDA.process_time(round(time.time()-t1))\n",
    "sorted(occurrences.items(), key=lambda x: x[1], reverse=True)[:100]"
   ]
  },
  {
   "cell_type": "code",
   "execution_count": null,
   "metadata": {},
   "outputs": [],
   "source": [
    "{* registration_firstName *} {* registration_lastName *}\n",
    "Published By:\n",
    "Tip : Use comma (,) to\n",
    "our Visitor Agreement and Privacy Policy\n",
    "Ads with Photos only: Note: By using\n",
    "Need an account? Create one now.\n",
    "Don't have an account? Sign up Close\n",
    "Return to video Video settings Please\n",
    "chart data and daily updates provided by\n",
    "CONNECT TWEET LINKEDIN COMMENT EMAIL MORE\n",
    "Article extract not available. Link to source\n",
    "Thank you for registering!\n",
    "SUBSCRIBE FOLLOW US 2015 Cox Media\n",
    "TelegraphSportPage Follow @telefootball Telegraph Fantasy Football 2015/16"
   ]
  }
 ]
}