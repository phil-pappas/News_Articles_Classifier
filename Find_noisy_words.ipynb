{
 "metadata": {
  "language_info": {
   "codemirror_mode": {
    "name": "ipython",
    "version": 3
   },
   "file_extension": ".py",
   "mimetype": "text/x-python",
   "name": "python",
   "nbconvert_exporter": "python",
   "pygments_lexer": "ipython3",
   "version": "3.7.4-final"
  },
  "orig_nbformat": 2,
  "kernelspec": {
   "name": "Python 3.7.4 64-bit ('base': conda)",
   "display_name": "Python 3.7.4 64-bit ('base': conda)",
   "metadata": {
    "interpreter": {
     "hash": "b3ba2566441a7c06988d0923437866b63cedc61552a5af99d1f4fb67d367b25f"
    }
   }
  }
 },
 "nbformat": 4,
 "nbformat_minor": 2,
 "cells": [
  {
   "source": [
    "Explain what this notebook is about + put headers/formating + data source"
   ],
   "cell_type": "markdown",
   "metadata": {}
  },
  {
   "cell_type": "code",
   "execution_count": 1,
   "metadata": {},
   "outputs": [],
   "source": [
    "%run packages_imported.py\n",
    "%run EDA.py\n",
    "%run NLP.py\n",
    "%run Cleaner.py"
   ]
  },
  {
   "cell_type": "code",
   "execution_count": 2,
   "metadata": {},
   "outputs": [
    {
     "output_type": "execute_result",
     "data": {
      "text/plain": [
       "                                                       Title  \\\n",
       "0                  NYC art exhibition gives food for thought   \n",
       "1   Tracy Morgan performs first stand-up show since accident   \n",
       "2  Esquire's Sexiest Woman Alive is the sultry Emilia Clarke   \n",
       "\n",
       "                                                                                                                                                                                                                                                                                                                                                                                                                                                                                                                  Text  \\\n",
       "0  > Entertainment NYC art exhibition gives food for thought CORRECTS DATE THAT EXHIBITION ENDS TO APRIL 3, NOT APRIL 4 - Artist Pascal Bernier's mixed media taxidermic \"Piglets Farm Set,\" appears among the works of 30 artists in the multimedia exhibition β€The Value of Food: Sustaining a Green Planetβ€ at the Cathedral of St. John the Divine, Wednesday, Oct. 7, 2015, in New York. The exhibition, installed in the cathedralβ€™s seven chapels and 14 bays, explores food accessibility, sustainabili...   \n",
       "1  Tracy Morgan performs first stand-up show since accident Tracy Morgan is coming back with a bang. Post to Facebook Tracy Morgan performs first stand-up show since accident Tracy Morgan is coming back with a bang. Check out this story on wtsp.com: http://on.wtsp.com/1REw1aj Cancel Send A link has been sent to your friend's email address. Posted! A link has been posted to your Facebook feed. Join the Conversation To find out more about Facebook commenting please read the Conversation Guideline...   \n",
       "2  SUBSCRIBE FOLLOW US Β© 2015 Cox Media Group . By using this website, you accept the terms of our Visitor Agreement and Privacy Policy , and understand your options regarding Ad Choices . Learn about careers at Cox Media Group . Esquire's Sexiest Woman Alive is the sultry Emilia Clarke FILE - In this Jan. 12, 2014 file photo, actress Emilia Clarke arrives at the 71st annual Golden Globe Awards in Beverly Hills, Calif. The 28-year-old Clarke, who plays menacing, white-haired Daenerys Targaryen...   \n",
       "\n",
       "        Category  Text_TotalWords  \n",
       "0  entertainment               92  \n",
       "1  entertainment              380  \n",
       "2  entertainment              424  "
      ],
      "text/html": "<div>\n<style scoped>\n    .dataframe tbody tr th:only-of-type {\n        vertical-align: middle;\n    }\n\n    .dataframe tbody tr th {\n        vertical-align: top;\n    }\n\n    .dataframe thead th {\n        text-align: right;\n    }\n</style>\n<table border=\"1\" class=\"dataframe\">\n  <thead>\n    <tr style=\"text-align: right;\">\n      <th></th>\n      <th>Title</th>\n      <th>Text</th>\n      <th>Category</th>\n      <th>Text_TotalWords</th>\n    </tr>\n  </thead>\n  <tbody>\n    <tr>\n      <td>0</td>\n      <td>NYC art exhibition gives food for thought</td>\n      <td>&gt; Entertainment NYC art exhibition gives food for thought CORRECTS DATE THAT EXHIBITION ENDS TO APRIL 3, NOT APRIL 4 - Artist Pascal Bernier's mixed media taxidermic \"Piglets Farm Set,\" appears among the works of 30 artists in the multimedia exhibition β€The Value of Food: Sustaining a Green Planetβ€ at the Cathedral of St. John the Divine, Wednesday, Oct. 7, 2015, in New York. The exhibition, installed in the cathedralβ€™s seven chapels and 14 bays, explores food accessibility, sustainabili...</td>\n      <td>entertainment</td>\n      <td>92</td>\n    </tr>\n    <tr>\n      <td>1</td>\n      <td>Tracy Morgan performs first stand-up show since accident</td>\n      <td>Tracy Morgan performs first stand-up show since accident Tracy Morgan is coming back with a bang. Post to Facebook Tracy Morgan performs first stand-up show since accident Tracy Morgan is coming back with a bang. Check out this story on wtsp.com: http://on.wtsp.com/1REw1aj Cancel Send A link has been sent to your friend's email address. Posted! A link has been posted to your Facebook feed. Join the Conversation To find out more about Facebook commenting please read the Conversation Guideline...</td>\n      <td>entertainment</td>\n      <td>380</td>\n    </tr>\n    <tr>\n      <td>2</td>\n      <td>Esquire's Sexiest Woman Alive is the sultry Emilia Clarke</td>\n      <td>SUBSCRIBE FOLLOW US Β© 2015 Cox Media Group . By using this website, you accept the terms of our Visitor Agreement and Privacy Policy , and understand your options regarding Ad Choices . Learn about careers at Cox Media Group . Esquire's Sexiest Woman Alive is the sultry Emilia Clarke FILE - In this Jan. 12, 2014 file photo, actress Emilia Clarke arrives at the 71st annual Golden Globe Awards in Beverly Hills, Calif. The 28-year-old Clarke, who plays menacing, white-haired Daenerys Targaryen...</td>\n      <td>entertainment</td>\n      <td>424</td>\n    </tr>\n  </tbody>\n</table>\n</div>"
     },
     "metadata": {},
     "execution_count": 2
    }
   ],
   "source": [
    "df_all_news_processed = pd.read_pickle(r'data/original_data/pickles/df_all_news_processed_pre_cleaning')\n",
    "pd.options.display.max_colwidth = 500\n",
    "df_all_news_processed.head(3)"
   ]
  },
  {
   "cell_type": "code",
   "execution_count": 3,
   "metadata": {},
   "outputs": [
    {
     "output_type": "execute_result",
     "data": {
      "text/plain": [
       "466696"
      ]
     },
     "metadata": {},
     "execution_count": 3
    }
   ],
   "source": [
    "#THIS CELL WILL BE REMOVED\n",
    "df_all_news_processed = Cleaner.remove_non_ascii_chars(df_all_news_processed)\n",
    "df_all_news_processed = Cleaner.remove_multiple_spaces(df_all_news_processed)\n",
    "len(df_all_news_processed)"
   ]
  },
  {
   "cell_type": "code",
   "execution_count": 4,
   "metadata": {},
   "outputs": [],
   "source": [
    "articles_split_by_word = NLP.tokenization(df_all_news_processed)"
   ]
  },
  {
   "cell_type": "code",
   "execution_count": 5,
   "metadata": {},
   "outputs": [
    {
     "output_type": "stream",
     "name": "stdout",
     "text": [
      "Process completed.\nTime taken: 1mins 32secs\n"
     ]
    },
    {
     "output_type": "execute_result",
     "data": {
      "text/plain": [
       "[('{* registration_firstName *}', 14154),\n",
       " ('( Source :', 8950),\n",
       " ('our Visitor Agreement', 5970),\n",
       " ('Published By: Charlotte', 4594),\n",
       " ('Published By: Reuters', 4278),\n",
       " ('Published By: USATODAY.com:', 4254),\n",
       " ('Published By: Fox', 3930),\n",
       " ('Published By: Huffington', 3634),\n",
       " ('Thank you for', 3328),\n",
       " ('Published By: NYTimes', 2982),\n",
       " ('Published By: Forbes.com:', 2770),\n",
       " ('Published By: CBS', 2430),\n",
       " ('- news )', 2160),\n",
       " ('Published By: Pittsburgh', 2024),\n",
       " ('Published By: Philly', 1868),\n",
       " ('Published By: Cleveland.com:', 1834),\n",
       " ('Ads with Photos', 1811),\n",
       " ('Published By: Boston', 1708),\n",
       " ('Published By: Denver', 1640),\n",
       " ('Published By: ABC', 1608),\n",
       " ('one of the', 1451),\n",
       " ('Published By: The', 1414),\n",
       " ('Published By: Des', 1386),\n",
       " ('Published By: Baltimore', 1312),\n",
       " ('Published By: Billings', 1296),\n",
       " ('Published By: Las', 1260),\n",
       " ('Published By: Detroit', 1246),\n",
       " ('{* #registrationFormBlank *}', 1232),\n",
       " ('Published By: Beaumont', 1192),\n",
       " ('Published By: Asbury', 1172),\n",
       " ('Published By: Louisville', 1132),\n",
       " ('Published By: Cincinnati', 1048),\n",
       " ('a lot of', 1037),\n",
       " ('Technology Industry News.Net', 1029),\n",
       " ('Published By: Indy', 1012),\n",
       " ('Published By: Houston', 974),\n",
       " ('in the first', 943),\n",
       " ('Published By: Hollywood', 930),\n",
       " ('> Top News', 791),\n",
       " ('Published By: Montgomery', 744),\n",
       " ('Published By: Al.com:', 714),\n",
       " ('Published By: Delaware', 688),\n",
       " ('Published By: Florida', 650),\n",
       " ('in the second', 642),\n",
       " ('Published By: Al', 638),\n",
       " ('chart data and', 633),\n",
       " ('Article extract not', 632),\n",
       " ('Published By: Centre', 614),\n",
       " ('as well as', 541),\n",
       " ('Published By: Clarion', 510),\n",
       " ('The Associated Press', 504),\n",
       " ('Published By: Media', 460),\n",
       " ('[ 0 ]', 458),\n",
       " ('Published By: Buffalow', 448),\n",
       " ('per cent of', 444),\n",
       " (' * *', 425),\n",
       " ('the United States', 423),\n",
       " ('Published By: News-press.com:', 414),\n",
       " ('Published By: Time', 382),\n",
       " ('for the first', 365),\n",
       " ('NEW YORK (AP)', 359),\n",
       " ('the end of', 356),\n",
       " ('Published By: Wall', 354),\n",
       " ('Published By: Watch', 346),\n",
       " (\"(Before It's News)\", 328),\n",
       " ('Entertainment Industry News.Net', 323),\n",
       " ('Published By: Finger', 316),\n",
       " ('Published By: Baytown', 314),\n",
       " ('Published By: CinemaBlend.com:', 306),\n",
       " ('according to the', 299),\n",
       " ('said in a', 298),\n",
       " ('Published By: Lafayette', 296),\n",
       " ('is expected to', 291),\n",
       " ('By The Associated', 288),\n",
       " ('Published By: Gossip', 284),\n",
       " ('going to be', 281),\n",
       " ('0 0 0', 259),\n",
       " ('the White House', 258),\n",
       " ('per cent to', 252),\n",
       " (\"Don't have an\", 252),\n",
       " ('Rugby World Cup', 246),\n",
       " ('TelegraphSportPage Follow @telefootball', 240),\n",
       " ('some of the', 239),\n",
       " ('Make Your Passion', 239),\n",
       " ('out of the', 236),\n",
       " ('Published By: Iowa', 236),\n",
       " ('the Blue Jays', 236),\n",
       " ('the New York', 229),\n",
       " ('FILE - In', 227),\n",
       " ('USA TODAY Sports', 221),\n",
       " ('Published By: Anchorage', 218),\n",
       " ('President Barack Obama', 216),\n",
       " ('Health Tip of', 215),\n",
       " ('I don t', 214),\n",
       " ('In order to', 212),\n",
       " ('telegraph.co.uk Follow @telegraph', 212),\n",
       " ('By Kyle Newport,', 210),\n",
       " ('be able to', 208),\n",
       " ('New York City', 207),\n",
       " ('the University of', 205)]"
      ]
     },
     "metadata": {},
     "execution_count": 5
    }
   ],
   "source": [
    "########## N-GRAMS ###########\n",
    "t1 = time.time()\n",
    "n = 3 #Specify number for N-Grams\n",
    "occurrences = EDA.find_most_common_n_grams(articles_split_by_word, n)\n",
    "EDA.process_time(round(time.time()-t1))\n",
    "sorted(occurrences.items(), key=lambda x: x[1], reverse=True)[:100]"
   ]
  },
  {
   "source": [
    "With the first look we see already quite some noise. Let's see what we have with 6-grams"
   ],
   "cell_type": "markdown",
   "metadata": {}
  },
  {
   "cell_type": "code",
   "execution_count": 6,
   "metadata": {},
   "outputs": [
    {
     "output_type": "stream",
     "name": "stdout",
     "text": [
      "Process completed.\nTime taken: 1mins 20secs\n"
     ]
    },
    {
     "output_type": "execute_result",
     "data": {
      "text/plain": [
       "[('{* registration_firstName *} {* registration_lastName *}', 14161),\n",
       " ('our Visitor Agreement and Privacy Policy', 5976),\n",
       " ('Tip : Use comma (,) to', 3388),\n",
       " ('{* /registrationForm *} Thank you for', 3316),\n",
       " ('Published By: Forbes.com: Latest News -', 2424),\n",
       " ('Ads with Photos only: Note: By', 1811),\n",
       " ('Published By: Charlotte Observer - Today', 1762),\n",
       " ('Published By: Reuters - Company News', 1498),\n",
       " ('Published By: Des Moines Register -', 1412),\n",
       " ('Published By: Fox News: Sports -', 1326),\n",
       " ('Published By: Detroit Free Press -', 1248),\n",
       " ('{* #registrationFormBlank *} {* traditionalRegistration_emailAddressBlank *}',\n",
       "  1232),\n",
       " ('Published By: Asbury Park Press -', 1180),\n",
       " ('Published By: Charlotte Observer: Sports -', 1090),\n",
       " ('Published By: Fox News: World -', 1004),\n",
       " ('chart data and daily updates provided', 979),\n",
       " ('Published By: USATODAY.com: Nation - Today', 842),\n",
       " ('Published By: Denver Post - Today', 812),\n",
       " ('Published By: USATODAY.com: NFL - Today', 790),\n",
       " ('Published By: Reuters - World news', 790),\n",
       " ('Published By: Boston Herald - Today', 650),\n",
       " ('Article extract not available. Link to', 632),\n",
       " ('Published By: Centre Daily Times -', 632),\n",
       " ('Published By: Las Vegas Sun -', 620),\n",
       " ('Published By: CBS News - Today', 616),\n",
       " ('Published By: Al Jazeera - Today', 608),\n",
       " ('Published By: Louisville Courier-Journal: Sports -', 604),\n",
       " ('Published By: Charlotte Observer: Business -', 602),\n",
       " ('Published By: CBS News: Video -', 578),\n",
       " ('Published By: Watch Live - Today', 572),\n",
       " ('Published By: Reuters - Business -', 570),\n",
       " ('Published By: Huffington Post Politics -', 558),\n",
       " ('Published By: ABC News: US -', 518),\n",
       " ('Published By: Hollywood Life - Today', 512),\n",
       " ('Published By: CBS News: U.S. -', 470),\n",
       " ('Published By: Indy Star - Today', 462),\n",
       " ('Need an account? Create one now.', 461),\n",
       " ('Published By: Cincinnati Enquirer: Breaking -', 460),\n",
       " ('Return to video Video settings Please', 458),\n",
       " ('Published By: The Daily Beast -', 454),\n",
       " ('Published By: Philly News - Today', 420),\n",
       " ('Published By: Media Ite - Today', 416),\n",
       " ('Published By: NYTimes US News -', 402),\n",
       " ('Published By: Hollywood Gossip - Today', 392),\n",
       " ('Published By: Delaware Online - Today', 378),\n",
       " ('Published By: Fox News: Video -', 376),\n",
       " ('Published By: Wall Street Journal -', 358),\n",
       " ('Published By: USATODAY.com: Entertainment - Today', 352),\n",
       " ('Published By: Cleveland.com: Sports - Today', 352),\n",
       " ('Published By: USATODAY.com: Money - Today', 350),\n",
       " ('Published By: Charlotte Observer: Politics -', 342),\n",
       " ('Published By: Houston Chronicle Sports -', 340),\n",
       " ('Published By: Pittsburgh Post: Opinion -', 336),\n",
       " ('Published By: Beaumont Enterprise - Today', 326),\n",
       " ('Published By: Finger Lake Times -', 316),\n",
       " ('Published By: Huffington Post Business -', 312),\n",
       " ('Published By: Montgomery Advertiser: Sports -', 308),\n",
       " ('Published By: Charlotte Observer: Local -', 308),\n",
       " ('Noah Consulting being acquired by Infosys', 306),\n",
       " ('Published By: Boston Herald Sports -', 304),\n",
       " ('Published By: Baltimore Sun News -', 300),\n",
       " ('Published By: ABC News: Politics -', 298),\n",
       " ('Published By: Louisville Courier-Journal - Today', 298),\n",
       " ('Published By: ABC News - Today', 284),\n",
       " ('Published By: Montgomery Advertiser - Today', 280),\n",
       " ('Published By: Indy Star: Sports -', 280),\n",
       " ('Published By: Las Vegas RJ -', 276),\n",
       " ('Make Your Passion Your Career. Work', 271),\n",
       " ('Published By: Las Vegas Review-Journal -', 270),\n",
       " ('Published By: Florida Today - Today', 268),\n",
       " ('Published By: Fox News - Today', 264),\n",
       " ('( Source : Ministry of Foreign', 258),\n",
       " ('Published By: USATODAY.com: NHL - Today', 258),\n",
       " ('Published By: Gossip Cop - Today', 254),\n",
       " (\"Don't have an account? Sign up\", 252),\n",
       " ('Published By: Huffington Post Entertainment -', 250),\n",
       " ('Local Real Estate Cars For Sale', 243),\n",
       " ('Published By: Buffalow News: Sports -', 242),\n",
       " ('Elemental Technologies being acquired by Amazon', 241),\n",
       " ('TelegraphSportPage Follow @telefootball Telegraph Fantasy Football', 240),\n",
       " ('Published By: Anchorage Daily News -', 238),\n",
       " ('Published By: Reuters - US News', 236),\n",
       " ('Published By: Iowa City Press -', 236),\n",
       " ('Published By: Houston Chronicle Mom -', 234),\n",
       " ('Published By: Cincinnati Enquirer: Sports -', 230),\n",
       " ('CONNECT TWEET LINKEDIN COMMENT EMAIL MORE', 229),\n",
       " ('Published By: NYTimes Baseball - Today', 228),\n",
       " ('Published By: Reuters - Sports -', 228),\n",
       " ('Published By: Philly News Nation/World -', 226),\n",
       " ('Published By: Charlotte Observer: Entertainment -', 224),\n",
       " ('Published By: USATODAY.com: NBA - Today', 222),\n",
       " ('Published By: USATODAY.com: World - Today', 220),\n",
       " ('Published By: NYTimes NY Region -', 220),\n",
       " ('Published By: NYTimes Arts - Today', 218),\n",
       " ('Published By: Florida Today: Sports -', 218),\n",
       " ('Published By: USATODAY.com: Washington - Today', 216),\n",
       " ('Health Tip of the Day Sign', 215),\n",
       " ('By Kyle Newport, Bleacher Report Posted', 208),\n",
       " ('Published By: The Coloradoan - Today', 206),\n",
       " ('Published By: Pittsburgh Post: Sports -', 206)]"
      ]
     },
     "metadata": {},
     "execution_count": 6
    }
   ],
   "source": [
    "########## N-GRAMS ###########\n",
    "t1 = time.time()\n",
    "n = 6 #Specify number for N-Grams\n",
    "occurrences = EDA.find_most_common_n_grams(articles_split_by_word, n)\n",
    "EDA.process_time(round(time.time()-t1))\n",
    "sorted(occurrences.items(), key=lambda x: x[1], reverse=True)[:100]"
   ]
  },
  {
   "source": [
    "First let's focus on the most noisy n-grams: <br/>\n",
    "<i><b>{\\* registration_firstName \\*}</b></i><br/>\n",
    "<i><b>our Visitor Agreement and Privacy Policy</b></i><br/>\n",
    "<i><b>Tip : Use comma (,) to</b></i><br/>\n",
    "<i><b>Published By: Forbes.com: Latest News -</b></i><br/>\n",
    "<i><b>Ads with Photos only: Note: By</b></i><br/>\n",
    "<i><b>chart data and daily updates provided</b></i><br/>\n",
    "<i><b>Article extract not available.</b></i><br/>"
   ],
   "cell_type": "markdown",
   "metadata": {}
  },
  {
   "source": [
    "### <i><b>{\\* registration_firstName \\*}</b></i> - Capture everything within curly brackets<br/>\n"
   ],
   "cell_type": "markdown",
   "metadata": {}
  },
  {
   "source": [
    "We need to capture and remove everything that is between curly brackets. \n",
    "<br/>\n",
    "Regex to use: <code> (\\{.*?\\}) </code>"
   ],
   "cell_type": "markdown",
   "metadata": {}
  },
  {
   "source": [
    "### <i><b>our Visitor Agreement and Privacy Policy</b></i><br/>\n"
   ],
   "cell_type": "markdown",
   "metadata": {}
  },
  {
   "source": [
    "df_all_news_processed[df_all_news_processed['Text'].str.contains(\"our Visitor Agreement and Privacy Policy\")].head(5)"
   ],
   "cell_type": "code",
   "metadata": {},
   "execution_count": null,
   "outputs": []
  },
  {
   "source": [
    "Regex to use: <code>(\\*[a-zA-Z]*\\s+)*(By submitting your registration.*?a link to create a new password.)</code>"
   ],
   "cell_type": "markdown",
   "metadata": {}
  },
  {
   "source": [
    "### <i><b>Tip : Use comma (,) to</b></i>"
   ],
   "cell_type": "markdown",
   "metadata": {}
  },
  {
   "cell_type": "code",
   "execution_count": 27,
   "metadata": {},
   "outputs": [
    {
     "output_type": "execute_result",
     "data": {
      "text/plain": [
       "                                                                   Title  \\\n",
       "50296            Volkswagen sold more vehicles than Toyota in first half   \n",
       "50318                      FT Reports Axel Springer In Talks To Be Owner   \n",
       "50320  Shell banned from Arctic oil drilling without emergency equipment   \n",
       "\n",
       "                                                                                                                                                                                                                                                                                                                                                                                                                                                                                                                                                                                                                                                                                                                                                                                                                                                                                                                                                                                                                                                                                                                                                                                                                                                                                                                                                                                                                                                                                                                                                                                                                                                                                                                                                                                                                                                                                                                                                                                                                                                                                  Text  \\\n",
       "50296  Tip : Use comma (,) to separate multiple quotes. Learn more... Tue, Jul 28, 2015, 2:15 PM SGT - Singapore Markets close in 2 hrs 51 mins Volkswagen sold more vehicles than Toyota in first half Volkswagen outsells Toyota in first half worldwide, GM reporting results later this week By Yuri Kageyama, AP Business Writer | Associated Press 13 minutes ago 40.82 -0.50 TOKYO (AP) -- Volkswagen overtook Toyota in global vehicle sales for January-June, the first time the German automaker has come out top in the intensely competitive tallies. Japanese automaker Toyota Motor Corp. said Tuesday it sold 5.02 million vehicles in the first six months of this year, down 1.5 percent from the same period the previous year, as sales struggled especially in the languishing Japanese market. Volkswagen AG said earlier this month that it sold 5.04 million vehicles during the same period. Sales were robust in Europe and North America but fell in China, usually a strong market for the company. Its first-half sales were 0.5 percent down from the same period in 2014. Detroit-based General Motors Corp., the top-selling automaker for more than seven decades until being surpassed by Toyota in 2008, is expected to report its figure Thursday. GM retook the sales crown in 2011, when Toyota's production was hurt by the quake and tsunami in northeastern Japan. Toyota, which makes the Prius hybrid, Camry sedan and Lexus luxury models, made a big comeback in 2012, and has been the world's top-selling automaker for the past three years. In the first half, Toyota's sales grew in U.S., Mexico and China. Last year, Toyota sold 10.23 million vehicles, beating Volkswagen and General Motors. But it has said it's expecting to sell fewer trucks and cars this year, forecasting sales will fall 1 percent year-on-year to 10.15 million vehicles. Volkswagen sold 10.14 million vehicles in 2014. VW makes the Beetle and Golf cars, and also has the Porsche, Bugatti and Audi brands under its group. GM, which makes the...   \n",
       "50318                                                                                                                                                                                                                                                                                                                                                                                                                                                                                                                      Tip : Use comma (,) to separate multiple quotes. Learn more... Thu, Jul 23, 2015, 14:39 BST - UK Markets close in 1 hr 51 mins FT Reports Axel Springer In Talks To Be Owner By (c) Sky News 2015 | Sky News 4 minutes 11 seconds ago View Photo The owner of the Financial Times (FT) has confirmed it is in \"advanced\" discussions on its sale, with the newspaper reporting Axel Springer is the front-runner. Pearson (Xetra: 858266 - news ) released a statement to the Stock Exchange moments after the Reuters news agency, citing a source close to the deal, reported that it was to sell the financial title to a \"global, digital news company\". The statement said: \"Pearson notes recent press speculation and confirms that it is in advanced discussions regarding the potential disposal of FT Group although there is no certainty that the discussions will lead to a transaction.\" The FT later reported that German publisher Axel Springer, the owner of Bild, was on course to agree a deal. Previous reports from other news organisations have suggested a host of potential suitors, including Bloomberg, Thomson Reuters (Dusseldorf: TOC.DU - news ) and even Buzzfeed, which denied any interest. Pearson is understood to be wanting to concentrate its interests on education services in emerging markets. It also holds a significant stake in the publisher, Penguin Random House. Pearson's share price leapt when confirmation of the sale talks came through. The FT Group is expected to secure a value of up to 1bn.   \n",
       "50320  Tip : Use comma (,) to separate multiple quotes. Learn more... Thu, Jul 23, 2015, 02:25 BST - UK Markets open in 5 hrs 35 mins Shell banned from Arctic oil drilling without emergency equipment By Reuters | Telegraph 1 hour 30 minutes ago -48.00 Icebreaker that holds the required equipment has been sent for repairs, which could take weeks Royal Dutch Shell has been granted two final permits to explore for crude in the Arctic this summer, but the US has banned the company from drilling for oil until emergency equipment arrives in the region. The US Interior Department's Bureau of Safety and Environmental Enforcement (BSEE) conditionally granted Shell (LSE: RDSB.L - news ) permits for exploration in the Chukchi Sea off Alaska, in a season which sea ice limits from July until October. However, Shell must have emergency equipment to contain a potential blown-out well deployable within 24 hours before drilling into the oil zone, the BSEE said. Shell discovered weeks ago that the Fennica icebreaker that holds the required equipment, called a capping stack, had a three-foot gash in it. \"Without the required well control system in place, Shell will not be allowed to drill into oil-bearing zones,\" BSEE director Brian Salemo said. Shell sent the Fennica, which it is leasing, to Portland, Oregon, last week for repairs. Fixing the gash and sending it back could take weeks. Environmentalists have criticised Shell's drilling plans in the Arctic Shell spokeswoman Kelly op de Weegh said the Fennica's \"stay in Portland will be determined by the time it takes to make a safe, permanent repair\". It is likely the icebreaker will return to the Chukchi before the preliminary drilling reaches the oil zone, expected sometime in August. \"Once we have determined the area is clear of sea ice, support vessels are in place, and the Polar Pioneer (rig) is safely anchored over the well site, drilling will begin,\" Ms op de Weegh said. Shell has spent about $7bn on Arctic exploration but has prod...   \n",
       "\n",
       "        Category  Text_TotalWords  \n",
       "50296  financial              389  \n",
       "50318  financial              256  \n",
       "50320  financial              380  "
      ],
      "text/html": "<div>\n<style scoped>\n    .dataframe tbody tr th:only-of-type {\n        vertical-align: middle;\n    }\n\n    .dataframe tbody tr th {\n        vertical-align: top;\n    }\n\n    .dataframe thead th {\n        text-align: right;\n    }\n</style>\n<table border=\"1\" class=\"dataframe\">\n  <thead>\n    <tr style=\"text-align: right;\">\n      <th></th>\n      <th>Title</th>\n      <th>Text</th>\n      <th>Category</th>\n      <th>Text_TotalWords</th>\n    </tr>\n  </thead>\n  <tbody>\n    <tr>\n      <td>50296</td>\n      <td>Volkswagen sold more vehicles than Toyota in first half</td>\n      <td>Tip : Use comma (,) to separate multiple quotes. Learn more... Tue, Jul 28, 2015, 2:15 PM SGT - Singapore Markets close in 2 hrs 51 mins Volkswagen sold more vehicles than Toyota in first half Volkswagen outsells Toyota in first half worldwide, GM reporting results later this week By Yuri Kageyama, AP Business Writer | Associated Press 13 minutes ago 40.82 -0.50 TOKYO (AP) -- Volkswagen overtook Toyota in global vehicle sales for January-June, the first time the German automaker has come out top in the intensely competitive tallies. Japanese automaker Toyota Motor Corp. said Tuesday it sold 5.02 million vehicles in the first six months of this year, down 1.5 percent from the same period the previous year, as sales struggled especially in the languishing Japanese market. Volkswagen AG said earlier this month that it sold 5.04 million vehicles during the same period. Sales were robust in Europe and North America but fell in China, usually a strong market for the company. Its first-half sales were 0.5 percent down from the same period in 2014. Detroit-based General Motors Corp., the top-selling automaker for more than seven decades until being surpassed by Toyota in 2008, is expected to report its figure Thursday. GM retook the sales crown in 2011, when Toyota's production was hurt by the quake and tsunami in northeastern Japan. Toyota, which makes the Prius hybrid, Camry sedan and Lexus luxury models, made a big comeback in 2012, and has been the world's top-selling automaker for the past three years. In the first half, Toyota's sales grew in U.S., Mexico and China. Last year, Toyota sold 10.23 million vehicles, beating Volkswagen and General Motors. But it has said it's expecting to sell fewer trucks and cars this year, forecasting sales will fall 1 percent year-on-year to 10.15 million vehicles. Volkswagen sold 10.14 million vehicles in 2014. VW makes the Beetle and Golf cars, and also has the Porsche, Bugatti and Audi brands under its group. GM, which makes the...</td>\n      <td>financial</td>\n      <td>389</td>\n    </tr>\n    <tr>\n      <td>50318</td>\n      <td>FT Reports Axel Springer In Talks To Be Owner</td>\n      <td>Tip : Use comma (,) to separate multiple quotes. Learn more... Thu, Jul 23, 2015, 14:39 BST - UK Markets close in 1 hr 51 mins FT Reports Axel Springer In Talks To Be Owner By (c) Sky News 2015 | Sky News 4 minutes 11 seconds ago View Photo The owner of the Financial Times (FT) has confirmed it is in \"advanced\" discussions on its sale, with the newspaper reporting Axel Springer is the front-runner. Pearson (Xetra: 858266 - news ) released a statement to the Stock Exchange moments after the Reuters news agency, citing a source close to the deal, reported that it was to sell the financial title to a \"global, digital news company\". The statement said: \"Pearson notes recent press speculation and confirms that it is in advanced discussions regarding the potential disposal of FT Group although there is no certainty that the discussions will lead to a transaction.\" The FT later reported that German publisher Axel Springer, the owner of Bild, was on course to agree a deal. Previous reports from other news organisations have suggested a host of potential suitors, including Bloomberg, Thomson Reuters (Dusseldorf: TOC.DU - news ) and even Buzzfeed, which denied any interest. Pearson is understood to be wanting to concentrate its interests on education services in emerging markets. It also holds a significant stake in the publisher, Penguin Random House. Pearson's share price leapt when confirmation of the sale talks came through. The FT Group is expected to secure a value of up to 1bn.</td>\n      <td>financial</td>\n      <td>256</td>\n    </tr>\n    <tr>\n      <td>50320</td>\n      <td>Shell banned from Arctic oil drilling without emergency equipment</td>\n      <td>Tip : Use comma (,) to separate multiple quotes. Learn more... Thu, Jul 23, 2015, 02:25 BST - UK Markets open in 5 hrs 35 mins Shell banned from Arctic oil drilling without emergency equipment By Reuters | Telegraph 1 hour 30 minutes ago -48.00 Icebreaker that holds the required equipment has been sent for repairs, which could take weeks Royal Dutch Shell has been granted two final permits to explore for crude in the Arctic this summer, but the US has banned the company from drilling for oil until emergency equipment arrives in the region. The US Interior Department's Bureau of Safety and Environmental Enforcement (BSEE) conditionally granted Shell (LSE: RDSB.L - news ) permits for exploration in the Chukchi Sea off Alaska, in a season which sea ice limits from July until October. However, Shell must have emergency equipment to contain a potential blown-out well deployable within 24 hours before drilling into the oil zone, the BSEE said. Shell discovered weeks ago that the Fennica icebreaker that holds the required equipment, called a capping stack, had a three-foot gash in it. \"Without the required well control system in place, Shell will not be allowed to drill into oil-bearing zones,\" BSEE director Brian Salemo said. Shell sent the Fennica, which it is leasing, to Portland, Oregon, last week for repairs. Fixing the gash and sending it back could take weeks. Environmentalists have criticised Shell's drilling plans in the Arctic Shell spokeswoman Kelly op de Weegh said the Fennica's \"stay in Portland will be determined by the time it takes to make a safe, permanent repair\". It is likely the icebreaker will return to the Chukchi before the preliminary drilling reaches the oil zone, expected sometime in August. \"Once we have determined the area is clear of sea ice, support vessels are in place, and the Polar Pioneer (rig) is safely anchored over the well site, drilling will begin,\" Ms op de Weegh said. Shell has spent about $7bn on Arctic exploration but has prod...</td>\n      <td>financial</td>\n      <td>380</td>\n    </tr>\n  </tbody>\n</table>\n</div>"
     },
     "metadata": {},
     "execution_count": 27
    }
   ],
   "source": [
    "#pd.options.display.max_colwidth = 2000\n",
    "df_all_news_processed[df_all_news_processed['Text'].str.contains(\"Tip : Use comma \\(,\\) to\")].head(3)"
   ]
  },
  {
   "source": [
    "regex to use:  <code> (Tip : Use comma.*?Learn more...) </code>"
   ],
   "cell_type": "markdown",
   "metadata": {}
  },
  {
   "source": [
    "### <i><b>Published By: Forbes.com: Latest News -</b></i>"
   ],
   "cell_type": "markdown",
   "metadata": {}
  },
  {
   "cell_type": "code",
   "execution_count": 29,
   "metadata": {},
   "outputs": [
    {
     "output_type": "execute_result",
     "data": {
      "text/plain": [
       "                                                                                                      Title  \\\n",
       "98133                                                  NYC jail watchdogs skeptical of inmate uniforms plan   \n",
       "98134                                                        Alert property owner helps crack break-in case   \n",
       "98135  Gawker Inquiry Finds Malaysia Airlines Flight MH17 Was Shot Down by a Russian Missile | Jalopnik I H   \n",
       "98136                                                   England's Failure at the Rugby World Cup is No Joke   \n",
       "98139                                                     Starbucks to deliver within Empire State Building   \n",
       "\n",
       "                                                                                                                                                                                                                                                                                         Text  \\\n",
       "98133                                                                                                                       Published By: Finger Lake Times - Today NEW YORK (AP) Jail watchdogs have expressed skepticism over a plan to mandate all New York City inmates wear uniforms....   \n",
       "98134                                                                                               Published By: Charlotte Observer: Crime - Today Man confronted people who didn t belong at houseHe copied down their license plate numberMount Holly woman arrested and charged Click ...   \n",
       "98135  Gawker Inquiry Finds Malaysia Airlines Flight MH17 Was Shot Down by a Russian Missile | Jalopnik I H Published By: Gizmodo.com - Today Gawker Inquiry Finds Malaysia Airlines Flight MH17 Was Shot Down by a Russian Missile | Jalopnik I Hit A Deer With My Car And Now I Want To ...   \n",
       "98136                                                                                            Published By: Huffington Post Sports - Today England's loss to Australia on Saturday October 3rd in Rugby's World Cup was a huge disappointment for the home team, as Australia's new coa...   \n",
       "98139                                                                                                           Published By: Denver Post - Today NEW YORK Starbucks will start offering delivery within the Empire State Building on Tuesday, giving office workers in the skyscraper the...   \n",
       "\n",
       "        Category  Text_TotalWords  \n",
       "98133  political               28  \n",
       "98134  political               29  \n",
       "98135  political               52  \n",
       "98136  political               31  \n",
       "98139  political               28  "
      ],
      "text/html": "<div>\n<style scoped>\n    .dataframe tbody tr th:only-of-type {\n        vertical-align: middle;\n    }\n\n    .dataframe tbody tr th {\n        vertical-align: top;\n    }\n\n    .dataframe thead th {\n        text-align: right;\n    }\n</style>\n<table border=\"1\" class=\"dataframe\">\n  <thead>\n    <tr style=\"text-align: right;\">\n      <th></th>\n      <th>Title</th>\n      <th>Text</th>\n      <th>Category</th>\n      <th>Text_TotalWords</th>\n    </tr>\n  </thead>\n  <tbody>\n    <tr>\n      <td>98133</td>\n      <td>NYC jail watchdogs skeptical of inmate uniforms plan</td>\n      <td>Published By: Finger Lake Times - Today NEW YORK (AP) Jail watchdogs have expressed skepticism over a plan to mandate all New York City inmates wear uniforms....</td>\n      <td>political</td>\n      <td>28</td>\n    </tr>\n    <tr>\n      <td>98134</td>\n      <td>Alert property owner helps crack break-in case</td>\n      <td>Published By: Charlotte Observer: Crime - Today Man confronted people who didn t belong at houseHe copied down their license plate numberMount Holly woman arrested and charged Click ...</td>\n      <td>political</td>\n      <td>29</td>\n    </tr>\n    <tr>\n      <td>98135</td>\n      <td>Gawker Inquiry Finds Malaysia Airlines Flight MH17 Was Shot Down by a Russian Missile | Jalopnik I H</td>\n      <td>Gawker Inquiry Finds Malaysia Airlines Flight MH17 Was Shot Down by a Russian Missile | Jalopnik I H Published By: Gizmodo.com - Today Gawker Inquiry Finds Malaysia Airlines Flight MH17 Was Shot Down by a Russian Missile | Jalopnik I Hit A Deer With My Car And Now I Want To ...</td>\n      <td>political</td>\n      <td>52</td>\n    </tr>\n    <tr>\n      <td>98136</td>\n      <td>England's Failure at the Rugby World Cup is No Joke</td>\n      <td>Published By: Huffington Post Sports - Today England's loss to Australia on Saturday October 3rd in Rugby's World Cup was a huge disappointment for the home team, as Australia's new coa...</td>\n      <td>political</td>\n      <td>31</td>\n    </tr>\n    <tr>\n      <td>98139</td>\n      <td>Starbucks to deliver within Empire State Building</td>\n      <td>Published By: Denver Post - Today NEW YORK Starbucks will start offering delivery within the Empire State Building on Tuesday, giving office workers in the skyscraper the...</td>\n      <td>political</td>\n      <td>28</td>\n    </tr>\n  </tbody>\n</table>\n</div>"
     },
     "metadata": {},
     "execution_count": 29
    }
   ],
   "source": [
    "df_all_news_processed[df_all_news_processed['Text'].str.contains(\"Published By:\")].head(5)"
   ]
  },
  {
   "source": [
    "Regex to use: <code>(Published By:).*?\\-</code>"
   ],
   "cell_type": "markdown",
   "metadata": {}
  },
  {
   "source": [
    "### <i><b>Ads with Photos only: Note: By</b></i>\n"
   ],
   "cell_type": "markdown",
   "metadata": {}
  },
  {
   "cell_type": "code",
   "execution_count": 32,
   "metadata": {},
   "outputs": [
    {
     "output_type": "execute_result",
     "data": {
      "text/plain": [
       "                                                                  Title  \\\n",
       "185330      Advertise Your Garage Sale Here! Garage Sale Package: (pic)   \n",
       "185369            KIA 01 SPORTAGE 4x4; Runs Good. Smogged! $1,995. Call   \n",
       "185476              Baby cradle, wood, beautiful piece. Mint condition.   \n",
       "185605  NISSAN 95 XE - V6. 5 spd, new tires, 138k mi. Smogged! Gd (pic)   \n",
       "185647                             Burlap sacks, 30 total. All for $99.   \n",
       "\n",
       "                                                                                                                                                                                                                                                                                                                                                                                                                                                    Text  \\\n",
       "185330                                                                                                                                                        Ads with Photos only: Note: By using UnionDemocrat.com RSS feeds, you consent to be bound by the terms and conditions of our Use Policy Agreement . If you do not agree to all terms and conditions, do not use the RSS feeds. View all UnionDemocrat.com RSS Feeds . Featured Classifieds   \n",
       "185369                                                                                                                                                        Ads with Photos only: Note: By using UnionDemocrat.com RSS feeds, you consent to be bound by the terms and conditions of our Use Policy Agreement . If you do not agree to all terms and conditions, do not use the RSS feeds. View all UnionDemocrat.com RSS Feeds . Featured Classifieds   \n",
       "185476  Baby cradle, wood, beautiful piece. Mint condition. ad date: 09/30/2015 Reach all of Brookings, Harbor, and Curry County with your items to sell. Ads appear Online and in Print Ads with Photos only: Note: By using CurryPilot.com RSS feeds, you consent to be bound by the terms and conditions of our Use Policy Agreement . If you do not agree to all terms and conditions, do not use the RSS feeds. View all CurryPilot.com RSS Feeds .   \n",
       "185605                                                                                                                                                        Ads with Photos only: Note: By using UnionDemocrat.com RSS feeds, you consent to be bound by the terms and conditions of our Use Policy Agreement . If you do not agree to all terms and conditions, do not use the RSS feeds. View all UnionDemocrat.com RSS Feeds . Featured Classifieds   \n",
       "185647                                                                                                                                                                                   Ads with Photos only: Note: By using CurryPilot.com RSS feeds, you consent to be bound by the terms and conditions of our Use Policy Agreement . If you do not agree to all terms and conditions, do not use the RSS feeds. View all CurryPilot.com RSS Feeds .   \n",
       "\n",
       "       Category  Text_TotalWords  \n",
       "185330    sport               50  \n",
       "185369    sport               50  \n",
       "185476    sport               77  \n",
       "185605    sport               50  \n",
       "185647    sport               48  "
      ],
      "text/html": "<div>\n<style scoped>\n    .dataframe tbody tr th:only-of-type {\n        vertical-align: middle;\n    }\n\n    .dataframe tbody tr th {\n        vertical-align: top;\n    }\n\n    .dataframe thead th {\n        text-align: right;\n    }\n</style>\n<table border=\"1\" class=\"dataframe\">\n  <thead>\n    <tr style=\"text-align: right;\">\n      <th></th>\n      <th>Title</th>\n      <th>Text</th>\n      <th>Category</th>\n      <th>Text_TotalWords</th>\n    </tr>\n  </thead>\n  <tbody>\n    <tr>\n      <td>185330</td>\n      <td>Advertise Your Garage Sale Here! Garage Sale Package: (pic)</td>\n      <td>Ads with Photos only: Note: By using UnionDemocrat.com RSS feeds, you consent to be bound by the terms and conditions of our Use Policy Agreement . If you do not agree to all terms and conditions, do not use the RSS feeds. View all UnionDemocrat.com RSS Feeds . Featured Classifieds</td>\n      <td>sport</td>\n      <td>50</td>\n    </tr>\n    <tr>\n      <td>185369</td>\n      <td>KIA 01 SPORTAGE 4x4; Runs Good. Smogged! $1,995. Call</td>\n      <td>Ads with Photos only: Note: By using UnionDemocrat.com RSS feeds, you consent to be bound by the terms and conditions of our Use Policy Agreement . If you do not agree to all terms and conditions, do not use the RSS feeds. View all UnionDemocrat.com RSS Feeds . Featured Classifieds</td>\n      <td>sport</td>\n      <td>50</td>\n    </tr>\n    <tr>\n      <td>185476</td>\n      <td>Baby cradle, wood, beautiful piece. Mint condition.</td>\n      <td>Baby cradle, wood, beautiful piece. Mint condition. ad date: 09/30/2015 Reach all of Brookings, Harbor, and Curry County with your items to sell. Ads appear Online and in Print Ads with Photos only: Note: By using CurryPilot.com RSS feeds, you consent to be bound by the terms and conditions of our Use Policy Agreement . If you do not agree to all terms and conditions, do not use the RSS feeds. View all CurryPilot.com RSS Feeds .</td>\n      <td>sport</td>\n      <td>77</td>\n    </tr>\n    <tr>\n      <td>185605</td>\n      <td>NISSAN 95 XE - V6. 5 spd, new tires, 138k mi. Smogged! Gd (pic)</td>\n      <td>Ads with Photos only: Note: By using UnionDemocrat.com RSS feeds, you consent to be bound by the terms and conditions of our Use Policy Agreement . If you do not agree to all terms and conditions, do not use the RSS feeds. View all UnionDemocrat.com RSS Feeds . Featured Classifieds</td>\n      <td>sport</td>\n      <td>50</td>\n    </tr>\n    <tr>\n      <td>185647</td>\n      <td>Burlap sacks, 30 total. All for $99.</td>\n      <td>Ads with Photos only: Note: By using CurryPilot.com RSS feeds, you consent to be bound by the terms and conditions of our Use Policy Agreement . If you do not agree to all terms and conditions, do not use the RSS feeds. View all CurryPilot.com RSS Feeds .</td>\n      <td>sport</td>\n      <td>48</td>\n    </tr>\n  </tbody>\n</table>\n</div>"
     },
     "metadata": {},
     "execution_count": 32
    }
   ],
   "source": [
    "df_all_news_processed[df_all_news_processed['Text'].str.contains(\"Ads with Photos only\")].head(5)"
   ]
  },
  {
   "source": [
    "Regex to use: <code>(Ads with Photos only:.*?RSS Feeds .)\\s\\*(Featured Classifieds)\\*</code>"
   ],
   "cell_type": "markdown",
   "metadata": {}
  },
  {
   "source": [
    "### <i><b>chart data and daily updates provided</b></i>"
   ],
   "cell_type": "markdown",
   "metadata": {}
  },
  {
   "cell_type": "code",
   "execution_count": 38,
   "metadata": {},
   "outputs": [
    {
     "output_type": "execute_result",
     "data": {
      "text/plain": [
       "                                                                                          Title  \\\n",
       "50368                        Centrica tops FTSE fallers on unplanned North Morecambe gas outage   \n",
       "50369                                             Microsoft Posts $3.2bn Loss In Second Quarter   \n",
       "50409                                                                   Form 8.3 - BG GROUP PLC   \n",
       "50425                    Tsipras, Hollande, Merkel and Tusk propose Greece 'compromise': source   \n",
       "50483  MEDIA-UK's Quintain Estates in takeover talks with U.S.-based Lone Star Funds - Sky News   \n",
       "\n",
       "                                                                                                                                                                                                                                                                                                                                                                                                                                                                                                                                                                                                                                                                                                                                                                                                                                                                                                                                                                                                                                                                                                                                                                                                                                                                                                                                                                                                                                                                                                                                                                                                                                                                                                                                                                                                                                                                                                                                                                                                                                                                               Text  \\\n",
       "50368  Tip : Use comma (,) to separate multiple quotes. Learn more... Tue, Jul 21, 2015, 12:50 BST - UK Markets close in 3 hrs 40 mins Centrica tops FTSE fallers on unplanned North Morecambe gas outage By Michele Maatouk | Sharecast 13 minutes ago 275.80 -7.2000 LONDON (ShareCast) - (ShareCast News) - Centrica (LSE: CNA.L - news ) was the biggest faller on the FTSE 100 after an unplanned outage cut its North Morecambe gas sub-terminal output to zero on Tuesday. Centrica, the owner of British Gas, said gas production was cut off due to an \"offshore issue\". Flows from the Barrow terminal, which includes the North Morecambe sub-terminal, were running at around 1m cubic metres per day compared with 5.2 mcm delivered on Monday. At 11:27, Centrica shares were down 2% at 277.30p. Tax cuts, pensions, childcare, online accounts and beer duty, here's Related Stock Articles Follow the quotes you care about most. Access timely news and investment updates to stay on top of the market. More Yahoo UK & Ireland Finance Terms Quotes are real-time for NASDAQ, NYSE, and NYSEAmex when available. See also delay times for other exchanges . Quotes and other information supplied by independent providers identified on the Yahoo! Finance partner page . Quotes are updated automatically, but will be turned off after 25 minutes of inactivity. Quotes are delayed at least 15 minutes. All information provided \"as is\" for informational purposes only, not intended for trading purposes or advice. Neither Yahoo! nor any of independent providers is liable for any informational errors, incompleteness, or delays, or for any actions taken in reliance on information contained herein. By accessing the Yahoo! site, you agree not to redistribute the information found therein. Fundamental company data provided by Capital IQ . Historical chart data and daily updates provided by Commodity Systems, Inc. (CSI) . International historical chart data and daily updates provided by Morningstar, Inc . Yahoo! - News Network   \n",
       "50369                                                                                                                                                                                                                                                                                                                                                                                              Tip : Use comma (,) to separate multiple quotes. Learn more... Tue, Jul 21, 2015, 21:37 BST - UK Markets closed Microsoft Posts $3.2bn Loss In Second Quarter By (c) Sky News 2015 | Sky News 4 minutes 38 seconds ago View Photo Microsoft (NasdaqGS: MSFT - news ) has announced a net loss of $3.2bn ( 2.1bn), following a substantial writedown on the value of its smartphone business. More follows... Tax cuts, pensions, childcare, online accounts and beer duty, here's Related Stock Articles Follow the quotes you care about most. Access timely news and investment updates to stay on top of the market. More Yahoo UK & Ireland Finance Terms Quotes are real-time for NASDAQ, NYSE, and NYSEAmex when available. See also delay times for other exchanges . Quotes and other information supplied by independent providers identified on the Yahoo! Finance partner page . Quotes are updated automatically, but will be turned off after 25 minutes of inactivity. Quotes are delayed at least 15 minutes. All information provided \"as is\" for informational purposes only, not intended for trading purposes or advice. Neither Yahoo! nor any of independent providers is liable for any informational errors, incompleteness, or delays, or for any actions taken in reliance on information contained herein. By accessing the Yahoo! site, you agree not to redistribute the information found therein. Fundamental company data provided by Capital IQ . Historical chart data and daily updates provided by Commodity Systems, Inc. (CSI) . International historical chart data and daily updates provided by Morningstar, Inc . Yahoo! - News Network   \n",
       "50409                                                                                                                                                                                                                                                                                                                                                                                                                                                                                                                                                                                                                                                                                                                                                                                                                                                                                                                                                                                                                                                      Terms Quotes are real-time for NASDAQ, NYSE, and NYSEAmex when available. See also delay times for other exchanges . Quotes and other information supplied by independent providers identified on the Yahoo! Finance partner page . Quotes are updated automatically, but will be turned off after 25 minutes of inactivity. Quotes are delayed at least 15 minutes. All information provided \"as is\" for informational purposes only, not intended for trading purposes or advice. Neither Yahoo! nor any of independent providers is liable for any informational errors, incompleteness, or delays, or for any actions taken in reliance on information contained herein. By accessing the Yahoo! site, you agree not to redistribute the information found therein. Fundamental company data provided by Capital IQ . Historical chart data and daily updates provided by Commodity Systems, Inc. (CSI) . International historical chart data and daily updates provided by Morningstar, Inc . Yahoo! - News Network   \n",
       "50425                                                                                                                                                                                                                                                                                                                                                                                                                                                                                                                                                                                                                                                                                                                                                                                                                                                                                                                                                                                                                                                      Terms Quotes are real-time for NASDAQ, NYSE, and NYSEAmex when available. See also delay times for other exchanges . Quotes and other information supplied by independent providers identified on the Yahoo! Finance partner page . Quotes are updated automatically, but will be turned off after 25 minutes of inactivity. Quotes are delayed at least 15 minutes. All information provided \"as is\" for informational purposes only, not intended for trading purposes or advice. Neither Yahoo! nor any of independent providers is liable for any informational errors, incompleteness, or delays, or for any actions taken in reliance on information contained herein. By accessing the Yahoo! site, you agree not to redistribute the information found therein. Fundamental company data provided by Capital IQ . Historical chart data and daily updates provided by Commodity Systems, Inc. (CSI) . International historical chart data and daily updates provided by Morningstar, Inc . Yahoo! - News Network   \n",
       "50483                                                                                                                                                                                                                                                                                                                                                                                                                                                                                                                                                                                                                                                                                                                                                                                                                                                                                                                                                                                                                                                      Terms Quotes are real-time for NASDAQ, NYSE, and NYSEAmex when available. See also delay times for other exchanges . Quotes and other information supplied by independent providers identified on the Yahoo! Finance partner page . Quotes are updated automatically, but will be turned off after 25 minutes of inactivity. Quotes are delayed at least 15 minutes. All information provided \"as is\" for informational purposes only, not intended for trading purposes or advice. Neither Yahoo! nor any of independent providers is liable for any informational errors, incompleteness, or delays, or for any actions taken in reliance on information contained herein. By accessing the Yahoo! site, you agree not to redistribute the information found therein. Fundamental company data provided by Capital IQ . Historical chart data and daily updates provided by Commodity Systems, Inc. (CSI) . International historical chart data and daily updates provided by Morningstar, Inc . Yahoo! - News Network   \n",
       "\n",
       "        Category  Text_TotalWords  \n",
       "50368  financial              327  \n",
       "50369  financial              263  \n",
       "50409  financial              150  \n",
       "50425  financial              150  \n",
       "50483  financial              150  "
      ],
      "text/html": "<div>\n<style scoped>\n    .dataframe tbody tr th:only-of-type {\n        vertical-align: middle;\n    }\n\n    .dataframe tbody tr th {\n        vertical-align: top;\n    }\n\n    .dataframe thead th {\n        text-align: right;\n    }\n</style>\n<table border=\"1\" class=\"dataframe\">\n  <thead>\n    <tr style=\"text-align: right;\">\n      <th></th>\n      <th>Title</th>\n      <th>Text</th>\n      <th>Category</th>\n      <th>Text_TotalWords</th>\n    </tr>\n  </thead>\n  <tbody>\n    <tr>\n      <td>50368</td>\n      <td>Centrica tops FTSE fallers on unplanned North Morecambe gas outage</td>\n      <td>Tip : Use comma (,) to separate multiple quotes. Learn more... Tue, Jul 21, 2015, 12:50 BST - UK Markets close in 3 hrs 40 mins Centrica tops FTSE fallers on unplanned North Morecambe gas outage By Michele Maatouk | Sharecast 13 minutes ago 275.80 -7.2000 LONDON (ShareCast) - (ShareCast News) - Centrica (LSE: CNA.L - news ) was the biggest faller on the FTSE 100 after an unplanned outage cut its North Morecambe gas sub-terminal output to zero on Tuesday. Centrica, the owner of British Gas, said gas production was cut off due to an \"offshore issue\". Flows from the Barrow terminal, which includes the North Morecambe sub-terminal, were running at around 1m cubic metres per day compared with 5.2 mcm delivered on Monday. At 11:27, Centrica shares were down 2% at 277.30p. Tax cuts, pensions, childcare, online accounts and beer duty, here's Related Stock Articles Follow the quotes you care about most. Access timely news and investment updates to stay on top of the market. More Yahoo UK &amp; Ireland Finance Terms Quotes are real-time for NASDAQ, NYSE, and NYSEAmex when available. See also delay times for other exchanges . Quotes and other information supplied by independent providers identified on the Yahoo! Finance partner page . Quotes are updated automatically, but will be turned off after 25 minutes of inactivity. Quotes are delayed at least 15 minutes. All information provided \"as is\" for informational purposes only, not intended for trading purposes or advice. Neither Yahoo! nor any of independent providers is liable for any informational errors, incompleteness, or delays, or for any actions taken in reliance on information contained herein. By accessing the Yahoo! site, you agree not to redistribute the information found therein. Fundamental company data provided by Capital IQ . Historical chart data and daily updates provided by Commodity Systems, Inc. (CSI) . International historical chart data and daily updates provided by Morningstar, Inc . Yahoo! - News Network</td>\n      <td>financial</td>\n      <td>327</td>\n    </tr>\n    <tr>\n      <td>50369</td>\n      <td>Microsoft Posts $3.2bn Loss In Second Quarter</td>\n      <td>Tip : Use comma (,) to separate multiple quotes. Learn more... Tue, Jul 21, 2015, 21:37 BST - UK Markets closed Microsoft Posts $3.2bn Loss In Second Quarter By (c) Sky News 2015 | Sky News 4 minutes 38 seconds ago View Photo Microsoft (NasdaqGS: MSFT - news ) has announced a net loss of $3.2bn ( 2.1bn), following a substantial writedown on the value of its smartphone business. More follows... Tax cuts, pensions, childcare, online accounts and beer duty, here's Related Stock Articles Follow the quotes you care about most. Access timely news and investment updates to stay on top of the market. More Yahoo UK &amp; Ireland Finance Terms Quotes are real-time for NASDAQ, NYSE, and NYSEAmex when available. See also delay times for other exchanges . Quotes and other information supplied by independent providers identified on the Yahoo! Finance partner page . Quotes are updated automatically, but will be turned off after 25 minutes of inactivity. Quotes are delayed at least 15 minutes. All information provided \"as is\" for informational purposes only, not intended for trading purposes or advice. Neither Yahoo! nor any of independent providers is liable for any informational errors, incompleteness, or delays, or for any actions taken in reliance on information contained herein. By accessing the Yahoo! site, you agree not to redistribute the information found therein. Fundamental company data provided by Capital IQ . Historical chart data and daily updates provided by Commodity Systems, Inc. (CSI) . International historical chart data and daily updates provided by Morningstar, Inc . Yahoo! - News Network</td>\n      <td>financial</td>\n      <td>263</td>\n    </tr>\n    <tr>\n      <td>50409</td>\n      <td>Form 8.3 - BG GROUP PLC</td>\n      <td>Terms Quotes are real-time for NASDAQ, NYSE, and NYSEAmex when available. See also delay times for other exchanges . Quotes and other information supplied by independent providers identified on the Yahoo! Finance partner page . Quotes are updated automatically, but will be turned off after 25 minutes of inactivity. Quotes are delayed at least 15 minutes. All information provided \"as is\" for informational purposes only, not intended for trading purposes or advice. Neither Yahoo! nor any of independent providers is liable for any informational errors, incompleteness, or delays, or for any actions taken in reliance on information contained herein. By accessing the Yahoo! site, you agree not to redistribute the information found therein. Fundamental company data provided by Capital IQ . Historical chart data and daily updates provided by Commodity Systems, Inc. (CSI) . International historical chart data and daily updates provided by Morningstar, Inc . Yahoo! - News Network</td>\n      <td>financial</td>\n      <td>150</td>\n    </tr>\n    <tr>\n      <td>50425</td>\n      <td>Tsipras, Hollande, Merkel and Tusk propose Greece 'compromise': source</td>\n      <td>Terms Quotes are real-time for NASDAQ, NYSE, and NYSEAmex when available. See also delay times for other exchanges . Quotes and other information supplied by independent providers identified on the Yahoo! Finance partner page . Quotes are updated automatically, but will be turned off after 25 minutes of inactivity. Quotes are delayed at least 15 minutes. All information provided \"as is\" for informational purposes only, not intended for trading purposes or advice. Neither Yahoo! nor any of independent providers is liable for any informational errors, incompleteness, or delays, or for any actions taken in reliance on information contained herein. By accessing the Yahoo! site, you agree not to redistribute the information found therein. Fundamental company data provided by Capital IQ . Historical chart data and daily updates provided by Commodity Systems, Inc. (CSI) . International historical chart data and daily updates provided by Morningstar, Inc . Yahoo! - News Network</td>\n      <td>financial</td>\n      <td>150</td>\n    </tr>\n    <tr>\n      <td>50483</td>\n      <td>MEDIA-UK's Quintain Estates in takeover talks with U.S.-based Lone Star Funds - Sky News</td>\n      <td>Terms Quotes are real-time for NASDAQ, NYSE, and NYSEAmex when available. See also delay times for other exchanges . Quotes and other information supplied by independent providers identified on the Yahoo! Finance partner page . Quotes are updated automatically, but will be turned off after 25 minutes of inactivity. Quotes are delayed at least 15 minutes. All information provided \"as is\" for informational purposes only, not intended for trading purposes or advice. Neither Yahoo! nor any of independent providers is liable for any informational errors, incompleteness, or delays, or for any actions taken in reliance on information contained herein. By accessing the Yahoo! site, you agree not to redistribute the information found therein. Fundamental company data provided by Capital IQ . Historical chart data and daily updates provided by Commodity Systems, Inc. (CSI) . International historical chart data and daily updates provided by Morningstar, Inc . Yahoo! - News Network</td>\n      <td>financial</td>\n      <td>150</td>\n    </tr>\n  </tbody>\n</table>\n</div>"
     },
     "metadata": {},
     "execution_count": 38
    }
   ],
   "source": [
    "df_all_news_processed[df_all_news_processed['Text'].str.contains(\"Historical chart data and daily updates provided\")].head(5)"
   ]
  },
  {
   "source": [
    "# *Required By submitting your registration....send you a link to create a new password.\n",
    "# (\\*[a-zA-Z]*\\s+)*(By submitting your registration.*?a link to create a new password.)\n",
    "\n",
    "# Most Read Need a Profile?....information below before signing in.\n",
    "# (Most Read\\s+)*(Need a Profile.*?below before signing in.)\n",
    "\n",
    "# (Photo by Jordan Strauss/Invision/AP, File) OR (AP Photo/J Pat Carter, File)\n",
    "# (\\(AP Photo.*?\\))|(\\(Photo by.*?\\))\n",
    "\n",
    "# SUBSCRIBE FOLLOW US 2015 Cox Media Group  OR Copyright 2015 Cox Media Group \n",
    "# ((SUBSCRIBE FOLLOW US)|Copyright)*\\s2015*\\s(Cox Media Group)\n",
    "\n",
    "# Copyright 2015 by CNN NewSource . All rights reserved. This material may not be published, broadcast, rewritten or redistributed.\n",
    "# ((Copyright 2015).*?All rights reserved.)\\s+(This material may not be published, broadcast, rewritten or redistributed)*\n",
    "\n",
    "# Tip : Use comma (,) to separate multiple quotes. Learn more... Tue, Jul 2\n",
    "# (Tip : Use comma.*?Learn more...)\n",
    "\n",
    "# (Ads with Photos only:.*?RSS Feeds .)\\s*(Featured Classifieds)*\n",
    "\n",
    "# chart data and daily updates provided\n",
    "# (Terms Quotes.*?\\s+-\\s+News Network)\n",
    "\n",
    "#Article extract not available. Link to source for the full article.\t"
   ],
   "cell_type": "code",
   "metadata": {},
   "execution_count": null,
   "outputs": []
  },
  {
   "source": [
    "Regex to use: <code>(Terms Quotes.*?\\s+-\\s+News Network)</code>"
   ],
   "cell_type": "markdown",
   "metadata": {}
  },
  {
   "source": [
    "### <i><b>Article extract not available</b></i><br/>"
   ],
   "cell_type": "markdown",
   "metadata": {}
  },
  {
   "cell_type": "code",
   "execution_count": 39,
   "metadata": {},
   "outputs": [
    {
     "output_type": "execute_result",
     "data": {
      "text/plain": [
       "                                                                                                Title  \\\n",
       "98215   With US funds at risk, Washington psychiatric hospital sees another patient-on-patient attack   \n",
       "98347                                     Japan, Australia urge N. Korea not to engage in provocation   \n",
       "98398                                                                                         Move on   \n",
       "99214                                   Gov't urges businesses to increase investment to lift economy   \n",
       "99222                     Top aide says Biden nearing 2016 decision, would run on middle-class values   \n",
       "...                                                                                               ...   \n",
       "490795                   Canadian university head proposed rocket spaceflight in 1861, historian says   \n",
       "492078                                                                       Rolls of crochet poppies   \n",
       "492367              Nobel official's behind-the-scenes book revealing tussles overshadows peace prize   \n",
       "492727                         Analysts say court ruling fuels movement to impeach Brazil's president   \n",
       "493018                      Thickening haze in Singapore prompts cancellation of World Cup swim races   \n",
       "\n",
       "                                                                           Text  \\\n",
       "98215       Article extract not available. Link to source for the full article.   \n",
       "98347   Article extract not available. Link to the source for the full article.   \n",
       "98398       Article extract not available. Link to source for the full article.   \n",
       "99214   Article extract not available. Link to the source for the full article.   \n",
       "99222       Article extract not available. Link to source for the full article.   \n",
       "...                                                                         ...   \n",
       "490795      Article extract not available. Link to source for the full article.   \n",
       "492078      Article extract not available. Link to source for the full article.   \n",
       "492367      Article extract not available. Link to source for the full article.   \n",
       "492727      Article extract not available. Link to source for the full article.   \n",
       "493018      Article extract not available. Link to source for the full article.   \n",
       "\n",
       "         Category  Text_TotalWords  \n",
       "98215   political               11  \n",
       "98347   political               12  \n",
       "98398   political               11  \n",
       "99214   political               12  \n",
       "99222   political               11  \n",
       "...           ...              ...  \n",
       "490795      world               11  \n",
       "492078      world               11  \n",
       "492367      world               11  \n",
       "492727      world               11  \n",
       "493018      world               11  \n",
       "\n",
       "[632 rows x 4 columns]"
      ],
      "text/html": "<div>\n<style scoped>\n    .dataframe tbody tr th:only-of-type {\n        vertical-align: middle;\n    }\n\n    .dataframe tbody tr th {\n        vertical-align: top;\n    }\n\n    .dataframe thead th {\n        text-align: right;\n    }\n</style>\n<table border=\"1\" class=\"dataframe\">\n  <thead>\n    <tr style=\"text-align: right;\">\n      <th></th>\n      <th>Title</th>\n      <th>Text</th>\n      <th>Category</th>\n      <th>Text_TotalWords</th>\n    </tr>\n  </thead>\n  <tbody>\n    <tr>\n      <td>98215</td>\n      <td>With US funds at risk, Washington psychiatric hospital sees another patient-on-patient attack</td>\n      <td>Article extract not available. Link to source for the full article.</td>\n      <td>political</td>\n      <td>11</td>\n    </tr>\n    <tr>\n      <td>98347</td>\n      <td>Japan, Australia urge N. Korea not to engage in provocation</td>\n      <td>Article extract not available. Link to the source for the full article.</td>\n      <td>political</td>\n      <td>12</td>\n    </tr>\n    <tr>\n      <td>98398</td>\n      <td>Move on</td>\n      <td>Article extract not available. Link to source for the full article.</td>\n      <td>political</td>\n      <td>11</td>\n    </tr>\n    <tr>\n      <td>99214</td>\n      <td>Gov't urges businesses to increase investment to lift economy</td>\n      <td>Article extract not available. Link to the source for the full article.</td>\n      <td>political</td>\n      <td>12</td>\n    </tr>\n    <tr>\n      <td>99222</td>\n      <td>Top aide says Biden nearing 2016 decision, would run on middle-class values</td>\n      <td>Article extract not available. Link to source for the full article.</td>\n      <td>political</td>\n      <td>11</td>\n    </tr>\n    <tr>\n      <td>...</td>\n      <td>...</td>\n      <td>...</td>\n      <td>...</td>\n      <td>...</td>\n    </tr>\n    <tr>\n      <td>490795</td>\n      <td>Canadian university head proposed rocket spaceflight in 1861, historian says</td>\n      <td>Article extract not available. Link to source for the full article.</td>\n      <td>world</td>\n      <td>11</td>\n    </tr>\n    <tr>\n      <td>492078</td>\n      <td>Rolls of crochet poppies</td>\n      <td>Article extract not available. Link to source for the full article.</td>\n      <td>world</td>\n      <td>11</td>\n    </tr>\n    <tr>\n      <td>492367</td>\n      <td>Nobel official's behind-the-scenes book revealing tussles overshadows peace prize</td>\n      <td>Article extract not available. Link to source for the full article.</td>\n      <td>world</td>\n      <td>11</td>\n    </tr>\n    <tr>\n      <td>492727</td>\n      <td>Analysts say court ruling fuels movement to impeach Brazil's president</td>\n      <td>Article extract not available. Link to source for the full article.</td>\n      <td>world</td>\n      <td>11</td>\n    </tr>\n    <tr>\n      <td>493018</td>\n      <td>Thickening haze in Singapore prompts cancellation of World Cup swim races</td>\n      <td>Article extract not available. Link to source for the full article.</td>\n      <td>world</td>\n      <td>11</td>\n    </tr>\n  </tbody>\n</table>\n<p>632 rows × 4 columns</p>\n</div>"
     },
     "metadata": {},
     "execution_count": 39
    }
   ],
   "source": [
    "df_all_news_processed[df_all_news_processed['Text'].str.contains(\"Article extract not available. Link to\")]"
   ]
  },
  {
   "source": [
    "Regex to use: <code>Article extract not available. Link to source for the full article.</code>"
   ],
   "cell_type": "markdown",
   "metadata": {}
  },
  {
   "source": [
    "### <i><b>Need an account? Create one now.</b></i><br/>"
   ],
   "cell_type": "markdown",
   "metadata": {}
  },
  {
   "cell_type": "code",
   "execution_count": 49,
   "metadata": {},
   "outputs": [
    {
     "output_type": "execute_result",
     "data": {
      "text/plain": [
       "                                                                                          Title  \\\n",
       "1101                                      Broadway's Cirque du Soleil show will star Ruby Lewis   \n",
       "1102                                Review: A vibrant Mulligan brings historic struggle to life   \n",
       "1733                                   JK Rowling play to feature adult Harry Potter, son Albus   \n",
       "2079                                  CBS drama 'Code Black' welcomes cast from 'The Lion King'   \n",
       "2235  Screen Scene: Academy chief says diversity issues in films have sparked a global dialogue   \n",
       "\n",
       "                                                                                                                                                                                                                                                                                                                                                                                                                                                                                                                                                                                                                                                                                                                                                                                                                                                                                                                                                                                                                                                                                                                                                                                                                                                                                                                                                                                                                                                                                                                                                                                                                                                                                                                                                                                                                                                                                                                                                                                                                                                                                 Text  \\\n",
       "1101  Ryan Miller Broadway's Cirque du Soleil show will star Ruby Lewis FILE - In this July 16, 2014 file photo, Ruby Lewis poses during the party for the opening night performance of Queen and Ben Elton's \"We Will Rock You\" at the Center Theatre Group/Ahmanson Theatre in Los Angeles. Lewis, a native of Tennessee, will make her Broadway debut this spring in Paramour with a 38-member company that will build a show about a love triangle with some eye-popping acrobatics. (Photo by Ryan Miller/Invision/AP, File) Posted: Friday, October 23, 2015 9:07 am | Updated: 12:01 pm, Fri Oct 23, 2015. Broadway's Cirque du Soleil show will star Ruby Lewis Associated Press | NEW YORK (AP) Cirque du Soleil has revealed one of the female leads of its first production created specifically for Broadway and, appropriately, she's a self-described \"thrill-seeker\" who lists among her skills skydiving, improv and tae kwon do. Ruby Lewis, a native of Kentucky, will make her Broadway debut this spring in \"Paramour\" with a 38-member company that will build a show about a love triangle with some eye-popping acrobatics. Subscription Required An online service is needed to view this article in its entirety. You need an online service to view this article in its entirety. Have an online subscription? Need an account? Create one now. Choose an online service. You must login to view the full content on this page. Screen Name or Email Need an account? Create one now. kAm{6H:D D2:5 D96 :D 4FCC6?E=J G:D:E:?8 H:E9 7C:6?5D 2?5 72>:=J Q367@C6 >J H9@=6 =:76 E2<6D @77 2E d_ >A9]Q $96 8C6H FA 2 52?46C 2?5 92D 2=H2JD 366? :?EC:8F65 3J 26C:2= 2CE:DED 2?5 8J>?2DED]k^Am kAmQq2=2?4:?8 2?5 DEC6?8E9 2?5 8C246[ 2== 4@>3:?65 :?E@ @?6[ :D D@ 5:G:?6 E@ H2E49 D@ :7 x 42? 9@?6 :? @? E9@D6 D<:==D 2?5 7=J 2C@F?5[ xV== 36 2 92AAJ =25J[Q D96 D2:5] Q(92E6G6C D<:==D x 92G6[ xV> C625J E@ E9C@H E96> :? E96 C:?8] %92EVD H92EVD 8@:?8 E@ 36 D@ 7F? 23@FE :Ei (6VC6 ;FDE 8@:?8 E@ A=2J]Qk^Am kAm!C6G:6HD 7@C Q!2C2>@FCQ H:== 368:? pAC:= `e ...   \n",
       "1102  Need an account? Create one now. kAm|F==:82?[ =:<6 $EC66A[ :D D:>A=J 2 >6D>6C:K:?8 24EC6DD[ @?6 H9@ 42? >2<6 6G6? A656DEC:2? >2E6C:2= D:?8 H:E9 E96 9@?6DEJ[ D@A9:DE:42E:@? 2?5 ?F2?46 D96 3C:?8D E@ 6G6CJ C@=6[ @? D4C66? @C DE286 W4@F?E J@FCD6=7 6E6C?2==J =F4<J :7 J@F 42F89E 96C C646?E qC@25H2J CF? :? Q$<J=:89E]QX x? Q$F77C286EE6[Q H9:49 H:E9@FE 96C H@F=5 36 2 72C[ 72C =6DD 4@>A6==:?8 >@G:6[ D96 5@6D?VE >6C6=J 6?E6CE2:? FD H:E9 96C D<:==] $96 3C:?8D E@ G:3C2?E =:76 2? :>A@CE2?E A2CE @7 @FC 8=@32= 9:DE@CJ E92EVD 62DJ E@ 7@C86E E96 DECF88=6 7@C 2 H@>2?VD C:89E E@ G@E6]k^Am kAm%96 DE@CJ @7 E96 QDF77C286EE6DQ :? 62C=J a_E9 46?EFCJ qC:E2:? >2J 3C:?8 E@ >:?5 E96 ;@J@FD=J 5277J |CD] q2?<D D:?8:?8 Q$:DE6C $F77C286EE6Q :? Q|2CJ !@AA:?D]Q qFE 6G6? E9@F89 E92E 492C24E6C DA@<6 ;@G:2==J @7 H@>6? 492:?:?8 E96>D6=G6D E@ H966=D @C 36:?8 42CC:65 @77 E@ AC:D@?[ Q$F77C286EE6Q C6>:?5D FD E92E E96 7:89E :?G@=G65 G:@=6?46[ 9F?86C DEC:<6D[ 3@>3:?8D[ 362E:?8D[ 6G6? 562E9]k^Am kAm%9@F89 E96 >@G:6[ 5:C64E65 3J $2C29 v2GC@?[ :?4=F56D C62=\\=:76 492C24E6CD =:<6 t>>6=:?6 !2?<9FCDE W$EC66AX 2?5 t>:=J (:=5:?8 s2G:D@? W}2E2=:6 !C6DDX[ H9@ 3@E9 92G6 E:?J 3FE 4CF4:2= C@=6D[ :ED >2:? 492C24E6C :D 2? 2>2=82>] |2F5 (2EED W|F==:82?X :D 2 ac\\J62C\\@=5 >@E96C H9@ DA6?5D 96C 52JD H@C<:?8 :? E96 D2>6 76E:5 =2F?5CJ 2H7F= 496>:42=D[ 3CFE2= 9@FCD[ D6IF2= 23FD6 7C@> E96 3@DD H96C6 96C @H? >@E96C =23@C65]k^Am kAmp=>@DE 244:56?E2==J[ |2F5 72==D :? H:E9 2 8C@FA @7 H@>6? 24E:G:DED H9@D6 7:89E 7@C E96 G@E6 :D 82:?:?8 DE62> 2?5 56DA6C2E:@?] p 76==@H =2F?5CJ H@C<6C :D 5F6 E@ E6DE:7J 367@C6 2 8@G6C?>6?E 4@>>:EE66 @? E96 :DDF6[ 3FE 2 362E:?8 92D =67E 96C F?23=6 E@ 2AA62C[ 2?5 |2F5 :D 5C27E65] WQpC6 J@F 2 DF77C286EE6 ?@HnQ 96C 9FD32?5 2D<D[ DFDA:4:@FD=J]X w6C D:>A=6[ 962CE76=E 2?DH6CD >@G6 E96 >2=6 =2H>2<6CD[ 3FE E96 >62DFC6 72:=D] (96? E92E 56762E :D 2??@F?465 AF3=:4=J[ :E =625D E@ 2 >6=66 :? H9:49 H@>6? 2C6 362E6? 3J A@=:46 2?5 5C28865 E@ AC:D@?[ |2F5 2>@?8 E96>]k^Am kAmw6C 7FC:@FD 9FD32?5 Wq6? (9:D92HX :?D:DED E92E |2...   \n",
       "1733  Joel Ryan JK Rowling play to feature adult Harry Potter, son Albus FILE - In this July 7, 2011 file photo, British author JK Rowling arrives in Trafalgar Square, in central London, for the World Premiere of \"Harry Potter and The Deathly Hallows: Part 2,\" the last film in the series. Producers announced Friday, Oct. 23, 2015 that \"Harry Potter and the Cursed Child\" will center on an adult Harry and his son Albus Severus. The two-part stage saga begins where Rowling's books ended 19 years after the boy wizard's epic battle with evil Lord Voldemort. (AP Photo/Joel Ryan, File) Posted: Friday, October 23, 2015 9:44 am | Updated: 12:01 pm, Fri Oct 23, 2015. JK Rowling play to feature adult Harry Potter, son Albus Associated Press | LONDON (AP) The secret is out the first-ever Harry Potter play will be a magical sequel. Producers announced Friday that \"Harry Potter and the Cursed Child\" will center on an adult Harry and his son Albus Severus. The two-part stage saga begins where Rowling's books ended 19 years after the boy wizard's epic battle with evil Lord Voldemort. Subscription Required An online service is needed to view this article in its entirety. You need an online service to view this article in its entirety. Have an online subscription? Need an account? Create one now. Choose an online service. You must login to view the full content on this page. Screen Name or Email DJ?@AD:D D2JD w2CCJ :D ?@H 2? @G6CH@C<65 4:G:= D6CG2?E :? E96 |:?:DECJ @7 |28:4[ H9:=6 9:D J@F?86DE D@? :D DECF88=:?8 QH:E9 E96 H6:89E @7 2 72>:=J =6824J 96 ?6G6C H2?E65]Qk^Am kAm%96 A=2J H:== CF? :? EH@ A2CED[ :?E6?565 E@ 36 D66? 6:E96C @? E96 D2>6 52J @C @? 4@?D64FE:G6 52JD] xE AC6G:6HD 7C@> yF?6 f 2?5 @A6?D yF=J b_ 2E {@?5@?VD !2=246 %962EC6]k^Am kAm%96 7:CDE A=2J 23@FE E96 36DA64E24=65 H:K2C5 :D 32D65 @? 2 ?6H DE@CJ 3J #@H=:?8[ y24< %9@C?6 2?5 y@9? %:772?J]k^Am kAm%96 D4C:AE :D 3J %9@C?6[ 2 DE286 2?5 D4C66? HC:E6C H9@D6 H@C< :?4=F56D G2>A:C6 DE@CJ Q{6E E96 #:89E ~?6 x?]Q %96 5:C64E@C :D %:7...   \n",
       "2079  Monty Brinton CBS drama 'Code Black' welcomes cast from 'The Lion King' In this image released by CBS, Marcia Gay Harden, from left, Melanie Chandra and Alton Fitzgerald White appear in a scene from the series \"Code Black.\" scheduled to air on Nov. 25, 2015 on CBS. White, who has played the role of Mufasa in The Lion King over 4000 times, guest stars. (Monty Brinton/CBS via AP) Posted: Thursday, October 22, 2015 4:25 pm CBS drama 'Code Black' welcomes cast from 'The Lion King' Associated Press | NEW YORK (AP) The overcrowded and stressful emergency room at CBS' \"Code Black\" will soon receive a special patient from \"The Lion King.\" The network and Disney Theatrical Productions said Thursday that Alton Fitzgerald White, who has played the role of Mufasa in the musical over 4,000 times, will appear on the Nov. 25 episode of the medical drama starring Marcia Gay Harden. Subscription Required An online service is needed to view this article in its entirety. You need an online service to view this article in its entirety. Have an online subscription? Haven t signed up for All Access yet? Get started here Screen Name or Email Remember me on this computer Login Need more information about All Access? Get all of the details here . Choose an online service. You must login to view the full content on this page. Haven t signed up for All Access yet? Get started here Screen Name or Email Remember me on this computer Login Need an account? Create one now. Need more information about All Access? Get all of the details here . kAm(9:E6 H:== A=2J 2 42DE >6>36C @7 E96 E@FC:?8 >FD:42= H9@ 2CC:G6D 2E E96 9@DA:E2= H:E9 2 E9C@2E :?764E:@?] u6==@H 42DE >6>36CD 82E96C 3J 9:D 365D:56 2?5 96=A @E96C A2E:6?ED 7:?5 A6246]k^Am kAm$9@H CF??6C |:4926= $6:EK>2? AC@>:D6D 2? 6A:D@56 E92E Q8:G6D J@F 49:==D]Q w6 D2:5 42DE 2?5 4C6H @7 E96 %' D9@H H6C6 D@33:?8 @?D6E 2D E96 AC@76DD:@?2= D:?86CD D2?8 Qw6 {:G6D :? *@F]Qk^Am kAm000k^Am kAm~?=:?6i k2 9C67lQ9EEAi^^HHH]43D]4@>^D9@HD^4@56\\3=24<Qm9EEAi^^HHH]4...   \n",
       "2235  Need an account? Create one now. kAm xE :D ?@H 2 8=@32= 5:D4FDD:@?[ 2?5 E92E D C62==J :>A@CE2?E[ D96 D2:5 5FC:?8 2 C646AE:@? 2E E96 &]$] 2>32DD25@C D {@?5@? C6D:56?46 7@C ?6H tFC@A62? >6>36CD @7 E96 p4256>J @7 |@E:@? !:4EFC6 pCED 2?5 $4:6?46D]k^Am kAm(65?6D52J D 6G6?E H9@D6 8F6DED :?4=F565 24E@CD r2E6 q=2?496EE 2?5 #@@?6J |2C2[ 5:C64E@CD #:5=6J $4@EE 2?5 %@> w@@A6C 2?5 7@C>6C sJ?2DEJ DE2C y@2? r@==:?D H2D A2CE @7 2 AFD9 E@ 3@@DE E96 :?E6C?2E:@?2= AC@7:=6 2?5 C6249 @7 E96 @C82?:K2E:@?[ 36DE <?@H? 7@C 92?5:?8 @FE E96 ~D42CD]k^Am kAmp? 2==\\H9:E6 C@DE6C @7 24E:?8 ?@>:?66D 2E E96 a_`d p4256>J pH2C5D :?DA:C65 E96 92D9E28 R~D42CD$@(9:E6 @? D@4:2= >65:2 2?5 :?4C62D65 D4CFE:?J @7 E96 =24< @7 5:G6CD:EJ :? E96 C2?<D @7 E96 @C82?:K2E:@?[ H9@D6 f[___ >6>36CD 2C6 =2C86=J H9:E6 2?5 >2=6]k^Am kAmx? yF?6 E96 24256>J 2??@F?465 baa ?6H >6>36CD[ :?4=F5:?8 24E@CD q6?65:4E rF>36C32E49 2?5 s2G:5 ~J6=@H@[ >FD:4:2?D r@>>@? 2?5 y@9? {686?5 2?5 24EC6DD vF8F |32E92\\#2H]k^Am kAmq@@?6 xD224D[ E96 7:CDE p7C:42?\\p>6C:42? H@>2? E@ 9625 E96 24256>J[ 42==65 :E 2 >@C6 5:G6CD6 2?5 :?4=FD:G6 =:DE E92? 6G6C 367@C6]k^Am kAmp4256>J 49:67 6I64FE:G6 s2H? wF5D@? D2:5 (65?6D52J E92E E96 :?G:E2E:@?\\@?=J 24256>J H2D FC8:?8 2== :ED 3C2?496D E@ =@@<>@C6 H:56=J 7@C A@E6?E:2= ?6H >6>36CD]k^Am kAm&]$] 2>32DD25@C |2EE96H q2CKF? AC2:D65 EC2?D\\pE=2?E:4 4@@A6C2E:@? 2E E96 C646AE:@?[ H96C6 8F6DED H6C6 D6CG65 42?2A6D[ 492>A28?6 2?5 3@FC3@?\\32D65 r2CJ vC2?E 4@4<E2:=D 2>:5 E96 492?56=:6CD 2?5 @C?2E6 r9:?6D6 H2==A2A6C @7 E96 C6D:56?46 D v2C56? #@@>]k^Am kAm%96 4@4<E2:= 49@:46 H2D 2AE] q2CKF? C64@F?E65 9@H qC:E:D9\\3@C? w@==JH@@5 DE2C vC2?E A6CDF2565 9:D H:76[ (@@=H@CE9D 96:C6DD q2C32C2 wFEE@?[ E@ D6== 96C {@?5@? 9@>6 E@ E96 &]$] 8@G6C?>6?E 7@C S` 27E6C (@C=5 (2C xx] (:?7:6=5 w@FD6[ D6E 2>:5 `a 24C6D Wd 964E2C6DX @7 8C@F?5D :? #686?E D !2C<[ 92D 366? E96 p>6C:42? 2>32DD25@C D C6D:56?46 D:?46 E96 `hd_D]k^Am kAm%96 24256>J D 7@C2JD 36J@?5 {@D p?86=6D 2?5 }6H *@C< H:E9 E96 {@?5@? C646AE:@? 2?5 2 !2C:D 82E96C:?8 =2E6C E9:D H66<...   \n",
       "\n",
       "           Category  Text_TotalWords  \n",
       "1101  entertainment              773  \n",
       "1102  entertainment              746  \n",
       "1733  entertainment              472  \n",
       "2079  entertainment              423  \n",
       "2235  entertainment              429  "
      ],
      "text/html": "<div>\n<style scoped>\n    .dataframe tbody tr th:only-of-type {\n        vertical-align: middle;\n    }\n\n    .dataframe tbody tr th {\n        vertical-align: top;\n    }\n\n    .dataframe thead th {\n        text-align: right;\n    }\n</style>\n<table border=\"1\" class=\"dataframe\">\n  <thead>\n    <tr style=\"text-align: right;\">\n      <th></th>\n      <th>Title</th>\n      <th>Text</th>\n      <th>Category</th>\n      <th>Text_TotalWords</th>\n    </tr>\n  </thead>\n  <tbody>\n    <tr>\n      <td>1101</td>\n      <td>Broadway's Cirque du Soleil show will star Ruby Lewis</td>\n      <td>Ryan Miller Broadway's Cirque du Soleil show will star Ruby Lewis FILE - In this July 16, 2014 file photo, Ruby Lewis poses during the party for the opening night performance of Queen and Ben Elton's \"We Will Rock You\" at the Center Theatre Group/Ahmanson Theatre in Los Angeles. Lewis, a native of Tennessee, will make her Broadway debut this spring in Paramour with a 38-member company that will build a show about a love triangle with some eye-popping acrobatics. (Photo by Ryan Miller/Invision/AP, File) Posted: Friday, October 23, 2015 9:07 am | Updated: 12:01 pm, Fri Oct 23, 2015. Broadway's Cirque du Soleil show will star Ruby Lewis Associated Press | NEW YORK (AP) Cirque du Soleil has revealed one of the female leads of its first production created specifically for Broadway and, appropriately, she's a self-described \"thrill-seeker\" who lists among her skills skydiving, improv and tae kwon do. Ruby Lewis, a native of Kentucky, will make her Broadway debut this spring in \"Paramour\" with a 38-member company that will build a show about a love triangle with some eye-popping acrobatics. Subscription Required An online service is needed to view this article in its entirety. You need an online service to view this article in its entirety. Have an online subscription? Need an account? Create one now. Choose an online service. You must login to view the full content on this page. Screen Name or Email Need an account? Create one now. kAm{6H:D D2:5 D96 :D 4FCC6?E=J G:D:E:?8 H:E9 7C:6?5D 2?5 72&gt;:=J Q367@C6 &gt;J H9@=6 =:76 E2&lt;6D @77 2E d_ &gt;A9]Q $96 8C6H FA 2 52?46C 2?5 92D 2=H2JD 366? :?EC:8F65 3J 26C:2= 2CE:DED 2?5 8J&gt;?2DED]k^Am kAmQq2=2?4:?8 2?5 DEC6?8E9 2?5 8C246[ 2== 4@&gt;3:?65 :?E@ @?6[ :D D@ 5:G:?6 E@ H2E49 D@ :7 x 42? 9@?6 :? @? E9@D6 D&lt;:==D 2?5 7=J 2C@F?5[ xV== 36 2 92AAJ =25J[Q D96 D2:5] Q(92E6G6C D&lt;:==D x 92G6[ xV&gt; C625J E@ E9C@H E96&gt; :? E96 C:?8] %92EVD H92EVD 8@:?8 E@ 36 D@ 7F? 23@FE :Ei (6VC6 ;FDE 8@:?8 E@ A=2J]Qk^Am kAm!C6G:6HD 7@C Q!2C2&gt;@FCQ H:== 368:? pAC:= `e ...</td>\n      <td>entertainment</td>\n      <td>773</td>\n    </tr>\n    <tr>\n      <td>1102</td>\n      <td>Review: A vibrant Mulligan brings historic struggle to life</td>\n      <td>Need an account? Create one now. kAm|F==:82?[ =:&lt;6 $EC66A[ :D D:&gt;A=J 2 &gt;6D&gt;6C:K:?8 24EC6DD[ @?6 H9@ 42? &gt;2&lt;6 6G6? A656DEC:2? &gt;2E6C:2= D:?8 H:E9 E96 9@?6DEJ[ D@A9:DE:42E:@? 2?5 ?F2?46 D96 3C:?8D E@ 6G6CJ C@=6[ @? D4C66? @C DE286 W4@F?E J@FCD6=7 6E6C?2==J =F4&lt;J :7 J@F 42F89E 96C C646?E qC@25H2J CF? :? Q$&lt;J=:89E]QX x? Q$F77C286EE6[Q H9:49 H:E9@FE 96C H@F=5 36 2 72C[ 72C =6DD 4@&gt;A6==:?8 &gt;@G:6[ D96 5@6D?VE &gt;6C6=J 6?E6CE2:? FD H:E9 96C D&lt;:==] $96 3C:?8D E@ G:3C2?E =:76 2? :&gt;A@CE2?E A2CE @7 @FC 8=@32= 9:DE@CJ E92EVD 62DJ E@ 7@C86E E96 DECF88=6 7@C 2 H@&gt;2?VD C:89E E@ G@E6]k^Am kAm%96 DE@CJ @7 E96 QDF77C286EE6DQ :? 62C=J a_E9 46?EFCJ qC:E2:? &gt;2J 3C:?8 E@ &gt;:?5 E96 ;@J@FD=J 5277J |CD] q2?&lt;D D:?8:?8 Q$:DE6C $F77C286EE6Q :? Q|2CJ !@AA:?D]Q qFE 6G6? E9@F89 E92E 492C24E6C DA@&lt;6 ;@G:2==J @7 H@&gt;6? 492:?:?8 E96&gt;D6=G6D E@ H966=D @C 36:?8 42CC:65 @77 E@ AC:D@?[ Q$F77C286EE6Q C6&gt;:?5D FD E92E E96 7:89E :?G@=G65 G:@=6?46[ 9F?86C DEC:&lt;6D[ 3@&gt;3:?8D[ 362E:?8D[ 6G6? 562E9]k^Am kAm%9@F89 E96 &gt;@G:6[ 5:C64E65 3J $2C29 v2GC@?[ :?4=F56D C62=\\=:76 492C24E6CD =:&lt;6 t&gt;&gt;6=:?6 !2?&lt;9FCDE W$EC66AX 2?5 t&gt;:=J (:=5:?8 s2G:D@? W}2E2=:6 !C6DDX[ H9@ 3@E9 92G6 E:?J 3FE 4CF4:2= C@=6D[ :ED &gt;2:? 492C24E6C :D 2? 2&gt;2=82&gt;] |2F5 (2EED W|F==:82?X :D 2 ac\\J62C\\@=5 &gt;@E96C H9@ DA6?5D 96C 52JD H@C&lt;:?8 :? E96 D2&gt;6 76E:5 =2F?5CJ 2H7F= 496&gt;:42=D[ 3CFE2= 9@FCD[ D6IF2= 23FD6 7C@&gt; E96 3@DD H96C6 96C @H? &gt;@E96C =23@C65]k^Am kAmp=&gt;@DE 244:56?E2==J[ |2F5 72==D :? H:E9 2 8C@FA @7 H@&gt;6? 24E:G:DED H9@D6 7:89E 7@C E96 G@E6 :D 82:?:?8 DE62&gt; 2?5 56DA6C2E:@?] p 76==@H =2F?5CJ H@C&lt;6C :D 5F6 E@ E6DE:7J 367@C6 2 8@G6C?&gt;6?E 4@&gt;&gt;:EE66 @? E96 :DDF6[ 3FE 2 362E:?8 92D =67E 96C F?23=6 E@ 2AA62C[ 2?5 |2F5 :D 5C27E65] WQpC6 J@F 2 DF77C286EE6 ?@HnQ 96C 9FD32?5 2D&lt;D[ DFDA:4:@FD=J]X w6C D:&gt;A=6[ 962CE76=E 2?DH6CD &gt;@G6 E96 &gt;2=6 =2H&gt;2&lt;6CD[ 3FE E96 &gt;62DFC6 72:=D] (96? E92E 56762E :D 2??@F?465 AF3=:4=J[ :E =625D E@ 2 &gt;6=66 :? H9:49 H@&gt;6? 2C6 362E6? 3J A@=:46 2?5 5C28865 E@ AC:D@?[ |2F5 2&gt;@?8 E96&gt;]k^Am kAmw6C 7FC:@FD 9FD32?5 Wq6? (9:D92HX :?D:DED E92E |2...</td>\n      <td>entertainment</td>\n      <td>746</td>\n    </tr>\n    <tr>\n      <td>1733</td>\n      <td>JK Rowling play to feature adult Harry Potter, son Albus</td>\n      <td>Joel Ryan JK Rowling play to feature adult Harry Potter, son Albus FILE - In this July 7, 2011 file photo, British author JK Rowling arrives in Trafalgar Square, in central London, for the World Premiere of \"Harry Potter and The Deathly Hallows: Part 2,\" the last film in the series. Producers announced Friday, Oct. 23, 2015 that \"Harry Potter and the Cursed Child\" will center on an adult Harry and his son Albus Severus. The two-part stage saga begins where Rowling's books ended 19 years after the boy wizard's epic battle with evil Lord Voldemort. (AP Photo/Joel Ryan, File) Posted: Friday, October 23, 2015 9:44 am | Updated: 12:01 pm, Fri Oct 23, 2015. JK Rowling play to feature adult Harry Potter, son Albus Associated Press | LONDON (AP) The secret is out the first-ever Harry Potter play will be a magical sequel. Producers announced Friday that \"Harry Potter and the Cursed Child\" will center on an adult Harry and his son Albus Severus. The two-part stage saga begins where Rowling's books ended 19 years after the boy wizard's epic battle with evil Lord Voldemort. Subscription Required An online service is needed to view this article in its entirety. You need an online service to view this article in its entirety. Have an online subscription? Need an account? Create one now. Choose an online service. You must login to view the full content on this page. Screen Name or Email DJ?@AD:D D2JD w2CCJ :D ?@H 2? @G6CH@C&lt;65 4:G:= D6CG2?E :? E96 |:?:DECJ @7 |28:4[ H9:=6 9:D J@F?86DE D@? :D DECF88=:?8 QH:E9 E96 H6:89E @7 2 72&gt;:=J =6824J 96 ?6G6C H2?E65]Qk^Am kAm%96 A=2J H:== CF? :? EH@ A2CED[ :?E6?565 E@ 36 D66? 6:E96C @? E96 D2&gt;6 52J @C @? 4@?D64FE:G6 52JD] xE AC6G:6HD 7C@&gt; yF?6 f 2?5 @A6?D yF=J b_ 2E {@?5@?VD !2=246 %962EC6]k^Am kAm%96 7:CDE A=2J 23@FE E96 36DA64E24=65 H:K2C5 :D 32D65 @? 2 ?6H DE@CJ 3J #@H=:?8[ y24&lt; %9@C?6 2?5 y@9? %:772?J]k^Am kAm%96 D4C:AE :D 3J %9@C?6[ 2 DE286 2?5 D4C66? HC:E6C H9@D6 H@C&lt; :?4=F56D G2&gt;A:C6 DE@CJ Q{6E E96 #:89E ~?6 x?]Q %96 5:C64E@C :D %:7...</td>\n      <td>entertainment</td>\n      <td>472</td>\n    </tr>\n    <tr>\n      <td>2079</td>\n      <td>CBS drama 'Code Black' welcomes cast from 'The Lion King'</td>\n      <td>Monty Brinton CBS drama 'Code Black' welcomes cast from 'The Lion King' In this image released by CBS, Marcia Gay Harden, from left, Melanie Chandra and Alton Fitzgerald White appear in a scene from the series \"Code Black.\" scheduled to air on Nov. 25, 2015 on CBS. White, who has played the role of Mufasa in The Lion King over 4000 times, guest stars. (Monty Brinton/CBS via AP) Posted: Thursday, October 22, 2015 4:25 pm CBS drama 'Code Black' welcomes cast from 'The Lion King' Associated Press | NEW YORK (AP) The overcrowded and stressful emergency room at CBS' \"Code Black\" will soon receive a special patient from \"The Lion King.\" The network and Disney Theatrical Productions said Thursday that Alton Fitzgerald White, who has played the role of Mufasa in the musical over 4,000 times, will appear on the Nov. 25 episode of the medical drama starring Marcia Gay Harden. Subscription Required An online service is needed to view this article in its entirety. You need an online service to view this article in its entirety. Have an online subscription? Haven t signed up for All Access yet? Get started here Screen Name or Email Remember me on this computer Login Need more information about All Access? Get all of the details here . Choose an online service. You must login to view the full content on this page. Haven t signed up for All Access yet? Get started here Screen Name or Email Remember me on this computer Login Need an account? Create one now. Need more information about All Access? Get all of the details here . kAm(9:E6 H:== A=2J 2 42DE &gt;6&gt;36C @7 E96 E@FC:?8 &gt;FD:42= H9@ 2CC:G6D 2E E96 9@DA:E2= H:E9 2 E9C@2E :?764E:@?] u6==@H 42DE &gt;6&gt;36CD 82E96C 3J 9:D 365D:56 2?5 96=A @E96C A2E:6?ED 7:?5 A6246]k^Am kAm$9@H CF??6C |:4926= $6:EK&gt;2? AC@&gt;:D6D 2? 6A:D@56 E92E Q8:G6D J@F 49:==D]Q w6 D2:5 42DE 2?5 4C6H @7 E96 %' D9@H H6C6 D@33:?8 @?D6E 2D E96 AC@76DD:@?2= D:?86CD D2?8 Qw6 {:G6D :? *@F]Qk^Am kAm000k^Am kAm~?=:?6i k2 9C67lQ9EEAi^^HHH]43D]4@&gt;^D9@HD^4@56\\3=24&lt;Qm9EEAi^^HHH]4...</td>\n      <td>entertainment</td>\n      <td>423</td>\n    </tr>\n    <tr>\n      <td>2235</td>\n      <td>Screen Scene: Academy chief says diversity issues in films have sparked a global dialogue</td>\n      <td>Need an account? Create one now. kAm xE :D ?@H 2 8=@32= 5:D4FDD:@?[ 2?5 E92E D C62==J :&gt;A@CE2?E[ D96 D2:5 5FC:?8 2 C646AE:@? 2E E96 &amp;]$] 2&gt;32DD25@C D {@?5@? C6D:56?46 7@C ?6H tFC@A62? &gt;6&gt;36CD @7 E96 p4256&gt;J @7 |@E:@? !:4EFC6 pCED 2?5 $4:6?46D]k^Am kAm(65?6D52J D 6G6?E H9@D6 8F6DED :?4=F565 24E@CD r2E6 q=2?496EE 2?5 #@@?6J |2C2[ 5:C64E@CD #:5=6J $4@EE 2?5 %@&gt; w@@A6C 2?5 7@C&gt;6C sJ?2DEJ DE2C y@2? r@==:?D H2D A2CE @7 2 AFD9 E@ 3@@DE E96 :?E6C?2E:@?2= AC@7:=6 2?5 C6249 @7 E96 @C82?:K2E:@?[ 36DE &lt;?@H? 7@C 92?5:?8 @FE E96 ~D42CD]k^Am kAmp? 2==\\H9:E6 C@DE6C @7 24E:?8 ?@&gt;:?66D 2E E96 a_`d p4256&gt;J pH2C5D :?DA:C65 E96 92D9E28 R~D42CD$@(9:E6 @? D@4:2= &gt;65:2 2?5 :?4C62D65 D4CFE:?J @7 E96 =24&lt; @7 5:G6CD:EJ :? E96 C2?&lt;D @7 E96 @C82?:K2E:@?[ H9@D6 f[___ &gt;6&gt;36CD 2C6 =2C86=J H9:E6 2?5 &gt;2=6]k^Am kAmx? yF?6 E96 24256&gt;J 2??@F?465 baa ?6H &gt;6&gt;36CD[ :?4=F5:?8 24E@CD q6?65:4E rF&gt;36C32E49 2?5 s2G:5 ~J6=@H@[ &gt;FD:4:2?D r@&gt;&gt;@? 2?5 y@9? {686?5 2?5 24EC6DD vF8F |32E92\\#2H]k^Am kAmq@@?6 xD224D[ E96 7:CDE p7C:42?\\p&gt;6C:42? H@&gt;2? E@ 9625 E96 24256&gt;J[ 42==65 :E 2 &gt;@C6 5:G6CD6 2?5 :?4=FD:G6 =:DE E92? 6G6C 367@C6]k^Am kAmp4256&gt;J 49:67 6I64FE:G6 s2H? wF5D@? D2:5 (65?6D52J E92E E96 :?G:E2E:@?\\@?=J 24256&gt;J H2D FC8:?8 2== :ED 3C2?496D E@ =@@&lt;&gt;@C6 H:56=J 7@C A@E6?E:2= ?6H &gt;6&gt;36CD]k^Am kAm&amp;]$] 2&gt;32DD25@C |2EE96H q2CKF? AC2:D65 EC2?D\\pE=2?E:4 4@@A6C2E:@? 2E E96 C646AE:@?[ H96C6 8F6DED H6C6 D6CG65 42?2A6D[ 492&gt;A28?6 2?5 3@FC3@?\\32D65 r2CJ vC2?E 4@4&lt;E2:=D 2&gt;:5 E96 492?56=:6CD 2?5 @C?2E6 r9:?6D6 H2==A2A6C @7 E96 C6D:56?46 D v2C56? #@@&gt;]k^Am kAm%96 4@4&lt;E2:= 49@:46 H2D 2AE] q2CKF? C64@F?E65 9@H qC:E:D9\\3@C? w@==JH@@5 DE2C vC2?E A6CDF2565 9:D H:76[ (@@=H@CE9D 96:C6DD q2C32C2 wFEE@?[ E@ D6== 96C {@?5@? 9@&gt;6 E@ E96 &amp;]$] 8@G6C?&gt;6?E 7@C S` 27E6C (@C=5 (2C xx] (:?7:6=5 w@FD6[ D6E 2&gt;:5 `a 24C6D Wd 964E2C6DX @7 8C@F?5D :? #686?E D !2C&lt;[ 92D 366? E96 p&gt;6C:42? 2&gt;32DD25@C D C6D:56?46 D:?46 E96 `hd_D]k^Am kAm%96 24256&gt;J D 7@C2JD 36J@?5 {@D p?86=6D 2?5 }6H *@C&lt; H:E9 E96 {@?5@? C646AE:@? 2?5 2 !2C:D 82E96C:?8 =2E6C E9:D H66&lt;...</td>\n      <td>entertainment</td>\n      <td>429</td>\n    </tr>\n  </tbody>\n</table>\n</div>"
     },
     "metadata": {},
     "execution_count": 49
    }
   ],
   "source": [
    "df_all_news_processed[df_all_news_processed['Text'].str.contains(\"Need an account?\")].head(5)"
   ]
  },
  {
   "source": [
    "Regex to use: <code>Subscription Required An online service.*</code>"
   ],
   "cell_type": "markdown",
   "metadata": {}
  },
  {
   "cell_type": "code",
   "execution_count": null,
   "metadata": {},
   "outputs": [],
   "source": [
    "#todo : stopped here"
   ]
  },
  {
   "source": [
    "Let's rerun the n-grams and see what is left"
   ],
   "cell_type": "markdown",
   "metadata": {}
  },
  {
   "cell_type": "code",
   "execution_count": 7,
   "metadata": {},
   "outputs": [],
   "source": [
    "df_all_news_processed = Cleaner.remove_most_noisy_words(df_all_news_processed)\n",
    "articles_split_by_word = NLP.tokenization(df_all_news_processed)"
   ]
  },
  {
   "cell_type": "code",
   "execution_count": 15,
   "metadata": {},
   "outputs": [
    {
     "output_type": "stream",
     "name": "stdout",
     "text": [
      "Process completed.\nTime taken: 1mins 40secs\n"
     ]
    },
    {
     "output_type": "execute_result",
     "data": {
      "text/plain": [
       "[('     ', 21418),\n",
       " ('Tip : Use comma (,) to', 3388),\n",
       " ('  Thank you for registering!', 3316),\n",
       " ('Ads with Photos only: Note: By', 1811),\n",
       " ('  Company News - Today', 1436),\n",
       " ('chart data and daily updates provided', 979),\n",
       " ('  World news - Today', 764),\n",
       " ('Article extract not available. Link to', 632),\n",
       " ('Need an account? Create one now.', 481),\n",
       " ('Return to video Video settings Please', 458),\n",
       " ('Noah Consulting being acquired by Infosys', 306),\n",
       " ('Make Your Passion Your Career. Work', 271),\n",
       " (\"Don't have an account? Sign up\", 252),\n",
       " ('Local Real Estate Cars For Sale', 243),\n",
       " ('Elemental Technologies being acquired by Amazon', 241),\n",
       " ('TelegraphSportPage Follow @telefootball Telegraph Fantasy Football', 240),\n",
       " ('  US News - Today', 232),\n",
       " ('CONNECT TWEET LINKEDIN COMMENT EMAIL MORE', 229),\n",
       " ('Health Tip of the Day Sign', 215),\n",
       " ('  Today The latest on', 208),\n",
       " ('By Kyle Newport, Bleacher Report Posted', 208),\n",
       " ('In order to deliver a personalized,', 205),\n",
       " ('relevant securities of the offeror or', 204),\n",
       " ('  Business - Today (Reuters)', 204),\n",
       " ('SUBSCRIBE FOLLOW US 2015 Cox Media', 195),\n",
       " ('Information contained on this page is', 189),\n",
       " ('Only registered TrekEarth members may write', 187),\n",
       " ('GRAEME SMITH / / World News', 170),\n",
       " ('SPECIAL OFFER FOR NEW READERS 99', 168),\n",
       " ('1 CONNECT TWEET LINKEDIN COMMENT EMAIL', 159),\n",
       " ('Students loan re-financier SoFi successfully raises', 153),\n",
       " ('stock that TheStreet Ratings rated a', 148),\n",
       " ('  Today NEW YORK (AP)', 148),\n",
       " (' * * A version of', 148),\n",
       " ('Russian Nuclear Official Pleads Guilty To', 146),\n",
       " ('during the first half of an', 143),\n",
       " ('telegraph.co.uk Follow @telegraph The Telegraph Investor', 143),\n",
       " ('By Dan Carson, Bleacher Report Posted', 135),\n",
       " ('Sri Lanka may restrict visitors to', 133),\n",
       " ('1 of 3 | License Photo', 132),\n",
       " ('video Return to video Video settings', 131),\n",
       " ('By Thomas Duffy, Bleacher Report Posted', 130),\n",
       " ('  Today The latest developments', 128),\n",
       " ('Advertisement Continue reading the main story', 123),\n",
       " (' * * Recommended Related Articles', 123),\n",
       " ('Want the latest recommendations from Zacks', 121),\n",
       " ('to view this article in its', 120),\n",
       " ('Privacy Policy | More Newsletters AP', 119),\n",
       " (' press.com: Ft. Myers - Today', 116),\n",
       " ('Wednesday entered into a definitive agreement', 112),\n",
       " ('  Today Live Football Streams', 108),\n",
       " ('X Zawya Comment Policy Zawya encourages', 106),\n",
       " (' Celebrities at Mets playoff games', 103),\n",
       " (\"It's a good news, bad news\", 103),\n",
       " ('Registration on or use of this', 102),\n",
       " ('  Today Share This Video', 102),\n",
       " ('View Larger FILE - In this', 101),\n",
       " ('Thanks for sharing About.com with others!', 101),\n",
       " ('Concept tagging by the AlchemyAPI About', 100),\n",
       " ('You have successfully emailed the post.', 98),\n",
       " ('  Today The latest news', 98),\n",
       " ('How much do you know about', 98),\n",
       " ('By DAVE SKRETTA AP Sports Writer', 98),\n",
       " ('Khloe Kardashian has finally broken her', 95),\n",
       " ('  Politics - Today WASHINGTON', 94),\n",
       " ('> Top News AP PHOTOS: The', 94),\n",
       " (\"Actress Maureen O'Hara died Saturday at\", 92),\n",
       " ('We want you to tell us', 91),\n",
       " ('Donald Trump will bring his notorious', 89),\n",
       " (\"you've reached a subscriber-only article. Take\", 89),\n",
       " ('Follow @telegraph The Telegraph Investor Transfer', 88),\n",
       " ('By Jack Sommer, Business Insider Posted', 88),\n",
       " ('  Today A look at', 86),\n",
       " ('half of an NFL football game', 85),\n",
       " ('By Cindy Boren, The Washington Post', 83),\n",
       " ('  Today One of the', 82),\n",
       " ('Coral Pink Sand Dunes State Park', 81),\n",
       " ('ABC Family has pulled the plug', 80),\n",
       " ('ManchesterUnitedTelegraph Follow @telefootball Telegraph Fantasy Football',\n",
       "  80),\n",
       " ('Click here for information and nomination', 79),\n",
       " ('talks to correspondent Tracy Smith about', 78),\n",
       " ('For latest Hollywood updates follow us', 78),\n",
       " (' Journal: Sports - Today Kentucky', 78),\n",
       " ('at the Jack Nicklaus Golf Club', 78),\n",
       " ('By GARY B. GRAVES, The Associated', 78),\n",
       " (\"A look at what's happening around\", 77),\n",
       " ('Some say love... is Amy Poehler', 76),\n",
       " ('Facebook Twitter Pinterest Share Share this', 75),\n",
       " ('The Canadian Press - ONLINE EDITION', 74),\n",
       " ('Submitted by admin on 9/29/2015 @', 74),\n",
       " ('Submitted by admin on 9/3/2015 @', 73),\n",
       " ('By Lindsey Bever, The Washington Post', 73),\n",
       " ('Dance Moms star Abby Lee Miller', 72),\n",
       " ('Undateable is doubling down on its', 72),\n",
       " ('By Matt Fitzgerald, Bleacher Report Posted', 72),\n",
       " ('You are here: News Home World', 72),\n",
       " ('By Todd Dewey, The Las Vegas', 69),\n",
       " ('1 of 5 | License Photo', 68),\n",
       " ('Moneylife Magazine issues launched during the', 68),\n",
       " (' Journal: Sports - Today The', 68)]"
      ]
     },
     "metadata": {},
     "execution_count": 15
    }
   ],
   "source": [
    "########## N-GRAMS ###########\n",
    "t1 = time.time()\n",
    "n = 6 #Specify number for N-Grams\n",
    "occurrences = EDA.find_most_common_n_grams(articles_split_by_word, n)\n",
    "EDA.process_time(round(time.time()-t1))\n",
    "sorted(occurrences.items(), key=lambda x: x[1], reverse=True)[:100]"
   ]
  },
  {
   "cell_type": "code",
   "execution_count": null,
   "metadata": {},
   "outputs": [],
   "source": []
  },
  {
   "cell_type": "code",
   "execution_count": 56,
   "metadata": {},
   "outputs": [
    {
     "output_type": "execute_result",
     "data": {
      "text/plain": [
       "                                                                                                      Title  \\\n",
       "757                          The Dressmaker author Rosalie Ham's surreal moment as her book becomes a movie   \n",
       "1068                             X Factor Australia: Guy Sebastian feuds with eliminated singer Jimmy Davis   \n",
       "1775                     The Bachelorette Sam Frost tipped to join Rove as co-host of 2DayFM breakfast show   \n",
       "1906                        Jeremy Clarkson, Richard Hammond, James May share first look at new Amazon show   \n",
       "2232                         The Verdict is in: Karl Stefanovic controversial new show tanks in the ratings   \n",
       "...                                                                                                     ...   \n",
       "493143                                                             Treasury's US wine swoop looks promising   \n",
       "493144  It's either aliens or a swarm of comets: scientists baffled by WTF 001, our galaxy's strangest star   \n",
       "493161             Education Minister Simon Birmingham vows to develop uni reforms that can pass Parliament   \n",
       "493230                        Royal Australasian College of Surgeons 'ignored sexual harassment complaints'   \n",
       "493428                                        AFL grand final 2015: Hawthorn drop Billy Hartung for decider   \n",
       "\n",
       "                                                                                                                                                                                                                                                                                                                                                                                                                                                                                                                                                                                                                                                                                                                                                                                                                                                                                                                                                                                                                                                                                                                                                                                                                                                                                                                                                                                                                                                                                                                                                                                                                                                                                                                                                                                                                                                                                                                                                                                                                                                                                   Text  \\\n",
       "757     Click to play video Return to video Video settings Please Log in to update your video settings Video will begin in 5 seconds. Don't play Play now More video Recommended Replay video Return to video Video settings Please Log in to update your video settings Trailer: The Dressmaker Small town girl, Tilly (Kate Winslet) returns from international adventures to reconcile with her mother and set chins wagging. PT2M11S http://www.canberratimes.com.au/action/externalEmbeddedPlayer?id=d-405po 620 349 July 30, 2015 Autoplay On Off Video feedback Video settings Sarah Snook in The Dressmaker We were on the penultimate hole of our Friday morning golf game when Sue Maslin told me Kate Winslet would play the lead role in the film adaption of my first novel, The Dressmaker . Sue and I went to school together and I knew her as a tenacious, and somewhat formidable, golf partner and a very fine film producer. Rosalie Ham: \"Film is another medium so it can't be my novel but what I intended has been made to work for film.\" Photo: Supplied She's brought us Japanese Story and Road to Nhill and was working hard producing The Dressmaker; Jocelyn Moorhouse had written the adaptation and would direct, and there was interest from investors and filmmakers locally and internationally. Advertisement But, Kate Winslet? It was a task to focus on the small white ball and the final fairway, but there were more surreal experiences ahead. The first was sitting in the extras tent for hair and makeup and seeing myself reflected as my mother in 1950. The town of Dungatar, as created in The Dressmaker . Photo: Supplied Then there was the friends and family (mostly farmers and nurses) as extras 'acting' in crowd scenes behind Shane Jacobson, Gyton Grantley, Sarah Snook and Sacha Horler. My brother looked just like my father in 1950. Then I stepped off a bus into Dungatar, the town I created in the novel, and shook hands with Mad Molly (Judy Davis) and Muriel Pratt (Rebecca Gibney). A new edition of Ros...   \n",
       "1068    Click to play video Return to video Video settings Please Log in to update your video settings Video will begin in 5 seconds. Don't play Play now More video Recommended Replay video Return to video Video settings Please Log in to update your video settings X Factor judges lock horns James Blunt, Chris Isaak and Guy Sebastian express their disappointment in Dannii Minogue's song choice for her contestant, Georgia. X Factor airs Mondays and Tuesdays, 7:30pm on Channel Seven. PT2M4S http://www.canberratimes.com.au/action/externalEmbeddedPlayer?id=d-44fmm 620 349 October 13, 2015 Autoplay On Off Video feedback Video settings X Factor Australia judges attack Dannii Minogue Backlash after mother and daughter finalists erased Guy Sebastian has fired a scathing salvo of tweets at ousted X Factor contestant Jimmy Davis after the singer called the competition a \"game show\" and blamed poor song choices for his elimination. The X Factor judge called Davis's comments a \"huge slap in the face\" and \"incredibly disappointing\", and accused Davis of being ungrateful after being given exposure and flown around the world. Eliminated X Factor contestant Jimmy Davis said the show would have given him \"a total breakdown\". Photo: Channel Seven In an interview with News Corp Australia, the 21-year-old said being on the show brought up 'contradicting emotions with his soul' and that he didn't know how far he could have gone in the competition \"without having a total breakdown\". Advertisement \"I sing my own songs. Having a show based off covers, they kept saying they need to see it through my eyes and if I was singing my own songs, you'd really see me connecting, that's when you'd see my true artistry,\" he said. After reading the comments, a fired-up Sebastian attacked Davis - an apprentice of Chris Isaak's - for being ungrateful and said his own songs weren't good enough to get him through the show. The X-Factor 2015 judges. Photo: Supplied \"How incredibly disappointing. After all the ti...   \n",
       "1775    Click to play video Return to video Video settings Please Log in to update your video settings Video will begin in 5 seconds. Don't play Play now More video Recommended Replay video Return to video Video settings Please Log in to update your video settings Bachelorette Sam Frost chooses Sasha Sam Frost reveals she has finally found love after picking builder Sasha Mielczarek. PT0M42S http://www.canberratimes.com.au/action/externalEmbeddedPlayer?id=d-4508a 620 349 October 22, 2015 Autoplay On Off Video feedback Video settings She's apparently just found the love of her life on The Bachelorette , but Sam Frost is about to undertake what ranks as one of the great passion killers: waking up at ungodly hours to work on breakfast radio. Strong rumours circulating the Sydney radio market indicate that Frost will join Rove McManus as co-host of the embattled FM radio station 2DayFM's ailing breakfast show following the ousting of previous breakfast hosts Maz Compton and Dan Debuf. However verifying the rumours with 2DayFM owners, Southern Cross Austereo, has proven difficult as the network's head publicist, Heidi Virtue, has left the media company just five weeks after starting in the gig. Another spokesperson for the network declined to comment on whether Frost will be joining McManus in the studio. New lovers Sam Frost and Sasha Mielczarek after The Bachelorette finale last week. Photo: Instagram PS understands McManus, who is being paid a reported $350,000 worth of shares every six months for the duration of his three year contract, will launch the new show on Sydney airwaves next Monday with Frost by his side. Advertisement The move is the latest attempt by 2DayFM to regain the FM breakfast ratings crown in Sydney which was ripped away when its former star personalities, Kyle Sandilands and Jackie O, were poached by rival KIISFM, taking their huge audience and advertising revenue with them. Since then the station has experimented with a long line of personalities, i...   \n",
       "1906    Click to play video Return to video Video settings Please Log in to update your video settings Video will begin in 5 seconds. Don't play Play now More video Recommended Replay video Return to video Video settings Please Log in to update your video settings Margot Robbie's Top Gear close call In the original version of the UK show, Australian star Margot Robbie almost collided with a camera operator while driving a hatchback. PT0M55S http://www.canberratimes.com.au/action/externalEmbeddedPlayer?id=d-3qdlt 620 349 February 17, 2015 Autoplay On Off Video feedback Video settings Amazon pays big bucks for Jeremy Clarkson Richard Hammond says end Top Gear 'broke my heart' After a tumultuous six months, former Top Gear hosts Jeremy Clarkson, James May and Richard Hammond are back bigger and better than ever before. The trio returned to work on the set of their new Amazon Prime show this week, in a deal rumoured to be worth $338 million which also secured former Top Gear executive producer Andy Wilman. The Top Gear gang are back together again. Photo: Twitter Clarkson was sacked by the BBC in March for assaulting a Top Gear Producer, with Clarkson and May refusing to return to work without him. Advertisement It looks like Amazon has spared no expense for the new motoring show, with Clarkson sharing a photo of the huge crew on Twitter on Thursday along with a wry caption taking aim at the BBC. \"With a skeleton crew, filming for Amazon Prime's new motoring show has begun,\" the 55-year-old wrote, posing with a Ferrari, Porsche and McLaren. Clarkson, Hammond and May have hosted Top Gear since the late 1990s. Hammond shared the same photo, adding: \"The band is back together and it feels brilliant\". Clarkson boasted about the new Amazon deal in July and took no time in swiping the BBC, telling Daily Mail : 'I feel like I've climbed out of a bi-plane and into a spaceship.\" Great first day at work. I can't stop staring. pic.twitter.com/GtYVHaGmYR James May (@MrJamesMay) October...   \n",
       "2232    Click to play video Return to video Video settings Please Log in to update your video settings Video will begin in 5 seconds. Don't play Play now More video Recommended Replay video Return to video Video settings Please Log in to update your video settings The Verdict: Miranda Tapsell doesn't feel Australian The actress is candid about the difficulties she has faced growing up black in Australia on Channel Nine's The Verdict. PT0M30S http://www.canberratimes.com.au/action/externalEmbeddedPlayer?id=d-44l5a 620 349 October 16, 2015 - 8:04AM Autoplay On Off Video feedback Video settings What happens if Stefanovic's show is a bust? Mark Latham admits to having trolling on Twitter Despite much hype, a controversial line-up of panelists and a charismatic host, Nine's new talk show The Verdict has pulled only 9000 more viewers than an afternoon screening of The Bold and the Beautiful in its second outing. This represents a significant drop in audience numbers from last week, when 522,000 people tuned in to the premiere. The Verdict panel and host Karl Stefanovic. The weekly program, modelled on a mixture of The Project and Q&A , promised fiery debate and a \"bumpy ride\" but in its second week was watched by fewer people than an episode of Grant Denyer's Family Feud . Advertisement In the capital cities, 369,000 Australians tuned in to watch The Verdict, narrowly beating Ten's soap The Bold and the Beautiful, which snagged 360,000 viewers. The abysmal result could spell the death knell for the show, which was reportedly given a five-episode run as the Nine Network trialled the new format. Karl Stefanovic on set of new show The Verdict. photo: supplied Photo: Supplied The Verdict finished in 24th spot on Thursday night, trailing programs like Gogglebox , The Project , The Chaser's Media Circus and Highway Patrol . As prime-time programs such as The X Factor pull in more than one million viewers a night, the new Nine show is a certifiable flop. The ratings will come as a h...   \n",
       "...                                                                                                                                                                                                                                                                                                                                                                                                                                                                                                                                                                                                                                                                                                                                                                                                                                                                                                                                                                                                                                                                                                                                                                                                                                                                                                                                                                                                                                                                                                                                                                                                                                                                                                                                                                                                                                                                                                                                                                                                                                                                                 ...   \n",
       "493143  Return to video Video settings Please Log in to update your video settings Video will begin in 5 seconds. Don't play Play now More video Recommended Mal Maiden: Beer giants merge Westpac increases home loan interest rates Global beer market shrinks Westpac raises home loan rates Westpac may lose customers with mortgage rate rise Replay video Return to video Video settings Please Log in to update your video settings Mal Maiden: Beer giants merge With one of the biggest brewery takeovers ever agreed to this week, Penfolds looking to expand in the US and Westpac leading the charge in raising rates, Mal Maiden examines a busy week in the markets. PT4M24S 620 349 Autoplay On Off Video feedback Video settings Treasury Wine eyes split after $754m Diageo wine buy Treasury Wine estates chief executive Mike Clarke was negotiating the purchase of the Diageo group's wine business for about a year, which tells you he would probably make a good poker player. Large parts of Diageo's wine portfolio were almost tailor-made for the business Clarke says he wants Treasury to become capital-light, and aimed at the high-profit luxury end of the wine market, and the higher-volume but still lucrative prestige or \"masstige\" market that sits beneath it. Illustration: John Shakespeare They are the parts of the global wine market where supply is tight and demand is growing, and for 18 months Clarke has been steering Treasury in the same direction, by selling the Penfolds range worldwide for example. (The new Penfolds vintage will be launched on Thursday in Shanghai). Diageo also owned the No.2 mass-market wine brand in Britain, Blossom Hill, and wanted to offload that, too. It is lower-margin business and not such a great fit for Treasury, but Clarke has bought it as well to get the deal done. The businesses Treasury is buying will still be generating about three-quarters of their earnings from luxury and masstige wine, and Blossom Hill bulks up Treasury's mass-market business, preparing i...   \n",
       "493144  Return to video Video settings Please Log in to update your video settings Video will begin in 5 seconds. Don't play Play now More video Recommended Former child soldier's message Iran airs footage of missiles in tunnels US intelligence knew Afghan site was hospital US troops to stay in Afghanistan Plane engine breaks apart at take-off Replay video Return to video Video settings Please Log in to update your video settings Is this an alien megastructure? Something is blotting out the light of a star and scientists are getting excited. Here's why. PT1M22S 620 349 Autoplay On Off Video feedback Video settings It has been called the most bizarre star in our galaxy and some think it just might be home to high-tech aliens. The unlikely suggestion that aliens live in this star system is being taken so seriously that a team of astrophysicists wants to train a radio telescope in its direction to determine if any signals could indicate advanced extraterrestrial life. Andrew Siemion, director of the Search for Extraterrestrial Intelligence at the University of California, Berkeley , told Fairfax Media the star had become SETI's candidate number one. One outlandish hypothesis suggests the star's light signal is caused by a Dyson sphere, an alien megastructure designed to capture solar energy. Photo: Artist's impression by CapnHack It is clear that something big is blocking light coming from the star between the Cygnus and Lyra constellations, but no-one really knows what it is. Advertisement \"Aliens should always be the very last hypothesis you consider,\" Penn State astrophysicist Jason Wright told The Atlantic . \"But this looked like something you would expect an alien civilisation to build.\" The light from the star is \"consistent with a swarm of megastructures\" around it, he said. KIC 8462852 has been informally renamed WTF 001. Photo: arXiv The star has the cumbersome name of KIC 8462852, but the research group that will look for \"unambiguous indicators\" of technology in...   \n",
       "493161  Return to video Video settings Please Log in to update your video settings Video will begin in 5 seconds. Don't play Play now More video Recommended What does a 4-year-old know about Australian politics? Explainer: is some Federal spending unlawful? Wind turbines worse than asbestos? United on jobs and growth University deregulation: Turnbull's first big change Replay video Return to video Video settings Please Log in to update your video settings Abbott: 'The last people that need to be nannied are our unis' Ex-PM Tony Abbott weighs in on the Turnbull government's uni reform announcement. PT1M38S 620 349 Autoplay On Off Video feedback Video settings Comment: Christopher Pyne never earned 'fixer' title but his flatmate might Education Minister Simon Birmingham has vowed to move quickly to develop a set of higher education policies that can pass Parliament, as he dropped the government's controversial plan to allow universities to set their own fees from next year. The decision to shelve one of the government's most controversial policies was immediately lamented by former prime minister Tony Abbott, who said he was disappointed his \"gutsy\" reforms had been delayed. Minister for Education Simon Birmingham. Photo: Andrew Meares Senator Birmingham announced on Thursday that he will not reintroduce the government's higher education bills into the Senate for another vote this year, meaning any changes would not come into force until 2017 at the earliest. The government has also put a proposed 20 per cent cut to university funding on ice. Advertisement Senator Birmingham said he would consult with universities, students, employers and the Senate crossbenchers before introducing any legislation. The government has included $17 billion in higher education savings in its budget projections for the next decade, meaning a full retreat from its reforms would further blow out the budget deficit. Senator Birmingham told Fairfax Media he hoped to resolve the government's highe...   \n",
       "493230  EXCLUSIVE Return to video Video settings Please Log in to update your video settings Video will begin in 5 seconds. Don't play Play now More video Recommended NRL Grand Final safety warning Police shooting in Parramatta What does a 4-year-old know about Australian politics? Who was the real Alice? We are not the USA Replay video Return to video Video settings Please Log in to update your video settings Letter alleges history of sexual harassment among surgeons A leaked letter written by Dr Gabrielle McMullin to the Royal Australian College of Surgeons reveals the body was aware of sexual harassment claims against senior surgeons seven years ago. PT2M18S 620 349 Autoplay On Off Video feedback Video settings Complaints that female trainees were being sexually harassed by senior surgeons corruptly wielding power over their careers have been ignored by the Royal Australasian College of Surgeons for seven years, a doctor says. Explosive leaked documents reveal Sydney surgeon Gabrielle McMullin told the college in 2008 that three female trainees had asked her advice on how to deal with senior surgeons asking for sexual favours. In two cases, corruption of training processes was alleged. \"In one case the surgeon has offered a place on a training scheme based on the granting of sexual services. In another case the surgeon has become very angry about the refusal of sexual services and consequently produced a report that questioned the ability of the trainee,\" Dr McMullin wrote in a letter to then president Ian Gough. Vascular surgeon Gabrielle McMullin. Dr McMullin said she told the trainees that granting sexual services was \"probably the safest way to play it in that there will be no 'fuss' \". However, she said she warned the women that \"men have very short memories following sex and are unlikely to follow through with promises of training positions\". Advertisement \"Refusing sexual services is the most palatable option but it is likely to lead to some grief in terms of ...   \n",
       "493428  Return to video Video settings Please Log in to update your video settings Video will begin in 5 seconds. Don't play Play now More video Recommended 'This is why you play football' Grand final - 'Just a normal week' for Nic Nat Melbourne warms to GF eve holiday Grand final - 'Just a normal week' for Nic Nat Greatest grand finals: 1989 Replay video Return to video Video settings Please Log in to update your video settings Grand Final - Hawthorn v West Coast Two-time premiership captain Wayne Carey previews the 2015 AFL Grand Final. PT2M15S 620 349 Autoplay On Off Video feedback Video settings Missed out: Five famous grand final omissions Twenty-year-old Hawthorn midfielder Billy Hartung is this year's hard luck story at selection for the grand final. The speedy Hawk was on Thursday night omitted for Saturday's decider at the MCG, with tall forward Jack Gunston brought back to play West Coast, having suffered an ankle injury three weeks ago against the same opponent in the qualifying final at Domain Stadium. Dropped: Billy Hartung. Photo: Getty Images The Eagles have selected the same 22 players who defeated North Melbourne in last Saturday night's preliminary final win over North Melbourne. Advertisement The decision to leave out Hartung means that versatile tall Ryan Schoenmakers has been named, and therefore avoided being left on the outer for a third consecutive grand final. The 24-year-old was unavailable for the 2013 win over Fremantle, due to injury and missed selection for the 2014 victory over Sydney. The Hawks' call to pick a tall in place of a small was made despite the forecast 28 degree heat for Saturday, which would make it among the hottest grand final days ever. Gunston and captain Luke Hodge both trained strongly at Waverley Park in front of a large crowd on Thursday. Hodge had also been under an injury cloud having missed a session earlier in the week, but appears set to lead the Hawks in their bid to win a third straight premiership, and fourth ...   \n",
       "\n",
       "             Category  Text_TotalWords  \n",
       "757     entertainment              660  \n",
       "1068    entertainment              707  \n",
       "1775    entertainment              428  \n",
       "1906    entertainment              492  \n",
       "2232    entertainment              518  \n",
       "...               ...              ...  \n",
       "493143          world              963  \n",
       "493144          world              980  \n",
       "493161          world              755  \n",
       "493230          world              944  \n",
       "493428          world              635  \n",
       "\n",
       "[605 rows x 4 columns]"
      ],
      "text/html": "<div>\n<style scoped>\n    .dataframe tbody tr th:only-of-type {\n        vertical-align: middle;\n    }\n\n    .dataframe tbody tr th {\n        vertical-align: top;\n    }\n\n    .dataframe thead th {\n        text-align: right;\n    }\n</style>\n<table border=\"1\" class=\"dataframe\">\n  <thead>\n    <tr style=\"text-align: right;\">\n      <th></th>\n      <th>Title</th>\n      <th>Text</th>\n      <th>Category</th>\n      <th>Text_TotalWords</th>\n    </tr>\n  </thead>\n  <tbody>\n    <tr>\n      <td>757</td>\n      <td>The Dressmaker author Rosalie Ham's surreal moment as her book becomes a movie</td>\n      <td>Click to play video Return to video Video settings Please Log in to update your video settings Video will begin in 5 seconds. Don't play Play now More video Recommended Replay video Return to video Video settings Please Log in to update your video settings Trailer: The Dressmaker Small town girl, Tilly (Kate Winslet) returns from international adventures to reconcile with her mother and set chins wagging. PT2M11S http://www.canberratimes.com.au/action/externalEmbeddedPlayer?id=d-405po 620 349 July 30, 2015 Autoplay On Off Video feedback Video settings Sarah Snook in The Dressmaker We were on the penultimate hole of our Friday morning golf game when Sue Maslin told me Kate Winslet would play the lead role in the film adaption of my first novel, The Dressmaker . Sue and I went to school together and I knew her as a tenacious, and somewhat formidable, golf partner and a very fine film producer. Rosalie Ham: \"Film is another medium so it can't be my novel but what I intended has been made to work for film.\" Photo: Supplied She's brought us Japanese Story and Road to Nhill and was working hard producing The Dressmaker; Jocelyn Moorhouse had written the adaptation and would direct, and there was interest from investors and filmmakers locally and internationally. Advertisement But, Kate Winslet? It was a task to focus on the small white ball and the final fairway, but there were more surreal experiences ahead. The first was sitting in the extras tent for hair and makeup and seeing myself reflected as my mother in 1950. The town of Dungatar, as created in The Dressmaker . Photo: Supplied Then there was the friends and family (mostly farmers and nurses) as extras 'acting' in crowd scenes behind Shane Jacobson, Gyton Grantley, Sarah Snook and Sacha Horler. My brother looked just like my father in 1950. Then I stepped off a bus into Dungatar, the town I created in the novel, and shook hands with Mad Molly (Judy Davis) and Muriel Pratt (Rebecca Gibney). A new edition of Ros...</td>\n      <td>entertainment</td>\n      <td>660</td>\n    </tr>\n    <tr>\n      <td>1068</td>\n      <td>X Factor Australia: Guy Sebastian feuds with eliminated singer Jimmy Davis</td>\n      <td>Click to play video Return to video Video settings Please Log in to update your video settings Video will begin in 5 seconds. Don't play Play now More video Recommended Replay video Return to video Video settings Please Log in to update your video settings X Factor judges lock horns James Blunt, Chris Isaak and Guy Sebastian express their disappointment in Dannii Minogue's song choice for her contestant, Georgia. X Factor airs Mondays and Tuesdays, 7:30pm on Channel Seven. PT2M4S http://www.canberratimes.com.au/action/externalEmbeddedPlayer?id=d-44fmm 620 349 October 13, 2015 Autoplay On Off Video feedback Video settings X Factor Australia judges attack Dannii Minogue Backlash after mother and daughter finalists erased Guy Sebastian has fired a scathing salvo of tweets at ousted X Factor contestant Jimmy Davis after the singer called the competition a \"game show\" and blamed poor song choices for his elimination. The X Factor judge called Davis's comments a \"huge slap in the face\" and \"incredibly disappointing\", and accused Davis of being ungrateful after being given exposure and flown around the world. Eliminated X Factor contestant Jimmy Davis said the show would have given him \"a total breakdown\". Photo: Channel Seven In an interview with News Corp Australia, the 21-year-old said being on the show brought up 'contradicting emotions with his soul' and that he didn't know how far he could have gone in the competition \"without having a total breakdown\". Advertisement \"I sing my own songs. Having a show based off covers, they kept saying they need to see it through my eyes and if I was singing my own songs, you'd really see me connecting, that's when you'd see my true artistry,\" he said. After reading the comments, a fired-up Sebastian attacked Davis - an apprentice of Chris Isaak's - for being ungrateful and said his own songs weren't good enough to get him through the show. The X-Factor 2015 judges. Photo: Supplied \"How incredibly disappointing. After all the ti...</td>\n      <td>entertainment</td>\n      <td>707</td>\n    </tr>\n    <tr>\n      <td>1775</td>\n      <td>The Bachelorette Sam Frost tipped to join Rove as co-host of 2DayFM breakfast show</td>\n      <td>Click to play video Return to video Video settings Please Log in to update your video settings Video will begin in 5 seconds. Don't play Play now More video Recommended Replay video Return to video Video settings Please Log in to update your video settings Bachelorette Sam Frost chooses Sasha Sam Frost reveals she has finally found love after picking builder Sasha Mielczarek. PT0M42S http://www.canberratimes.com.au/action/externalEmbeddedPlayer?id=d-4508a 620 349 October 22, 2015 Autoplay On Off Video feedback Video settings She's apparently just found the love of her life on The Bachelorette , but Sam Frost is about to undertake what ranks as one of the great passion killers: waking up at ungodly hours to work on breakfast radio. Strong rumours circulating the Sydney radio market indicate that Frost will join Rove McManus as co-host of the embattled FM radio station 2DayFM's ailing breakfast show following the ousting of previous breakfast hosts Maz Compton and Dan Debuf. However verifying the rumours with 2DayFM owners, Southern Cross Austereo, has proven difficult as the network's head publicist, Heidi Virtue, has left the media company just five weeks after starting in the gig. Another spokesperson for the network declined to comment on whether Frost will be joining McManus in the studio. New lovers Sam Frost and Sasha Mielczarek after The Bachelorette finale last week. Photo: Instagram PS understands McManus, who is being paid a reported $350,000 worth of shares every six months for the duration of his three year contract, will launch the new show on Sydney airwaves next Monday with Frost by his side. Advertisement The move is the latest attempt by 2DayFM to regain the FM breakfast ratings crown in Sydney which was ripped away when its former star personalities, Kyle Sandilands and Jackie O, were poached by rival KIISFM, taking their huge audience and advertising revenue with them. Since then the station has experimented with a long line of personalities, i...</td>\n      <td>entertainment</td>\n      <td>428</td>\n    </tr>\n    <tr>\n      <td>1906</td>\n      <td>Jeremy Clarkson, Richard Hammond, James May share first look at new Amazon show</td>\n      <td>Click to play video Return to video Video settings Please Log in to update your video settings Video will begin in 5 seconds. Don't play Play now More video Recommended Replay video Return to video Video settings Please Log in to update your video settings Margot Robbie's Top Gear close call In the original version of the UK show, Australian star Margot Robbie almost collided with a camera operator while driving a hatchback. PT0M55S http://www.canberratimes.com.au/action/externalEmbeddedPlayer?id=d-3qdlt 620 349 February 17, 2015 Autoplay On Off Video feedback Video settings Amazon pays big bucks for Jeremy Clarkson Richard Hammond says end Top Gear 'broke my heart' After a tumultuous six months, former Top Gear hosts Jeremy Clarkson, James May and Richard Hammond are back bigger and better than ever before. The trio returned to work on the set of their new Amazon Prime show this week, in a deal rumoured to be worth $338 million which also secured former Top Gear executive producer Andy Wilman. The Top Gear gang are back together again. Photo: Twitter Clarkson was sacked by the BBC in March for assaulting a Top Gear Producer, with Clarkson and May refusing to return to work without him. Advertisement It looks like Amazon has spared no expense for the new motoring show, with Clarkson sharing a photo of the huge crew on Twitter on Thursday along with a wry caption taking aim at the BBC. \"With a skeleton crew, filming for Amazon Prime's new motoring show has begun,\" the 55-year-old wrote, posing with a Ferrari, Porsche and McLaren. Clarkson, Hammond and May have hosted Top Gear since the late 1990s. Hammond shared the same photo, adding: \"The band is back together and it feels brilliant\". Clarkson boasted about the new Amazon deal in July and took no time in swiping the BBC, telling Daily Mail : 'I feel like I've climbed out of a bi-plane and into a spaceship.\" Great first day at work. I can't stop staring. pic.twitter.com/GtYVHaGmYR James May (@MrJamesMay) October...</td>\n      <td>entertainment</td>\n      <td>492</td>\n    </tr>\n    <tr>\n      <td>2232</td>\n      <td>The Verdict is in: Karl Stefanovic controversial new show tanks in the ratings</td>\n      <td>Click to play video Return to video Video settings Please Log in to update your video settings Video will begin in 5 seconds. Don't play Play now More video Recommended Replay video Return to video Video settings Please Log in to update your video settings The Verdict: Miranda Tapsell doesn't feel Australian The actress is candid about the difficulties she has faced growing up black in Australia on Channel Nine's The Verdict. PT0M30S http://www.canberratimes.com.au/action/externalEmbeddedPlayer?id=d-44l5a 620 349 October 16, 2015 - 8:04AM Autoplay On Off Video feedback Video settings What happens if Stefanovic's show is a bust? Mark Latham admits to having trolling on Twitter Despite much hype, a controversial line-up of panelists and a charismatic host, Nine's new talk show The Verdict has pulled only 9000 more viewers than an afternoon screening of The Bold and the Beautiful in its second outing. This represents a significant drop in audience numbers from last week, when 522,000 people tuned in to the premiere. The Verdict panel and host Karl Stefanovic. The weekly program, modelled on a mixture of The Project and Q&amp;A , promised fiery debate and a \"bumpy ride\" but in its second week was watched by fewer people than an episode of Grant Denyer's Family Feud . Advertisement In the capital cities, 369,000 Australians tuned in to watch The Verdict, narrowly beating Ten's soap The Bold and the Beautiful, which snagged 360,000 viewers. The abysmal result could spell the death knell for the show, which was reportedly given a five-episode run as the Nine Network trialled the new format. Karl Stefanovic on set of new show The Verdict. photo: supplied Photo: Supplied The Verdict finished in 24th spot on Thursday night, trailing programs like Gogglebox , The Project , The Chaser's Media Circus and Highway Patrol . As prime-time programs such as The X Factor pull in more than one million viewers a night, the new Nine show is a certifiable flop. The ratings will come as a h...</td>\n      <td>entertainment</td>\n      <td>518</td>\n    </tr>\n    <tr>\n      <td>...</td>\n      <td>...</td>\n      <td>...</td>\n      <td>...</td>\n      <td>...</td>\n    </tr>\n    <tr>\n      <td>493143</td>\n      <td>Treasury's US wine swoop looks promising</td>\n      <td>Return to video Video settings Please Log in to update your video settings Video will begin in 5 seconds. Don't play Play now More video Recommended Mal Maiden: Beer giants merge Westpac increases home loan interest rates Global beer market shrinks Westpac raises home loan rates Westpac may lose customers with mortgage rate rise Replay video Return to video Video settings Please Log in to update your video settings Mal Maiden: Beer giants merge With one of the biggest brewery takeovers ever agreed to this week, Penfolds looking to expand in the US and Westpac leading the charge in raising rates, Mal Maiden examines a busy week in the markets. PT4M24S 620 349 Autoplay On Off Video feedback Video settings Treasury Wine eyes split after $754m Diageo wine buy Treasury Wine estates chief executive Mike Clarke was negotiating the purchase of the Diageo group's wine business for about a year, which tells you he would probably make a good poker player. Large parts of Diageo's wine portfolio were almost tailor-made for the business Clarke says he wants Treasury to become capital-light, and aimed at the high-profit luxury end of the wine market, and the higher-volume but still lucrative prestige or \"masstige\" market that sits beneath it. Illustration: John Shakespeare They are the parts of the global wine market where supply is tight and demand is growing, and for 18 months Clarke has been steering Treasury in the same direction, by selling the Penfolds range worldwide for example. (The new Penfolds vintage will be launched on Thursday in Shanghai). Diageo also owned the No.2 mass-market wine brand in Britain, Blossom Hill, and wanted to offload that, too. It is lower-margin business and not such a great fit for Treasury, but Clarke has bought it as well to get the deal done. The businesses Treasury is buying will still be generating about three-quarters of their earnings from luxury and masstige wine, and Blossom Hill bulks up Treasury's mass-market business, preparing i...</td>\n      <td>world</td>\n      <td>963</td>\n    </tr>\n    <tr>\n      <td>493144</td>\n      <td>It's either aliens or a swarm of comets: scientists baffled by WTF 001, our galaxy's strangest star</td>\n      <td>Return to video Video settings Please Log in to update your video settings Video will begin in 5 seconds. Don't play Play now More video Recommended Former child soldier's message Iran airs footage of missiles in tunnels US intelligence knew Afghan site was hospital US troops to stay in Afghanistan Plane engine breaks apart at take-off Replay video Return to video Video settings Please Log in to update your video settings Is this an alien megastructure? Something is blotting out the light of a star and scientists are getting excited. Here's why. PT1M22S 620 349 Autoplay On Off Video feedback Video settings It has been called the most bizarre star in our galaxy and some think it just might be home to high-tech aliens. The unlikely suggestion that aliens live in this star system is being taken so seriously that a team of astrophysicists wants to train a radio telescope in its direction to determine if any signals could indicate advanced extraterrestrial life. Andrew Siemion, director of the Search for Extraterrestrial Intelligence at the University of California, Berkeley , told Fairfax Media the star had become SETI's candidate number one. One outlandish hypothesis suggests the star's light signal is caused by a Dyson sphere, an alien megastructure designed to capture solar energy. Photo: Artist's impression by CapnHack It is clear that something big is blocking light coming from the star between the Cygnus and Lyra constellations, but no-one really knows what it is. Advertisement \"Aliens should always be the very last hypothesis you consider,\" Penn State astrophysicist Jason Wright told The Atlantic . \"But this looked like something you would expect an alien civilisation to build.\" The light from the star is \"consistent with a swarm of megastructures\" around it, he said. KIC 8462852 has been informally renamed WTF 001. Photo: arXiv The star has the cumbersome name of KIC 8462852, but the research group that will look for \"unambiguous indicators\" of technology in...</td>\n      <td>world</td>\n      <td>980</td>\n    </tr>\n    <tr>\n      <td>493161</td>\n      <td>Education Minister Simon Birmingham vows to develop uni reforms that can pass Parliament</td>\n      <td>Return to video Video settings Please Log in to update your video settings Video will begin in 5 seconds. Don't play Play now More video Recommended What does a 4-year-old know about Australian politics? Explainer: is some Federal spending unlawful? Wind turbines worse than asbestos? United on jobs and growth University deregulation: Turnbull's first big change Replay video Return to video Video settings Please Log in to update your video settings Abbott: 'The last people that need to be nannied are our unis' Ex-PM Tony Abbott weighs in on the Turnbull government's uni reform announcement. PT1M38S 620 349 Autoplay On Off Video feedback Video settings Comment: Christopher Pyne never earned 'fixer' title but his flatmate might Education Minister Simon Birmingham has vowed to move quickly to develop a set of higher education policies that can pass Parliament, as he dropped the government's controversial plan to allow universities to set their own fees from next year. The decision to shelve one of the government's most controversial policies was immediately lamented by former prime minister Tony Abbott, who said he was disappointed his \"gutsy\" reforms had been delayed. Minister for Education Simon Birmingham. Photo: Andrew Meares Senator Birmingham announced on Thursday that he will not reintroduce the government's higher education bills into the Senate for another vote this year, meaning any changes would not come into force until 2017 at the earliest. The government has also put a proposed 20 per cent cut to university funding on ice. Advertisement Senator Birmingham said he would consult with universities, students, employers and the Senate crossbenchers before introducing any legislation. The government has included $17 billion in higher education savings in its budget projections for the next decade, meaning a full retreat from its reforms would further blow out the budget deficit. Senator Birmingham told Fairfax Media he hoped to resolve the government's highe...</td>\n      <td>world</td>\n      <td>755</td>\n    </tr>\n    <tr>\n      <td>493230</td>\n      <td>Royal Australasian College of Surgeons 'ignored sexual harassment complaints'</td>\n      <td>EXCLUSIVE Return to video Video settings Please Log in to update your video settings Video will begin in 5 seconds. Don't play Play now More video Recommended NRL Grand Final safety warning Police shooting in Parramatta What does a 4-year-old know about Australian politics? Who was the real Alice? We are not the USA Replay video Return to video Video settings Please Log in to update your video settings Letter alleges history of sexual harassment among surgeons A leaked letter written by Dr Gabrielle McMullin to the Royal Australian College of Surgeons reveals the body was aware of sexual harassment claims against senior surgeons seven years ago. PT2M18S 620 349 Autoplay On Off Video feedback Video settings Complaints that female trainees were being sexually harassed by senior surgeons corruptly wielding power over their careers have been ignored by the Royal Australasian College of Surgeons for seven years, a doctor says. Explosive leaked documents reveal Sydney surgeon Gabrielle McMullin told the college in 2008 that three female trainees had asked her advice on how to deal with senior surgeons asking for sexual favours. In two cases, corruption of training processes was alleged. \"In one case the surgeon has offered a place on a training scheme based on the granting of sexual services. In another case the surgeon has become very angry about the refusal of sexual services and consequently produced a report that questioned the ability of the trainee,\" Dr McMullin wrote in a letter to then president Ian Gough. Vascular surgeon Gabrielle McMullin. Dr McMullin said she told the trainees that granting sexual services was \"probably the safest way to play it in that there will be no 'fuss' \". However, she said she warned the women that \"men have very short memories following sex and are unlikely to follow through with promises of training positions\". Advertisement \"Refusing sexual services is the most palatable option but it is likely to lead to some grief in terms of ...</td>\n      <td>world</td>\n      <td>944</td>\n    </tr>\n    <tr>\n      <td>493428</td>\n      <td>AFL grand final 2015: Hawthorn drop Billy Hartung for decider</td>\n      <td>Return to video Video settings Please Log in to update your video settings Video will begin in 5 seconds. Don't play Play now More video Recommended 'This is why you play football' Grand final - 'Just a normal week' for Nic Nat Melbourne warms to GF eve holiday Grand final - 'Just a normal week' for Nic Nat Greatest grand finals: 1989 Replay video Return to video Video settings Please Log in to update your video settings Grand Final - Hawthorn v West Coast Two-time premiership captain Wayne Carey previews the 2015 AFL Grand Final. PT2M15S 620 349 Autoplay On Off Video feedback Video settings Missed out: Five famous grand final omissions Twenty-year-old Hawthorn midfielder Billy Hartung is this year's hard luck story at selection for the grand final. The speedy Hawk was on Thursday night omitted for Saturday's decider at the MCG, with tall forward Jack Gunston brought back to play West Coast, having suffered an ankle injury three weeks ago against the same opponent in the qualifying final at Domain Stadium. Dropped: Billy Hartung. Photo: Getty Images The Eagles have selected the same 22 players who defeated North Melbourne in last Saturday night's preliminary final win over North Melbourne. Advertisement The decision to leave out Hartung means that versatile tall Ryan Schoenmakers has been named, and therefore avoided being left on the outer for a third consecutive grand final. The 24-year-old was unavailable for the 2013 win over Fremantle, due to injury and missed selection for the 2014 victory over Sydney. The Hawks' call to pick a tall in place of a small was made despite the forecast 28 degree heat for Saturday, which would make it among the hottest grand final days ever. Gunston and captain Luke Hodge both trained strongly at Waverley Park in front of a large crowd on Thursday. Hodge had also been under an injury cloud having missed a session earlier in the week, but appears set to lead the Hawks in their bid to win a third straight premiership, and fourth ...</td>\n      <td>world</td>\n      <td>635</td>\n    </tr>\n  </tbody>\n</table>\n<p>605 rows × 4 columns</p>\n</div>"
     },
     "metadata": {},
     "execution_count": 56
    }
   ],
   "source": [
    "pd.options.display.max_colwidth = 2000\n",
    "df_all_news_processed[df_all_news_processed['Text'].str.contains(\"Return to video Video settings Please Log\")]"
   ]
  },
  {
   "cell_type": "code",
   "execution_count": 10,
   "metadata": {},
   "outputs": [
    {
     "output_type": "stream",
     "name": "stdout",
     "text": [
      "Process completed.\nTime taken: 1mins 21secs\n"
     ]
    },
    {
     "output_type": "execute_result",
     "data": {
      "text/plain": [
       "[('      ', 21417),\n",
       " ('Tip : Use comma (,) to separate', 3675),\n",
       " ('  Thank you for registering! We', 3316),\n",
       " ('Ads with Photos only: Note: By using', 1811),\n",
       " ('chart data and daily updates provided by', 992),\n",
       " ('Return to video Video settings Please Log', 465),\n",
       " ('Article extract not available. Link to source', 433),\n",
       " ('  Company News - Today Oct', 412),\n",
       " ('Noah Consulting being acquired by Infosys in', 306),\n",
       " ('Make Your Passion Your Career. Work In', 272),\n",
       " ('  Company News - Today *', 256),\n",
       " (\"Don't have an account? Sign up Close\", 252),\n",
       " ('Elemental Technologies being acquired by Amazon Web', 241),\n",
       " ('Information contained on this page is provided', 240),\n",
       " ('TelegraphSportPage Follow @telefootball Telegraph Fantasy Football 2015/16',\n",
       "  240),\n",
       " ('Health Tip of the Day Sign up', 215),\n",
       " ('By Kyle Newport, Bleacher Report Posted Oct.', 208),\n",
       " ('Need an account? Create one now. Need', 205),\n",
       " ('In order to deliver a personalized, responsive', 205),\n",
       " ('relevant securities of the offeror or offeree', 204),\n",
       " ('  Business - Today (Reuters) -', 204),\n",
       " ('Article extract not available. Link to the', 199),\n",
       " ('SUBSCRIBE FOLLOW US 2015 Cox Media Group', 197),\n",
       " ('Only registered TrekEarth members may write critiques.', 187),\n",
       " ('GRAEME SMITH / / World News Share', 183),\n",
       " ('SPECIAL OFFER FOR NEW READERS 99 cent', 172),\n",
       " ('1 CONNECT TWEET LINKEDIN COMMENT EMAIL MORE', 160),\n",
       " ('Students loan re-financier SoFi successfully raises $1', 153),\n",
       " ('  Today The latest on the', 148),\n",
       " (' * * A version of this', 148),\n",
       " ('Russian Nuclear Official Pleads Guilty To Corruption', 146),\n",
       " ('  Company News - Today LONDON,', 136),\n",
       " ('to view this article in its entirety.', 135),\n",
       " ('By Dan Carson, Bleacher Report Posted Oct.', 135),\n",
       " ('video Return to video Video settings Please', 134),\n",
       " ('Kim Kardashian gets 45 mn Instagram followers', 134),\n",
       " ('Want the latest recommendations from Zacks Investment', 132),\n",
       " ('stock that TheStreet Ratings rated a \"buy\"', 130),\n",
       " ('By Thomas Duffy, Bleacher Report Posted Oct.', 130),\n",
       " ('Wednesday entered into a definitive agreement to', 113),\n",
       " ('during the first half of an NCAA', 107),\n",
       " ('X Zawya Comment Policy Zawya encourages you', 106),\n",
       " (' Celebrities at Mets playoff games Newsday', 103),\n",
       " (\"It's a good news, bad news kind\", 103),\n",
       " ('Registration on or use of this site', 102),\n",
       " ('Thanks for sharing About.com with others! Most', 101),\n",
       " ('Khloe Kardashian has finally broken her silence', 95),\n",
       " ('telegraph.co.uk Follow @telegraph The Telegraph Investor Transfer', 94),\n",
       " ('  Politics - Today WASHINGTON (Reuters)', 94),\n",
       " ('> Top News AP PHOTOS: The rise', 94),\n",
       " ('We want you to tell us what', 92),\n",
       " (\"Actress Maureen O'Hara died Saturday at her\", 92),\n",
       " ('  Today The latest developments in', 92),\n",
       " ('  Today The latest news as', 90),\n",
       " ('By Todd Dewey, The Las Vegas Review-Journal', 90),\n",
       " ('Donald Trump will bring his notorious comedy', 89),\n",
       " (\"you've reached a subscriber-only article. Take the\", 89),\n",
       " ('Follow @telegraph The Telegraph Investor Transfer your', 88),\n",
       " ('By Jack Sommer, Business Insider Posted Oct.', 88),\n",
       " ('For latest Hollywood updates follow us on', 85),\n",
       " ('ABC Family has pulled the plug on', 80),\n",
       " ('By GARY B. GRAVES, The Associated Press', 80),\n",
       " ('Concept tagging by the AlchemyAPI About i360Gov', 80),\n",
       " ('ManchesterUnitedTelegraph Follow @telefootball Telegraph Fantasy Football 2015/16',\n",
       "  80),\n",
       " ('By DAVE SKRETTA AP Sports Writer KANSAS', 79),\n",
       " ('talks to correspondent Tracy Smith about the', 78),\n",
       " (\"A look at what's happening around the\", 77),\n",
       " ('Some say love... is Amy Poehler belting', 76),\n",
       " ('Facebook Twitter Pinterest Share Share this post', 75),\n",
       " ('Reprint NEW YORK ( TheStreet ) --', 73),\n",
       " ('Dance Moms star Abby Lee Miller has', 72),\n",
       " ('Undateable is doubling down on its live', 72),\n",
       " ('By Matt Fitzgerald, Bleacher Report Posted Oct.', 72),\n",
       " ('Media playback is unsupported on your device', 70),\n",
       " ('Moneylife Magazine issues launched during the month', 68),\n",
       " ('ET SPECIAL: Love visual aspect of news?', 68),\n",
       " ('By Cindy Boren, The Washington Post Posted', 68),\n",
       " (' A version of this article appeared', 68),\n",
       " (' Jolie believes you can love the', 67),\n",
       " ('Ely, Nevada, uses historical attractions to focus', 67),\n",
       " ('Property Insider In Focus BusinessPulse helps business', 66),\n",
       " ('(Photo: The Associated Press) CONNECT TWEET LINKEDIN', 65),\n",
       " ('More coverage: Southeastern Pa. high school sports', 64),\n",
       " ('1 CONNECT 1 TWEET LINKEDIN COMMENT EMAIL', 63),\n",
       " ('By The Associated Press Your daily look', 63),\n",
       " ('THE LIST: 5 Star Rated by eTN', 63),\n",
       " ('  Company News - Today NEW', 62),\n",
       " ('CNN Leadership <div class=\"banner\" id=\"cnn_300x250_sync_freewheel-rail_0_banner\"><span id=\"cnn_300x250_sync_freewheel-rail_0\" class=\"_fwph\"><form',\n",
       "  61),\n",
       " ('Sign Up Today Sign up for our', 61),\n",
       " ('By Adam Wells, Bleacher Report Posted Oct.', 61),\n",
       " ('Your email address will not be published.', 60),\n",
       " ('THE FASTEST EMAIL ALERTS IN NEWS Major', 60),\n",
       " ('* Comment You may use these HTML', 59),\n",
       " ('By RALPH D. RUSSO AP College Football', 59),\n",
       " ('  Today Originally published on Unwritten', 58),\n",
       " ('By Steve Stephens, The Columbus Dispatch Posted', 58),\n",
       " ('  Sports - Today (Reuters) -', 56),\n",
       " ('> Top News AP PHOTOS: Memorable Ferraris', 56),\n",
       " ('Is Nicole Kidman the latest celebrity to', 54),\n",
       " ('Less than a month after he took', 54)]"
      ]
     },
     "metadata": {},
     "execution_count": 10
    }
   ],
   "source": [
    "########## N-GRAMS ###########\n",
    "t1 = time.time()\n",
    "n = 7 #Specify number for N-Grams\n",
    "occurrences = EDA.find_most_common_n_grams(articles_split_by_word, n)\n",
    "EDA.process_time(round(time.time()-t1))\n",
    "sorted(occurrences.items(), key=lambda x: x[1], reverse=True)[:100]"
   ]
  },
  {
   "cell_type": "code",
   "execution_count": null,
   "metadata": {},
   "outputs": [],
   "source": [
    "{* registration_firstName *} {* registration_lastName *}\n",
    "Published By:\n",
    "Tip : Use comma (,) to\n",
    "our Visitor Agreement and Privacy Policy\n",
    "Ads with Photos only: Note: By using\n",
    "Need an account? Create one now.\n",
    "Don't have an account? Sign up Close\n",
    "Return to video Video settings Please\n",
    "chart data and daily updates provided by\n",
    "CONNECT TWEET LINKEDIN COMMENT EMAIL MORE\n",
    "Article extract not available. Link to source\n",
    "Thank you for registering!\n",
    "SUBSCRIBE FOLLOW US 2015 Cox Media\n",
    "TelegraphSportPage Follow @telefootball Telegraph Fantasy Football 2015/16"
   ]
  }
 ]
}