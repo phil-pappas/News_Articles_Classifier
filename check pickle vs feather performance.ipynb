{
 "cells": [
  {
   "cell_type": "code",
   "execution_count": 1,
   "metadata": {},
   "outputs": [],
   "source": [
    "import pandas as pd\n",
    "import json\n",
    "import os\n",
    "\n",
    "import feather\n",
    "import time"
   ]
  },
  {
   "cell_type": "code",
   "execution_count": 8,
   "metadata": {},
   "outputs": [
    {
     "name": "stdout",
     "output_type": "stream",
     "text": [
      "Process completed.\n",
      "Time taken:\n",
      "1.75 seconds.\n"
     ]
    }
   ],
   "source": [
    "t1 = time.time() \n",
    "df_all_news = pd.read_pickle(r'data/original_data/pickles/all_news')\n",
    "t2 = time.time() \n",
    "print(\"Process completed.\\nTime taken:\") \n",
    "print(\"{:.2f}\".format(round(t2-t1, 2))+\" seconds.\")"
   ]
  },
  {
   "cell_type": "code",
   "execution_count": 6,
   "metadata": {},
   "outputs": [
    {
     "name": "stdout",
     "output_type": "stream",
     "text": [
      "Process completed.\n",
      "Time taken:\n",
      "3.48 seconds.\n"
     ]
    }
   ],
   "source": [
    "t1 = time.time() \n",
    "df_all_news = pd.read_feather(\"data/original_data/feathers/all_news.ftr\")\n",
    "t2 = time.time() \n",
    "print(\"Process completed.\\nTime taken:\") \n",
    "print(\"{:.2f}\".format(round(t2-t1, 2))+\" seconds.\")"
   ]
  },
  {
   "cell_type": "code",
   "execution_count": 9,
   "metadata": {},
   "outputs": [
    {
     "data": {
      "text/html": [
       "<div>\n",
       "<style scoped>\n",
       "    .dataframe tbody tr th:only-of-type {\n",
       "        vertical-align: middle;\n",
       "    }\n",
       "\n",
       "    .dataframe tbody tr th {\n",
       "        vertical-align: top;\n",
       "    }\n",
       "\n",
       "    .dataframe thead th {\n",
       "        text-align: right;\n",
       "    }\n",
       "</style>\n",
       "<table border=\"1\" class=\"dataframe\">\n",
       "  <thead>\n",
       "    <tr style=\"text-align: right;\">\n",
       "      <th></th>\n",
       "      <th>Title</th>\n",
       "      <th>Text</th>\n",
       "      <th>Category</th>\n",
       "    </tr>\n",
       "  </thead>\n",
       "  <tbody>\n",
       "    <tr>\n",
       "      <th>0</th>\n",
       "      <td>NYC art exhibition gives food for thought</td>\n",
       "      <td>&gt; Entertainment NYC art exhibition gives food ...</td>\n",
       "      <td>entertainment</td>\n",
       "    </tr>\n",
       "    <tr>\n",
       "      <th>1</th>\n",
       "      <td>Tracy Morgan performs first stand-up show sinc...</td>\n",
       "      <td>Tracy Morgan performs first stand-up show sinc...</td>\n",
       "      <td>entertainment</td>\n",
       "    </tr>\n",
       "    <tr>\n",
       "      <th>2</th>\n",
       "      <td>Esquire's Sexiest Woman Alive is the sultry Em...</td>\n",
       "      <td>SUBSCRIBE FOLLOW US Β© 2015 Cox Media Group . ...</td>\n",
       "      <td>entertainment</td>\n",
       "    </tr>\n",
       "    <tr>\n",
       "      <th>3</th>\n",
       "      <td>President Barack Obama interviews author Maril...</td>\n",
       "      <td>FCC Information President Barack Obama intervi...</td>\n",
       "      <td>entertainment</td>\n",
       "    </tr>\n",
       "    <tr>\n",
       "      <th>4</th>\n",
       "      <td>I will perform at night clubs, shows β€“ Pasto...</td>\n",
       "      <td>Source: Ghana | Hitz FM | Euphemia Akpalu Date...</td>\n",
       "      <td>entertainment</td>\n",
       "    </tr>\n",
       "    <tr>\n",
       "      <th>...</th>\n",
       "      <td>...</td>\n",
       "      <td>...</td>\n",
       "      <td>...</td>\n",
       "    </tr>\n",
       "    <tr>\n",
       "      <th>60292</th>\n",
       "      <td>Bidenβ€™s Indecision Fuels Doubts He Could Sti...</td>\n",
       "      <td>Vice President Joe Bidenβ€™s summer of uncerta...</td>\n",
       "      <td>world</td>\n",
       "    </tr>\n",
       "    <tr>\n",
       "      <th>60293</th>\n",
       "      <td>AFL grand final 2015: Hawthorn drop Billy Hart...</td>\n",
       "      <td>Return to video Video settings Please Log in t...</td>\n",
       "      <td>world</td>\n",
       "    </tr>\n",
       "    <tr>\n",
       "      <th>60294</th>\n",
       "      <td>Joaquin lashes Bahamas; Powerful hurricane cou...</td>\n",
       "      <td>Photo: Tim Aylen, AP Image 1 of / 5 Caption\\nC...</td>\n",
       "      <td>world</td>\n",
       "    </tr>\n",
       "    <tr>\n",
       "      <th>60295</th>\n",
       "      <td>5 US service members among 12 dead in Afghan p...</td>\n",
       "      <td>5 US service members among 12 dead in Afghan p...</td>\n",
       "      <td>world</td>\n",
       "    </tr>\n",
       "    <tr>\n",
       "      <th>60296</th>\n",
       "      <td>Hurricane Joaquin batters Bahamas, unleashes s...</td>\n",
       "      <td>Updated: 10:17 a.m. Friday, Oct. 2, 2015 | Pos...</td>\n",
       "      <td>world</td>\n",
       "    </tr>\n",
       "  </tbody>\n",
       "</table>\n",
       "<p>493432 rows × 3 columns</p>\n",
       "</div>"
      ],
      "text/plain": [
       "                                                   Title  \\\n",
       "0              NYC art exhibition gives food for thought   \n",
       "1      Tracy Morgan performs first stand-up show sinc...   \n",
       "2      Esquire's Sexiest Woman Alive is the sultry Em...   \n",
       "3      President Barack Obama interviews author Maril...   \n",
       "4      I will perform at night clubs, shows β€“ Pasto...   \n",
       "...                                                  ...   \n",
       "60292  Bidenβ€™s Indecision Fuels Doubts He Could Sti...   \n",
       "60293  AFL grand final 2015: Hawthorn drop Billy Hart...   \n",
       "60294  Joaquin lashes Bahamas; Powerful hurricane cou...   \n",
       "60295  5 US service members among 12 dead in Afghan p...   \n",
       "60296  Hurricane Joaquin batters Bahamas, unleashes s...   \n",
       "\n",
       "                                                    Text       Category  \n",
       "0      > Entertainment NYC art exhibition gives food ...  entertainment  \n",
       "1      Tracy Morgan performs first stand-up show sinc...  entertainment  \n",
       "2      SUBSCRIBE FOLLOW US Β© 2015 Cox Media Group . ...  entertainment  \n",
       "3      FCC Information President Barack Obama intervi...  entertainment  \n",
       "4      Source: Ghana | Hitz FM | Euphemia Akpalu Date...  entertainment  \n",
       "...                                                  ...            ...  \n",
       "60292  Vice President Joe Bidenβ€™s summer of uncerta...          world  \n",
       "60293  Return to video Video settings Please Log in t...          world  \n",
       "60294  Photo: Tim Aylen, AP Image 1 of / 5 Caption\\nC...          world  \n",
       "60295  5 US service members among 12 dead in Afghan p...          world  \n",
       "60296  Updated: 10:17 a.m. Friday, Oct. 2, 2015 | Pos...          world  \n",
       "\n",
       "[493432 rows x 3 columns]"
      ]
     },
     "execution_count": 9,
     "metadata": {},
     "output_type": "execute_result"
    }
   ],
   "source": [
    "df_all_news"
   ]
  },
  {
   "cell_type": "code",
   "execution_count": 4,
   "metadata": {},
   "outputs": [
    {
     "name": "stdout",
     "output_type": "stream",
     "text": [
      "Process completed.\n",
      "Time taken:\n",
      "3.30 seconds.\n"
     ]
    }
   ],
   "source": [
    "t1 = time.time() \n",
    "\n",
    "df_all_news.reset_index(drop=True, inplace=True)\n",
    "df_all_news.to_pickle(\"data/original_data/pickles/all_news.pkl\");\n",
    "\n",
    "t2 = time.time() \n",
    "print(\"Process completed.\\nTime taken:\") \n",
    "print(\"{:.2f}\".format(round(t2-t1, 2))+\" seconds.\")"
   ]
  },
  {
   "cell_type": "code",
   "execution_count": 5,
   "metadata": {},
   "outputs": [
    {
     "name": "stdout",
     "output_type": "stream",
     "text": [
      "Process completed.\n",
      "Time taken:\n",
      "5.17 seconds.\n"
     ]
    }
   ],
   "source": [
    "t1 = time.time() \n",
    "\n",
    "df_all_news.reset_index(drop=True, inplace=True)\n",
    "df_all_news.to_feather(\"data/original_data/feathers/all_news.ftr\");\n",
    "\n",
    "t2 = time.time() \n",
    "print(\"Process completed.\\nTime taken:\") \n",
    "print(\"{:.2f}\".format(round(t2-t1, 2))+\" seconds.\")"
   ]
  },
  {
   "cell_type": "markdown",
   "metadata": {},
   "source": [
    "As a conclusion pickles are faster for I/O process but feather is a lot smaller in sense of file storage. Probably will use feather for my case since there is limitation in storate capacity"
   ]
  },
  {
   "cell_type": "code",
   "execution_count": null,
   "metadata": {},
   "outputs": [],
   "source": []
  }
 ],
 "metadata": {
  "kernelspec": {
   "display_name": "Python 3",
   "language": "python",
   "name": "python3"
  },
  "language_info": {
   "codemirror_mode": {
    "name": "ipython",
    "version": 3
   },
   "file_extension": ".py",
   "mimetype": "text/x-python",
   "name": "python",
   "nbconvert_exporter": "python",
   "pygments_lexer": "ipython3",
   "version": "3.7.6"
  }
 },
 "nbformat": 4,
 "nbformat_minor": 4
}
