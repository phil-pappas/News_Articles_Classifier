{
 "cells": [
  {
   "source": [
    "## NLP Process"
   ],
   "cell_type": "markdown",
   "metadata": {}
  },
  {
   "cell_type": "code",
   "execution_count": 105,
   "metadata": {},
   "outputs": [
    {
     "output_type": "execute_result",
     "data": {
      "text/plain": [
       "                                                                                                                                               Title  \\\n",
       "0                                                                                           Tracy Morgan performs first stand-up show since accident   \n",
       "1                                                                                        President Barack Obama interviews author Marilynne Robinson   \n",
       "2                                                                                     I will perform at night clubs, shows β€“ Pastor Ofori Amponsah   \n",
       "3  MEG Records' Country Star Tom MacLear will be performing his Chart Topping Top 40 Country Single, Unapproachable, at the Sherman Oaks Street Fair   \n",
       "4                                                                                                                       Defeat the Zombie Apocalypse   \n",
       "\n",
       "                                                                                                                                                                                                                                                                                                                                                                                                                                                                                                                  Text  \\\n",
       "0  tracy morgan performs first stand-up show since accident tracy morgan coming back bang post facebook tracy morgan performs first stand-up show since accident tracy morgan coming back bang check story http on 1rew1aj cancel send link sent end email address posted link posted facebook feed join conver ion find facebook commenting please read conver ion guidelines faqs tracy morgan performs first stand-up show since accident usa today edt 13 actor tracy morgan arrives 67th annual primetime emmy...   \n",
       "1  fcc information president barack obama interviews author ilynne robinson ap photo susan walsh file file 8 file photo president barack obama speaks congressional hispanic caucus institute chci 38th anniversary awards gala washington hillary rodham clinton use private email ser new york ap interview president barack obama one asking questions discussion held last th iowa posted new york review books obama asked pulitzer prize-winning author ilynne robinson faith democracy education writing oba...   \n",
       "2  source ghana hitz euphemia akpalu date time 52 pm ofori amponsah highlife-musician-turned-pastor ofori amponsah says will perform nightclubs even alcoholic company-sponsored events contracted people actually know will will secret want reveal told fan added that judge laws forbid sale alcohol will perform ll brand ambassador alcoholic beverages said promoting new single alewa features sarkodie officially announced return highlife music interview hitz showbiz fylla amanda jissih ofori amponsah...   \n",
       "3  meg records latest music news tom maclear top 40 country singles unapproachable will performed publicly sherman oaks street fair 18th sherman oaks prweb 12 producer singer songwriter tom maclear of meg records often referred man behind curtain one music best kept secrets now emerging toward center stage driving force tom maclear ends evergreen concept band allows maclear perform make music best musicians vocalists business performing sherman oaks street fair 18th 11-1 30pm located ventura bl...   \n",
       "4                                                                                                                                                                                                                                                                                                    defeat zombie apocalypse zombie hunting tukwila story entertainment 10 13 zombie-hunting 73864674 join conver ion defeat zombie apocalypse pdt 13 zombie hunting tukwila team evening hunt zombies photo king-tv    \n",
       "\n",
       "        Category  Text_TotalWords  \n",
       "0  entertainment              225  \n",
       "1  entertainment              178  \n",
       "2  entertainment              204  \n",
       "3  entertainment              230  \n",
       "4  entertainment               29  "
      ],
      "text/html": "<div>\n<style scoped>\n    .dataframe tbody tr th:only-of-type {\n        vertical-align: middle;\n    }\n\n    .dataframe tbody tr th {\n        vertical-align: top;\n    }\n\n    .dataframe thead th {\n        text-align: right;\n    }\n</style>\n<table border=\"1\" class=\"dataframe\">\n  <thead>\n    <tr style=\"text-align: right;\">\n      <th></th>\n      <th>Title</th>\n      <th>Text</th>\n      <th>Category</th>\n      <th>Text_TotalWords</th>\n    </tr>\n  </thead>\n  <tbody>\n    <tr>\n      <td>0</td>\n      <td>Tracy Morgan performs first stand-up show since accident</td>\n      <td>tracy morgan performs first stand-up show since accident tracy morgan coming back bang post facebook tracy morgan performs first stand-up show since accident tracy morgan coming back bang check story http on 1rew1aj cancel send link sent end email address posted link posted facebook feed join conver ion find facebook commenting please read conver ion guidelines faqs tracy morgan performs first stand-up show since accident usa today edt 13 actor tracy morgan arrives 67th annual primetime emmy...</td>\n      <td>entertainment</td>\n      <td>225</td>\n    </tr>\n    <tr>\n      <td>1</td>\n      <td>President Barack Obama interviews author Marilynne Robinson</td>\n      <td>fcc information president barack obama interviews author ilynne robinson ap photo susan walsh file file 8 file photo president barack obama speaks congressional hispanic caucus institute chci 38th anniversary awards gala washington hillary rodham clinton use private email ser new york ap interview president barack obama one asking questions discussion held last th iowa posted new york review books obama asked pulitzer prize-winning author ilynne robinson faith democracy education writing oba...</td>\n      <td>entertainment</td>\n      <td>178</td>\n    </tr>\n    <tr>\n      <td>2</td>\n      <td>I will perform at night clubs, shows β€“ Pastor Ofori Amponsah</td>\n      <td>source ghana hitz euphemia akpalu date time 52 pm ofori amponsah highlife-musician-turned-pastor ofori amponsah says will perform nightclubs even alcoholic company-sponsored events contracted people actually know will will secret want reveal told fan added that judge laws forbid sale alcohol will perform ll brand ambassador alcoholic beverages said promoting new single alewa features sarkodie officially announced return highlife music interview hitz showbiz fylla amanda jissih ofori amponsah...</td>\n      <td>entertainment</td>\n      <td>204</td>\n    </tr>\n    <tr>\n      <td>3</td>\n      <td>MEG Records' Country Star Tom MacLear will be performing his Chart Topping Top 40 Country Single, Unapproachable, at the Sherman Oaks Street Fair</td>\n      <td>meg records latest music news tom maclear top 40 country singles unapproachable will performed publicly sherman oaks street fair 18th sherman oaks prweb 12 producer singer songwriter tom maclear of meg records often referred man behind curtain one music best kept secrets now emerging toward center stage driving force tom maclear ends evergreen concept band allows maclear perform make music best musicians vocalists business performing sherman oaks street fair 18th 11-1 30pm located ventura bl...</td>\n      <td>entertainment</td>\n      <td>230</td>\n    </tr>\n    <tr>\n      <td>4</td>\n      <td>Defeat the Zombie Apocalypse</td>\n      <td>defeat zombie apocalypse zombie hunting tukwila story entertainment 10 13 zombie-hunting 73864674 join conver ion defeat zombie apocalypse pdt 13 zombie hunting tukwila team evening hunt zombies photo king-tv</td>\n      <td>entertainment</td>\n      <td>29</td>\n    </tr>\n  </tbody>\n</table>\n</div>"
     },
     "metadata": {},
     "execution_count": 105
    }
   ],
   "source": [
    "df_all_news_processed = df_all_news_processed.copy()[:5]\n",
    "df_all_news_processed.reset_index(drop=True, inplace=True)\n",
    "df_all_news_processed"
   ]
  },
  {
   "cell_type": "code",
   "execution_count": null,
   "metadata": {},
   "outputs": [],
   "source": [
    "df_all_news_processed['Text'].apply(lambda x: len(x.split(' '))).sum()"
   ]
  },
  {
   "source": [
    "We are dealing with X number of words"
   ],
   "cell_type": "markdown",
   "metadata": {}
  },
  {
   "source": [
    "#### Stemming / Lemmatization (if applicable)"
   ],
   "cell_type": "markdown",
   "metadata": {}
  },
  {
   "cell_type": "code",
   "execution_count": 92,
   "metadata": {},
   "outputs": [
    {
     "output_type": "stream",
     "name": "stdout",
     "text": [
      "Process completed.\nTime taken: 25mins 25secs\n"
     ]
    }
   ],
   "source": [
    "# Lemma works. Perhaps use another lemma? https://www.machinelearningplus.com/nlp/lemmatization-examples-python/#wordnetlemmatizer\n",
    "process_to_do = 'stemming' #values 'lemma' or 'stemming' or None\n",
    "saving = True #True or False to save the dataset as checkpoint\n",
    "\n",
    "if (process_to_do != None):\n",
    "    t1 = time.time() \n",
    "    articles_split_by_word = NLP.tokenization(df_all_news_processed)\n",
    "\n",
    "    if (process_to_do == 'lemma'):\n",
    "        df_all_news_processed['Text'] = NLP.lemmatize(articles_split_by_word)\n",
    "        #took approx 12 mins on my pc \n",
    "        \n",
    "        df_all_news_processed['Text'] = df_all_news_processed['Text'].apply(NLP.rejoin_words)\n",
    "        if (saving):\n",
    "            df_all_news_processed.to_pickle('data/original_data/pickles/df_all_news_processed_lemmatized')\n",
    "\n",
    "    elif (process_to_do == 'stemming'):\n",
    "        df_all_news_processed['Text'] = NLP.stemming(articles_split_by_word)\n",
    "        #took approx 1h & 5 mins on my pc \n",
    "        df_all_news_processed['Text'] = df_all_news_processed['Text'].apply(NLP.rejoin_words)\n",
    "        if (saving):\n",
    "            df_all_news_processed.to_pickle('data/original_data/pickles/df_all_news_processed_stemmed')\n",
    "\n",
    "EDA.process_time(round(time.time()-t1))"
   ]
  },
  {
   "source": [
    "#### Spelling Corrections"
   ],
   "cell_type": "markdown",
   "metadata": {}
  },
  {
   "cell_type": "code",
   "execution_count": 83,
   "metadata": {},
   "outputs": [
    {
     "output_type": "execute_result",
     "data": {
      "text/plain": [
       "\"\\nMention about spelling correction using textBlob (see link above):\\nFist, say that we don't expect often and major spelling errors since these are articles written by journalists in a formal form. Secondly, it would take tremendous time to proccess all these records. In the end, the added value would be minimal\\n\""
      ]
     },
     "metadata": {},
     "execution_count": 83
    }
   ],
   "source": [
    "#https://www.analyticsvidhya.com/blog/2018/02/the-different-methods-deal-text-data-predictive-python/\n",
    "\n",
    "'''\n",
    "Mention about spelling correction using textBlob (see link above):\n",
    "Fist, say that we don't expect often and major spelling errors since these are articles written by journalists in a formal form. Secondly, it would take tremendous time to proccess all these records. In the end, the added value would be minimal\n",
    "'''"
   ]
  },
  {
   "source": [
    "#### Entity Recognition"
   ],
   "cell_type": "markdown",
   "metadata": {}
  },
  {
   "cell_type": "code",
   "execution_count": null,
   "metadata": {
    "scrolled": true
   },
   "outputs": [],
   "source": [
    "##### NAME ENTITY RECOGNITION - START #####   \n",
    "###########################################\n",
    "'''\n",
    "MY COMMENTS:\n",
    "Entity Recognition package of NLTK does not work fully efficiently. It recognises false names.\n",
    "More importantly is super slow for 10 articles and it would require way better hardware capabilities to run for\n",
    "my large corpus 300k+ articles.\n",
    "\n",
    "todo: In the end I will exclude the jar files from the libraries folder and I will just mention \n",
    "it as observation to my final report.\n",
    "'''\n",
    "from nltk.tag import StanfordPOSTagger\n",
    "import nltk \n",
    "nltk.download('punkt')\n",
    "\n",
    "import os\n",
    "\n",
    "java_path = \"C:/Program Files/Java/jdk1.8.0_201/bin/java.exe\"   \n",
    "os.environ['JAVAHOME'] = java_path\n",
    "\n",
    "\n",
    "# Add the jar and model via their path (instead of setting environment variables):\n",
    "jar = 'libraries/stanford-postagger-full-2020-08-06/stanford-postagger.jar'\n",
    "model = 'libraries/stanford-postagger-full-2020-08-06/models/english-left3words-distsim.tagger'\n",
    "pos_tagger = StanfordPOSTagger(model, jar, encoding='utf8')\n",
    "\n",
    "def find_names(row):\n",
    "    for sent in nltk.sent_tokenize(row):\n",
    "        tokens = nltk.tokenize.word_tokenize(sent)\n",
    "        tags = pos_tagger.tag(tokens)\n",
    "        print(tags)\n",
    "        for tag in tags:\n",
    "            if tag[1] in [\"NNP\"]:\n",
    "                print(tag)\n",
    "        print(\"-----\")\n",
    "######################################            \n",
    "\n",
    "df_test=df_all_news_processed[:5].copy()\n",
    "df_test['Text'] = df_test['Text'].str.upper()\n",
    "df_test['Text'].apply(find_names) \n",
    "\n",
    "##### NAME ENTITY RECOGNITION - END #####     \n",
    "######################################### \n"
   ]
  },
  {
   "cell_type": "code",
   "execution_count": 95,
   "metadata": {},
   "outputs": [
    {
     "output_type": "execute_result",
     "data": {
      "text/plain": [
       "                                                            Title  \\\n",
       "0        Tracy Morgan performs first stand-up show since accident   \n",
       "1     President Barack Obama interviews author Marilynne Robinson   \n",
       "2  I will perform at night clubs, shows β€“ Pastor Ofori Amponsah   \n",
       "\n",
       "                                                                                                                                                                                                                                                                                                                                                                                                                                                                                                                  Text  \\\n",
       "0  tracy morgan performs first stand-up show since accident tracy morgan coming back bang post facebook tracy morgan performs first stand-up show since accident tracy morgan coming back bang check story http 1rew1aj cancel send link sent email address posted link posted facebook feed join conver find facebook commenting please read conver guidelines faqs tracy morgan performs first stand-up show since accident today actor tracy morgan arrives 67th annual primetime emmy awards governors ball ang...   \n",
       "1  information president barack obama interviews author ilynne robinson file file photo president barack obama speaks congressional hispanic caucus institute chci 38th anniversary awards gala washington hillary rodham clinton private email york interview president barack obama asking questions discussion held last iowa posted new york review books obama asked pulitzer prize-winning author ilynne robinson faith democracy education writing obama explained robinson anxious unscripted discussion so...   \n",
       "2  source ghana hitz euphemia akpalu date time pm ofori amponsah highlife-musician-turned-pastor ofori amponsah says perform nightclubs even alcoholic company-sponsored events contracted people actually know secret want reveal told added that cannot judge laws forbid sale alcohol perform brand ambassador alcoholic beverages said promoting single alewa features sarkodie officially announced return highlife music interview hitz showbiz fylla amanda jissih ofori amponsah went hibernation releasing...   \n",
       "\n",
       "        Category  Text_TotalWords  \n",
       "0  entertainment              186  \n",
       "1  entertainment              148  \n",
       "2  entertainment              181  "
      ],
      "text/html": "<div>\n<style scoped>\n    .dataframe tbody tr th:only-of-type {\n        vertical-align: middle;\n    }\n\n    .dataframe tbody tr th {\n        vertical-align: top;\n    }\n\n    .dataframe thead th {\n        text-align: right;\n    }\n</style>\n<table border=\"1\" class=\"dataframe\">\n  <thead>\n    <tr style=\"text-align: right;\">\n      <th></th>\n      <th>Title</th>\n      <th>Text</th>\n      <th>Category</th>\n      <th>Text_TotalWords</th>\n    </tr>\n  </thead>\n  <tbody>\n    <tr>\n      <td>0</td>\n      <td>Tracy Morgan performs first stand-up show since accident</td>\n      <td>tracy morgan performs first stand-up show since accident tracy morgan coming back bang post facebook tracy morgan performs first stand-up show since accident tracy morgan coming back bang check story http 1rew1aj cancel send link sent email address posted link posted facebook feed join conver find facebook commenting please read conver guidelines faqs tracy morgan performs first stand-up show since accident today actor tracy morgan arrives 67th annual primetime emmy awards governors ball ang...</td>\n      <td>entertainment</td>\n      <td>186</td>\n    </tr>\n    <tr>\n      <td>1</td>\n      <td>President Barack Obama interviews author Marilynne Robinson</td>\n      <td>information president barack obama interviews author ilynne robinson file file photo president barack obama speaks congressional hispanic caucus institute chci 38th anniversary awards gala washington hillary rodham clinton private email york interview president barack obama asking questions discussion held last iowa posted new york review books obama asked pulitzer prize-winning author ilynne robinson faith democracy education writing obama explained robinson anxious unscripted discussion so...</td>\n      <td>entertainment</td>\n      <td>148</td>\n    </tr>\n    <tr>\n      <td>2</td>\n      <td>I will perform at night clubs, shows β€“ Pastor Ofori Amponsah</td>\n      <td>source ghana hitz euphemia akpalu date time pm ofori amponsah highlife-musician-turned-pastor ofori amponsah says perform nightclubs even alcoholic company-sponsored events contracted people actually know secret want reveal told added that cannot judge laws forbid sale alcohol perform brand ambassador alcoholic beverages said promoting single alewa features sarkodie officially announced return highlife music interview hitz showbiz fylla amanda jissih ofori amponsah went hibernation releasing...</td>\n      <td>entertainment</td>\n      <td>181</td>\n    </tr>\n  </tbody>\n</table>\n</div>"
     },
     "metadata": {},
     "execution_count": 95
    }
   ],
   "source": [
    "#Choose a dataset between: lemma, stemming, clean\n",
    "df_all_news_processed = pd.read_pickle(r'data/original_data/pickles/df_all_news_processed_post_dataset_distribution')\n",
    "pd.options.display.max_colwidth = 500\n",
    "df_all_news_processed.head(3)"
   ]
  }
 ],
 "metadata": {
  "kernelspec": {
   "name": "python374jvsc74a57bd0b3ba2566441a7c06988d0923437866b63cedc61552a5af99d1f4fb67d367b25f",
   "display_name": "Python 3.7.4 64-bit ('base': conda)"
  },
  "language_info": {
   "codemirror_mode": {
    "name": "ipython",
    "version": 3
   },
   "file_extension": ".py",
   "mimetype": "text/x-python",
   "name": "python",
   "nbconvert_exporter": "python",
   "pygments_lexer": "ipython3",
   "version": "3.7.4"
  }
 },
 "nbformat": 4,
 "nbformat_minor": 2
}