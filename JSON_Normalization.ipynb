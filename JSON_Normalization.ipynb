{
 "cells": [
  {
   "cell_type": "markdown",
   "metadata": {},
   "source": [
    "Source of the JSON files can be found <a href=\"https://webhose.io/free-datasets/political-news-articles/\">here</a> \n",
    "<hr/>"
   ]
  },
  {
   "cell_type": "markdown",
   "metadata": {},
   "source": [
    "<h5> Please note: </h5>\n",
    "In order to avoid memory errors you have to use Python's 64-bit version (because 32-bit uses limited memory). Alternatively you can use Anaconda Navigator which takes care any memory issues.\n",
    "\n",
    "I broke down the different datasets in individual pickles and then I combined them together into one to avoid losing data during the extraction process."
   ]
  },
  {
   "cell_type": "markdown",
   "metadata": {},
   "source": [
    "<h3> Installing all the required libraries </h3>"
   ]
  },
  {
   "cell_type": "code",
   "execution_count": 64,
   "metadata": {},
   "outputs": [],
   "source": [
    "import pandas as pd\n",
    "import json\n",
    "import os\n",
    "import progress_bar"
   ]
  },
  {
   "cell_type": "markdown",
   "metadata": {},
   "source": [
    "# <h3>Entertainment news</h3>"
   ]
  },
  {
   "cell_type": "code",
   "execution_count": 7,
   "metadata": {},
   "outputs": [],
   "source": [
    "#windows path\n",
    "path = os.getcwd() + '\\data\\original_data\\entertainment_news'\n",
    "\n",
    "files = []\n",
    "titles = []\n",
    "texts = []\n",
    "\n",
    "\n",
    "\n",
    "#List all the files within this folder and find those that are ending with .json extension\n",
    "for r, d, f in os.walk(path): # r=root, d=directories, f = files\n",
    "    for file in f: \n",
    "        if '.json' in file:\n",
    "            files.append(os.path.join(r, file))\n",
    "\n",
    "# Get the 'title' and the 'text' of each article\n",
    "for file_number in files:\n",
    "    with open (file_number, errors='ignore') as f:\n",
    "        data = json.load(f)\n",
    "        titles.append(data['title']) \n",
    "        texts.append(data['text'])\n",
    "        \n",
    "df_entertainment = pd.DataFrame(\n",
    "        {'Title': titles,\n",
    "         'Text': texts,\n",
    "         'Category': 'entertainment'})\n",
    "titles.clear()\n",
    "texts.clear()"
   ]
  },
  {
   "cell_type": "code",
   "execution_count": 14,
   "metadata": {},
   "outputs": [
    {
     "data": {
      "text/html": [
       "<div>\n",
       "<style scoped>\n",
       "    .dataframe tbody tr th:only-of-type {\n",
       "        vertical-align: middle;\n",
       "    }\n",
       "\n",
       "    .dataframe tbody tr th {\n",
       "        vertical-align: top;\n",
       "    }\n",
       "\n",
       "    .dataframe thead th {\n",
       "        text-align: right;\n",
       "    }\n",
       "</style>\n",
       "<table border=\"1\" class=\"dataframe\">\n",
       "  <thead>\n",
       "    <tr style=\"text-align: right;\">\n",
       "      <th></th>\n",
       "      <th>Title</th>\n",
       "      <th>Text</th>\n",
       "      <th>Category</th>\n",
       "    </tr>\n",
       "  </thead>\n",
       "  <tbody>\n",
       "  </tbody>\n",
       "</table>\n",
       "</div>"
      ],
      "text/plain": [
       "Empty DataFrame\n",
       "Columns: [Title, Text, Category]\n",
       "Index: []"
      ]
     },
     "execution_count": 14,
     "metadata": {},
     "output_type": "execute_result"
    }
   ],
   "source": [
    "df_entertainment.to_pickle('data\\original_data\\pickles\\entertainment')\n",
    "df_entertainment.iloc[0:0]#clear the dataframe"
   ]
  },
  {
   "cell_type": "markdown",
   "metadata": {},
   "source": [
    "### Financial news"
   ]
  },
  {
   "cell_type": "code",
   "execution_count": 23,
   "metadata": {},
   "outputs": [],
   "source": [
    "path = os.getcwd() + '\\\\data\\\\original_data\\\\financial_news'\n",
    "\n",
    "files = []\n",
    "titles = []\n",
    "texts = []\n",
    "\n",
    "# r=root, d=directories, f = files\n",
    "for r, d, f in os.walk(path):\n",
    "    for file in f:\n",
    "        if '.json' in file:\n",
    "            files.append(os.path.join(r, file))\n",
    "\n",
    "\n",
    "for file_number in files:\n",
    "    with open (file_number, errors='ignore') as f:\n",
    "        data = json.load(f)\n",
    "        titles.append(data['title'])\n",
    "        texts.append(data['text'])\n",
    "        \n",
    "df_financial = pd.DataFrame(\n",
    "        {'Title': titles,\n",
    "         'Text': texts,\n",
    "         'Category': 'financial'})\n",
    "titles.clear()\n",
    "texts.clear()"
   ]
  },
  {
   "cell_type": "code",
   "execution_count": 26,
   "metadata": {},
   "outputs": [
    {
     "data": {
      "text/html": [
       "<div>\n",
       "<style scoped>\n",
       "    .dataframe tbody tr th:only-of-type {\n",
       "        vertical-align: middle;\n",
       "    }\n",
       "\n",
       "    .dataframe tbody tr th {\n",
       "        vertical-align: top;\n",
       "    }\n",
       "\n",
       "    .dataframe thead th {\n",
       "        text-align: right;\n",
       "    }\n",
       "</style>\n",
       "<table border=\"1\" class=\"dataframe\">\n",
       "  <thead>\n",
       "    <tr style=\"text-align: right;\">\n",
       "      <th></th>\n",
       "      <th>Title</th>\n",
       "      <th>Text</th>\n",
       "      <th>Category</th>\n",
       "    </tr>\n",
       "  </thead>\n",
       "  <tbody>\n",
       "  </tbody>\n",
       "</table>\n",
       "</div>"
      ],
      "text/plain": [
       "Empty DataFrame\n",
       "Columns: [Title, Text, Category]\n",
       "Index: []"
      ]
     },
     "execution_count": 26,
     "metadata": {},
     "output_type": "execute_result"
    }
   ],
   "source": [
    "#df_all_news = df_all_news.append(df_financial, ignore_index=True)\n",
    "df_financial.to_pickle('data\\\\original_data\\\\pickles\\\\financial')\n",
    "df_financial.iloc[0:0]#clear the dataframe"
   ]
  },
  {
   "cell_type": "markdown",
   "metadata": {},
   "source": [
    "### Political news"
   ]
  },
  {
   "cell_type": "code",
   "execution_count": 58,
   "metadata": {},
   "outputs": [
    {
     "name": "stdout",
     "output_type": "stream",
     "text": [
      "Percentage of completion /100.0/"
     ]
    }
   ],
   "source": [
    "path = os.getcwd() + '\\\\data\\\\original_data\\\\political_news'\n",
    "\n",
    "\n",
    "files = []\n",
    "titles = []\n",
    "texts = []\n",
    "iteration = 1\n",
    "# r=root, d=directories, f = files\n",
    "for r, d, f in os.walk(path):\n",
    "\n",
    "    for file in f:\n",
    "        if '.json' in file:\n",
    "            progress_bar.bar(iteration, len(f))\n",
    "            iteration = iteration + 1\n",
    "            files.append(os.path.join(r, file))\n",
    "\n",
    "\n",
    "for file_number in files:\n",
    "    with open (file_number, errors='ignore') as f:\n",
    "        data = json.load(f)\n",
    "        titles.append(data['title'])\n",
    "        texts.append(data['text'])\n",
    "        \n",
    "df_political = pd.DataFrame(\n",
    "        {'Title': titles,\n",
    "         'Text': texts,\n",
    "         'Category': 'political'})\n",
    "titles.clear()\n",
    "texts.clear()"
   ]
  },
  {
   "cell_type": "code",
   "execution_count": 29,
   "metadata": {},
   "outputs": [
    {
     "data": {
      "text/html": [
       "<div>\n",
       "<style scoped>\n",
       "    .dataframe tbody tr th:only-of-type {\n",
       "        vertical-align: middle;\n",
       "    }\n",
       "\n",
       "    .dataframe tbody tr th {\n",
       "        vertical-align: top;\n",
       "    }\n",
       "\n",
       "    .dataframe thead th {\n",
       "        text-align: right;\n",
       "    }\n",
       "</style>\n",
       "<table border=\"1\" class=\"dataframe\">\n",
       "  <thead>\n",
       "    <tr style=\"text-align: right;\">\n",
       "      <th></th>\n",
       "      <th>Title</th>\n",
       "      <th>Text</th>\n",
       "      <th>Category</th>\n",
       "    </tr>\n",
       "  </thead>\n",
       "  <tbody>\n",
       "  </tbody>\n",
       "</table>\n",
       "</div>"
      ],
      "text/plain": [
       "Empty DataFrame\n",
       "Columns: [Title, Text, Category]\n",
       "Index: []"
      ]
     },
     "execution_count": 29,
     "metadata": {},
     "output_type": "execute_result"
    }
   ],
   "source": [
    "#df_all_news = df_all_news.append(df_political, ignore_index=True)\n",
    "df_political.to_pickle('data\\\\original_data\\\\pickles\\\\political')\n",
    "df_political.iloc[0:0]#clear the dataframe"
   ]
  },
  {
   "cell_type": "markdown",
   "metadata": {},
   "source": [
    "### Sport news"
   ]
  },
  {
   "cell_type": "code",
   "execution_count": 30,
   "metadata": {},
   "outputs": [],
   "source": [
    "path = os.getcwd() + '\\\\data\\\\original_data\\\\sport_news'\n",
    "\n",
    "files = []\n",
    "titles = []\n",
    "texts = []\n",
    "\n",
    "# r=root, d=directories, f = files\n",
    "for r, d, f in os.walk(path):\n",
    "    for file in f:\n",
    "        if '.json' in file:\n",
    "            files.append(os.path.join(r, file))\n",
    "\n",
    "\n",
    "for file_number in files:\n",
    "    with open (file_number, errors='ignore') as f:\n",
    "        data = json.load(f)\n",
    "        titles.append(data['title'])\n",
    "        texts.append(data['text'])\n",
    "        \n",
    "df_sport = pd.DataFrame(\n",
    "        {'Title': titles,\n",
    "         'Text': texts,\n",
    "         'Category': 'sport'})\n",
    "titles.clear()\n",
    "texts.clear()"
   ]
  },
  {
   "cell_type": "code",
   "execution_count": 31,
   "metadata": {},
   "outputs": [
    {
     "data": {
      "text/html": [
       "<div>\n",
       "<style scoped>\n",
       "    .dataframe tbody tr th:only-of-type {\n",
       "        vertical-align: middle;\n",
       "    }\n",
       "\n",
       "    .dataframe tbody tr th {\n",
       "        vertical-align: top;\n",
       "    }\n",
       "\n",
       "    .dataframe thead th {\n",
       "        text-align: right;\n",
       "    }\n",
       "</style>\n",
       "<table border=\"1\" class=\"dataframe\">\n",
       "  <thead>\n",
       "    <tr style=\"text-align: right;\">\n",
       "      <th></th>\n",
       "      <th>Title</th>\n",
       "      <th>Text</th>\n",
       "      <th>Category</th>\n",
       "    </tr>\n",
       "  </thead>\n",
       "  <tbody>\n",
       "  </tbody>\n",
       "</table>\n",
       "</div>"
      ],
      "text/plain": [
       "Empty DataFrame\n",
       "Columns: [Title, Text, Category]\n",
       "Index: []"
      ]
     },
     "execution_count": 31,
     "metadata": {},
     "output_type": "execute_result"
    }
   ],
   "source": [
    "#df_all_news = df_all_news.append(df_sport, ignore_index=True)\n",
    "df_sport.to_pickle('data\\\\original_data\\\\pickles\\\\sport')\n",
    "df_sport.iloc[0:0]#clear the dataframe"
   ]
  },
  {
   "cell_type": "markdown",
   "metadata": {},
   "source": [
    "### Technology news"
   ]
  },
  {
   "cell_type": "code",
   "execution_count": 32,
   "metadata": {},
   "outputs": [],
   "source": [
    "path = os.getcwd() + '\\\\data\\\\original_data\\\\technology_news'\n",
    "\n",
    "files = []\n",
    "titles = []\n",
    "texts = []\n",
    "\n",
    "# r=root, d=directories, f = files\n",
    "for r, d, f in os.walk(path):\n",
    "    for file in f:\n",
    "        if '.json' in file:\n",
    "            files.append(os.path.join(r, file))\n",
    "\n",
    "\n",
    "for file_number in files:\n",
    "    with open (file_number, errors='ignore') as f:\n",
    "        data = json.load(f)\n",
    "        titles.append(data['title'])\n",
    "        texts.append(data['text'])\n",
    "        \n",
    "df_technology = pd.DataFrame(\n",
    "        {'Title': titles,\n",
    "         'Text': texts,\n",
    "         'Category': 'technology'})\n",
    "\n",
    "titles.clear()\n",
    "texts.clear()"
   ]
  },
  {
   "cell_type": "code",
   "execution_count": 33,
   "metadata": {},
   "outputs": [
    {
     "data": {
      "text/html": [
       "<div>\n",
       "<style scoped>\n",
       "    .dataframe tbody tr th:only-of-type {\n",
       "        vertical-align: middle;\n",
       "    }\n",
       "\n",
       "    .dataframe tbody tr th {\n",
       "        vertical-align: top;\n",
       "    }\n",
       "\n",
       "    .dataframe thead th {\n",
       "        text-align: right;\n",
       "    }\n",
       "</style>\n",
       "<table border=\"1\" class=\"dataframe\">\n",
       "  <thead>\n",
       "    <tr style=\"text-align: right;\">\n",
       "      <th></th>\n",
       "      <th>Title</th>\n",
       "      <th>Text</th>\n",
       "      <th>Category</th>\n",
       "    </tr>\n",
       "  </thead>\n",
       "  <tbody>\n",
       "  </tbody>\n",
       "</table>\n",
       "</div>"
      ],
      "text/plain": [
       "Empty DataFrame\n",
       "Columns: [Title, Text, Category]\n",
       "Index: []"
      ]
     },
     "execution_count": 33,
     "metadata": {},
     "output_type": "execute_result"
    }
   ],
   "source": [
    "df_technology.to_pickle('data\\\\original_data\\\\pickles\\\\technology')\n",
    "df_technology.iloc[0:0]#clear the dataframe"
   ]
  },
  {
   "cell_type": "markdown",
   "metadata": {},
   "source": [
    "### Travel news"
   ]
  },
  {
   "cell_type": "code",
   "execution_count": 41,
   "metadata": {},
   "outputs": [],
   "source": [
    "path = os.getcwd() + '\\\\data\\\\original_data\\\\travel_news'\n",
    "\n",
    "files = []\n",
    "titles = []\n",
    "texts = []\n",
    "\n",
    "# r=root, d=directories, f = files\n",
    "for r, d, f in os.walk(path):\n",
    "    for file in f:\n",
    "        if '.json' in file:\n",
    "            files.append(os.path.join(r, file))\n",
    "\n",
    "\n",
    "for file_number in files:\n",
    "    with open (file_number, errors='ignore') as f:\n",
    "        data = json.load(f)\n",
    "        titles.append(data['title'])\n",
    "        texts.append(data['text'])\n",
    "        \n",
    "df_travel = pd.DataFrame(\n",
    "        {'Title': titles,\n",
    "         'Text': texts,\n",
    "         'Category': 'travel'})\n",
    "\n",
    "\n",
    "titles.clear()\n",
    "texts.clear()"
   ]
  },
  {
   "cell_type": "code",
   "execution_count": 42,
   "metadata": {},
   "outputs": [
    {
     "data": {
      "text/html": [
       "<div>\n",
       "<style scoped>\n",
       "    .dataframe tbody tr th:only-of-type {\n",
       "        vertical-align: middle;\n",
       "    }\n",
       "\n",
       "    .dataframe tbody tr th {\n",
       "        vertical-align: top;\n",
       "    }\n",
       "\n",
       "    .dataframe thead th {\n",
       "        text-align: right;\n",
       "    }\n",
       "</style>\n",
       "<table border=\"1\" class=\"dataframe\">\n",
       "  <thead>\n",
       "    <tr style=\"text-align: right;\">\n",
       "      <th></th>\n",
       "      <th>Title</th>\n",
       "      <th>Text</th>\n",
       "      <th>Category</th>\n",
       "    </tr>\n",
       "  </thead>\n",
       "  <tbody>\n",
       "  </tbody>\n",
       "</table>\n",
       "</div>"
      ],
      "text/plain": [
       "Empty DataFrame\n",
       "Columns: [Title, Text, Category]\n",
       "Index: []"
      ]
     },
     "execution_count": 42,
     "metadata": {},
     "output_type": "execute_result"
    }
   ],
   "source": [
    "df_travel.to_pickle('data\\\\original_data\\\\pickles\\\\travel')\n",
    "df_travel.iloc[0:0]#clear the dataframe"
   ]
  },
  {
   "cell_type": "markdown",
   "metadata": {},
   "source": [
    "### World news"
   ]
  },
  {
   "cell_type": "code",
   "execution_count": 44,
   "metadata": {},
   "outputs": [],
   "source": [
    "path = os.getcwd() + '\\\\data\\\\original_data\\\\world_news'\n",
    "\n",
    "files = []\n",
    "titles = []\n",
    "texts = []\n",
    "\n",
    "# r=root, d=directories, f = files\n",
    "for r, d, f in os.walk(path):\n",
    "    for file in f:\n",
    "        if '.json' in file:\n",
    "            files.append(os.path.join(r, file))\n",
    "\n",
    "\n",
    "for file_number in files:\n",
    "    with open (file_number, errors='ignore') as f:\n",
    "        data = json.load(f)\n",
    "        titles.append(data['title'])\n",
    "        texts.append(data['text'])\n",
    "        \n",
    "df_world = pd.DataFrame(\n",
    "        {'Title': titles,\n",
    "         'Text': texts,\n",
    "         'Category': 'world'})\n",
    "\n",
    "\n",
    "titles.clear()\n",
    "texts.clear()"
   ]
  },
  {
   "cell_type": "code",
   "execution_count": 45,
   "metadata": {},
   "outputs": [
    {
     "data": {
      "text/html": [
       "<div>\n",
       "<style scoped>\n",
       "    .dataframe tbody tr th:only-of-type {\n",
       "        vertical-align: middle;\n",
       "    }\n",
       "\n",
       "    .dataframe tbody tr th {\n",
       "        vertical-align: top;\n",
       "    }\n",
       "\n",
       "    .dataframe thead th {\n",
       "        text-align: right;\n",
       "    }\n",
       "</style>\n",
       "<table border=\"1\" class=\"dataframe\">\n",
       "  <thead>\n",
       "    <tr style=\"text-align: right;\">\n",
       "      <th></th>\n",
       "      <th>Title</th>\n",
       "      <th>Text</th>\n",
       "      <th>Category</th>\n",
       "    </tr>\n",
       "  </thead>\n",
       "  <tbody>\n",
       "  </tbody>\n",
       "</table>\n",
       "</div>"
      ],
      "text/plain": [
       "Empty DataFrame\n",
       "Columns: [Title, Text, Category]\n",
       "Index: []"
      ]
     },
     "execution_count": 45,
     "metadata": {},
     "output_type": "execute_result"
    }
   ],
   "source": [
    "df_world.to_pickle('data\\\\original_data\\\\pickles\\\\world')\n",
    "df_world.iloc[0:0]#clear the dataframe"
   ]
  },
  {
   "cell_type": "code",
   "execution_count": null,
   "metadata": {},
   "outputs": [],
   "source": [
    "###########################"
   ]
  },
  {
   "cell_type": "code",
   "execution_count": 59,
   "metadata": {},
   "outputs": [],
   "source": [
    "df_entertainment = pd.read_pickle('data\\\\original_data\\\\pickles\\\\entertainment')\n",
    "df_financial = pd.read_pickle('data\\\\original_data\\\\pickles\\\\financial')\n",
    "df_political = pd.read_pickle('data\\\\original_data\\\\pickles\\\\political')\n",
    "df_sport = pd.read_pickle('data\\\\original_data\\\\pickles\\\\sport')\n",
    "df_technology = pd.read_pickle('data\\\\original_data\\\\pickles\\\\technology')\n",
    "df_travel = pd.read_pickle('data\\\\original_data\\\\pickles\\\\travel')\n",
    "df_world = pd.read_pickle('data\\\\original_data\\\\pickles\\\\world')"
   ]
  },
  {
   "cell_type": "code",
   "execution_count": 72,
   "metadata": {},
   "outputs": [],
   "source": [
    "#concatenate the dtaframes into one\n",
    "frames = [df_entertainment, df_financial, df_political, df_sport, df_technology, df_travel, df_world]\n",
    "df_all_news = pd.concat(frames)"
   ]
  },
  {
   "cell_type": "code",
   "execution_count": 73,
   "metadata": {},
   "outputs": [
    {
     "data": {
      "text/html": [
       "<div>\n",
       "<style scoped>\n",
       "    .dataframe tbody tr th:only-of-type {\n",
       "        vertical-align: middle;\n",
       "    }\n",
       "\n",
       "    .dataframe tbody tr th {\n",
       "        vertical-align: top;\n",
       "    }\n",
       "\n",
       "    .dataframe thead th {\n",
       "        text-align: right;\n",
       "    }\n",
       "</style>\n",
       "<table border=\"1\" class=\"dataframe\">\n",
       "  <thead>\n",
       "    <tr style=\"text-align: right;\">\n",
       "      <th></th>\n",
       "      <th>Title</th>\n",
       "      <th>Text</th>\n",
       "      <th>Category</th>\n",
       "    </tr>\n",
       "  </thead>\n",
       "  <tbody>\n",
       "  </tbody>\n",
       "</table>\n",
       "</div>"
      ],
      "text/plain": [
       "Empty DataFrame\n",
       "Columns: [Title, Text, Category]\n",
       "Index: []"
      ]
     },
     "execution_count": 73,
     "metadata": {},
     "output_type": "execute_result"
    }
   ],
   "source": [
    "# Export the final dataframe to excel and to a dataframe \n",
    "# (May run for several minutes)\n",
    "df_all_news.to_pickle('data\\\\original_data\\\\pickles\\\\all_news')\n",
    "\n",
    "\n",
    "#to avoid the warning \"> 255 characters since it exceeds Excel's limit for URLS\" use the excel writer\n",
    "writer = pd.ExcelWriter(r'data\\\\original_data\\\\all_news.xlsx', engine='xlsxwriter',options={'strings_to_urls': False, 'Index': False})\n",
    "df_all_news.to_excel(writer)\n",
    "writer.close()\n",
    "df_all_news.iloc[0:0]#clear the dataframe"
   ]
  },
  {
   "cell_type": "code",
   "execution_count": null,
   "metadata": {},
   "outputs": [],
   "source": [
    "#CLEAR ALL THE UNECESSARY VARIABLES AND DATAFRAMES"
   ]
  }
 ],
 "metadata": {
  "kernelspec": {
   "display_name": "Python 3",
   "language": "python",
   "name": "python3"
  },
  "language_info": {
   "codemirror_mode": {
    "name": "ipython",
    "version": 3
   },
   "file_extension": ".py",
   "mimetype": "text/x-python",
   "name": "python",
   "nbconvert_exporter": "python",
   "pygments_lexer": "ipython3",
   "version": "3.7.4"
  }
 },
 "nbformat": 4,
 "nbformat_minor": 2
}
