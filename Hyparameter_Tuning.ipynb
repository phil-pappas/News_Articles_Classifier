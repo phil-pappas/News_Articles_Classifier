{
 "metadata": {
  "language_info": {
   "codemirror_mode": {
    "name": "ipython",
    "version": 3
   },
   "file_extension": ".py",
   "mimetype": "text/x-python",
   "name": "python",
   "nbconvert_exporter": "python",
   "pygments_lexer": "ipython3",
   "version": "3.7.4-final"
  },
  "orig_nbformat": 2,
  "kernelspec": {
   "name": "python3",
   "display_name": "Python 3",
   "language": "python"
  }
 },
 "nbformat": 4,
 "nbformat_minor": 2,
 "cells": [
  {
   "cell_type": "code",
   "execution_count": 22,
   "metadata": {},
   "outputs": [],
   "source": [
    "%run packages_imported.py\n",
    "%run EDA.py\n",
    "\n",
    "from sklearn.model_selection import train_test_split\n",
    "from sklearn.pipeline import Pipeline\n",
    "from sklearn.feature_extraction.text import CountVectorizer\n",
    "from sklearn.feature_extraction.text import TfidfTransformer\n",
    "from sklearn.feature_extraction.text import TfidfVectorizer\n",
    "from sklearn.metrics import classification_report\n",
    "from sklearn.metrics import accuracy_score\n",
    "from sklearn.model_selection import train_test_split, GridSearchCV\n",
    "import pickle\n"
   ]
  },
  {
   "cell_type": "code",
   "execution_count": 3,
   "metadata": {},
   "outputs": [],
   "source": [
    "#df_all_news_processed = pd.read_pickle(r'data/original_data/pickles/df_all_news_processed_post_dataset_distribution')"
   ]
  },
  {
   "cell_type": "code",
   "execution_count": 20,
   "metadata": {},
   "outputs": [],
   "source": [
    "frame1 = df_all_news_processed.loc[df_all_news_processed['Category'] == 'entertainment'][:1000]\n",
    "frame2 = df_all_news_processed.loc[df_all_news_processed['Category'] == 'financial'][:1000]\n",
    "frame3 = df_all_news_processed.loc[df_all_news_processed['Category'] == 'political'][:1000]\n",
    "frame4 = df_all_news_processed.loc[df_all_news_processed['Category'] == 'sport'][:1000]\n",
    "frame5 = df_all_news_processed.loc[df_all_news_processed['Category'] == 'technology'][:1000]\n",
    "frame6 = df_all_news_processed.loc[df_all_news_processed['Category'] == 'world'][:1000]\n",
    "frame7 = df_all_news_processed.loc[df_all_news_processed['Category'] == 'travel'][:1000]\n",
    "\n",
    "frames = [frame1, frame2, frame3, frame4, frame5, frame6, frame7]\n",
    "df_processed_smaller = pd.concat(frames)\n",
    "df_processed_smaller.reset_index()\n",
    "df_processed_smaller.to_pickle('data/original_data/pickles/df_processed_smaller_before_tuning')"
   ]
  },
  {
   "source": [
    "--------"
   ],
   "cell_type": "markdown",
   "metadata": {}
  },
  {
   "cell_type": "code",
   "execution_count": 3,
   "metadata": {},
   "outputs": [],
   "source": [
    "df_all_news_processed = pd.read_pickle(r'data/original_data/pickles/df_processed_smaller_before_tuning')\n",
    "\n",
    "X = df_all_news_processed['Text']\n",
    "Y = df_all_news_processed['Category']\n",
    "distinct_categories = Y.drop_duplicates()"
   ]
  },
  {
   "cell_type": "code",
   "execution_count": 342,
   "metadata": {},
   "outputs": [],
   "source": []
  },
  {
   "source": [
    "t1 = time.time() \n",
    "\n",
    "from sklearn.feature_extraction.text import TfidfVectorizer\n",
    "tfidfconverter = TfidfVectorizer(max_features=1500, min_df=5, max_df=0.7)\n",
    "X = tfidfconverter.fit_transform(df_all_news_processed['Text']).toarray()\n",
    "\n",
    "EDA.process_time(round(time.time()-t1))"
   ],
   "cell_type": "code",
   "metadata": {},
   "execution_count": 4,
   "outputs": [
    {
     "output_type": "stream",
     "name": "stdout",
     "text": [
      "Process completed.\nTime taken: 2 seconds\n"
     ]
    }
   ]
  },
  {
   "cell_type": "code",
   "execution_count": 113,
   "metadata": {},
   "outputs": [],
   "source": [
    "from sklearn.model_selection import GridSearchCV"
   ]
  },
  {
   "cell_type": "code",
   "execution_count": 114,
   "metadata": {},
   "outputs": [
    {
     "output_type": "stream",
     "name": "stdout",
     "text": [
      "{'max_features': 'log2', 'n_estimators': 700}\nProcess completed.\nTime taken: 2mins 11secs\n"
     ]
    }
   ],
   "source": [
    "t1 = time.time() \n",
    "\n",
    "y = df_all_news_processed['Category']\n",
    "\n",
    "from sklearn.ensemble import RandomForestClassifier\n",
    "from sklearn.model_selection import train_test_split\n",
    "X_train, X_test, y_train, y_test = train_test_split(X, y, test_size=0.2, random_state=0)\n",
    "\n",
    "r_f_c = RandomForestClassifier(n_jobs=-1,max_features= 'sqrt' ,n_estimators=50, random_state=0)\n",
    "param_grid = { \n",
    "    'n_estimators': [200, 700],\n",
    "    'max_features': ['auto', 'log2']\n",
    "}\n",
    "CV_rfc = GridSearchCV(estimator=r_f_c, param_grid=param_grid, cv= 5)\n",
    "\n",
    "CV_rfc.fit(X_train, y_train) \n",
    "print (CV_rfc.best_params_)\n",
    "EDA.process_time(round(time.time()-t1))"
   ]
  },
  {
   "source": [
    "## Naive Bayes (Multinomial?)"
   ],
   "cell_type": "markdown",
   "metadata": {}
  },
  {
   "cell_type": "code",
   "execution_count": 344,
   "metadata": {},
   "outputs": [],
   "source": [
    "from sklearn.naive_bayes import MultinomialNB\n",
    "algo_pipe = Pipeline([('tfidf', TfidfVectorizer()),\n",
    "                     ('clf', MultinomialNB())])\n",
    "tuned_parameters = {\n",
    "    'tfidf__ngram_range': [(1, 1), (1, 2), (2, 2)],\n",
    "    'tfidf__use_idf': (True, False),\n",
    "    'tfidf__max_df': (0.25, 0.5, 0.75),\n",
    "    'tfidf__norm': ('l1', 'l2'),\n",
    "    'clf__fit_prior': [True, False],\n",
    "    'clf__alpha': [1, 0.6, 0.1, 1e-2, 1e-3, 1e-4]\n",
    "}\n",
    "\n",
    "x_train, x_test, y_train, y_test = train_test_split(X, Y, test_size=0.2, random_state = 42)"
   ]
  },
  {
   "cell_type": "code",
   "execution_count": 345,
   "metadata": {},
   "outputs": [
    {
     "output_type": "stream",
     "name": "stdout",
     "text": [
      "               precision    recall  f1-score   support\n\nentertainment     0.7419    0.7931    0.7667       203\n    financial     0.7034    0.7411    0.7217       224\n    political     0.6125    0.5506    0.5799       178\n        sport     0.8242    0.6977    0.7557       215\n   technology     0.5614    0.6995    0.6229       183\n       travel     0.7500    0.7258    0.7377       186\n        world     0.6345    0.5924    0.6127       211\n\n     accuracy                         0.6879      1400\n    macro avg     0.6897    0.6857    0.6853      1400\n weighted avg     0.6932    0.6879    0.6882      1400\n\nBest Score:  0.7008928571428571\nBest Params:  {'clf__alpha': 0.01, 'clf__fit_prior': False, 'tfidf__max_df': 0.5, 'tfidf__ngram_range': (1, 2), 'tfidf__norm': 'l1', 'tfidf__use_idf': True}\nProcess completed.\nTime taken: 4h 41mins 10secs\n"
     ]
    }
   ],
   "source": [
    "t1 = time.time() \n",
    "from sklearn.metrics import classification_report\n",
    "from sklearn.model_selection import train_test_split, GridSearchCV\n",
    "from sklearn.naive_bayes import MultinomialNB\n",
    "from sklearn.feature_extraction.text import TfidfVectorizer\n",
    "#from sklearn.feature_extraction.text import TfidfTransformer\n",
    "\n",
    "clf = GridSearchCV(algo_pipe, tuned_parameters, cv=10, scoring='accuracy')\n",
    "clf.fit(X_train, Y_train)\n",
    "\n",
    "y_pred = clf.predict(X_test)\n",
    "\n",
    "print(classification_report(Y_test, y_pred, digits=4))\n",
    "\n",
    "print(\"Best Score: \", clf.best_score_)\n",
    "print(\"Best Params: \", clf.best_params_)\n",
    "EDA.process_time(round(time.time()-t1))"
   ]
  },
  {
   "source": [
    "#### Confusion Matrix"
   ],
   "cell_type": "markdown",
   "metadata": {}
  },
  {
   "source": [
    "EDA.display_confusion_matrix(y_test, clf.predict(X_test), distinct_categories, plot_title=\"Multinomial Naive Bayes Confusion Matrix\")"
   ],
   "cell_type": "code",
   "metadata": {},
   "execution_count": null,
   "outputs": []
  },
  {
   "cell_type": "code",
   "execution_count": 349,
   "metadata": {},
   "outputs": [],
   "source": [
    "#save the gridSearchResults as pickle file\n",
    "with open('data/GridSearch_results/mnb_GridSearchCV.pkl', 'wb') as handle:\n",
    "    pickle.dump(clf, handle, protocol=pickle.HIGHEST_PROTOCOL)\n",
    "'''# reload the object\n",
    "with open('data/GridSearch_results/mnb_GridSearchCV.pkl', 'rb') as handle:\n",
    "    grid_reloaded = pickle.load(handle)'''"
   ]
  },
  {
   "source": [
    "## Support Vector Machine (SVM)"
   ],
   "cell_type": "markdown",
   "metadata": {}
  },
  {
   "cell_type": "code",
   "execution_count": 98,
   "metadata": {},
   "outputs": [
    {
     "output_type": "stream",
     "name": "stdout",
     "text": [
      "               precision    recall  f1-score   support\n\nentertainment     0.7364    0.7980    0.7660       203\n    financial     0.7535    0.7232    0.7380       224\n    political     0.5829    0.6124    0.5973       178\n        sport     0.7682    0.7860    0.7770       215\n   technology     0.5991    0.6940    0.6430       183\n       travel     0.7798    0.7043    0.7401       186\n        world     0.6798    0.5735    0.6221       211\n\n     accuracy                         0.7007      1400\n    macro avg     0.6999    0.6988    0.6976      1400\n weighted avg     0.7038    0.7007    0.7006      1400\n\nBest Score:  0.7160714285714286\nBest Params:  {'sgd__alpha': 0.001, 'sgd__loss': 'modified_huber', 'sgd__n_iter_no_change': 30, 'sgd__n_jobs': -1, 'sgd__penalty': 'l2', 'sgd__random_state': 42, 'sgd__tol': None}\nProcess completed.\nTime taken: 1h 53mins 53secs\n"
     ]
    }
   ],
   "source": [
    "from sklearn.linear_model import SGDClassifier\n",
    "t1 = time.time() \n",
    "\n",
    "algo_pipe = Pipeline([('tfidf', TfidfVectorizer()),\n",
    "                     ('sgd', SGDClassifier())])\n",
    "\n",
    "x_train, x_test, y_train, y_test = train_test_split(X, Y, test_size=0.2, random_state = 42)\n",
    "\n",
    "'''\n",
    "\n",
    "('clf', SGDClassifier(loss='hinge', penalty='l2',alpha=1e-3, random_state=42, max_iter=5, tol=None))]\n",
    "sdg.fit(X_train, Y_train)\n",
    "y_pred = sdg.predict(X_test)\n",
    "\n",
    "print('accuracy %s' % accuracy_score(y_pred, y_test))\n",
    "print(classification_report(y_test, y_pred,target_names=distinct_categories))\n",
    "EDA.process_time(round(time.time()-t1))'''\n",
    "\n",
    "tuned_parameters = {\n",
    "    'sgd__alpha': [1e-4, 1e-3, 1e-2, 1e-1, 1e0],\n",
    "    'sgd__loss': ['hinge', \"log\", \"modified_huber\", \"perceptron\", \"squared_hinge\"],\n",
    "    'sgd__penalty': ['l1', 'l2'],\n",
    "    'sgd__random_state': [42],\n",
    "    'sgd__n_iter_no_change': [30],\n",
    "    'sgd__tol': [None],\n",
    "    'sgd__n_jobs': [-1]\n",
    "}\n",
    "\n",
    "\n",
    "sgd = GridSearchCV(algo_pipe, tuned_parameters, cv=10, scoring='accuracy')\n",
    "sgd.fit(x_train, y_train)\n",
    "\n",
    "y_pred = sgd.predict(x_test)\n",
    "\n",
    "print(classification_report(y_test, y_pred, digits=4))\n",
    "\n",
    "print(\"Best Score: \", sgd.best_score_)\n",
    "print(\"Best Params: \", sgd.best_params_)\n",
    "EDA.process_time(round(time.time()-t1))"
   ]
  },
  {
   "cell_type": "code",
   "execution_count": 124,
   "metadata": {},
   "outputs": [],
   "source": [
    "#save the gridSearchResults as pickle file\n",
    "with open('data/GridSearch_results/sgd_GridSearchCV.pkl', 'wb') as handle:\n",
    "    pickle.dump(sgd, handle, protocol=pickle.HIGHEST_PROTOCOL)\n",
    "'''# reload the object\n",
    "with open('data/GridSearch_results/sgd_GridSearchCV.pkl', 'rb') as handle:\n",
    "    grid_reloaded = pickle.load(handle)'''"
   ]
  },
  {
   "source": [
    "#### Display Accuracy scores"
   ],
   "cell_type": "markdown",
   "metadata": {}
  },
  {
   "cell_type": "code",
   "execution_count": 358,
   "metadata": {},
   "outputs": [
    {
     "output_type": "display_data",
     "data": {
      "application/vnd.plotly.v1+json": {
       "config": {
        "plotlyServerURL": "https://plot.ly"
       },
       "data": [
        {
         "hovertemplate": "Alpha values=%{x}<br>Accuracy scores=%{y}<extra></extra>",
         "legendgroup": "",
         "marker": {
          "color": "#636efa",
          "symbol": "circle"
         },
         "mode": "markers",
         "name": "",
         "orientation": "v",
         "showlegend": false,
         "type": "scatter",
         "x": [
          0.0001,
          0.0001,
          0.0001,
          0.0001,
          0.0001,
          0.0001,
          0.0001,
          0.0001,
          0.0001,
          0.0001,
          0.001,
          0.001,
          0.001,
          0.001,
          0.001,
          0.001,
          0.001,
          0.001,
          0.001,
          0.001,
          0.01,
          0.01,
          0.01,
          0.01,
          0.01,
          0.01,
          0.01,
          0.01,
          0.01,
          0.01,
          0.1,
          0.1,
          0.1,
          0.1,
          0.1,
          0.1,
          0.1,
          0.1,
          0.1,
          0.1,
          1,
          1,
          1,
          1,
          1,
          1,
          1,
          1,
          1,
          1
         ],
         "xaxis": "x",
         "y": [
          0.6914285714285714,
          0.7039285714285715,
          0.6839285714285714,
          0.7141071428571428,
          0.6694642857142857,
          0.7023214285714285,
          0.50625,
          0.5680357142857143,
          0.5680357142857143,
          0.6385714285714286,
          0.5028571428571429,
          0.7014285714285714,
          0.5467857142857143,
          0.6982142857142857,
          0.6476785714285714,
          0.7160714285714286,
          0.2342857142857143,
          0.5542857142857143,
          0.6464285714285715,
          0.7160714285714286,
          0.14267857142857143,
          0.6958928571428571,
          0.14607142857142857,
          0.6675,
          0.2978571428571429,
          0.7014285714285714,
          0.14214285714285715,
          0.55125,
          0.2976785714285714,
          0.7014285714285714,
          0.14464285714285716,
          0.5408928571428572,
          0.14464285714285716,
          0.3344642857142857,
          0.1455357142857143,
          0.6582142857142858,
          0.14267857142857143,
          0.5416071428571428,
          0.1455357142857143,
          0.6582142857142858,
          0.14267857142857143,
          0.19482142857142856,
          0.14267857142857143,
          0.19785714285714287,
          0.14267857142857143,
          0.23017857142857143,
          0.1417857142857143,
          0.4857142857142857,
          0.14267857142857143,
          0.23017857142857143
         ],
         "yaxis": "y"
        }
       ],
       "layout": {
        "legend": {
         "tracegroupgap": 0
        },
        "template": {
         "data": {
          "bar": [
           {
            "error_x": {
             "color": "#2a3f5f"
            },
            "error_y": {
             "color": "#2a3f5f"
            },
            "marker": {
             "line": {
              "color": "#E5ECF6",
              "width": 0.5
             }
            },
            "type": "bar"
           }
          ],
          "barpolar": [
           {
            "marker": {
             "line": {
              "color": "#E5ECF6",
              "width": 0.5
             }
            },
            "type": "barpolar"
           }
          ],
          "carpet": [
           {
            "aaxis": {
             "endlinecolor": "#2a3f5f",
             "gridcolor": "white",
             "linecolor": "white",
             "minorgridcolor": "white",
             "startlinecolor": "#2a3f5f"
            },
            "baxis": {
             "endlinecolor": "#2a3f5f",
             "gridcolor": "white",
             "linecolor": "white",
             "minorgridcolor": "white",
             "startlinecolor": "#2a3f5f"
            },
            "type": "carpet"
           }
          ],
          "choropleth": [
           {
            "colorbar": {
             "outlinewidth": 0,
             "ticks": ""
            },
            "type": "choropleth"
           }
          ],
          "contour": [
           {
            "colorbar": {
             "outlinewidth": 0,
             "ticks": ""
            },
            "colorscale": [
             [
              0,
              "#0d0887"
             ],
             [
              0.1111111111111111,
              "#46039f"
             ],
             [
              0.2222222222222222,
              "#7201a8"
             ],
             [
              0.3333333333333333,
              "#9c179e"
             ],
             [
              0.4444444444444444,
              "#bd3786"
             ],
             [
              0.5555555555555556,
              "#d8576b"
             ],
             [
              0.6666666666666666,
              "#ed7953"
             ],
             [
              0.7777777777777778,
              "#fb9f3a"
             ],
             [
              0.8888888888888888,
              "#fdca26"
             ],
             [
              1,
              "#f0f921"
             ]
            ],
            "type": "contour"
           }
          ],
          "contourcarpet": [
           {
            "colorbar": {
             "outlinewidth": 0,
             "ticks": ""
            },
            "type": "contourcarpet"
           }
          ],
          "heatmap": [
           {
            "colorbar": {
             "outlinewidth": 0,
             "ticks": ""
            },
            "colorscale": [
             [
              0,
              "#0d0887"
             ],
             [
              0.1111111111111111,
              "#46039f"
             ],
             [
              0.2222222222222222,
              "#7201a8"
             ],
             [
              0.3333333333333333,
              "#9c179e"
             ],
             [
              0.4444444444444444,
              "#bd3786"
             ],
             [
              0.5555555555555556,
              "#d8576b"
             ],
             [
              0.6666666666666666,
              "#ed7953"
             ],
             [
              0.7777777777777778,
              "#fb9f3a"
             ],
             [
              0.8888888888888888,
              "#fdca26"
             ],
             [
              1,
              "#f0f921"
             ]
            ],
            "type": "heatmap"
           }
          ],
          "heatmapgl": [
           {
            "colorbar": {
             "outlinewidth": 0,
             "ticks": ""
            },
            "colorscale": [
             [
              0,
              "#0d0887"
             ],
             [
              0.1111111111111111,
              "#46039f"
             ],
             [
              0.2222222222222222,
              "#7201a8"
             ],
             [
              0.3333333333333333,
              "#9c179e"
             ],
             [
              0.4444444444444444,
              "#bd3786"
             ],
             [
              0.5555555555555556,
              "#d8576b"
             ],
             [
              0.6666666666666666,
              "#ed7953"
             ],
             [
              0.7777777777777778,
              "#fb9f3a"
             ],
             [
              0.8888888888888888,
              "#fdca26"
             ],
             [
              1,
              "#f0f921"
             ]
            ],
            "type": "heatmapgl"
           }
          ],
          "histogram": [
           {
            "marker": {
             "colorbar": {
              "outlinewidth": 0,
              "ticks": ""
             }
            },
            "type": "histogram"
           }
          ],
          "histogram2d": [
           {
            "colorbar": {
             "outlinewidth": 0,
             "ticks": ""
            },
            "colorscale": [
             [
              0,
              "#0d0887"
             ],
             [
              0.1111111111111111,
              "#46039f"
             ],
             [
              0.2222222222222222,
              "#7201a8"
             ],
             [
              0.3333333333333333,
              "#9c179e"
             ],
             [
              0.4444444444444444,
              "#bd3786"
             ],
             [
              0.5555555555555556,
              "#d8576b"
             ],
             [
              0.6666666666666666,
              "#ed7953"
             ],
             [
              0.7777777777777778,
              "#fb9f3a"
             ],
             [
              0.8888888888888888,
              "#fdca26"
             ],
             [
              1,
              "#f0f921"
             ]
            ],
            "type": "histogram2d"
           }
          ],
          "histogram2dcontour": [
           {
            "colorbar": {
             "outlinewidth": 0,
             "ticks": ""
            },
            "colorscale": [
             [
              0,
              "#0d0887"
             ],
             [
              0.1111111111111111,
              "#46039f"
             ],
             [
              0.2222222222222222,
              "#7201a8"
             ],
             [
              0.3333333333333333,
              "#9c179e"
             ],
             [
              0.4444444444444444,
              "#bd3786"
             ],
             [
              0.5555555555555556,
              "#d8576b"
             ],
             [
              0.6666666666666666,
              "#ed7953"
             ],
             [
              0.7777777777777778,
              "#fb9f3a"
             ],
             [
              0.8888888888888888,
              "#fdca26"
             ],
             [
              1,
              "#f0f921"
             ]
            ],
            "type": "histogram2dcontour"
           }
          ],
          "mesh3d": [
           {
            "colorbar": {
             "outlinewidth": 0,
             "ticks": ""
            },
            "type": "mesh3d"
           }
          ],
          "parcoords": [
           {
            "line": {
             "colorbar": {
              "outlinewidth": 0,
              "ticks": ""
             }
            },
            "type": "parcoords"
           }
          ],
          "pie": [
           {
            "automargin": true,
            "type": "pie"
           }
          ],
          "scatter": [
           {
            "marker": {
             "colorbar": {
              "outlinewidth": 0,
              "ticks": ""
             }
            },
            "type": "scatter"
           }
          ],
          "scatter3d": [
           {
            "line": {
             "colorbar": {
              "outlinewidth": 0,
              "ticks": ""
             }
            },
            "marker": {
             "colorbar": {
              "outlinewidth": 0,
              "ticks": ""
             }
            },
            "type": "scatter3d"
           }
          ],
          "scattercarpet": [
           {
            "marker": {
             "colorbar": {
              "outlinewidth": 0,
              "ticks": ""
             }
            },
            "type": "scattercarpet"
           }
          ],
          "scattergeo": [
           {
            "marker": {
             "colorbar": {
              "outlinewidth": 0,
              "ticks": ""
             }
            },
            "type": "scattergeo"
           }
          ],
          "scattergl": [
           {
            "marker": {
             "colorbar": {
              "outlinewidth": 0,
              "ticks": ""
             }
            },
            "type": "scattergl"
           }
          ],
          "scattermapbox": [
           {
            "marker": {
             "colorbar": {
              "outlinewidth": 0,
              "ticks": ""
             }
            },
            "type": "scattermapbox"
           }
          ],
          "scatterpolar": [
           {
            "marker": {
             "colorbar": {
              "outlinewidth": 0,
              "ticks": ""
             }
            },
            "type": "scatterpolar"
           }
          ],
          "scatterpolargl": [
           {
            "marker": {
             "colorbar": {
              "outlinewidth": 0,
              "ticks": ""
             }
            },
            "type": "scatterpolargl"
           }
          ],
          "scatterternary": [
           {
            "marker": {
             "colorbar": {
              "outlinewidth": 0,
              "ticks": ""
             }
            },
            "type": "scatterternary"
           }
          ],
          "surface": [
           {
            "colorbar": {
             "outlinewidth": 0,
             "ticks": ""
            },
            "colorscale": [
             [
              0,
              "#0d0887"
             ],
             [
              0.1111111111111111,
              "#46039f"
             ],
             [
              0.2222222222222222,
              "#7201a8"
             ],
             [
              0.3333333333333333,
              "#9c179e"
             ],
             [
              0.4444444444444444,
              "#bd3786"
             ],
             [
              0.5555555555555556,
              "#d8576b"
             ],
             [
              0.6666666666666666,
              "#ed7953"
             ],
             [
              0.7777777777777778,
              "#fb9f3a"
             ],
             [
              0.8888888888888888,
              "#fdca26"
             ],
             [
              1,
              "#f0f921"
             ]
            ],
            "type": "surface"
           }
          ],
          "table": [
           {
            "cells": {
             "fill": {
              "color": "#EBF0F8"
             },
             "line": {
              "color": "white"
             }
            },
            "header": {
             "fill": {
              "color": "#C8D4E3"
             },
             "line": {
              "color": "white"
             }
            },
            "type": "table"
           }
          ]
         },
         "layout": {
          "annotationdefaults": {
           "arrowcolor": "#2a3f5f",
           "arrowhead": 0,
           "arrowwidth": 1
          },
          "coloraxis": {
           "colorbar": {
            "outlinewidth": 0,
            "ticks": ""
           }
          },
          "colorscale": {
           "diverging": [
            [
             0,
             "#8e0152"
            ],
            [
             0.1,
             "#c51b7d"
            ],
            [
             0.2,
             "#de77ae"
            ],
            [
             0.3,
             "#f1b6da"
            ],
            [
             0.4,
             "#fde0ef"
            ],
            [
             0.5,
             "#f7f7f7"
            ],
            [
             0.6,
             "#e6f5d0"
            ],
            [
             0.7,
             "#b8e186"
            ],
            [
             0.8,
             "#7fbc41"
            ],
            [
             0.9,
             "#4d9221"
            ],
            [
             1,
             "#276419"
            ]
           ],
           "sequential": [
            [
             0,
             "#0d0887"
            ],
            [
             0.1111111111111111,
             "#46039f"
            ],
            [
             0.2222222222222222,
             "#7201a8"
            ],
            [
             0.3333333333333333,
             "#9c179e"
            ],
            [
             0.4444444444444444,
             "#bd3786"
            ],
            [
             0.5555555555555556,
             "#d8576b"
            ],
            [
             0.6666666666666666,
             "#ed7953"
            ],
            [
             0.7777777777777778,
             "#fb9f3a"
            ],
            [
             0.8888888888888888,
             "#fdca26"
            ],
            [
             1,
             "#f0f921"
            ]
           ],
           "sequentialminus": [
            [
             0,
             "#0d0887"
            ],
            [
             0.1111111111111111,
             "#46039f"
            ],
            [
             0.2222222222222222,
             "#7201a8"
            ],
            [
             0.3333333333333333,
             "#9c179e"
            ],
            [
             0.4444444444444444,
             "#bd3786"
            ],
            [
             0.5555555555555556,
             "#d8576b"
            ],
            [
             0.6666666666666666,
             "#ed7953"
            ],
            [
             0.7777777777777778,
             "#fb9f3a"
            ],
            [
             0.8888888888888888,
             "#fdca26"
            ],
            [
             1,
             "#f0f921"
            ]
           ]
          },
          "colorway": [
           "#636efa",
           "#EF553B",
           "#00cc96",
           "#ab63fa",
           "#FFA15A",
           "#19d3f3",
           "#FF6692",
           "#B6E880",
           "#FF97FF",
           "#FECB52"
          ],
          "font": {
           "color": "#2a3f5f"
          },
          "geo": {
           "bgcolor": "white",
           "lakecolor": "white",
           "landcolor": "#E5ECF6",
           "showlakes": true,
           "showland": true,
           "subunitcolor": "white"
          },
          "hoverlabel": {
           "align": "left"
          },
          "hovermode": "closest",
          "mapbox": {
           "style": "light"
          },
          "paper_bgcolor": "white",
          "plot_bgcolor": "#E5ECF6",
          "polar": {
           "angularaxis": {
            "gridcolor": "white",
            "linecolor": "white",
            "ticks": ""
           },
           "bgcolor": "#E5ECF6",
           "radialaxis": {
            "gridcolor": "white",
            "linecolor": "white",
            "ticks": ""
           }
          },
          "scene": {
           "xaxis": {
            "backgroundcolor": "#E5ECF6",
            "gridcolor": "white",
            "gridwidth": 2,
            "linecolor": "white",
            "showbackground": true,
            "ticks": "",
            "zerolinecolor": "white"
           },
           "yaxis": {
            "backgroundcolor": "#E5ECF6",
            "gridcolor": "white",
            "gridwidth": 2,
            "linecolor": "white",
            "showbackground": true,
            "ticks": "",
            "zerolinecolor": "white"
           },
           "zaxis": {
            "backgroundcolor": "#E5ECF6",
            "gridcolor": "white",
            "gridwidth": 2,
            "linecolor": "white",
            "showbackground": true,
            "ticks": "",
            "zerolinecolor": "white"
           }
          },
          "shapedefaults": {
           "line": {
            "color": "#2a3f5f"
           }
          },
          "ternary": {
           "aaxis": {
            "gridcolor": "white",
            "linecolor": "white",
            "ticks": ""
           },
           "baxis": {
            "gridcolor": "white",
            "linecolor": "white",
            "ticks": ""
           },
           "bgcolor": "#E5ECF6",
           "caxis": {
            "gridcolor": "white",
            "linecolor": "white",
            "ticks": ""
           }
          },
          "title": {
           "x": 0.05
          },
          "xaxis": {
           "automargin": true,
           "gridcolor": "white",
           "linecolor": "white",
           "ticks": "",
           "title": {
            "standoff": 15
           },
           "zerolinecolor": "white",
           "zerolinewidth": 2
          },
          "yaxis": {
           "automargin": true,
           "gridcolor": "white",
           "linecolor": "white",
           "ticks": "",
           "title": {
            "standoff": 15
           },
           "zerolinecolor": "white",
           "zerolinewidth": 2
          }
         }
        },
        "title": {
         "text": "SDG Best Alpha Scores based on their Accuracy (select an area to zoom in)"
        },
        "xaxis": {
         "anchor": "y",
         "domain": [
          0,
          1
         ],
         "title": {
          "text": "Alpha values"
         }
        },
        "yaxis": {
         "anchor": "x",
         "domain": [
          0,
          1
         ],
         "title": {
          "text": "Accuracy scores"
         }
        }
       }
      }
     },
     "metadata": {}
    }
   ],
   "source": [
    "x_values=list(sgd.cv_results_['param_sgd__alpha'])\n",
    "x_label=\"Alpha values\"\n",
    "\n",
    "y_label=\"Accuracy scores\"\n",
    "y_values= list(sgd.cv_results_['mean_test_score'])\n",
    "title=\"SDG Best Alpha Scores based on their Accuracy (select an area to zoom in)\"\n",
    "EDA.display_accuracy_scores_per_parameter(x_values, y_values, x_label, y_label, title)\n"
   ]
  },
  {
   "source": [
    "#### Confusion Matrix"
   ],
   "cell_type": "markdown",
   "metadata": {}
  },
  {
   "cell_type": "code",
   "execution_count": 337,
   "metadata": {},
   "outputs": [
    {
     "output_type": "display_data",
     "data": {
      "text/plain": "<Figure size 720x720 with 2 Axes>",
      "image/svg+xml": "<?xml version=\"1.0\" encoding=\"utf-8\" standalone=\"no\"?>\r\n<!DOCTYPE svg PUBLIC \"-//W3C//DTD SVG 1.1//EN\"\r\n  \"http://www.w3.org/Graphics/SVG/1.1/DTD/svg11.dtd\">\r\n<!-- Created with matplotlib (https://matplotlib.org/) -->\r\n<svg height=\"601.389928pt\" version=\"1.1\" viewBox=\"0 0 655.006563 601.389928\" width=\"655.006563pt\" xmlns=\"http://www.w3.org/2000/svg\" xmlns:xlink=\"http://www.w3.org/1999/xlink\">\r\n <defs>\r\n  <style type=\"text/css\">\r\n*{stroke-linecap:butt;stroke-linejoin:round;}\r\n  </style>\r\n </defs>\r\n <g id=\"figure_1\">\r\n  <g id=\"patch_1\">\r\n   <path d=\"M 0 601.389928 \r\nL 655.006563 601.389928 \r\nL 655.006563 0 \r\nL 0 0 \r\nz\r\n\" style=\"fill:#ffffff;\"/>\r\n  </g>\r\n  <g id=\"axes_1\">\r\n   <g id=\"patch_2\">\r\n    <path d=\"M 118.475469 502.2 \r\nL 564.875469 502.2 \r\nL 564.875469 55.8 \r\nL 118.475469 55.8 \r\nz\r\n\" style=\"fill:#eaeaf2;\"/>\r\n   </g>\r\n   <g id=\"matplotlib.axis_1\">\r\n    <g id=\"xtick_1\">\r\n     <g id=\"text_1\">\r\n      <!-- entertainment -->\r\n      <defs>\r\n       <path d=\"M 42.09375 16.703125 \r\nL 51.171875 15.578125 \r\nQ 49.03125 7.625 43.21875 3.21875 \r\nQ 37.40625 -1.171875 28.375 -1.171875 \r\nQ 17 -1.171875 10.328125 5.828125 \r\nQ 3.65625 12.84375 3.65625 25.484375 \r\nQ 3.65625 38.578125 10.390625 45.796875 \r\nQ 17.140625 53.03125 27.875 53.03125 \r\nQ 38.28125 53.03125 44.875 45.953125 \r\nQ 51.46875 38.875 51.46875 26.03125 \r\nQ 51.46875 25.25 51.421875 23.6875 \r\nL 12.75 23.6875 \r\nQ 13.234375 15.140625 17.578125 10.59375 \r\nQ 21.921875 6.0625 28.421875 6.0625 \r\nQ 33.25 6.0625 36.671875 8.59375 \r\nQ 40.09375 11.140625 42.09375 16.703125 \r\nz\r\nM 13.234375 30.90625 \r\nL 42.1875 30.90625 \r\nQ 41.609375 37.453125 38.875 40.71875 \r\nQ 34.671875 45.796875 27.984375 45.796875 \r\nQ 21.921875 45.796875 17.796875 41.75 \r\nQ 13.671875 37.703125 13.234375 30.90625 \r\nz\r\n\" id=\"ArialMT-101\"/>\r\n       <path d=\"M 6.59375 0 \r\nL 6.59375 51.859375 \r\nL 14.5 51.859375 \r\nL 14.5 44.484375 \r\nQ 20.21875 53.03125 31 53.03125 \r\nQ 35.6875 53.03125 39.625 51.34375 \r\nQ 43.5625 49.65625 45.515625 46.921875 \r\nQ 47.46875 44.1875 48.25 40.4375 \r\nQ 48.734375 37.984375 48.734375 31.890625 \r\nL 48.734375 0 \r\nL 39.9375 0 \r\nL 39.9375 31.546875 \r\nQ 39.9375 36.921875 38.90625 39.578125 \r\nQ 37.890625 42.234375 35.28125 43.8125 \r\nQ 32.671875 45.40625 29.15625 45.40625 \r\nQ 23.53125 45.40625 19.453125 41.84375 \r\nQ 15.375 38.28125 15.375 28.328125 \r\nL 15.375 0 \r\nz\r\n\" id=\"ArialMT-110\"/>\r\n       <path d=\"M 25.78125 7.859375 \r\nL 27.046875 0.09375 \r\nQ 23.34375 -0.6875 20.40625 -0.6875 \r\nQ 15.625 -0.6875 12.984375 0.828125 \r\nQ 10.359375 2.34375 9.28125 4.8125 \r\nQ 8.203125 7.28125 8.203125 15.1875 \r\nL 8.203125 45.015625 \r\nL 1.765625 45.015625 \r\nL 1.765625 51.859375 \r\nL 8.203125 51.859375 \r\nL 8.203125 64.703125 \r\nL 16.9375 69.96875 \r\nL 16.9375 51.859375 \r\nL 25.78125 51.859375 \r\nL 25.78125 45.015625 \r\nL 16.9375 45.015625 \r\nL 16.9375 14.703125 \r\nQ 16.9375 10.9375 17.40625 9.859375 \r\nQ 17.875 8.796875 18.921875 8.15625 \r\nQ 19.96875 7.515625 21.921875 7.515625 \r\nQ 23.390625 7.515625 25.78125 7.859375 \r\nz\r\n\" id=\"ArialMT-116\"/>\r\n       <path d=\"M 6.5 0 \r\nL 6.5 51.859375 \r\nL 14.40625 51.859375 \r\nL 14.40625 44 \r\nQ 17.4375 49.515625 20 51.265625 \r\nQ 22.5625 53.03125 25.640625 53.03125 \r\nQ 30.078125 53.03125 34.671875 50.203125 \r\nL 31.640625 42.046875 \r\nQ 28.421875 43.953125 25.203125 43.953125 \r\nQ 22.3125 43.953125 20.015625 42.21875 \r\nQ 17.71875 40.484375 16.75 37.40625 \r\nQ 15.28125 32.71875 15.28125 27.15625 \r\nL 15.28125 0 \r\nz\r\n\" id=\"ArialMT-114\"/>\r\n       <path d=\"M 40.4375 6.390625 \r\nQ 35.546875 2.25 31.03125 0.53125 \r\nQ 26.515625 -1.171875 21.34375 -1.171875 \r\nQ 12.796875 -1.171875 8.203125 3 \r\nQ 3.609375 7.171875 3.609375 13.671875 \r\nQ 3.609375 17.484375 5.34375 20.625 \r\nQ 7.078125 23.78125 9.890625 25.6875 \r\nQ 12.703125 27.59375 16.21875 28.5625 \r\nQ 18.796875 29.25 24.03125 29.890625 \r\nQ 34.671875 31.15625 39.703125 32.90625 \r\nQ 39.75 34.71875 39.75 35.203125 \r\nQ 39.75 40.578125 37.25 42.78125 \r\nQ 33.890625 45.75 27.25 45.75 \r\nQ 21.046875 45.75 18.09375 43.578125 \r\nQ 15.140625 41.40625 13.71875 35.890625 \r\nL 5.125 37.0625 \r\nQ 6.296875 42.578125 8.984375 45.96875 \r\nQ 11.671875 49.359375 16.75 51.1875 \r\nQ 21.828125 53.03125 28.515625 53.03125 \r\nQ 35.15625 53.03125 39.296875 51.46875 \r\nQ 43.453125 49.90625 45.40625 47.53125 \r\nQ 47.359375 45.171875 48.140625 41.546875 \r\nQ 48.578125 39.3125 48.578125 33.453125 \r\nL 48.578125 21.734375 \r\nQ 48.578125 9.46875 49.140625 6.21875 \r\nQ 49.703125 2.984375 51.375 0 \r\nL 42.1875 0 \r\nQ 40.828125 2.734375 40.4375 6.390625 \r\nz\r\nM 39.703125 26.03125 \r\nQ 34.90625 24.078125 25.34375 22.703125 \r\nQ 19.921875 21.921875 17.671875 20.9375 \r\nQ 15.4375 19.96875 14.203125 18.09375 \r\nQ 12.984375 16.21875 12.984375 13.921875 \r\nQ 12.984375 10.40625 15.640625 8.0625 \r\nQ 18.3125 5.71875 23.4375 5.71875 \r\nQ 28.515625 5.71875 32.46875 7.9375 \r\nQ 36.421875 10.15625 38.28125 14.015625 \r\nQ 39.703125 17 39.703125 22.796875 \r\nz\r\n\" id=\"ArialMT-97\"/>\r\n       <path d=\"M 6.640625 61.46875 \r\nL 6.640625 71.578125 \r\nL 15.4375 71.578125 \r\nL 15.4375 61.46875 \r\nz\r\nM 6.640625 0 \r\nL 6.640625 51.859375 \r\nL 15.4375 51.859375 \r\nL 15.4375 0 \r\nz\r\n\" id=\"ArialMT-105\"/>\r\n       <path d=\"M 6.59375 0 \r\nL 6.59375 51.859375 \r\nL 14.453125 51.859375 \r\nL 14.453125 44.578125 \r\nQ 16.890625 48.390625 20.9375 50.703125 \r\nQ 25 53.03125 30.171875 53.03125 \r\nQ 35.9375 53.03125 39.625 50.640625 \r\nQ 43.3125 48.25 44.828125 43.953125 \r\nQ 50.984375 53.03125 60.84375 53.03125 \r\nQ 68.5625 53.03125 72.703125 48.75 \r\nQ 76.859375 44.484375 76.859375 35.59375 \r\nL 76.859375 0 \r\nL 68.109375 0 \r\nL 68.109375 32.671875 \r\nQ 68.109375 37.9375 67.25 40.25 \r\nQ 66.40625 42.578125 64.15625 43.984375 \r\nQ 61.921875 45.40625 58.890625 45.40625 \r\nQ 53.421875 45.40625 49.796875 41.765625 \r\nQ 46.1875 38.140625 46.1875 30.125 \r\nL 46.1875 0 \r\nL 37.40625 0 \r\nL 37.40625 33.6875 \r\nQ 37.40625 39.546875 35.25 42.46875 \r\nQ 33.109375 45.40625 28.21875 45.40625 \r\nQ 24.515625 45.40625 21.359375 43.453125 \r\nQ 18.21875 41.5 16.796875 37.734375 \r\nQ 15.375 33.984375 15.375 26.90625 \r\nL 15.375 0 \r\nz\r\n\" id=\"ArialMT-109\"/>\r\n      </defs>\r\n      <g style=\"fill:#262626;\" transform=\"translate(122.07694 569.920036)rotate(-40)scale(0.13 -0.13)\">\r\n       <use xlink:href=\"#ArialMT-101\"/>\r\n       <use x=\"55.615234\" xlink:href=\"#ArialMT-110\"/>\r\n       <use x=\"111.230469\" xlink:href=\"#ArialMT-116\"/>\r\n       <use x=\"139.013672\" xlink:href=\"#ArialMT-101\"/>\r\n       <use x=\"194.628906\" xlink:href=\"#ArialMT-114\"/>\r\n       <use x=\"227.929688\" xlink:href=\"#ArialMT-116\"/>\r\n       <use x=\"255.712891\" xlink:href=\"#ArialMT-97\"/>\r\n       <use x=\"311.328125\" xlink:href=\"#ArialMT-105\"/>\r\n       <use x=\"333.544922\" xlink:href=\"#ArialMT-110\"/>\r\n       <use x=\"389.160156\" xlink:href=\"#ArialMT-109\"/>\r\n       <use x=\"472.460938\" xlink:href=\"#ArialMT-101\"/>\r\n       <use x=\"528.076172\" xlink:href=\"#ArialMT-110\"/>\r\n       <use x=\"583.691406\" xlink:href=\"#ArialMT-116\"/>\r\n      </g>\r\n     </g>\r\n    </g>\r\n    <g id=\"xtick_2\">\r\n     <g id=\"text_2\">\r\n      <!-- financial -->\r\n      <defs>\r\n       <path d=\"M 8.6875 0 \r\nL 8.6875 45.015625 \r\nL 0.921875 45.015625 \r\nL 0.921875 51.859375 \r\nL 8.6875 51.859375 \r\nL 8.6875 57.375 \r\nQ 8.6875 62.59375 9.625 65.140625 \r\nQ 10.890625 68.5625 14.078125 70.671875 \r\nQ 17.28125 72.796875 23.046875 72.796875 \r\nQ 26.765625 72.796875 31.25 71.921875 \r\nL 29.9375 64.265625 \r\nQ 27.203125 64.75 24.75 64.75 \r\nQ 20.75 64.75 19.09375 63.03125 \r\nQ 17.4375 61.328125 17.4375 56.640625 \r\nL 17.4375 51.859375 \r\nL 27.546875 51.859375 \r\nL 27.546875 45.015625 \r\nL 17.4375 45.015625 \r\nL 17.4375 0 \r\nz\r\n\" id=\"ArialMT-102\"/>\r\n       <path d=\"M 40.4375 19 \r\nL 49.078125 17.875 \r\nQ 47.65625 8.9375 41.8125 3.875 \r\nQ 35.984375 -1.171875 27.484375 -1.171875 \r\nQ 16.84375 -1.171875 10.375 5.78125 \r\nQ 3.90625 12.75 3.90625 25.734375 \r\nQ 3.90625 34.125 6.6875 40.421875 \r\nQ 9.46875 46.734375 15.15625 49.875 \r\nQ 20.84375 53.03125 27.546875 53.03125 \r\nQ 35.984375 53.03125 41.359375 48.75 \r\nQ 46.734375 44.484375 48.25 36.625 \r\nL 39.703125 35.296875 \r\nQ 38.484375 40.53125 35.375 43.15625 \r\nQ 32.28125 45.796875 27.875 45.796875 \r\nQ 21.234375 45.796875 17.078125 41.03125 \r\nQ 12.9375 36.28125 12.9375 25.984375 \r\nQ 12.9375 15.53125 16.9375 10.796875 \r\nQ 20.953125 6.0625 27.390625 6.0625 \r\nQ 32.5625 6.0625 36.03125 9.234375 \r\nQ 39.5 12.40625 40.4375 19 \r\nz\r\n\" id=\"ArialMT-99\"/>\r\n       <path d=\"M 6.390625 0 \r\nL 6.390625 71.578125 \r\nL 15.1875 71.578125 \r\nL 15.1875 0 \r\nz\r\n\" id=\"ArialMT-108\"/>\r\n      </defs>\r\n      <g style=\"fill:#262626;\" transform=\"translate(198.025064 549.485115)rotate(-40)scale(0.13 -0.13)\">\r\n       <use xlink:href=\"#ArialMT-102\"/>\r\n       <use x=\"27.783203\" xlink:href=\"#ArialMT-105\"/>\r\n       <use x=\"50\" xlink:href=\"#ArialMT-110\"/>\r\n       <use x=\"105.615234\" xlink:href=\"#ArialMT-97\"/>\r\n       <use x=\"161.230469\" xlink:href=\"#ArialMT-110\"/>\r\n       <use x=\"216.845703\" xlink:href=\"#ArialMT-99\"/>\r\n       <use x=\"266.845703\" xlink:href=\"#ArialMT-105\"/>\r\n       <use x=\"289.0625\" xlink:href=\"#ArialMT-97\"/>\r\n       <use x=\"344.677734\" xlink:href=\"#ArialMT-108\"/>\r\n      </g>\r\n     </g>\r\n    </g>\r\n    <g id=\"xtick_3\">\r\n     <g id=\"text_3\">\r\n      <!-- political -->\r\n      <defs>\r\n       <path d=\"M 6.59375 -19.875 \r\nL 6.59375 51.859375 \r\nL 14.59375 51.859375 \r\nL 14.59375 45.125 \r\nQ 17.4375 49.078125 21 51.046875 \r\nQ 24.5625 53.03125 29.640625 53.03125 \r\nQ 36.28125 53.03125 41.359375 49.609375 \r\nQ 46.4375 46.1875 49.015625 39.953125 \r\nQ 51.609375 33.734375 51.609375 26.3125 \r\nQ 51.609375 18.359375 48.75 11.984375 \r\nQ 45.90625 5.609375 40.453125 2.21875 \r\nQ 35.015625 -1.171875 29 -1.171875 \r\nQ 24.609375 -1.171875 21.109375 0.6875 \r\nQ 17.625 2.546875 15.375 5.375 \r\nL 15.375 -19.875 \r\nz\r\nM 14.546875 25.640625 \r\nQ 14.546875 15.625 18.59375 10.84375 \r\nQ 22.65625 6.0625 28.421875 6.0625 \r\nQ 34.28125 6.0625 38.453125 11.015625 \r\nQ 42.625 15.96875 42.625 26.375 \r\nQ 42.625 36.28125 38.546875 41.203125 \r\nQ 34.46875 46.140625 28.8125 46.140625 \r\nQ 23.1875 46.140625 18.859375 40.890625 \r\nQ 14.546875 35.640625 14.546875 25.640625 \r\nz\r\n\" id=\"ArialMT-112\"/>\r\n       <path d=\"M 3.328125 25.921875 \r\nQ 3.328125 40.328125 11.328125 47.265625 \r\nQ 18.015625 53.03125 27.640625 53.03125 \r\nQ 38.328125 53.03125 45.109375 46.015625 \r\nQ 51.90625 39.015625 51.90625 26.65625 \r\nQ 51.90625 16.65625 48.90625 10.90625 \r\nQ 45.90625 5.171875 40.15625 2 \r\nQ 34.421875 -1.171875 27.640625 -1.171875 \r\nQ 16.75 -1.171875 10.03125 5.8125 \r\nQ 3.328125 12.796875 3.328125 25.921875 \r\nz\r\nM 12.359375 25.921875 \r\nQ 12.359375 15.96875 16.703125 11.015625 \r\nQ 21.046875 6.0625 27.640625 6.0625 \r\nQ 34.1875 6.0625 38.53125 11.03125 \r\nQ 42.875 16.015625 42.875 26.21875 \r\nQ 42.875 35.84375 38.5 40.796875 \r\nQ 34.125 45.75 27.640625 45.75 \r\nQ 21.046875 45.75 16.703125 40.8125 \r\nQ 12.359375 35.890625 12.359375 25.921875 \r\nz\r\n\" id=\"ArialMT-111\"/>\r\n      </defs>\r\n      <g style=\"fill:#262626;\" transform=\"translate(263.459108 546.694914)rotate(-40)scale(0.13 -0.13)\">\r\n       <use xlink:href=\"#ArialMT-112\"/>\r\n       <use x=\"55.615234\" xlink:href=\"#ArialMT-111\"/>\r\n       <use x=\"111.230469\" xlink:href=\"#ArialMT-108\"/>\r\n       <use x=\"133.447266\" xlink:href=\"#ArialMT-105\"/>\r\n       <use x=\"155.664062\" xlink:href=\"#ArialMT-116\"/>\r\n       <use x=\"183.447266\" xlink:href=\"#ArialMT-105\"/>\r\n       <use x=\"205.664062\" xlink:href=\"#ArialMT-99\"/>\r\n       <use x=\"255.664062\" xlink:href=\"#ArialMT-97\"/>\r\n       <use x=\"311.279297\" xlink:href=\"#ArialMT-108\"/>\r\n      </g>\r\n     </g>\r\n    </g>\r\n    <g id=\"xtick_4\">\r\n     <g id=\"text_4\">\r\n      <!-- sport -->\r\n      <defs>\r\n       <path d=\"M 3.078125 15.484375 \r\nL 11.765625 16.84375 \r\nQ 12.5 11.625 15.84375 8.84375 \r\nQ 19.1875 6.0625 25.203125 6.0625 \r\nQ 31.25 6.0625 34.171875 8.515625 \r\nQ 37.109375 10.984375 37.109375 14.3125 \r\nQ 37.109375 17.28125 34.515625 19 \r\nQ 32.71875 20.171875 25.53125 21.96875 \r\nQ 15.875 24.421875 12.140625 26.203125 \r\nQ 8.40625 27.984375 6.46875 31.125 \r\nQ 4.546875 34.28125 4.546875 38.09375 \r\nQ 4.546875 41.546875 6.125 44.5 \r\nQ 7.71875 47.46875 10.453125 49.421875 \r\nQ 12.5 50.921875 16.03125 51.96875 \r\nQ 19.578125 53.03125 23.640625 53.03125 \r\nQ 29.734375 53.03125 34.34375 51.265625 \r\nQ 38.96875 49.515625 41.15625 46.5 \r\nQ 43.359375 43.5 44.1875 38.484375 \r\nL 35.59375 37.3125 \r\nQ 35.015625 41.3125 32.203125 43.546875 \r\nQ 29.390625 45.796875 24.265625 45.796875 \r\nQ 18.21875 45.796875 15.625 43.796875 \r\nQ 13.03125 41.796875 13.03125 39.109375 \r\nQ 13.03125 37.40625 14.109375 36.03125 \r\nQ 15.1875 34.625 17.484375 33.6875 \r\nQ 18.796875 33.203125 25.25 31.453125 \r\nQ 34.578125 28.953125 38.25 27.359375 \r\nQ 41.9375 25.78125 44.03125 22.75 \r\nQ 46.140625 19.734375 46.140625 15.234375 \r\nQ 46.140625 10.84375 43.578125 6.953125 \r\nQ 41.015625 3.078125 36.171875 0.953125 \r\nQ 31.34375 -1.171875 25.25 -1.171875 \r\nQ 15.140625 -1.171875 9.84375 3.03125 \r\nQ 4.546875 7.234375 3.078125 15.484375 \r\nz\r\n\" id=\"ArialMT-115\"/>\r\n      </defs>\r\n      <g style=\"fill:#262626;\" transform=\"translate(332.766884 537.403821)rotate(-40)scale(0.13 -0.13)\">\r\n       <use xlink:href=\"#ArialMT-115\"/>\r\n       <use x=\"50\" xlink:href=\"#ArialMT-112\"/>\r\n       <use x=\"105.615234\" xlink:href=\"#ArialMT-111\"/>\r\n       <use x=\"161.230469\" xlink:href=\"#ArialMT-114\"/>\r\n       <use x=\"194.53125\" xlink:href=\"#ArialMT-116\"/>\r\n      </g>\r\n     </g>\r\n    </g>\r\n    <g id=\"xtick_5\">\r\n     <g id=\"text_5\">\r\n      <!-- technology -->\r\n      <defs>\r\n       <path d=\"M 6.59375 0 \r\nL 6.59375 71.578125 \r\nL 15.375 71.578125 \r\nL 15.375 45.90625 \r\nQ 21.53125 53.03125 30.90625 53.03125 \r\nQ 36.671875 53.03125 40.921875 50.75 \r\nQ 45.171875 48.484375 47 44.484375 \r\nQ 48.828125 40.484375 48.828125 32.859375 \r\nL 48.828125 0 \r\nL 40.046875 0 \r\nL 40.046875 32.859375 \r\nQ 40.046875 39.453125 37.1875 42.453125 \r\nQ 34.328125 45.453125 29.109375 45.453125 \r\nQ 25.203125 45.453125 21.75 43.421875 \r\nQ 18.3125 41.40625 16.84375 37.9375 \r\nQ 15.375 34.46875 15.375 28.375 \r\nL 15.375 0 \r\nz\r\n\" id=\"ArialMT-104\"/>\r\n       <path d=\"M 4.984375 -4.296875 \r\nL 13.53125 -5.5625 \r\nQ 14.0625 -9.515625 16.5 -11.328125 \r\nQ 19.78125 -13.765625 25.4375 -13.765625 \r\nQ 31.546875 -13.765625 34.859375 -11.328125 \r\nQ 38.1875 -8.890625 39.359375 -4.5 \r\nQ 40.046875 -1.8125 39.984375 6.78125 \r\nQ 34.234375 0 25.640625 0 \r\nQ 14.9375 0 9.078125 7.71875 \r\nQ 3.21875 15.4375 3.21875 26.21875 \r\nQ 3.21875 33.640625 5.90625 39.90625 \r\nQ 8.59375 46.1875 13.6875 49.609375 \r\nQ 18.796875 53.03125 25.6875 53.03125 \r\nQ 34.859375 53.03125 40.828125 45.609375 \r\nL 40.828125 51.859375 \r\nL 48.921875 51.859375 \r\nL 48.921875 7.03125 \r\nQ 48.921875 -5.078125 46.453125 -10.125 \r\nQ 44 -15.1875 38.640625 -18.109375 \r\nQ 33.296875 -21.046875 25.484375 -21.046875 \r\nQ 16.21875 -21.046875 10.5 -16.875 \r\nQ 4.78125 -12.703125 4.984375 -4.296875 \r\nz\r\nM 12.25 26.859375 \r\nQ 12.25 16.65625 16.296875 11.96875 \r\nQ 20.359375 7.28125 26.46875 7.28125 \r\nQ 32.515625 7.28125 36.609375 11.9375 \r\nQ 40.71875 16.609375 40.71875 26.5625 \r\nQ 40.71875 36.078125 36.5 40.90625 \r\nQ 32.28125 45.75 26.3125 45.75 \r\nQ 20.453125 45.75 16.34375 40.984375 \r\nQ 12.25 36.234375 12.25 26.859375 \r\nz\r\n\" id=\"ArialMT-103\"/>\r\n       <path d=\"M 6.203125 -19.96875 \r\nL 5.21875 -11.71875 \r\nQ 8.109375 -12.5 10.25 -12.5 \r\nQ 13.1875 -12.5 14.9375 -11.515625 \r\nQ 16.703125 -10.546875 17.828125 -8.796875 \r\nQ 18.65625 -7.46875 20.515625 -2.25 \r\nQ 20.75 -1.515625 21.296875 -0.09375 \r\nL 1.609375 51.859375 \r\nL 11.078125 51.859375 \r\nL 21.875 21.828125 \r\nQ 23.96875 16.109375 25.640625 9.8125 \r\nQ 27.15625 15.875 29.25 21.625 \r\nL 40.328125 51.859375 \r\nL 49.125 51.859375 \r\nL 29.390625 -0.875 \r\nQ 26.21875 -9.421875 24.46875 -12.640625 \r\nQ 22.125 -17 19.09375 -19.015625 \r\nQ 16.0625 -21.046875 11.859375 -21.046875 \r\nQ 9.328125 -21.046875 6.203125 -19.96875 \r\nz\r\n\" id=\"ArialMT-121\"/>\r\n      </defs>\r\n      <g style=\"fill:#262626;\" transform=\"translate(383.475511 559.243635)rotate(-40)scale(0.13 -0.13)\">\r\n       <use xlink:href=\"#ArialMT-116\"/>\r\n       <use x=\"27.783203\" xlink:href=\"#ArialMT-101\"/>\r\n       <use x=\"83.398438\" xlink:href=\"#ArialMT-99\"/>\r\n       <use x=\"133.398438\" xlink:href=\"#ArialMT-104\"/>\r\n       <use x=\"189.013672\" xlink:href=\"#ArialMT-110\"/>\r\n       <use x=\"244.628906\" xlink:href=\"#ArialMT-111\"/>\r\n       <use x=\"300.244141\" xlink:href=\"#ArialMT-108\"/>\r\n       <use x=\"322.460938\" xlink:href=\"#ArialMT-111\"/>\r\n       <use x=\"378.076172\" xlink:href=\"#ArialMT-103\"/>\r\n       <use x=\"433.691406\" xlink:href=\"#ArialMT-121\"/>\r\n      </g>\r\n     </g>\r\n    </g>\r\n    <g id=\"xtick_6\">\r\n     <g id=\"text_6\">\r\n      <!-- travel -->\r\n      <defs>\r\n       <path d=\"M 21 0 \r\nL 1.265625 51.859375 \r\nL 10.546875 51.859375 \r\nL 21.6875 20.796875 \r\nQ 23.484375 15.765625 25 10.359375 \r\nQ 26.171875 14.453125 28.265625 20.21875 \r\nL 39.796875 51.859375 \r\nL 48.828125 51.859375 \r\nL 29.203125 0 \r\nz\r\n\" id=\"ArialMT-118\"/>\r\n      </defs>\r\n      <g style=\"fill:#262626;\" transform=\"translate(459.203405 539.260473)rotate(-40)scale(0.13 -0.13)\">\r\n       <use xlink:href=\"#ArialMT-116\"/>\r\n       <use x=\"27.783203\" xlink:href=\"#ArialMT-114\"/>\r\n       <use x=\"61.083984\" xlink:href=\"#ArialMT-97\"/>\r\n       <use x=\"116.699219\" xlink:href=\"#ArialMT-118\"/>\r\n       <use x=\"166.699219\" xlink:href=\"#ArialMT-101\"/>\r\n       <use x=\"222.314453\" xlink:href=\"#ArialMT-108\"/>\r\n      </g>\r\n     </g>\r\n    </g>\r\n    <g id=\"xtick_7\">\r\n     <g id=\"text_7\">\r\n      <!-- world -->\r\n      <defs>\r\n       <path d=\"M 16.15625 0 \r\nL 0.296875 51.859375 \r\nL 9.375 51.859375 \r\nL 17.625 21.921875 \r\nL 20.703125 10.796875 \r\nQ 20.90625 11.625 23.390625 21.484375 \r\nL 31.640625 51.859375 \r\nL 40.671875 51.859375 \r\nL 48.4375 21.78125 \r\nL 51.03125 11.859375 \r\nL 54 21.875 \r\nL 62.890625 51.859375 \r\nL 71.4375 51.859375 \r\nL 55.21875 0 \r\nL 46.09375 0 \r\nL 37.84375 31.0625 \r\nL 35.84375 39.890625 \r\nL 25.34375 0 \r\nz\r\n\" id=\"ArialMT-119\"/>\r\n       <path d=\"M 40.234375 0 \r\nL 40.234375 6.546875 \r\nQ 35.296875 -1.171875 25.734375 -1.171875 \r\nQ 19.53125 -1.171875 14.328125 2.25 \r\nQ 9.125 5.671875 6.265625 11.796875 \r\nQ 3.421875 17.921875 3.421875 25.875 \r\nQ 3.421875 33.640625 6 39.96875 \r\nQ 8.59375 46.296875 13.765625 49.65625 \r\nQ 18.953125 53.03125 25.34375 53.03125 \r\nQ 30.03125 53.03125 33.6875 51.046875 \r\nQ 37.359375 49.078125 39.65625 45.90625 \r\nL 39.65625 71.578125 \r\nL 48.390625 71.578125 \r\nL 48.390625 0 \r\nz\r\nM 12.453125 25.875 \r\nQ 12.453125 15.921875 16.640625 10.984375 \r\nQ 20.84375 6.0625 26.5625 6.0625 \r\nQ 32.328125 6.0625 36.34375 10.765625 \r\nQ 40.375 15.484375 40.375 25.140625 \r\nQ 40.375 35.796875 36.265625 40.765625 \r\nQ 32.171875 45.75 26.171875 45.75 \r\nQ 20.3125 45.75 16.375 40.96875 \r\nQ 12.453125 36.1875 12.453125 25.875 \r\nz\r\n\" id=\"ArialMT-100\"/>\r\n      </defs>\r\n      <g style=\"fill:#262626;\" transform=\"translate(523.251806 538.795657)rotate(-40)scale(0.13 -0.13)\">\r\n       <use xlink:href=\"#ArialMT-119\"/>\r\n       <use x=\"72.216797\" xlink:href=\"#ArialMT-111\"/>\r\n       <use x=\"127.832031\" xlink:href=\"#ArialMT-114\"/>\r\n       <use x=\"161.132812\" xlink:href=\"#ArialMT-108\"/>\r\n       <use x=\"183.349609\" xlink:href=\"#ArialMT-100\"/>\r\n      </g>\r\n     </g>\r\n    </g>\r\n    <g id=\"text_8\">\r\n     <!-- Predicted -->\r\n     <defs>\r\n      <path d=\"M 7.71875 0 \r\nL 7.71875 71.578125 \r\nL 34.71875 71.578125 \r\nQ 41.84375 71.578125 45.609375 70.90625 \r\nQ 50.875 70.015625 54.4375 67.546875 \r\nQ 58.015625 65.09375 60.1875 60.640625 \r\nQ 62.359375 56.203125 62.359375 50.875 \r\nQ 62.359375 41.75 56.546875 35.421875 \r\nQ 50.734375 29.109375 35.546875 29.109375 \r\nL 17.1875 29.109375 \r\nL 17.1875 0 \r\nz\r\nM 17.1875 37.546875 \r\nL 35.6875 37.546875 \r\nQ 44.875 37.546875 48.734375 40.96875 \r\nQ 52.59375 44.390625 52.59375 50.59375 \r\nQ 52.59375 55.078125 50.3125 58.265625 \r\nQ 48.046875 61.46875 44.34375 62.5 \r\nQ 41.9375 63.140625 35.5 63.140625 \r\nL 17.1875 63.140625 \r\nz\r\n\" id=\"ArialMT-80\"/>\r\n     </defs>\r\n     <g style=\"fill:#262626;\" transform=\"translate(299.431719 590.214928)scale(0.2 -0.2)\">\r\n      <use xlink:href=\"#ArialMT-80\"/>\r\n      <use x=\"66.699219\" xlink:href=\"#ArialMT-114\"/>\r\n      <use x=\"100\" xlink:href=\"#ArialMT-101\"/>\r\n      <use x=\"155.615234\" xlink:href=\"#ArialMT-100\"/>\r\n      <use x=\"211.230469\" xlink:href=\"#ArialMT-105\"/>\r\n      <use x=\"233.447266\" xlink:href=\"#ArialMT-99\"/>\r\n      <use x=\"283.447266\" xlink:href=\"#ArialMT-116\"/>\r\n      <use x=\"311.230469\" xlink:href=\"#ArialMT-101\"/>\r\n      <use x=\"366.845703\" xlink:href=\"#ArialMT-100\"/>\r\n     </g>\r\n    </g>\r\n   </g>\r\n   <g id=\"matplotlib.axis_2\">\r\n    <g id=\"ytick_1\">\r\n     <g id=\"text_9\">\r\n      <!-- entertainment -->\r\n      <g style=\"fill:#262626;\" transform=\"translate(29.490625 92.338292)scale(0.13 -0.13)\">\r\n       <use xlink:href=\"#ArialMT-101\"/>\r\n       <use x=\"55.615234\" xlink:href=\"#ArialMT-110\"/>\r\n       <use x=\"111.230469\" xlink:href=\"#ArialMT-116\"/>\r\n       <use x=\"139.013672\" xlink:href=\"#ArialMT-101\"/>\r\n       <use x=\"194.628906\" xlink:href=\"#ArialMT-114\"/>\r\n       <use x=\"227.929688\" xlink:href=\"#ArialMT-116\"/>\r\n       <use x=\"255.712891\" xlink:href=\"#ArialMT-97\"/>\r\n       <use x=\"311.328125\" xlink:href=\"#ArialMT-105\"/>\r\n       <use x=\"333.544922\" xlink:href=\"#ArialMT-110\"/>\r\n       <use x=\"389.160156\" xlink:href=\"#ArialMT-109\"/>\r\n       <use x=\"472.460938\" xlink:href=\"#ArialMT-101\"/>\r\n       <use x=\"528.076172\" xlink:href=\"#ArialMT-110\"/>\r\n       <use x=\"583.691406\" xlink:href=\"#ArialMT-116\"/>\r\n      </g>\r\n     </g>\r\n    </g>\r\n    <g id=\"ytick_2\">\r\n     <g id=\"text_10\">\r\n      <!-- financial -->\r\n      <g style=\"fill:#262626;\" transform=\"translate(61.281719 156.109721)scale(0.13 -0.13)\">\r\n       <use xlink:href=\"#ArialMT-102\"/>\r\n       <use x=\"27.783203\" xlink:href=\"#ArialMT-105\"/>\r\n       <use x=\"50\" xlink:href=\"#ArialMT-110\"/>\r\n       <use x=\"105.615234\" xlink:href=\"#ArialMT-97\"/>\r\n       <use x=\"161.230469\" xlink:href=\"#ArialMT-110\"/>\r\n       <use x=\"216.845703\" xlink:href=\"#ArialMT-99\"/>\r\n       <use x=\"266.845703\" xlink:href=\"#ArialMT-105\"/>\r\n       <use x=\"289.0625\" xlink:href=\"#ArialMT-97\"/>\r\n       <use x=\"344.677734\" xlink:href=\"#ArialMT-108\"/>\r\n      </g>\r\n     </g>\r\n    </g>\r\n    <g id=\"ytick_3\">\r\n     <g id=\"text_11\">\r\n      <!-- political -->\r\n      <g style=\"fill:#262626;\" transform=\"translate(65.6225 219.88115)scale(0.13 -0.13)\">\r\n       <use xlink:href=\"#ArialMT-112\"/>\r\n       <use x=\"55.615234\" xlink:href=\"#ArialMT-111\"/>\r\n       <use x=\"111.230469\" xlink:href=\"#ArialMT-108\"/>\r\n       <use x=\"133.447266\" xlink:href=\"#ArialMT-105\"/>\r\n       <use x=\"155.664062\" xlink:href=\"#ArialMT-116\"/>\r\n       <use x=\"183.447266\" xlink:href=\"#ArialMT-105\"/>\r\n       <use x=\"205.664062\" xlink:href=\"#ArialMT-99\"/>\r\n       <use x=\"255.664062\" xlink:href=\"#ArialMT-97\"/>\r\n       <use x=\"311.279297\" xlink:href=\"#ArialMT-108\"/>\r\n      </g>\r\n     </g>\r\n    </g>\r\n    <g id=\"ytick_4\">\r\n     <g id=\"text_12\">\r\n      <!-- sport -->\r\n      <g style=\"fill:#262626;\" transform=\"translate(80.076875 283.652578)scale(0.13 -0.13)\">\r\n       <use xlink:href=\"#ArialMT-115\"/>\r\n       <use x=\"50\" xlink:href=\"#ArialMT-112\"/>\r\n       <use x=\"105.615234\" xlink:href=\"#ArialMT-111\"/>\r\n       <use x=\"161.230469\" xlink:href=\"#ArialMT-114\"/>\r\n       <use x=\"194.53125\" xlink:href=\"#ArialMT-116\"/>\r\n      </g>\r\n     </g>\r\n    </g>\r\n    <g id=\"ytick_5\">\r\n     <g id=\"text_13\">\r\n      <!-- technology -->\r\n      <g style=\"fill:#262626;\" transform=\"translate(46.100156 347.424007)scale(0.13 -0.13)\">\r\n       <use xlink:href=\"#ArialMT-116\"/>\r\n       <use x=\"27.783203\" xlink:href=\"#ArialMT-101\"/>\r\n       <use x=\"83.398438\" xlink:href=\"#ArialMT-99\"/>\r\n       <use x=\"133.398438\" xlink:href=\"#ArialMT-104\"/>\r\n       <use x=\"189.013672\" xlink:href=\"#ArialMT-110\"/>\r\n       <use x=\"244.628906\" xlink:href=\"#ArialMT-111\"/>\r\n       <use x=\"300.244141\" xlink:href=\"#ArialMT-108\"/>\r\n       <use x=\"322.460938\" xlink:href=\"#ArialMT-111\"/>\r\n       <use x=\"378.076172\" xlink:href=\"#ArialMT-103\"/>\r\n       <use x=\"433.691406\" xlink:href=\"#ArialMT-121\"/>\r\n      </g>\r\n     </g>\r\n    </g>\r\n    <g id=\"ytick_6\">\r\n     <g id=\"text_14\">\r\n      <!-- travel -->\r\n      <g style=\"fill:#262626;\" transform=\"translate(77.188438 411.195435)scale(0.13 -0.13)\">\r\n       <use xlink:href=\"#ArialMT-116\"/>\r\n       <use x=\"27.783203\" xlink:href=\"#ArialMT-114\"/>\r\n       <use x=\"61.083984\" xlink:href=\"#ArialMT-97\"/>\r\n       <use x=\"116.699219\" xlink:href=\"#ArialMT-118\"/>\r\n       <use x=\"166.699219\" xlink:href=\"#ArialMT-101\"/>\r\n       <use x=\"222.314453\" xlink:href=\"#ArialMT-108\"/>\r\n      </g>\r\n     </g>\r\n    </g>\r\n    <g id=\"ytick_7\">\r\n     <g id=\"text_15\">\r\n      <!-- world -->\r\n      <g style=\"fill:#262626;\" transform=\"translate(77.911563 474.966864)scale(0.13 -0.13)\">\r\n       <use xlink:href=\"#ArialMT-119\"/>\r\n       <use x=\"72.216797\" xlink:href=\"#ArialMT-111\"/>\r\n       <use x=\"127.832031\" xlink:href=\"#ArialMT-114\"/>\r\n       <use x=\"161.132812\" xlink:href=\"#ArialMT-108\"/>\r\n       <use x=\"183.349609\" xlink:href=\"#ArialMT-100\"/>\r\n      </g>\r\n     </g>\r\n    </g>\r\n    <g id=\"text_16\">\r\n     <!-- Actual -->\r\n     <defs>\r\n      <path d=\"M -0.140625 0 \r\nL 27.34375 71.578125 \r\nL 37.546875 71.578125 \r\nL 66.84375 0 \r\nL 56.0625 0 \r\nL 47.703125 21.6875 \r\nL 17.78125 21.6875 \r\nL 9.90625 0 \r\nz\r\nM 20.515625 29.390625 \r\nL 44.78125 29.390625 \r\nL 37.3125 49.21875 \r\nQ 33.890625 58.25 32.234375 64.0625 \r\nQ 30.859375 57.171875 28.375 50.390625 \r\nz\r\n\" id=\"ArialMT-65\"/>\r\n      <path d=\"M 40.578125 0 \r\nL 40.578125 7.625 \r\nQ 34.515625 -1.171875 24.125 -1.171875 \r\nQ 19.53125 -1.171875 15.546875 0.578125 \r\nQ 11.578125 2.34375 9.640625 5 \r\nQ 7.71875 7.671875 6.9375 11.53125 \r\nQ 6.390625 14.109375 6.390625 19.734375 \r\nL 6.390625 51.859375 \r\nL 15.1875 51.859375 \r\nL 15.1875 23.09375 \r\nQ 15.1875 16.21875 15.71875 13.8125 \r\nQ 16.546875 10.359375 19.234375 8.375 \r\nQ 21.921875 6.390625 25.875 6.390625 \r\nQ 29.828125 6.390625 33.296875 8.421875 \r\nQ 36.765625 10.453125 38.203125 13.9375 \r\nQ 39.65625 17.4375 39.65625 24.078125 \r\nL 39.65625 51.859375 \r\nL 48.4375 51.859375 \r\nL 48.4375 0 \r\nz\r\n\" id=\"ArialMT-117\"/>\r\n     </defs>\r\n     <g style=\"fill:#262626;\" transform=\"translate(21.515625 306.792188)rotate(-90)scale(0.2 -0.2)\">\r\n      <use xlink:href=\"#ArialMT-65\"/>\r\n      <use x=\"66.699219\" xlink:href=\"#ArialMT-99\"/>\r\n      <use x=\"116.699219\" xlink:href=\"#ArialMT-116\"/>\r\n      <use x=\"144.482422\" xlink:href=\"#ArialMT-117\"/>\r\n      <use x=\"200.097656\" xlink:href=\"#ArialMT-97\"/>\r\n      <use x=\"255.712891\" xlink:href=\"#ArialMT-108\"/>\r\n     </g>\r\n    </g>\r\n   </g>\r\n   <g id=\"QuadMesh_1\">\r\n    <path clip-path=\"url(#p83ebc4f507)\" d=\"M 118.475469 55.8 \r\nL 182.246897 55.8 \r\nL 182.246897 119.571429 \r\nL 118.475469 119.571429 \r\nL 118.475469 55.8 \r\n\" style=\"fill:#f8dcc7;\"/>\r\n    <path clip-path=\"url(#p83ebc4f507)\" d=\"M 182.246897 55.8 \r\nL 246.018326 55.8 \r\nL 246.018326 119.571429 \r\nL 182.246897 119.571429 \r\nL 182.246897 55.8 \r\n\" style=\"fill:#07071d;\"/>\r\n    <path clip-path=\"url(#p83ebc4f507)\" d=\"M 246.018326 55.8 \r\nL 309.789754 55.8 \r\nL 309.789754 119.571429 \r\nL 246.018326 119.571429 \r\nL 246.018326 55.8 \r\n\" style=\"fill:#100b23;\"/>\r\n    <path clip-path=\"url(#p83ebc4f507)\" d=\"M 309.789754 55.8 \r\nL 373.561183 55.8 \r\nL 373.561183 119.571429 \r\nL 309.789754 119.571429 \r\nL 309.789754 55.8 \r\n\" style=\"fill:#170f28;\"/>\r\n    <path clip-path=\"url(#p83ebc4f507)\" d=\"M 373.561183 55.8 \r\nL 437.332612 55.8 \r\nL 437.332612 119.571429 \r\nL 373.561183 119.571429 \r\nL 373.561183 55.8 \r\n\" style=\"fill:#100b23;\"/>\r\n    <path clip-path=\"url(#p83ebc4f507)\" d=\"M 437.332612 55.8 \r\nL 501.10404 55.8 \r\nL 501.10404 119.571429 \r\nL 437.332612 119.571429 \r\nL 437.332612 55.8 \r\n\" style=\"fill:#0b0920;\"/>\r\n    <path clip-path=\"url(#p83ebc4f507)\" d=\"M 501.10404 55.8 \r\nL 564.875469 55.8 \r\nL 564.875469 119.571429 \r\nL 501.10404 119.571429 \r\nL 501.10404 55.8 \r\n\" style=\"fill:#07071d;\"/>\r\n    <path clip-path=\"url(#p83ebc4f507)\" d=\"M 118.475469 119.571429 \r\nL 182.246897 119.571429 \r\nL 182.246897 183.342857 \r\nL 118.475469 183.342857 \r\nL 118.475469 119.571429 \r\n\" style=\"fill:#0e0b22;\"/>\r\n    <path clip-path=\"url(#p83ebc4f507)\" d=\"M 182.246897 119.571429 \r\nL 246.018326 119.571429 \r\nL 246.018326 183.342857 \r\nL 182.246897 183.342857 \r\nL 182.246897 119.571429 \r\n\" style=\"fill:#f8dcc7;\"/>\r\n    <path clip-path=\"url(#p83ebc4f507)\" d=\"M 246.018326 119.571429 \r\nL 309.789754 119.571429 \r\nL 309.789754 183.342857 \r\nL 246.018326 183.342857 \r\nL 246.018326 119.571429 \r\n\" style=\"fill:#1d112c;\"/>\r\n    <path clip-path=\"url(#p83ebc4f507)\" d=\"M 309.789754 119.571429 \r\nL 373.561183 119.571429 \r\nL 373.561183 183.342857 \r\nL 309.789754 183.342857 \r\nL 309.789754 119.571429 \r\n\" style=\"fill:#03051a;\"/>\r\n    <path clip-path=\"url(#p83ebc4f507)\" d=\"M 373.561183 119.571429 \r\nL 437.332612 119.571429 \r\nL 437.332612 183.342857 \r\nL 373.561183 183.342857 \r\nL 373.561183 119.571429 \r\n\" style=\"fill:#461c48;\"/>\r\n    <path clip-path=\"url(#p83ebc4f507)\" d=\"M 437.332612 119.571429 \r\nL 501.10404 119.571429 \r\nL 501.10404 183.342857 \r\nL 437.332612 183.342857 \r\nL 437.332612 119.571429 \r\n\" style=\"fill:#0a091f;\"/>\r\n    <path clip-path=\"url(#p83ebc4f507)\" d=\"M 501.10404 119.571429 \r\nL 564.875469 119.571429 \r\nL 564.875469 183.342857 \r\nL 501.10404 183.342857 \r\nL 501.10404 119.571429 \r\n\" style=\"fill:#06071c;\"/>\r\n    <path clip-path=\"url(#p83ebc4f507)\" d=\"M 118.475469 183.342857 \r\nL 182.246897 183.342857 \r\nL 182.246897 247.114286 \r\nL 118.475469 247.114286 \r\nL 118.475469 183.342857 \r\n\" style=\"fill:#07071d;\"/>\r\n    <path clip-path=\"url(#p83ebc4f507)\" d=\"M 182.246897 183.342857 \r\nL 246.018326 183.342857 \r\nL 246.018326 247.114286 \r\nL 182.246897 247.114286 \r\nL 182.246897 183.342857 \r\n\" style=\"fill:#0e0b22;\"/>\r\n    <path clip-path=\"url(#p83ebc4f507)\" d=\"M 246.018326 183.342857 \r\nL 309.789754 183.342857 \r\nL 309.789754 247.114286 \r\nL 246.018326 247.114286 \r\nL 246.018326 183.342857 \r\n\" style=\"fill:#ee543f;\"/>\r\n    <path clip-path=\"url(#p83ebc4f507)\" d=\"M 309.789754 183.342857 \r\nL 373.561183 183.342857 \r\nL 373.561183 247.114286 \r\nL 309.789754 247.114286 \r\nL 309.789754 183.342857 \r\n\" style=\"fill:#180f29;\"/>\r\n    <path clip-path=\"url(#p83ebc4f507)\" d=\"M 373.561183 183.342857 \r\nL 437.332612 183.342857 \r\nL 437.332612 247.114286 \r\nL 373.561183 247.114286 \r\nL 373.561183 183.342857 \r\n\" style=\"fill:#241432;\"/>\r\n    <path clip-path=\"url(#p83ebc4f507)\" d=\"M 437.332612 183.342857 \r\nL 501.10404 183.342857 \r\nL 501.10404 247.114286 \r\nL 437.332612 247.114286 \r\nL 437.332612 183.342857 \r\n\" style=\"fill:#130d25;\"/>\r\n    <path clip-path=\"url(#p83ebc4f507)\" d=\"M 501.10404 183.342857 \r\nL 564.875469 183.342857 \r\nL 564.875469 247.114286 \r\nL 501.10404 247.114286 \r\nL 501.10404 183.342857 \r\n\" style=\"fill:#2a1636;\"/>\r\n    <path clip-path=\"url(#p83ebc4f507)\" d=\"M 118.475469 247.114286 \r\nL 182.246897 247.114286 \r\nL 182.246897 310.885714 \r\nL 118.475469 310.885714 \r\nL 118.475469 247.114286 \r\n\" style=\"fill:#1d112c;\"/>\r\n    <path clip-path=\"url(#p83ebc4f507)\" d=\"M 182.246897 247.114286 \r\nL 246.018326 247.114286 \r\nL 246.018326 310.885714 \r\nL 182.246897 310.885714 \r\nL 182.246897 247.114286 \r\n\" style=\"fill:#04051a;\"/>\r\n    <path clip-path=\"url(#p83ebc4f507)\" d=\"M 246.018326 247.114286 \r\nL 309.789754 247.114286 \r\nL 309.789754 310.885714 \r\nL 246.018326 310.885714 \r\nL 246.018326 247.114286 \r\n\" style=\"fill:#1d112c;\"/>\r\n    <path clip-path=\"url(#p83ebc4f507)\" d=\"M 309.789754 247.114286 \r\nL 373.561183 247.114286 \r\nL 373.561183 310.885714 \r\nL 309.789754 310.885714 \r\nL 309.789754 247.114286 \r\n\" style=\"fill:#faebdd;\"/>\r\n    <path clip-path=\"url(#p83ebc4f507)\" d=\"M 373.561183 247.114286 \r\nL 437.332612 247.114286 \r\nL 437.332612 310.885714 \r\nL 373.561183 310.885714 \r\nL 373.561183 247.114286 \r\n\" style=\"fill:#06071c;\"/>\r\n    <path clip-path=\"url(#p83ebc4f507)\" d=\"M 437.332612 247.114286 \r\nL 501.10404 247.114286 \r\nL 501.10404 310.885714 \r\nL 437.332612 310.885714 \r\nL 437.332612 247.114286 \r\n\" style=\"fill:#07071d;\"/>\r\n    <path clip-path=\"url(#p83ebc4f507)\" d=\"M 501.10404 247.114286 \r\nL 564.875469 247.114286 \r\nL 564.875469 310.885714 \r\nL 501.10404 310.885714 \r\nL 501.10404 247.114286 \r\n\" style=\"fill:#130d25;\"/>\r\n    <path clip-path=\"url(#p83ebc4f507)\" d=\"M 118.475469 310.885714 \r\nL 182.246897 310.885714 \r\nL 182.246897 374.657143 \r\nL 118.475469 374.657143 \r\nL 118.475469 310.885714 \r\n\" style=\"fill:#0b0920;\"/>\r\n    <path clip-path=\"url(#p83ebc4f507)\" d=\"M 182.246897 310.885714 \r\nL 246.018326 310.885714 \r\nL 246.018326 374.657143 \r\nL 182.246897 374.657143 \r\nL 182.246897 310.885714 \r\n\" style=\"fill:#1b112b;\"/>\r\n    <path clip-path=\"url(#p83ebc4f507)\" d=\"M 246.018326 310.885714 \r\nL 309.789754 310.885714 \r\nL 309.789754 374.657143 \r\nL 246.018326 374.657143 \r\nL 246.018326 310.885714 \r\n\" style=\"fill:#180f29;\"/>\r\n    <path clip-path=\"url(#p83ebc4f507)\" d=\"M 309.789754 310.885714 \r\nL 373.561183 310.885714 \r\nL 373.561183 374.657143 \r\nL 309.789754 374.657143 \r\nL 309.789754 310.885714 \r\n\" style=\"fill:#0b0920;\"/>\r\n    <path clip-path=\"url(#p83ebc4f507)\" d=\"M 373.561183 310.885714 \r\nL 437.332612 310.885714 \r\nL 437.332612 374.657143 \r\nL 373.561183 374.657143 \r\nL 373.561183 310.885714 \r\n\" style=\"fill:#f58860;\"/>\r\n    <path clip-path=\"url(#p83ebc4f507)\" d=\"M 437.332612 310.885714 \r\nL 501.10404 310.885714 \r\nL 501.10404 374.657143 \r\nL 437.332612 374.657143 \r\nL 437.332612 310.885714 \r\n\" style=\"fill:#100b23;\"/>\r\n    <path clip-path=\"url(#p83ebc4f507)\" d=\"M 501.10404 310.885714 \r\nL 564.875469 310.885714 \r\nL 564.875469 374.657143 \r\nL 501.10404 374.657143 \r\nL 501.10404 310.885714 \r\n\" style=\"fill:#170f28;\"/>\r\n    <path clip-path=\"url(#p83ebc4f507)\" d=\"M 118.475469 374.657143 \r\nL 182.246897 374.657143 \r\nL 182.246897 438.428571 \r\nL 118.475469 438.428571 \r\nL 118.475469 374.657143 \r\n\" style=\"fill:#140e26;\"/>\r\n    <path clip-path=\"url(#p83ebc4f507)\" d=\"M 182.246897 374.657143 \r\nL 246.018326 374.657143 \r\nL 246.018326 438.428571 \r\nL 182.246897 438.428571 \r\nL 182.246897 374.657143 \r\n\" style=\"fill:#100b23;\"/>\r\n    <path clip-path=\"url(#p83ebc4f507)\" d=\"M 246.018326 374.657143 \r\nL 309.789754 374.657143 \r\nL 309.789754 438.428571 \r\nL 246.018326 438.428571 \r\nL 246.018326 374.657143 \r\n\" style=\"fill:#0a091f;\"/>\r\n    <path clip-path=\"url(#p83ebc4f507)\" d=\"M 309.789754 374.657143 \r\nL 373.561183 374.657143 \r\nL 373.561183 438.428571 \r\nL 309.789754 438.428571 \r\nL 309.789754 374.657143 \r\n\" style=\"fill:#130d25;\"/>\r\n    <path clip-path=\"url(#p83ebc4f507)\" d=\"M 373.561183 374.657143 \r\nL 437.332612 374.657143 \r\nL 437.332612 438.428571 \r\nL 373.561183 438.428571 \r\nL 373.561183 374.657143 \r\n\" style=\"fill:#1b112b;\"/>\r\n    <path clip-path=\"url(#p83ebc4f507)\" d=\"M 437.332612 374.657143 \r\nL 501.10404 374.657143 \r\nL 501.10404 438.428571 \r\nL 437.332612 438.428571 \r\nL 437.332612 374.657143 \r\n\" style=\"fill:#f59269;\"/>\r\n    <path clip-path=\"url(#p83ebc4f507)\" d=\"M 501.10404 374.657143 \r\nL 564.875469 374.657143 \r\nL 564.875469 438.428571 \r\nL 501.10404 438.428571 \r\nL 501.10404 374.657143 \r\n\" style=\"fill:#140e26;\"/>\r\n    <path clip-path=\"url(#p83ebc4f507)\" d=\"M 118.475469 438.428571 \r\nL 182.246897 438.428571 \r\nL 182.246897 502.2 \r\nL 118.475469 502.2 \r\nL 118.475469 438.428571 \r\n\" style=\"fill:#241432;\"/>\r\n    <path clip-path=\"url(#p83ebc4f507)\" d=\"M 182.246897 438.428571 \r\nL 246.018326 438.428571 \r\nL 246.018326 502.2 \r\nL 182.246897 502.2 \r\nL 182.246897 438.428571 \r\n\" style=\"fill:#281535;\"/>\r\n    <path clip-path=\"url(#p83ebc4f507)\" d=\"M 246.018326 438.428571 \r\nL 309.789754 438.428571 \r\nL 309.789754 502.2 \r\nL 246.018326 502.2 \r\nL 246.018326 438.428571 \r\n\" style=\"fill:#35193e;\"/>\r\n    <path clip-path=\"url(#p83ebc4f507)\" d=\"M 309.789754 438.428571 \r\nL 373.561183 438.428571 \r\nL 373.561183 502.2 \r\nL 309.789754 502.2 \r\nL 309.789754 438.428571 \r\n\" style=\"fill:#180f29;\"/>\r\n    <path clip-path=\"url(#p83ebc4f507)\" d=\"M 373.561183 438.428571 \r\nL 437.332612 438.428571 \r\nL 437.332612 502.2 \r\nL 373.561183 502.2 \r\nL 373.561183 438.428571 \r\n\" style=\"fill:#180f29;\"/>\r\n    <path clip-path=\"url(#p83ebc4f507)\" d=\"M 437.332612 438.428571 \r\nL 501.10404 438.428571 \r\nL 501.10404 502.2 \r\nL 437.332612 502.2 \r\nL 437.332612 438.428571 \r\n\" style=\"fill:#0a091f;\"/>\r\n    <path clip-path=\"url(#p83ebc4f507)\" d=\"M 501.10404 438.428571 \r\nL 564.875469 438.428571 \r\nL 564.875469 502.2 \r\nL 501.10404 502.2 \r\nL 501.10404 438.428571 \r\n\" style=\"fill:#f37651;\"/>\r\n   </g>\r\n   <g id=\"text_17\">\r\n    <!-- 162 -->\r\n    <defs>\r\n     <path d=\"M 37.25 0 \r\nL 28.46875 0 \r\nL 28.46875 56 \r\nQ 25.296875 52.984375 20.140625 49.953125 \r\nQ 14.984375 46.921875 10.890625 45.40625 \r\nL 10.890625 53.90625 \r\nQ 18.265625 57.375 23.78125 62.296875 \r\nQ 29.296875 67.234375 31.59375 71.875 \r\nL 37.25 71.875 \r\nz\r\n\" id=\"ArialMT-49\"/>\r\n     <path d=\"M 49.75 54.046875 \r\nL 41.015625 53.375 \r\nQ 39.84375 58.546875 37.703125 60.890625 \r\nQ 34.125 64.65625 28.90625 64.65625 \r\nQ 24.703125 64.65625 21.53125 62.3125 \r\nQ 17.390625 59.28125 14.984375 53.46875 \r\nQ 12.59375 47.65625 12.5 36.921875 \r\nQ 15.671875 41.75 20.265625 44.09375 \r\nQ 24.859375 46.4375 29.890625 46.4375 \r\nQ 38.671875 46.4375 44.84375 39.96875 \r\nQ 51.03125 33.5 51.03125 23.25 \r\nQ 51.03125 16.5 48.125 10.71875 \r\nQ 45.21875 4.9375 40.140625 1.859375 \r\nQ 35.0625 -1.21875 28.609375 -1.21875 \r\nQ 17.625 -1.21875 10.6875 6.859375 \r\nQ 3.765625 14.9375 3.765625 33.5 \r\nQ 3.765625 54.25 11.421875 63.671875 \r\nQ 18.109375 71.875 29.4375 71.875 \r\nQ 37.890625 71.875 43.28125 67.140625 \r\nQ 48.6875 62.40625 49.75 54.046875 \r\nz\r\nM 13.875 23.1875 \r\nQ 13.875 18.65625 15.796875 14.5 \r\nQ 17.71875 10.359375 21.1875 8.171875 \r\nQ 24.65625 6 28.46875 6 \r\nQ 34.03125 6 38.03125 10.484375 \r\nQ 42.046875 14.984375 42.046875 22.703125 \r\nQ 42.046875 30.125 38.078125 34.390625 \r\nQ 34.125 38.671875 28.125 38.671875 \r\nQ 22.171875 38.671875 18.015625 34.390625 \r\nQ 13.875 30.125 13.875 23.1875 \r\nz\r\n\" id=\"ArialMT-54\"/>\r\n     <path d=\"M 50.34375 8.453125 \r\nL 50.34375 0 \r\nL 3.03125 0 \r\nQ 2.9375 3.171875 4.046875 6.109375 \r\nQ 5.859375 10.9375 9.828125 15.625 \r\nQ 13.8125 20.3125 21.34375 26.46875 \r\nQ 33.015625 36.03125 37.109375 41.625 \r\nQ 41.21875 47.21875 41.21875 52.203125 \r\nQ 41.21875 57.421875 37.46875 61 \r\nQ 33.734375 64.59375 27.734375 64.59375 \r\nQ 21.390625 64.59375 17.578125 60.78125 \r\nQ 13.765625 56.984375 13.71875 50.25 \r\nL 4.6875 51.171875 \r\nQ 5.609375 61.28125 11.65625 66.578125 \r\nQ 17.71875 71.875 27.9375 71.875 \r\nQ 38.234375 71.875 44.234375 66.15625 \r\nQ 50.25 60.453125 50.25 52 \r\nQ 50.25 47.703125 48.484375 43.546875 \r\nQ 46.734375 39.40625 42.65625 34.8125 \r\nQ 38.578125 30.21875 29.109375 22.21875 \r\nQ 21.1875 15.578125 18.9375 13.203125 \r\nQ 16.703125 10.84375 15.234375 8.453125 \r\nz\r\n\" id=\"ArialMT-50\"/>\r\n    </defs>\r\n    <g style=\"fill:#262626;\" transform=\"translate(140.351496 90.787902)scale(0.12 -0.12)\">\r\n     <use xlink:href=\"#ArialMT-49\"/>\r\n     <use x=\"55.615234\" xlink:href=\"#ArialMT-54\"/>\r\n     <use x=\"111.230469\" xlink:href=\"#ArialMT-50\"/>\r\n    </g>\r\n   </g>\r\n   <g id=\"text_18\">\r\n    <!-- 4 -->\r\n    <defs>\r\n     <path d=\"M 32.328125 0 \r\nL 32.328125 17.140625 \r\nL 1.265625 17.140625 \r\nL 1.265625 25.203125 \r\nL 33.9375 71.578125 \r\nL 41.109375 71.578125 \r\nL 41.109375 25.203125 \r\nL 50.78125 25.203125 \r\nL 50.78125 17.140625 \r\nL 41.109375 17.140625 \r\nL 41.109375 0 \r\nz\r\nM 32.328125 25.203125 \r\nL 32.328125 57.46875 \r\nL 9.90625 25.203125 \r\nz\r\n\" id=\"ArialMT-52\"/>\r\n    </defs>\r\n    <g style=\"fill:#ffffff;\" transform=\"translate(210.796049 90.787902)scale(0.12 -0.12)\">\r\n     <use xlink:href=\"#ArialMT-52\"/>\r\n    </g>\r\n   </g>\r\n   <g id=\"text_19\">\r\n    <!-- 8 -->\r\n    <defs>\r\n     <path d=\"M 17.671875 38.8125 \r\nQ 12.203125 40.828125 9.5625 44.53125 \r\nQ 6.9375 48.25 6.9375 53.421875 \r\nQ 6.9375 61.234375 12.546875 66.546875 \r\nQ 18.171875 71.875 27.484375 71.875 \r\nQ 36.859375 71.875 42.578125 66.421875 \r\nQ 48.296875 60.984375 48.296875 53.171875 \r\nQ 48.296875 48.1875 45.671875 44.5 \r\nQ 43.0625 40.828125 37.75 38.8125 \r\nQ 44.34375 36.671875 47.78125 31.875 \r\nQ 51.21875 27.09375 51.21875 20.453125 \r\nQ 51.21875 11.28125 44.71875 5.03125 \r\nQ 38.234375 -1.21875 27.640625 -1.21875 \r\nQ 17.046875 -1.21875 10.546875 5.046875 \r\nQ 4.046875 11.328125 4.046875 20.703125 \r\nQ 4.046875 27.6875 7.59375 32.390625 \r\nQ 11.140625 37.109375 17.671875 38.8125 \r\nz\r\nM 15.921875 53.71875 \r\nQ 15.921875 48.640625 19.1875 45.40625 \r\nQ 22.46875 42.1875 27.6875 42.1875 \r\nQ 32.765625 42.1875 36.015625 45.375 \r\nQ 39.265625 48.578125 39.265625 53.21875 \r\nQ 39.265625 58.0625 35.90625 61.359375 \r\nQ 32.5625 64.65625 27.59375 64.65625 \r\nQ 22.5625 64.65625 19.234375 61.421875 \r\nQ 15.921875 58.203125 15.921875 53.71875 \r\nz\r\nM 13.09375 20.65625 \r\nQ 13.09375 16.890625 14.875 13.375 \r\nQ 16.65625 9.859375 20.171875 7.921875 \r\nQ 23.6875 6 27.734375 6 \r\nQ 34.03125 6 38.125 10.046875 \r\nQ 42.234375 14.109375 42.234375 20.359375 \r\nQ 42.234375 26.703125 38.015625 30.859375 \r\nQ 33.796875 35.015625 27.4375 35.015625 \r\nQ 21.234375 35.015625 17.15625 30.90625 \r\nQ 13.09375 26.8125 13.09375 20.65625 \r\nz\r\n\" id=\"ArialMT-56\"/>\r\n    </defs>\r\n    <g style=\"fill:#ffffff;\" transform=\"translate(274.567478 90.787902)scale(0.12 -0.12)\">\r\n     <use xlink:href=\"#ArialMT-56\"/>\r\n    </g>\r\n   </g>\r\n   <g id=\"text_20\">\r\n    <!-- 11 -->\r\n    <g style=\"fill:#ffffff;\" transform=\"translate(335.008906 90.787902)scale(0.12 -0.12)\">\r\n     <use xlink:href=\"#ArialMT-49\"/>\r\n     <use x=\"55.505859\" xlink:href=\"#ArialMT-49\"/>\r\n    </g>\r\n   </g>\r\n   <g id=\"text_21\">\r\n    <!-- 8 -->\r\n    <g style=\"fill:#ffffff;\" transform=\"translate(402.110335 90.787902)scale(0.12 -0.12)\">\r\n     <use xlink:href=\"#ArialMT-56\"/>\r\n    </g>\r\n   </g>\r\n   <g id=\"text_22\">\r\n    <!-- 6 -->\r\n    <g style=\"fill:#ffffff;\" transform=\"translate(465.881763 90.787902)scale(0.12 -0.12)\">\r\n     <use xlink:href=\"#ArialMT-54\"/>\r\n    </g>\r\n   </g>\r\n   <g id=\"text_23\">\r\n    <!-- 4 -->\r\n    <g style=\"fill:#ffffff;\" transform=\"translate(529.653192 90.787902)scale(0.12 -0.12)\">\r\n     <use xlink:href=\"#ArialMT-52\"/>\r\n    </g>\r\n   </g>\r\n   <g id=\"text_24\">\r\n    <!-- 7 -->\r\n    <defs>\r\n     <path d=\"M 4.734375 62.203125 \r\nL 4.734375 70.65625 \r\nL 51.078125 70.65625 \r\nL 51.078125 63.8125 \r\nQ 44.234375 56.546875 37.515625 44.484375 \r\nQ 30.8125 32.421875 27.15625 19.671875 \r\nQ 24.515625 10.6875 23.78125 0 \r\nL 14.75 0 \r\nQ 14.890625 8.453125 18.0625 20.40625 \r\nQ 21.234375 32.375 27.171875 43.484375 \r\nQ 33.109375 54.59375 39.796875 62.203125 \r\nz\r\n\" id=\"ArialMT-55\"/>\r\n    </defs>\r\n    <g style=\"fill:#ffffff;\" transform=\"translate(147.024621 154.55933)scale(0.12 -0.12)\">\r\n     <use xlink:href=\"#ArialMT-55\"/>\r\n    </g>\r\n   </g>\r\n   <g id=\"text_25\">\r\n    <!-- 162 -->\r\n    <g style=\"fill:#262626;\" transform=\"translate(204.122924 154.55933)scale(0.12 -0.12)\">\r\n     <use xlink:href=\"#ArialMT-49\"/>\r\n     <use x=\"55.615234\" xlink:href=\"#ArialMT-54\"/>\r\n     <use x=\"111.230469\" xlink:href=\"#ArialMT-50\"/>\r\n    </g>\r\n   </g>\r\n   <g id=\"text_26\">\r\n    <!-- 14 -->\r\n    <g style=\"fill:#ffffff;\" transform=\"translate(271.230915 154.55933)scale(0.12 -0.12)\">\r\n     <use xlink:href=\"#ArialMT-49\"/>\r\n     <use x=\"55.615234\" xlink:href=\"#ArialMT-52\"/>\r\n    </g>\r\n   </g>\r\n   <g id=\"text_27\">\r\n    <!-- 1 -->\r\n    <g style=\"fill:#ffffff;\" transform=\"translate(338.338906 154.55933)scale(0.12 -0.12)\">\r\n     <use xlink:href=\"#ArialMT-49\"/>\r\n    </g>\r\n   </g>\r\n   <g id=\"text_28\">\r\n    <!-- 32 -->\r\n    <defs>\r\n     <path d=\"M 4.203125 18.890625 \r\nL 12.984375 20.0625 \r\nQ 14.5 12.59375 18.140625 9.296875 \r\nQ 21.78125 6 27 6 \r\nQ 33.203125 6 37.46875 10.296875 \r\nQ 41.75 14.59375 41.75 20.953125 \r\nQ 41.75 27 37.796875 30.921875 \r\nQ 33.84375 34.859375 27.734375 34.859375 \r\nQ 25.25 34.859375 21.53125 33.890625 \r\nL 22.515625 41.609375 \r\nQ 23.390625 41.5 23.921875 41.5 \r\nQ 29.546875 41.5 34.03125 44.421875 \r\nQ 38.53125 47.359375 38.53125 53.46875 \r\nQ 38.53125 58.296875 35.25 61.46875 \r\nQ 31.984375 64.65625 26.8125 64.65625 \r\nQ 21.6875 64.65625 18.265625 61.421875 \r\nQ 14.84375 58.203125 13.875 51.765625 \r\nL 5.078125 53.328125 \r\nQ 6.6875 62.15625 12.390625 67.015625 \r\nQ 18.109375 71.875 26.609375 71.875 \r\nQ 32.46875 71.875 37.390625 69.359375 \r\nQ 42.328125 66.84375 44.9375 62.5 \r\nQ 47.5625 58.15625 47.5625 53.265625 \r\nQ 47.5625 48.640625 45.0625 44.828125 \r\nQ 42.578125 41.015625 37.703125 38.765625 \r\nQ 44.046875 37.3125 47.5625 32.6875 \r\nQ 51.078125 28.078125 51.078125 21.140625 \r\nQ 51.078125 11.765625 44.234375 5.25 \r\nQ 37.40625 -1.265625 26.953125 -1.265625 \r\nQ 17.53125 -1.265625 11.296875 4.34375 \r\nQ 5.078125 9.96875 4.203125 18.890625 \r\nz\r\n\" id=\"ArialMT-51\"/>\r\n    </defs>\r\n    <g style=\"fill:#ffffff;\" transform=\"translate(398.773772 154.55933)scale(0.12 -0.12)\">\r\n     <use xlink:href=\"#ArialMT-51\"/>\r\n     <use x=\"55.615234\" xlink:href=\"#ArialMT-50\"/>\r\n    </g>\r\n   </g>\r\n   <g id=\"text_29\">\r\n    <!-- 5 -->\r\n    <defs>\r\n     <path d=\"M 4.15625 18.75 \r\nL 13.375 19.53125 \r\nQ 14.40625 12.796875 18.140625 9.390625 \r\nQ 21.875 6 27.15625 6 \r\nQ 33.5 6 37.890625 10.78125 \r\nQ 42.28125 15.578125 42.28125 23.484375 \r\nQ 42.28125 31 38.0625 35.34375 \r\nQ 33.84375 39.703125 27 39.703125 \r\nQ 22.75 39.703125 19.328125 37.765625 \r\nQ 15.921875 35.84375 13.96875 32.765625 \r\nL 5.71875 33.84375 \r\nL 12.640625 70.609375 \r\nL 48.25 70.609375 \r\nL 48.25 62.203125 \r\nL 19.671875 62.203125 \r\nL 15.828125 42.96875 \r\nQ 22.265625 47.46875 29.34375 47.46875 \r\nQ 38.71875 47.46875 45.15625 40.96875 \r\nQ 51.609375 34.46875 51.609375 24.265625 \r\nQ 51.609375 14.546875 45.953125 7.46875 \r\nQ 39.0625 -1.21875 27.15625 -1.21875 \r\nQ 17.390625 -1.21875 11.203125 4.25 \r\nQ 5.03125 9.71875 4.15625 18.75 \r\nz\r\n\" id=\"ArialMT-53\"/>\r\n    </defs>\r\n    <g style=\"fill:#ffffff;\" transform=\"translate(465.881763 154.55933)scale(0.12 -0.12)\">\r\n     <use xlink:href=\"#ArialMT-53\"/>\r\n    </g>\r\n   </g>\r\n   <g id=\"text_30\">\r\n    <!-- 3 -->\r\n    <g style=\"fill:#ffffff;\" transform=\"translate(529.653192 154.55933)scale(0.12 -0.12)\">\r\n     <use xlink:href=\"#ArialMT-51\"/>\r\n    </g>\r\n   </g>\r\n   <g id=\"text_31\">\r\n    <!-- 4 -->\r\n    <g style=\"fill:#ffffff;\" transform=\"translate(147.024621 218.330759)scale(0.12 -0.12)\">\r\n     <use xlink:href=\"#ArialMT-52\"/>\r\n    </g>\r\n   </g>\r\n   <g id=\"text_32\">\r\n    <!-- 7 -->\r\n    <g style=\"fill:#ffffff;\" transform=\"translate(210.796049 218.330759)scale(0.12 -0.12)\">\r\n     <use xlink:href=\"#ArialMT-55\"/>\r\n    </g>\r\n   </g>\r\n   <g id=\"text_33\">\r\n    <!-- 109 -->\r\n    <defs>\r\n     <path d=\"M 4.15625 35.296875 \r\nQ 4.15625 48 6.765625 55.734375 \r\nQ 9.375 63.484375 14.515625 67.671875 \r\nQ 19.671875 71.875 27.484375 71.875 \r\nQ 33.25 71.875 37.59375 69.546875 \r\nQ 41.9375 67.234375 44.765625 62.859375 \r\nQ 47.609375 58.5 49.21875 52.21875 \r\nQ 50.828125 45.953125 50.828125 35.296875 \r\nQ 50.828125 22.703125 48.234375 14.96875 \r\nQ 45.65625 7.234375 40.5 3 \r\nQ 35.359375 -1.21875 27.484375 -1.21875 \r\nQ 17.140625 -1.21875 11.234375 6.203125 \r\nQ 4.15625 15.140625 4.15625 35.296875 \r\nz\r\nM 13.1875 35.296875 \r\nQ 13.1875 17.671875 17.3125 11.828125 \r\nQ 21.4375 6 27.484375 6 \r\nQ 33.546875 6 37.671875 11.859375 \r\nQ 41.796875 17.71875 41.796875 35.296875 \r\nQ 41.796875 52.984375 37.671875 58.78125 \r\nQ 33.546875 64.59375 27.390625 64.59375 \r\nQ 21.34375 64.59375 17.71875 59.46875 \r\nQ 13.1875 52.9375 13.1875 35.296875 \r\nz\r\n\" id=\"ArialMT-48\"/>\r\n     <path d=\"M 5.46875 16.546875 \r\nL 13.921875 17.328125 \r\nQ 14.984375 11.375 18.015625 8.6875 \r\nQ 21.046875 6 25.78125 6 \r\nQ 29.828125 6 32.875 7.859375 \r\nQ 35.9375 9.71875 37.890625 12.8125 \r\nQ 39.84375 15.921875 41.15625 21.1875 \r\nQ 42.484375 26.46875 42.484375 31.9375 \r\nQ 42.484375 32.515625 42.4375 33.6875 \r\nQ 39.796875 29.5 35.234375 26.875 \r\nQ 30.671875 24.265625 25.34375 24.265625 \r\nQ 16.453125 24.265625 10.296875 30.703125 \r\nQ 4.15625 37.15625 4.15625 47.703125 \r\nQ 4.15625 58.59375 10.578125 65.234375 \r\nQ 17 71.875 26.65625 71.875 \r\nQ 33.640625 71.875 39.421875 68.109375 \r\nQ 45.21875 64.359375 48.21875 57.390625 \r\nQ 51.21875 50.4375 51.21875 37.25 \r\nQ 51.21875 23.53125 48.234375 15.40625 \r\nQ 45.265625 7.28125 39.375 3.03125 \r\nQ 33.5 -1.21875 25.59375 -1.21875 \r\nQ 17.1875 -1.21875 11.859375 3.4375 \r\nQ 6.546875 8.109375 5.46875 16.546875 \r\nz\r\nM 41.453125 48.140625 \r\nQ 41.453125 55.71875 37.421875 60.15625 \r\nQ 33.40625 64.59375 27.734375 64.59375 \r\nQ 21.875 64.59375 17.53125 59.8125 \r\nQ 13.1875 55.03125 13.1875 47.40625 \r\nQ 13.1875 40.578125 17.3125 36.296875 \r\nQ 21.4375 32.03125 27.484375 32.03125 \r\nQ 33.59375 32.03125 37.515625 36.296875 \r\nQ 41.453125 40.578125 41.453125 48.140625 \r\nz\r\n\" id=\"ArialMT-57\"/>\r\n    </defs>\r\n    <g style=\"fill:#ffffff;\" transform=\"translate(267.894353 218.330759)scale(0.12 -0.12)\">\r\n     <use xlink:href=\"#ArialMT-49\"/>\r\n     <use x=\"55.615234\" xlink:href=\"#ArialMT-48\"/>\r\n     <use x=\"111.230469\" xlink:href=\"#ArialMT-57\"/>\r\n    </g>\r\n   </g>\r\n   <g id=\"text_34\">\r\n    <!-- 12 -->\r\n    <g style=\"fill:#ffffff;\" transform=\"translate(335.002344 218.330759)scale(0.12 -0.12)\">\r\n     <use xlink:href=\"#ArialMT-49\"/>\r\n     <use x=\"55.615234\" xlink:href=\"#ArialMT-50\"/>\r\n    </g>\r\n   </g>\r\n   <g id=\"text_35\">\r\n    <!-- 17 -->\r\n    <g style=\"fill:#ffffff;\" transform=\"translate(398.773772 218.330759)scale(0.12 -0.12)\">\r\n     <use xlink:href=\"#ArialMT-49\"/>\r\n     <use x=\"55.615234\" xlink:href=\"#ArialMT-55\"/>\r\n    </g>\r\n   </g>\r\n   <g id=\"text_36\">\r\n    <!-- 9 -->\r\n    <g style=\"fill:#ffffff;\" transform=\"translate(465.881763 218.330759)scale(0.12 -0.12)\">\r\n     <use xlink:href=\"#ArialMT-57\"/>\r\n    </g>\r\n   </g>\r\n   <g id=\"text_37\">\r\n    <!-- 20 -->\r\n    <g style=\"fill:#ffffff;\" transform=\"translate(526.316629 218.330759)scale(0.12 -0.12)\">\r\n     <use xlink:href=\"#ArialMT-50\"/>\r\n     <use x=\"55.615234\" xlink:href=\"#ArialMT-48\"/>\r\n    </g>\r\n   </g>\r\n   <g id=\"text_38\">\r\n    <!-- 14 -->\r\n    <g style=\"fill:#ffffff;\" transform=\"translate(143.688058 282.102188)scale(0.12 -0.12)\">\r\n     <use xlink:href=\"#ArialMT-49\"/>\r\n     <use x=\"55.615234\" xlink:href=\"#ArialMT-52\"/>\r\n    </g>\r\n   </g>\r\n   <g id=\"text_39\">\r\n    <!-- 2 -->\r\n    <g style=\"fill:#ffffff;\" transform=\"translate(210.796049 282.102188)scale(0.12 -0.12)\">\r\n     <use xlink:href=\"#ArialMT-50\"/>\r\n    </g>\r\n   </g>\r\n   <g id=\"text_40\">\r\n    <!-- 14 -->\r\n    <g style=\"fill:#ffffff;\" transform=\"translate(271.230915 282.102188)scale(0.12 -0.12)\">\r\n     <use xlink:href=\"#ArialMT-49\"/>\r\n     <use x=\"55.615234\" xlink:href=\"#ArialMT-52\"/>\r\n    </g>\r\n   </g>\r\n   <g id=\"text_41\">\r\n    <!-- 169 -->\r\n    <g style=\"fill:#262626;\" transform=\"translate(331.665781 282.102188)scale(0.12 -0.12)\">\r\n     <use xlink:href=\"#ArialMT-49\"/>\r\n     <use x=\"55.615234\" xlink:href=\"#ArialMT-54\"/>\r\n     <use x=\"111.230469\" xlink:href=\"#ArialMT-57\"/>\r\n    </g>\r\n   </g>\r\n   <g id=\"text_42\">\r\n    <!-- 3 -->\r\n    <g style=\"fill:#ffffff;\" transform=\"translate(402.110335 282.102188)scale(0.12 -0.12)\">\r\n     <use xlink:href=\"#ArialMT-51\"/>\r\n    </g>\r\n   </g>\r\n   <g id=\"text_43\">\r\n    <!-- 4 -->\r\n    <g style=\"fill:#ffffff;\" transform=\"translate(465.881763 282.102188)scale(0.12 -0.12)\">\r\n     <use xlink:href=\"#ArialMT-52\"/>\r\n    </g>\r\n   </g>\r\n   <g id=\"text_44\">\r\n    <!-- 9 -->\r\n    <g style=\"fill:#ffffff;\" transform=\"translate(529.653192 282.102188)scale(0.12 -0.12)\">\r\n     <use xlink:href=\"#ArialMT-57\"/>\r\n    </g>\r\n   </g>\r\n   <g id=\"text_45\">\r\n    <!-- 6 -->\r\n    <g style=\"fill:#ffffff;\" transform=\"translate(147.024621 345.873616)scale(0.12 -0.12)\">\r\n     <use xlink:href=\"#ArialMT-54\"/>\r\n    </g>\r\n   </g>\r\n   <g id=\"text_46\">\r\n    <!-- 13 -->\r\n    <g style=\"fill:#ffffff;\" transform=\"translate(207.459487 345.873616)scale(0.12 -0.12)\">\r\n     <use xlink:href=\"#ArialMT-49\"/>\r\n     <use x=\"55.615234\" xlink:href=\"#ArialMT-51\"/>\r\n    </g>\r\n   </g>\r\n   <g id=\"text_47\">\r\n    <!-- 12 -->\r\n    <g style=\"fill:#ffffff;\" transform=\"translate(271.230915 345.873616)scale(0.12 -0.12)\">\r\n     <use xlink:href=\"#ArialMT-49\"/>\r\n     <use x=\"55.615234\" xlink:href=\"#ArialMT-50\"/>\r\n    </g>\r\n   </g>\r\n   <g id=\"text_48\">\r\n    <!-- 6 -->\r\n    <g style=\"fill:#ffffff;\" transform=\"translate(338.338906 345.873616)scale(0.12 -0.12)\">\r\n     <use xlink:href=\"#ArialMT-54\"/>\r\n    </g>\r\n   </g>\r\n   <g id=\"text_49\">\r\n    <!-- 127 -->\r\n    <g style=\"fill:#ffffff;\" transform=\"translate(395.43721 345.873616)scale(0.12 -0.12)\">\r\n     <use xlink:href=\"#ArialMT-49\"/>\r\n     <use x=\"55.615234\" xlink:href=\"#ArialMT-50\"/>\r\n     <use x=\"111.230469\" xlink:href=\"#ArialMT-55\"/>\r\n    </g>\r\n   </g>\r\n   <g id=\"text_50\">\r\n    <!-- 8 -->\r\n    <g style=\"fill:#ffffff;\" transform=\"translate(465.881763 345.873616)scale(0.12 -0.12)\">\r\n     <use xlink:href=\"#ArialMT-56\"/>\r\n    </g>\r\n   </g>\r\n   <g id=\"text_51\">\r\n    <!-- 11 -->\r\n    <g style=\"fill:#ffffff;\" transform=\"translate(526.323192 345.873616)scale(0.12 -0.12)\">\r\n     <use xlink:href=\"#ArialMT-49\"/>\r\n     <use x=\"55.505859\" xlink:href=\"#ArialMT-49\"/>\r\n    </g>\r\n   </g>\r\n   <g id=\"text_52\">\r\n    <!-- 10 -->\r\n    <g style=\"fill:#ffffff;\" transform=\"translate(143.688058 409.645045)scale(0.12 -0.12)\">\r\n     <use xlink:href=\"#ArialMT-49\"/>\r\n     <use x=\"55.615234\" xlink:href=\"#ArialMT-48\"/>\r\n    </g>\r\n   </g>\r\n   <g id=\"text_53\">\r\n    <!-- 8 -->\r\n    <g style=\"fill:#ffffff;\" transform=\"translate(210.796049 409.645045)scale(0.12 -0.12)\">\r\n     <use xlink:href=\"#ArialMT-56\"/>\r\n    </g>\r\n   </g>\r\n   <g id=\"text_54\">\r\n    <!-- 5 -->\r\n    <g style=\"fill:#ffffff;\" transform=\"translate(274.567478 409.645045)scale(0.12 -0.12)\">\r\n     <use xlink:href=\"#ArialMT-53\"/>\r\n    </g>\r\n   </g>\r\n   <g id=\"text_55\">\r\n    <!-- 9 -->\r\n    <g style=\"fill:#ffffff;\" transform=\"translate(338.338906 409.645045)scale(0.12 -0.12)\">\r\n     <use xlink:href=\"#ArialMT-57\"/>\r\n    </g>\r\n   </g>\r\n   <g id=\"text_56\">\r\n    <!-- 13 -->\r\n    <g style=\"fill:#ffffff;\" transform=\"translate(398.773772 409.645045)scale(0.12 -0.12)\">\r\n     <use xlink:href=\"#ArialMT-49\"/>\r\n     <use x=\"55.615234\" xlink:href=\"#ArialMT-51\"/>\r\n    </g>\r\n   </g>\r\n   <g id=\"text_57\">\r\n    <!-- 131 -->\r\n    <g style=\"fill:#262626;\" transform=\"translate(459.208638 409.645045)scale(0.12 -0.12)\">\r\n     <use xlink:href=\"#ArialMT-49\"/>\r\n     <use x=\"55.615234\" xlink:href=\"#ArialMT-51\"/>\r\n     <use x=\"111.230469\" xlink:href=\"#ArialMT-49\"/>\r\n    </g>\r\n   </g>\r\n   <g id=\"text_58\">\r\n    <!-- 10 -->\r\n    <g style=\"fill:#ffffff;\" transform=\"translate(526.316629 409.645045)scale(0.12 -0.12)\">\r\n     <use xlink:href=\"#ArialMT-49\"/>\r\n     <use x=\"55.615234\" xlink:href=\"#ArialMT-48\"/>\r\n    </g>\r\n   </g>\r\n   <g id=\"text_59\">\r\n    <!-- 17 -->\r\n    <g style=\"fill:#ffffff;\" transform=\"translate(143.688058 473.416473)scale(0.12 -0.12)\">\r\n     <use xlink:href=\"#ArialMT-49\"/>\r\n     <use x=\"55.615234\" xlink:href=\"#ArialMT-55\"/>\r\n    </g>\r\n   </g>\r\n   <g id=\"text_60\">\r\n    <!-- 19 -->\r\n    <g style=\"fill:#ffffff;\" transform=\"translate(207.459487 473.416473)scale(0.12 -0.12)\">\r\n     <use xlink:href=\"#ArialMT-49\"/>\r\n     <use x=\"55.615234\" xlink:href=\"#ArialMT-57\"/>\r\n    </g>\r\n   </g>\r\n   <g id=\"text_61\">\r\n    <!-- 25 -->\r\n    <g style=\"fill:#ffffff;\" transform=\"translate(271.230915 473.416473)scale(0.12 -0.12)\">\r\n     <use xlink:href=\"#ArialMT-50\"/>\r\n     <use x=\"55.615234\" xlink:href=\"#ArialMT-53\"/>\r\n    </g>\r\n   </g>\r\n   <g id=\"text_62\">\r\n    <!-- 12 -->\r\n    <g style=\"fill:#ffffff;\" transform=\"translate(335.002344 473.416473)scale(0.12 -0.12)\">\r\n     <use xlink:href=\"#ArialMT-49\"/>\r\n     <use x=\"55.615234\" xlink:href=\"#ArialMT-50\"/>\r\n    </g>\r\n   </g>\r\n   <g id=\"text_63\">\r\n    <!-- 12 -->\r\n    <g style=\"fill:#ffffff;\" transform=\"translate(398.773772 473.416473)scale(0.12 -0.12)\">\r\n     <use xlink:href=\"#ArialMT-49\"/>\r\n     <use x=\"55.615234\" xlink:href=\"#ArialMT-50\"/>\r\n    </g>\r\n   </g>\r\n   <g id=\"text_64\">\r\n    <!-- 5 -->\r\n    <g style=\"fill:#ffffff;\" transform=\"translate(465.881763 473.416473)scale(0.12 -0.12)\">\r\n     <use xlink:href=\"#ArialMT-53\"/>\r\n    </g>\r\n   </g>\r\n   <g id=\"text_65\">\r\n    <!-- 121 -->\r\n    <g style=\"fill:#ffffff;\" transform=\"translate(522.980067 473.416473)scale(0.12 -0.12)\">\r\n     <use xlink:href=\"#ArialMT-49\"/>\r\n     <use x=\"55.615234\" xlink:href=\"#ArialMT-50\"/>\r\n     <use x=\"111.230469\" xlink:href=\"#ArialMT-49\"/>\r\n    </g>\r\n   </g>\r\n   <g id=\"text_66\">\r\n    <!-- SVM Confusion Matrix -->\r\n    <defs>\r\n     <path d=\"M 4.5 23 \r\nL 13.421875 23.78125 \r\nQ 14.0625 18.40625 16.375 14.96875 \r\nQ 18.703125 11.53125 23.578125 9.40625 \r\nQ 28.46875 7.28125 34.578125 7.28125 \r\nQ 39.984375 7.28125 44.140625 8.890625 \r\nQ 48.296875 10.5 50.3125 13.296875 \r\nQ 52.34375 16.109375 52.34375 19.4375 \r\nQ 52.34375 22.796875 50.390625 25.3125 \r\nQ 48.4375 27.828125 43.953125 29.546875 \r\nQ 41.0625 30.671875 31.203125 33.03125 \r\nQ 21.34375 35.40625 17.390625 37.5 \r\nQ 12.25 40.1875 9.734375 44.15625 \r\nQ 7.234375 48.140625 7.234375 53.078125 \r\nQ 7.234375 58.5 10.296875 63.203125 \r\nQ 13.375 67.921875 19.28125 70.359375 \r\nQ 25.203125 72.796875 32.421875 72.796875 \r\nQ 40.375 72.796875 46.453125 70.234375 \r\nQ 52.546875 67.671875 55.8125 62.6875 \r\nQ 59.078125 57.71875 59.328125 51.421875 \r\nL 50.25 50.734375 \r\nQ 49.515625 57.515625 45.28125 60.984375 \r\nQ 41.0625 64.453125 32.8125 64.453125 \r\nQ 24.21875 64.453125 20.28125 61.296875 \r\nQ 16.359375 58.15625 16.359375 53.71875 \r\nQ 16.359375 49.859375 19.140625 47.359375 \r\nQ 21.875 44.875 33.421875 42.265625 \r\nQ 44.96875 39.65625 49.265625 37.703125 \r\nQ 55.515625 34.8125 58.484375 30.390625 \r\nQ 61.46875 25.984375 61.46875 20.21875 \r\nQ 61.46875 14.5 58.203125 9.4375 \r\nQ 54.9375 4.390625 48.796875 1.578125 \r\nQ 42.671875 -1.21875 35.015625 -1.21875 \r\nQ 25.296875 -1.21875 18.71875 1.609375 \r\nQ 12.15625 4.4375 8.421875 10.125 \r\nQ 4.6875 15.828125 4.5 23 \r\nz\r\n\" id=\"ArialMT-83\"/>\r\n     <path d=\"M 28.171875 0 \r\nL 0.4375 71.578125 \r\nL 10.6875 71.578125 \r\nL 29.296875 19.578125 \r\nQ 31.546875 13.328125 33.0625 7.859375 \r\nQ 34.71875 13.71875 36.921875 19.578125 \r\nL 56.25 71.578125 \r\nL 65.921875 71.578125 \r\nL 37.890625 0 \r\nz\r\n\" id=\"ArialMT-86\"/>\r\n     <path d=\"M 7.421875 0 \r\nL 7.421875 71.578125 \r\nL 21.6875 71.578125 \r\nL 38.625 20.90625 \r\nQ 40.96875 13.8125 42.046875 10.296875 \r\nQ 43.265625 14.203125 45.84375 21.78125 \r\nL 62.984375 71.578125 \r\nL 75.734375 71.578125 \r\nL 75.734375 0 \r\nL 66.609375 0 \r\nL 66.609375 59.90625 \r\nL 45.796875 0 \r\nL 37.25 0 \r\nL 16.546875 60.9375 \r\nL 16.546875 0 \r\nz\r\n\" id=\"ArialMT-77\"/>\r\n     <path id=\"ArialMT-32\"/>\r\n     <path d=\"M 58.796875 25.09375 \r\nL 68.265625 22.703125 \r\nQ 65.28125 11.03125 57.546875 4.90625 \r\nQ 49.8125 -1.21875 38.625 -1.21875 \r\nQ 27.046875 -1.21875 19.796875 3.484375 \r\nQ 12.546875 8.203125 8.765625 17.140625 \r\nQ 4.984375 26.078125 4.984375 36.328125 \r\nQ 4.984375 47.515625 9.25 55.828125 \r\nQ 13.53125 64.15625 21.40625 68.46875 \r\nQ 29.296875 72.796875 38.765625 72.796875 \r\nQ 49.515625 72.796875 56.828125 67.328125 \r\nQ 64.15625 61.859375 67.046875 51.953125 \r\nL 57.71875 49.75 \r\nQ 55.21875 57.5625 50.484375 61.125 \r\nQ 45.75 64.703125 38.578125 64.703125 \r\nQ 30.328125 64.703125 24.78125 60.734375 \r\nQ 19.234375 56.78125 16.984375 50.109375 \r\nQ 14.75 43.453125 14.75 36.375 \r\nQ 14.75 27.25 17.40625 20.4375 \r\nQ 20.0625 13.625 25.671875 10.25 \r\nQ 31.296875 6.890625 37.84375 6.890625 \r\nQ 45.796875 6.890625 51.3125 11.46875 \r\nQ 56.84375 16.0625 58.796875 25.09375 \r\nz\r\n\" id=\"ArialMT-67\"/>\r\n     <path d=\"M 0.734375 0 \r\nL 19.671875 26.953125 \r\nL 2.15625 51.859375 \r\nL 13.140625 51.859375 \r\nL 21.09375 39.703125 \r\nQ 23.34375 36.234375 24.703125 33.890625 \r\nQ 26.859375 37.109375 28.65625 39.59375 \r\nL 37.40625 51.859375 \r\nL 47.90625 51.859375 \r\nL 29.984375 27.4375 \r\nL 49.265625 0 \r\nL 38.484375 0 \r\nL 27.828125 16.109375 \r\nL 25 20.453125 \r\nL 11.375 0 \r\nz\r\n\" id=\"ArialMT-120\"/>\r\n    </defs>\r\n    <g style=\"fill:#262626;\" transform=\"translate(242.202031 49.8)scale(0.2 -0.2)\">\r\n     <use xlink:href=\"#ArialMT-83\"/>\r\n     <use x=\"66.699219\" xlink:href=\"#ArialMT-86\"/>\r\n     <use x=\"133.398438\" xlink:href=\"#ArialMT-77\"/>\r\n     <use x=\"216.699219\" xlink:href=\"#ArialMT-32\"/>\r\n     <use x=\"244.482422\" xlink:href=\"#ArialMT-67\"/>\r\n     <use x=\"316.699219\" xlink:href=\"#ArialMT-111\"/>\r\n     <use x=\"372.314453\" xlink:href=\"#ArialMT-110\"/>\r\n     <use x=\"427.929688\" xlink:href=\"#ArialMT-102\"/>\r\n     <use x=\"455.712891\" xlink:href=\"#ArialMT-117\"/>\r\n     <use x=\"511.328125\" xlink:href=\"#ArialMT-115\"/>\r\n     <use x=\"561.328125\" xlink:href=\"#ArialMT-105\"/>\r\n     <use x=\"583.544922\" xlink:href=\"#ArialMT-111\"/>\r\n     <use x=\"639.160156\" xlink:href=\"#ArialMT-110\"/>\r\n     <use x=\"694.775391\" xlink:href=\"#ArialMT-32\"/>\r\n     <use x=\"722.558594\" xlink:href=\"#ArialMT-77\"/>\r\n     <use x=\"805.859375\" xlink:href=\"#ArialMT-97\"/>\r\n     <use x=\"861.474609\" xlink:href=\"#ArialMT-116\"/>\r\n     <use x=\"889.257812\" xlink:href=\"#ArialMT-114\"/>\r\n     <use x=\"922.558594\" xlink:href=\"#ArialMT-105\"/>\r\n     <use x=\"944.775391\" xlink:href=\"#ArialMT-120\"/>\r\n    </g>\r\n   </g>\r\n  </g>\r\n  <g id=\"axes_2\">\r\n   <g id=\"patch_3\">\r\n    <path clip-path=\"url(#p8aa6f752c7)\" d=\"M 592.775469 550.8 \r\nL 592.775469 548.676562 \r\nL 592.775469 9.323438 \r\nL 592.775469 7.2 \r\nL 619.955469 7.2 \r\nL 619.955469 9.323438 \r\nL 619.955469 548.676562 \r\nL 619.955469 550.8 \r\nz\r\n\" style=\"fill:#eaeaf2;stroke:#eaeaf2;stroke-linejoin:miter;stroke-width:0.01;\"/>\r\n   </g>\r\n   <g id=\"matplotlib.axis_3\"/>\r\n   <g id=\"matplotlib.axis_4\">\r\n    <g id=\"ytick_8\">\r\n     <g id=\"line2d_1\">\r\n      <defs>\r\n       <path d=\"M 0 0 \r\nL 6 0 \r\n\" id=\"mf4b93ed04f\" style=\"stroke:#262626;stroke-width:1.25;\"/>\r\n      </defs>\r\n      <g>\r\n       <use style=\"fill:#262626;stroke:#262626;stroke-width:1.25;\" x=\"619.955469\" xlink:href=\"#mf4b93ed04f\" y=\"456.964286\"/>\r\n      </g>\r\n     </g>\r\n     <g id=\"text_67\">\r\n      <!-- 30 -->\r\n      <g style=\"fill:#262626;\" transform=\"translate(629.455469 460.901083)scale(0.11 -0.11)\">\r\n       <use xlink:href=\"#ArialMT-51\"/>\r\n       <use x=\"55.615234\" xlink:href=\"#ArialMT-48\"/>\r\n      </g>\r\n     </g>\r\n    </g>\r\n    <g id=\"ytick_9\">\r\n     <g id=\"line2d_2\">\r\n      <g>\r\n       <use style=\"fill:#262626;stroke:#262626;stroke-width:1.25;\" x=\"619.955469\" xlink:href=\"#mf4b93ed04f\" y=\"359.892857\"/>\r\n      </g>\r\n     </g>\r\n     <g id=\"text_68\">\r\n      <!-- 60 -->\r\n      <g style=\"fill:#262626;\" transform=\"translate(629.455469 363.829654)scale(0.11 -0.11)\">\r\n       <use xlink:href=\"#ArialMT-54\"/>\r\n       <use x=\"55.615234\" xlink:href=\"#ArialMT-48\"/>\r\n      </g>\r\n     </g>\r\n    </g>\r\n    <g id=\"ytick_10\">\r\n     <g id=\"line2d_3\">\r\n      <g>\r\n       <use style=\"fill:#262626;stroke:#262626;stroke-width:1.25;\" x=\"619.955469\" xlink:href=\"#mf4b93ed04f\" y=\"262.821429\"/>\r\n      </g>\r\n     </g>\r\n     <g id=\"text_69\">\r\n      <!-- 90 -->\r\n      <g style=\"fill:#262626;\" transform=\"translate(629.455469 266.758225)scale(0.11 -0.11)\">\r\n       <use xlink:href=\"#ArialMT-57\"/>\r\n       <use x=\"55.615234\" xlink:href=\"#ArialMT-48\"/>\r\n      </g>\r\n     </g>\r\n    </g>\r\n    <g id=\"ytick_11\">\r\n     <g id=\"line2d_4\">\r\n      <g>\r\n       <use style=\"fill:#262626;stroke:#262626;stroke-width:1.25;\" x=\"619.955469\" xlink:href=\"#mf4b93ed04f\" y=\"165.75\"/>\r\n      </g>\r\n     </g>\r\n     <g id=\"text_70\">\r\n      <!-- 120 -->\r\n      <g style=\"fill:#262626;\" transform=\"translate(629.455469 169.686797)scale(0.11 -0.11)\">\r\n       <use xlink:href=\"#ArialMT-49\"/>\r\n       <use x=\"55.615234\" xlink:href=\"#ArialMT-50\"/>\r\n       <use x=\"111.230469\" xlink:href=\"#ArialMT-48\"/>\r\n      </g>\r\n     </g>\r\n    </g>\r\n    <g id=\"ytick_12\">\r\n     <g id=\"line2d_5\">\r\n      <g>\r\n       <use style=\"fill:#262626;stroke:#262626;stroke-width:1.25;\" x=\"619.955469\" xlink:href=\"#mf4b93ed04f\" y=\"68.678571\"/>\r\n      </g>\r\n     </g>\r\n     <g id=\"text_71\">\r\n      <!-- 150 -->\r\n      <g style=\"fill:#262626;\" transform=\"translate(629.455469 72.615368)scale(0.11 -0.11)\">\r\n       <use xlink:href=\"#ArialMT-49\"/>\r\n       <use x=\"55.615234\" xlink:href=\"#ArialMT-53\"/>\r\n       <use x=\"111.230469\" xlink:href=\"#ArialMT-48\"/>\r\n      </g>\r\n     </g>\r\n    </g>\r\n   </g>\r\n   <image height=\"543\" id=\"image2c695957b6\" transform=\"scale(1 -1)translate(0 -543)\" width=\"27\" x=\"593\" xlink:href=\"data:image/png;base64,\r\niVBORw0KGgoAAAANSUhEUgAAABsAAAIfCAYAAACB2qdqAAAABHNCSVQICAgIfAhkiAAAAodJREFUeJztnIFt3EAQA+9kpYn036dTRAYENJhpYMEnuSvrH74/f/7+nhHvXU065zzDWee9d6ctZd8b9t4j/Ri9AXkfrTJvGsWeaZU92jRqPavUCN6AVGqEHgsQ2iAIbZDvDSsgCGvPdvM6MQjmE5NnAHn2vWEFBCHPEMyeaZX1+E2QZ98b1rpCKPoIYs+8yrw/GOohlUB8PMWl1kZf7JlW2XJaPUOoZwjq47mj6COo19WO1hWCuGelkaA0fm9Yr5MQWlcI6nW1I88QxJ51PAnMx9MaEHGpW8QEbRCENghCxxOh6CN4o18aEcbKZv+mqZ5BeHtWQBDE60obfXMatSemNBKk7HvDKjVC0UcQK7vannk9EyuzprETg1D0EUojwvucnWmlEUG8QbQ9W0dfW+rhsKKP0IlBWKdR69lwWMq+N6zoI+QZgvl4Dp94SiOCeYMMv0UQH8/H+jGa/z7zeqZVZvZsN6w0InjTWPQRij7C2LPh2816hqD2zKrMvEF2w9SPBd6AaJV1YgBShlAaETqe3xumPp67YZUaQezZqWcAKUPwKhuX2voxegOSZwh5hvDe4a+88gzB61kBQXiPNSDe6JdGhNKIIPZMq2z92lb6MXoDola2m5dnCB1PhPWXCNKeFRAEsbLbiQFoXSGYPatnAObjWakBOp4IYs/qGUHHE+E91veNBQRBrUwaffWJsSoTv7YtjQAdT4SerhDUnmmVeT3zKmuDAHQ8EVrECHmGkGcIeYaQMgRvGgsIgjcgeYaQZwjvvT+zYXmG4FXWukLwBkTtmXYRiz3TKtN6pn3gKfoI4ujnGUGPBQhqz6zKrtWzAoKgLnWL+P+pZwjeRSz2TNuzFjHCP4xKL/2SEyGeAAAAAElFTkSuQmCC\" y=\"-7\"/>\r\n   <g id=\"patch_4\">\r\n    <path d=\"M 592.775469 550.8 \r\nL 592.775469 548.676562 \r\nL 592.775469 9.323438 \r\nL 592.775469 7.2 \r\nL 619.955469 7.2 \r\nL 619.955469 9.323438 \r\nL 619.955469 548.676562 \r\nL 619.955469 550.8 \r\nz\r\n\" style=\"fill:none;\"/>\r\n   </g>\r\n  </g>\r\n </g>\r\n <defs>\r\n  <clipPath id=\"p83ebc4f507\">\r\n   <rect height=\"446.4\" width=\"446.4\" x=\"118.475469\" y=\"55.8\"/>\r\n  </clipPath>\r\n  <clipPath id=\"p8aa6f752c7\">\r\n   <rect height=\"543.6\" width=\"27.18\" x=\"592.775469\" y=\"7.2\"/>\r\n  </clipPath>\r\n </defs>\r\n</svg>\r\n",
      "image/png": "[encoded data removed]"
     },
     "metadata": {}
    }
   ],
   "source": [
    "#plot_title = \"SVM Confusion Matrix\"\n",
    "EDA.display_confusion_matrix(y_test, y_pred, distinct_categories, plot_title=\"SVM Confusion Matrix\")"
   ]
  },
  {
   "source": [
    "## Random Forest"
   ],
   "cell_type": "markdown",
   "metadata": {}
  },
  {
   "cell_type": "code",
   "execution_count": null,
   "metadata": {},
   "outputs": [],
   "source": [
    "#https://www.kaggle.com/kevinarvai/fine-tuning-a-classifier-in-scikit-learn\n",
    "#https://stackoverflow.com/questions/48554577/hyperparameter-tuning-random-forest-classifier-with-gridsearchcv-based-on-probab\n",
    "#https://stackoverflow.com/questions/23045318/scikit-grid-search-over-multiple-classifiers"
   ]
  },
  {
   "cell_type": "code",
   "execution_count": 8,
   "metadata": {},
   "outputs": [
    {
     "output_type": "stream",
     "name": "stdout",
     "text": [
      "               precision    recall  f1-score   support\n\nentertainment     0.7143    0.7143    0.7143       203\n    financial     0.6486    0.6429    0.6457       224\n    political     0.4783    0.6180    0.5392       178\n        sport     0.7667    0.7488    0.7576       215\n   technology     0.5337    0.5628    0.5479       183\n       travel     0.6687    0.5860    0.6246       186\n        world     0.5810    0.4929    0.5333       211\n\n     accuracy                         0.6257      1400\n    macro avg     0.6273    0.6237    0.6232      1400\n weighted avg     0.6321    0.6257    0.6268      1400\n\nBest Score:  0.6205357142857143\nBest Params:  {'rfc__bootstrap': False, 'rfc__criterion': 'gini', 'rfc__max_features': 'sqrt', 'rfc__min_samples_split': 20}\nProcess completed.\nTime taken: 1h 27mins 20secs\n"
     ]
    }
   ],
   "source": [
    "from sklearn.ensemble import RandomForestClassifier\n",
    "from sklearn.metrics import make_scorer, recall_score, accuracy_score, precision_score, confusion_matrix\n",
    "\n",
    "t1 = time.time() \n",
    "\n",
    "algo_pipe = Pipeline([('vectorizer',CountVectorizer()),\n",
    "                     ('rfc', RandomForestClassifier(n_jobs=-1))])\n",
    "\n",
    "'''algo_pipe = Pipeline([(\"scaler\", StandardScaler()),\n",
    "                     ('rfc', RandomForestClassifier(n_jobs=-1))])'''\n",
    "\n",
    "x_train, x_test, y_train, y_test = train_test_split(X, Y, test_size=0.2, random_state = 42)\n",
    "\n",
    "'''tuned_parameters = {\n",
    "    'rfc__criterion': ['gini', 'entropy'],\n",
    "    'rfc__n_estimators': [100, 300, 500],\n",
    "    'rfc__max_features': ['auto', 'log2', 'sqrt', 0.73, 0.80],\n",
    "    'rfc__bootstrap': [True, False],\n",
    "    'rfc__min_samples_split': [3, 5, 7]\n",
    "}\n",
    "'''\n",
    "tuned_parameters = {\n",
    "    'rfc__max_features': ['auto', 'log2', 'sqrt', 0.60, 0.73, 0.85],\n",
    "    'rfc__criterion': ['gini', 'entropy'],\n",
    "    #'rfc__n_estimators': [50, 100, 300],\n",
    "    'rfc__bootstrap': [True, False],\n",
    "    'rfc__min_samples_split': [3, 5, 10, 20]\n",
    "}\n",
    "\n",
    "rfc = GridSearchCV(algo_pipe, tuned_parameters, cv=10, scoring='accuracy')\n",
    "rfc.fit(x_train, y_train)\n",
    "\n",
    "y_pred = rfc.predict(x_test)\n",
    "\n",
    "print(classification_report(y_test, y_pred, digits=4))\n",
    "\n",
    "print(\"Best Score: \", rfc.best_score_)\n",
    "print(\"Best Params: \", rfc.best_params_)\n",
    "EDA.process_time(round(time.time()-t1))"
   ]
  },
  {
   "cell_type": "code",
   "execution_count": null,
   "metadata": {},
   "outputs": [],
   "source": [
    "'''\n",
    "\n",
    "Best Score:  0.5885714285714285\n",
    "Best Params:  {'rfc__bootstrap': True, 'rfc__criterion': 'gini', 'rfc__max_features': 0.6, 'rfc__min_samples_split': 5}\n",
    "'''"
   ]
  },
  {
   "cell_type": "code",
   "execution_count": 9,
   "metadata": {},
   "outputs": [
    {
     "output_type": "execute_result",
     "data": {
      "text/plain": [
       "\"# reload the object\\nwith open('data/GridSearch_results/sgd_GridSearchCV.pkl', 'rb') as handle:\\n    grid_reloaded = pickle.load(handle)\""
      ]
     },
     "metadata": {},
     "execution_count": 9
    }
   ],
   "source": [
    "#save the gridSearchResults as pickle file\n",
    "with open('data/GridSearch_results/rfc_GridSearchCV.pkl', 'wb') as handle:\n",
    "    pickle.dump(rfc, handle, protocol=pickle.HIGHEST_PROTOCOL)\n",
    "'''# reload the object\n",
    "with open('data/GridSearch_results/sgd_GridSearchCV.pkl', 'rb') as handle:\n",
    "    grid_reloaded = pickle.load(handle)'''"
   ]
  },
  {
   "source": [
    "## XGBoost"
   ],
   "cell_type": "markdown",
   "metadata": {}
  },
  {
   "source": [
    "from sklearn.preprocessing import StandardScaler\n",
    "from xgboost import XGBClassifier\n",
    "\n",
    "t1 = time.time() \n",
    "\n",
    "algo_pipe = Pipeline([('vect', CountVectorizer()),\n",
    "                     ('xgb', XGBClassifier(n_jobs=-1))])\n",
    "\n",
    "\n",
    "x_train, x_test, y_train, y_test = train_test_split(X, Y, test_size=0.2, random_state = 42)\n",
    "\n",
    "#https://xgboost.readthedocs.io/en/latest/parameter.html\n",
    "tuned_parameters = {\n",
    "    'xgb__learning_rate': [0.01, 0.2],\n",
    "    'xgb__gamma': [0.1],\n",
    "    'xgb__booster': ['gbtree'],\n",
    "    'xgb__max_depth': [2, 3, 4, 5],\n",
    "    'xgb__subsample': [0.5, 0.75, 1],\n",
    "    'xgb__colsample_bytree': [0.8, 0.9],\n",
    "    'xgb__n_estimators': [50, 100, 200, 500],\n",
    "    'xgb__verbosity': [0] #this is to hide the warnings\n",
    "}\n",
    "\n",
    "xgb = GridSearchCV(algo_pipe, tuned_parameters, cv=10, scoring='accuracy')\n",
    "xgb.fit(x_train, y_train)\n",
    "\n",
    "y_pred = xgb.predict(x_test)\n",
    "\n",
    "print(classification_report(y_test, y_pred, digits=4))\n",
    "\n",
    "print(\"Best Score: \", xgb.best_score_)\n",
    "print(\"Best Params: \", xgb.best_params_)\n",
    "EDA.process_time(round(time.time()-t1))"
   ],
   "cell_type": "code",
   "metadata": {},
   "execution_count": null,
   "outputs": []
  },
  {
   "cell_type": "code",
   "execution_count": null,
   "metadata": {},
   "outputs": [],
   "source": [
    "'''\n",
    "Best Score:  0.6969642857142857\n",
    "Best Params:  {'xgb__booster': 'gbtree', 'xgb__colsample_bytree': 0.9, 'xgb__gamma': 0.1, 'xgb__learning_rate': 0.2, 'xgb__max_depth': 3, 'xgb__n_estimators': 200, 'xgb__verbosity': 0}\n",
    "'''"
   ]
  },
  {
   "cell_type": "code",
   "execution_count": 52,
   "metadata": {},
   "outputs": [
    {
     "output_type": "execute_result",
     "data": {
      "text/plain": [
       "\"# reload the object\\nwith open('data/GridSearch_results/sgd_GridSearchCV.pkl', 'rb') as handle:\\n    grid_reloaded = pickle.load(handle)\""
      ]
     },
     "metadata": {},
     "execution_count": 52
    }
   ],
   "source": [
    "#save the gridSearchResults as pickle file\n",
    "with open('data/GridSearch_results/xgb_GridSearchCV.pkl', 'wb') as handle:\n",
    "    pickle.dump(xgb, handle, protocol=pickle.HIGHEST_PROTOCOL)\n",
    "'''# reload the object\n",
    "with open('data/GridSearch_results/sgd_GridSearchCV.pkl', 'rb') as handle:\n",
    "    grid_reloaded = pickle.load(handle)'''"
   ]
  },
  {
   "source": [
    "## Logistic Regression"
   ],
   "cell_type": "markdown",
   "metadata": {}
  },
  {
   "cell_type": "code",
   "execution_count": 11,
   "metadata": {},
   "outputs": [
    {
     "output_type": "stream",
     "name": "stdout",
     "text": [
      "               precision    recall  f1-score   support\n\nentertainment     0.7364    0.7980    0.7660       203\n    financial     0.7689    0.7277    0.7477       224\n    political     0.5591    0.5843    0.5714       178\n        sport     0.7767    0.7767    0.7767       215\n   technology     0.6085    0.7049    0.6532       183\n       travel     0.7857    0.7097    0.7458       186\n        world     0.6578    0.5829    0.6181       211\n\n     accuracy                         0.7000      1400\n    macro avg     0.6990    0.6978    0.6970      1400\n weighted avg     0.7032    0.7000    0.7002      1400\n\nBest Score:  0.7126785714285714\nBest Params:  {'lrgr__C': 10, 'lrgr__max_iter': 50, 'lrgr__penalty': 'l2', 'lrgr__random_state': 42}\nProcess completed.\nTime taken: 29mins 1secs\n"
     ]
    }
   ],
   "source": [
    "from sklearn.preprocessing import StandardScaler\n",
    "from sklearn.feature_extraction.text import TfidfVectorizer\n",
    "from sklearn.linear_model import LogisticRegression\n",
    "\n",
    "t1 = time.time() \n",
    "\n",
    "algo_pipe = Pipeline([('tfidf', TfidfVectorizer()),\n",
    "                     ('lrgr', LogisticRegression(n_jobs=-1))])\n",
    "\n",
    "\n",
    "x_train, x_test, y_train, y_test = train_test_split(X, Y, test_size=0.2, random_state = 42)\n",
    "\n",
    "#https://xgboost.readthedocs.io/en/latest/parameter.html\n",
    "tuned_parameters = {\n",
    "    'lrgr__C': [0.001, 0.01, 0.1, 1, 10, 100, 1000],\n",
    "    'lrgr__penalty': ['l1', 'l2'],\n",
    "    'lrgr__max_iter': [50, 100, 200, 500, 1000],\n",
    "    'lrgr__random_state': [42],\n",
    "}\n",
    "\n",
    "lrgr = GridSearchCV(algo_pipe, tuned_parameters, cv=10, scoring='accuracy')\n",
    "lrgr.fit(x_train, y_train)\n",
    "\n",
    "y_pred = lrgr.predict(x_test)\n",
    "\n",
    "print(classification_report(y_test, y_pred, digits=4))\n",
    "\n",
    "print(\"Best Score: \", lrgr.best_score_)\n",
    "print(\"Best Params: \", lrgr.best_params_)\n",
    "EDA.process_time(round(time.time()-t1))"
   ]
  },
  {
   "cell_type": "code",
   "execution_count": 13,
   "metadata": {},
   "outputs": [
    {
     "output_type": "execute_result",
     "data": {
      "text/plain": [
       "\"# reload the object\\nwith open('data/GridSearch_results/sgd_GridSearchCV.pkl', 'rb') as handle:\\n    grid_reloaded = pickle.load(handle)\""
      ]
     },
     "metadata": {},
     "execution_count": 13
    }
   ],
   "source": [
    "#save the gridSearchResults as pickle file\n",
    "with open('data/GridSearch_results/lrgr_GridSearchCV.pkl', 'wb') as handle:\n",
    "    pickle.dump(lrgr, handle, protocol=pickle.HIGHEST_PROTOCOL)\n",
    "'''# reload the object\n",
    "with open('data/GridSearch_results/sgd_GridSearchCV.pkl', 'rb') as handle:\n",
    "    grid_reloaded = pickle.load(handle)'''"
   ]
  },
  {
   "source": [
    "## Passive-Aggressive"
   ],
   "cell_type": "markdown",
   "metadata": {}
  },
  {
   "cell_type": "code",
   "execution_count": 17,
   "metadata": {},
   "outputs": [
    {
     "output_type": "stream",
     "name": "stdout",
     "text": [
      "               precision    recall  f1-score   support\n\nentertainment     0.7184    0.7291    0.7237       203\n    financial     0.7236    0.6429    0.6809       224\n    political     0.4789    0.5730    0.5217       178\n        sport     0.7357    0.7767    0.7557       215\n   technology     0.5968    0.6066    0.6016       183\n       travel     0.7362    0.6452    0.6877       186\n        world     0.5922    0.5782    0.5851       211\n\n     accuracy                         0.6529      1400\n    macro avg     0.6545    0.6502    0.6509      1400\n weighted avg     0.6589    0.6529    0.6544      1400\n\nBest Score:  0.6575\nBest Params:  {'pasagr__C': 0.35, 'pasagr__n_iter_no_change': 100, 'pasagr__random_state': 42}\nProcess completed.\nTime taken: 11mins 12secs\n"
     ]
    }
   ],
   "source": [
    "from sklearn.linear_model import PassiveAggressiveClassifier \n",
    "algo_pipe = Pipeline([('count', CountVectorizer()),\n",
    "                     ('pasagr', PassiveAggressiveClassifier())])\n",
    "t1 = time.time() \n",
    "\n",
    "tuned_parameters = {\n",
    "    'pasagr__C': [0.35, 0.42, 0.5, 0.65, 0.75],\n",
    "    'pasagr__n_iter_no_change': [5, 8, 12, 20, 50, 100],\n",
    "    'pasagr__random_state': [42]\n",
    "}\n",
    "\n",
    "x_train, x_test, y_train, y_test = train_test_split(X, Y, test_size=0.2, random_state = 42)\n",
    "\n",
    "pasagr = GridSearchCV(algo_pipe, tuned_parameters, cv=10, scoring='accuracy')\n",
    "pasagr.fit(x_train, y_train)\n",
    "\n",
    "y_pred = pasagr.predict(x_test)\n",
    "\n",
    "print(classification_report(y_test, y_pred, digits=4))\n",
    "\n",
    "print(\"Best Score: \", pasagr.best_score_)\n",
    "print(\"Best Params: \", pasagr.best_params_)\n",
    "EDA.process_time(round(time.time()-t1))"
   ]
  },
  {
   "source": [
    "## SVC"
   ],
   "cell_type": "markdown",
   "metadata": {}
  },
  {
   "cell_type": "code",
   "execution_count": 24,
   "metadata": {},
   "outputs": [
    {
     "output_type": "stream",
     "name": "stdout",
     "text": [
      "               precision    recall  f1-score   support\n\nentertainment     0.7653    0.8030    0.7837       203\n    financial     0.7784    0.6741    0.7225       224\n    political     0.4940    0.6966    0.5781       178\n        sport     0.8144    0.7349    0.7726       215\n   technology     0.5785    0.7049    0.6355       183\n       travel     0.8356    0.6559    0.7349       186\n        world     0.6760    0.5735    0.6205       211\n\n     accuracy                         0.6914      1400\n    macro avg     0.7060    0.6918    0.6925      1400\n weighted avg     0.7119    0.6914    0.6956      1400\n\nBest Score:  0.7032142857142857\nBest Params:  {'svc__C': 0.4, 'svc__gamma': 1, 'svc__kernel': 'linear'}\nProcess completed.\nTime taken: 7mins 22secs\n"
     ]
    }
   ],
   "source": [
    "from sklearn.svm import SVC\n",
    "t1 = time.time() \n",
    "\n",
    "algo_pipe = Pipeline([('tfidf', TfidfVectorizer()),\n",
    "                     ('svc', SVC())])\n",
    "\n",
    "x_train, x_test, y_train, y_test = train_test_split(X, Y, test_size=0.2, random_state = 42)\n",
    "\n",
    "tuned_parameters = {\n",
    "    'svc__C': [0.1, 1, 10, 100],\n",
    "    'svc__gamma': [1, 0.1, 0.01, 0.001],\n",
    "    'svc__kernel': ['linear', 'rbf', 'poly', 'sigmoid']\n",
    "}\n",
    "\n",
    "svc = GridSearchCV(algo_pipe, tuned_parameters, cv=10, scoring='accuracy')\n",
    "svc.fit(x_train, y_train)\n",
    "\n",
    "y_pred = svc.predict(x_test)\n",
    "\n",
    "print(classification_report(y_test, y_pred, digits=4))\n",
    "\n",
    "print(\"Best Score: \", svc.best_score_)\n",
    "print(\"Best Params: \", svc.best_params_)\n",
    "EDA.process_time(round(time.time()-t1))"
   ]
  },
  {
   "cell_type": "code",
   "execution_count": null,
   "metadata": {},
   "outputs": [],
   "source": []
  }
 ]
}