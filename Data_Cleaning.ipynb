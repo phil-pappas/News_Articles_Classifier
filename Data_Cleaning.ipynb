{
 "cells": [
  {
   "cell_type": "code",
   "execution_count": null,
   "metadata": {},
   "outputs": [],
   "source": [
    "!jt -t chesterish"
   ]
  },
  {
   "cell_type": "code",
   "execution_count": null,
   "metadata": {},
   "outputs": [],
   "source": [
    "'''\n",
    "To change the theme use the following command:\n",
    "!jt -t <theme-name>\n",
    "\n",
    "Theme names: \n",
    "1) chesterish \n",
    "2) onedork  (currently using)\n",
    "    !jt -t onedork -f roboto -fs 12\n",
    "3) monokai\n",
    " more here: https://github.com/dunovank/jupyter-themes\n",
    " \n",
    " \n",
    " other: https://towardsdatascience.com/bringing-the-best-out-of-jupyter-notebooks-for-data-science-f0871519ca29\n",
    "'''"
   ]
  },
  {
   "source": [
    "Now that we have gathered all the data, its time to clean and prepare them for our clustering algorithm"
   ],
   "cell_type": "markdown",
   "metadata": {}
  },
  {
   "source": [
    "import pandas as pd\n",
    "import progress_bar\n",
    "import time\n",
    "import collections\n",
    "import stop_words\n",
    "import matplotlib.pyplot as plt\n",
    "from wordcloud import WordCloud\n",
    "import seaborn as sns\n",
    "import matplotlib.pyplot as plt\n",
    "from nltk.stem.porter import PorterStemmer"
   ],
   "cell_type": "code",
   "metadata": {},
   "execution_count": 1,
   "outputs": []
  },
  {
   "cell_type": "code",
   "execution_count": 391,
   "metadata": {},
   "outputs": [],
   "source": [
    "class EDA:\n",
    "    def process_time(time_taken):\n",
    "        message = \"Process completed.\\nTime taken: \"\n",
    "        if (time_taken >= 3600):\n",
    "            print(message + \"{hours}h {minutes}mins {seconds}secs\".format(\n",
    "                hours=(time_taken//3600), \n",
    "                minutes=((time_taken%3600)//60), \n",
    "                seconds=((time_taken%3600)%60)))\n",
    "        elif (time_taken >= 60):\n",
    "            print(message + \"{minutes}mins {seconds}secs\".format(\n",
    "                minutes=(time_taken//60), \n",
    "                seconds=(time_taken%60)))\n",
    "        else:\n",
    "            print(message + \"{seconds} seconds\".format(seconds=time_taken))\n",
    "    \n",
    "    def display_outliers_boxplot(df, column_name):\n",
    "        sns.boxplot(x=df[column_name])\n",
    "    \n",
    "    def display_outliers_skewness_value(df, column_name):\n",
    "        '''Several machine learning algorithms make the assumption that the data \n",
    "        follow a normal (or Gaussian) distribution. This is easy to check with \n",
    "        the skewness value, which explains the extent to which the data is normally distributed. \n",
    "        Ideally, the skewness value should be between -1 and +1, and any major deviation from \n",
    "        this range indicates the presence of extreme values.\n",
    "        Source: https://www.pluralsight.com/guides/cleaning-up-data-from-outliers'''\n",
    "        print(df[column_name].skew())\n",
    "\n",
    "    def remove_outliers_by_iqr_score(df):\n",
    "        '''Calculating the IQR Score in order to remove the outliers.'''\n",
    "        Q1 = df.quantile(0.25)\n",
    "        Q3 = df.quantile(0.75)\n",
    "        IQR = Q3 - Q1\n",
    "        #print(IQR)\n",
    "        df_out = df[~((df < (Q1 - 1.5 * IQR)) |(df > (Q3 + 1.5 * IQR))).any(axis=1)]\n",
    "        #print(df_out.shape)\n",
    "        return df_out\n",
    "    \n",
    "    def remove_outliers_by_range(df, column_name, greater_than_value, less_than_value):\n",
    "        df = df[df[column_name] > greater_than_value]\n",
    "        df = df[df[column_name] < less_than_value]\n",
    "        return df\n",
    "    \n",
    "    def display_distribution(categories_count, plot_title, x_label, y_label):\n",
    "        '''[Input] categories_count: type of int64 Series (1-dimension)'''\n",
    "        plt.figure(figsize=(15, 10))\n",
    "        plt.title(plot_title, fontsize=22)\n",
    "        plt.xlabel(x_label, fontsize=18)\n",
    "        plt.ylabel(y_label, fontsize=18)\n",
    "        plt.xticks(rotation=90)\n",
    "        sns.set(style=\"darkgrid\")\n",
    "        sns.barplot(categories_count.index, categories_count.values)\n",
    "        plt.show()\n",
    "        #plt.savefig(\"Category-articles.png\")\n",
    "    \n",
    "    def display_buzzwords(text_values):\n",
    "        '''[Input] text_values: Array of text elements separated by comma'''\n",
    "        t1 = time.time() \n",
    "        \n",
    "        long_string = ','.join(text_values)\n",
    "        # Create a WordCloud object\n",
    "        wordcloud = WordCloud(width=800, height=400, background_color=\"white\", max_words=5000, contour_width=3, contour_color='steelblue')\n",
    "        wordcloud = wordcloud.generate(long_string)\n",
    "        #wordcloud.to_image()\n",
    "\n",
    "        plt.figure( figsize=(20,10) )\n",
    "        plt.imshow(wordcloud)\n",
    "\n",
    "        t2 = time.time() \n",
    "        print(\"Process completed.\\nTime taken:\") \n",
    "        print(\"{:.2f}\".format(round(t2-t1, 2))+\" seconds.\")\n",
    "    \n",
    "    def display_outliers(df):\n",
    "        #to do\n",
    "        # display a boxplot?\n",
    "        return df\n",
    "\n",
    "    def find_ngrams(input_list, n):\n",
    "      return list(zip(*(input_list[i:] for i in range(n))))\n",
    "\n",
    "    def find_most_common_n_grams(articles_split_by_word, n):\n",
    "        occurrences = {}\n",
    "\n",
    "        for item in articles_split_by_word: \n",
    "            ngrams_per_article = collections.Counter(EDA.find_ngrams(item, n))\n",
    "\n",
    "            items_list = list(ngrams_per_article.most_common(1))\n",
    "            words_list = [] \n",
    "\n",
    "            for item in items_list[0][0]:\n",
    "              words_list.append(item)\n",
    "\n",
    "            words = ' '.join(map(str, words_list)) \n",
    "            #occurrences_within_article = list_of_dict_values[0][1]\n",
    "\n",
    "            if words in occurrences:\n",
    "                occurrences[words] +=1\n",
    "            else:\n",
    "                occurrences[words] = 1\n",
    "        return occurrences\n",
    "    \n",
    "    def count_words_per_records_opt_1(df):\n",
    "        return df['Text'].str.split().str.len()\n",
    "    \n",
    "    def count_words_per_records_opt_2(df):\n",
    "        return df.Text.apply(lambda x: len(str(x).split()))\n",
    "\n",
    "    def difference_percentage(num_A, num_B):\n",
    "        \"Differences between two numbers as a percentage with two digits e.g. 45.38%\"\n",
    "        if (num_A >= num_B):\n",
    "            temp = ((num_B-num_A)/num_A) * 100\n",
    "            temp = round(temp, 2) #keep only two digits after decimal\n",
    "        else:\n",
    "            temp = ((num_A-num_B)/num_B) * 100\n",
    "            temp = round(temp, 2) #keep only two digits after decimal\n",
    "        return temp\n",
    "    \n",
    "    def count_records_per_label(df, new_column_name):\n",
    "        \"count the number of records for each category and store them in a new column\"\n",
    "        return df.groupby(['Category'], sort=False).size().reset_index(name=new_column_name)\n",
    "\n",
    "\n",
    "class NLP:\n",
    "    \"\"\"NLP functions that were used\"\"\"\n",
    "        \n",
    "    def tokenization(df):\n",
    "        #return df['Text'].map(lambda x: x.split(\" \"))\n",
    "        return df['Text'].map(lambda x: x.split(\" \"))\n",
    "    \n",
    "    def rejoin_words(row):\n",
    "        my_list = row\n",
    "        joined_words = ( \" \".join(my_list))\n",
    "        return joined_words\n",
    "    \n",
    "    def lemmatize(df):\n",
    "        # to do\n",
    "        return df\n",
    "    \n",
    "    #FIX THIS FUNCTION\n",
    "    def stemming(articles_split_by_word):\n",
    "        articles_split_by_word = articles_split_by_word.apply(lambda words: [PorterStemmer().stem(w) for w in words])\n",
    "        return articles_split_by_word\n",
    "    \n",
    "    def remove_stop_words(row):\n",
    "        english_Stop_Words = stop_words.get_stop_words('en')\n",
    "        my_list = row\n",
    "        meaningful_words = [w for w in my_list if not w in english_Stop_Words]\n",
    "        return (meaningful_words)\n",
    "    \n",
    "    def remove_splitted_words(row):\n",
    "        # remove(or split) RainyDay, PlayingInTheCold\n",
    "        #regex: [A-Z][a-z]*[A-Z][a-z]*\n",
    "        #TODO: ?\n",
    "        return \n",
    "    \n",
    "    def remove_rare_words(df):\n",
    "        # see here https://www.analyticsvidhya.com/blog/2018/02/the-different-methods-deal-text-data-predictive-python/\n",
    "        #TODO: ?\n",
    "        return df\n",
    "    \n",
    "    \n",
    "    def to_lower_case(df, column_name):\n",
    "        return df[column_name].str.lower()\n",
    "    \n",
    "\n",
    "\n",
    "class Cleaner:\n",
    "    \"\"\"Cleaning functions that were used\"\"\"\n",
    "    \n",
    "    def concatenate_dataframes():\n",
    "        frames = [df1, df2, df3]\n",
    "        result = pd.concat(frames)\n",
    "        return result\n",
    "    \n",
    "    def drop_null_values(df):\n",
    "        df.dropna(subset=['Title', 'Text'], inplace=True)\n",
    "        return df\n",
    "    \n",
    "    def drop_duplicate_values(df):\n",
    "        df.drop_duplicates(subset=['Title', 'Text'],keep=False, inplace=True) \n",
    "        return df\n",
    "    \n",
    "    def remove_new_line(df):\n",
    "        df.Text.replace('\\n',' ', regex=True, inplace=True)\n",
    "        return df\n",
    "    \n",
    "    def remove_multiple_spaces(df):\n",
    "        df.Text.replace('\\s+', ' ', regex=True, inplace=True)\n",
    "        return df\n",
    "    \n",
    "    def remove_non_ascii_chars(df):\n",
    "        df.Text.replace(r'[^\\x00-\\x7F]',' ', regex=True, inplace=True) \n",
    "        return df\n",
    "    \n",
    "    def remove_most_noisy_words(df, file_name):\n",
    "        '''Remove predefined noisy words. These words have been detected with n-grams'''\n",
    "        noisy_file = open(file_name, 'r') \n",
    "        all_lines = noisy_file.readlines() \n",
    "        lst = []\n",
    "\n",
    "        for line in all_lines: \n",
    "            #lst.append(line.strip())\n",
    "            string_to_replace = line.strip()\n",
    "            df.Text.replace(string_to_replace,' ', regex=True, inplace=True)\n",
    "            df.Text.replace(r'\\( source.*\\)',' ', regex=True, inplace=True)\n",
    "            df.Text.replace(r'\\{(.*?)}',' ', regex=True, inplace=True)\n",
    "        noisy_file.close()\n",
    "        #df.Text.replace({w: \" \" for w in lst}, regex=True, inplace=True)\n",
    "        return df\n",
    "        # to do - THIS ONE GOES TO ANOTHER CLASSS?\n",
    "        # source : university || source : something   | \\( source.*\\)\n",
    "        # {* registration_firstname *}  | \\{(.*?)}\n",
    "        # article extract not available.\n",
    "        # ads with photos only\n",
    "        # thank you for registering\n",
    "        # tip : use comma'\n",
    "        # need an account? create one now.\n",
    "        # connect tweet linkedin comment email more\n",
    "        # @telefootball\n",
    "        # license photo\n",
    "        # october, 2015 || oct. 21, 2015 || sept. || september\n",
    "        # you have successfully emailed the post.\n",
    "        # photo:\n",
    "        # updated:, 10:17, a.m., friday,, oct., 2,, 2015, |, \n",
    "        # posted:, 10:16, a.m., friday,, oct., 2,, 2015,\n",
    "            \n",
    "    def remove_single_chars(df):\n",
    "        #remove chars that are single such as \"s\"/. \n",
    "        #If you replace the apostrophe \"That's\" then it's left \"That s\n",
    "        \n",
    "        # maybe make it also to remove 2-chars? no many meaningful words exist see here: https://www.lexico.com/explore/two-letter-words\n",
    "        # if also for 2-chars use this: \\s(([a-z]{1})|([a-z]{2}))\\b\n",
    "        df.Text.replace(r'\\s[a-z]{1}\\b',' ', regex=True, inplace=True) \n",
    "        return df\n",
    "    \n",
    "    def remove_links(df):\n",
    "        df.Text.replace(r'(https?:\\/\\/)?(www\\.)?[a-z0-9-]+\\.(com|org|net|uk)(\\.[a-z]{2,3})?',' ', regex=True, inplace=True) \n",
    "        return df\n",
    "    \n",
    "    def remove_dates(df):\n",
    "        #removes 22/09/2018, 01.04.2011, 18-12-2000 \n",
    "        df.Text.replace(r'(0?[1-9]|[12][0-9]|3[01])[\\/\\-\\.](0?[1-9]|1[012])[\\/\\-\\.]\\d{4}',' ', regex=True, inplace=True) \n",
    "        return df\n",
    "    \n",
    "    def remove_years(df):\n",
    "        # TODO: IMPROVE THIS? MATCHES 2019. 1877, 1382 etc.\n",
    "        df.Text.replace(r'[1-2][0-9]\\d{2}',' ', regex=True, inplace=True) \n",
    "        return df\n",
    "    \n",
    "    def remove_months(df):\n",
    "        df.Text.replace(r'(jan(uary)?|feb(ruary)?|mar(ch)?|apr(il)?|may|jun(e)?|jul(y)?|aug(ust)?|sept(ember)?|oct(ober)?|nov(ember)?|dec(ember)?)',' ', regex=True, inplace=True)         \n",
    "        return df\n",
    "        \n",
    "    def remove_days(df):\n",
    "        # TODO: IMPORVE THE FOLLOWING\n",
    "        # removes also sat which can be a verb and sun\n",
    "        df.Text.replace(r'((mon|tues|wed(nes)?|thur(s)?|fri|sat(ur)?|sun)(day)?)',' ', regex=True, inplace=True) \n",
    "        return df\n",
    "    \n",
    "    def remove_time(df):\n",
    "        #removes 09:11 PM - doesn't remove 23:38 because there is no PM nor AM\n",
    "        df.Text.replace(r'\\b((1[0-2]|0?[1-9]):([0-5][0-9]) *([AaPp]*.[Mm]*.))',' ', regex=True, inplace=True) \n",
    "        #removes 23:38 format\n",
    "        df.Text.replace(r'\\b([0-1]([0-9])|([2])([0-3])):([0-5][0-9])',' ', regex=True, inplace=True)         \n",
    "        return df\n",
    "    \n",
    "    def remove_punctuation(df):\n",
    "        # removes all punctuations but NOT: dots (.), minus (-), and percentages (5) e.g. -2.48 % \n",
    "        # We might want to keep those because of the financial and world categories\n",
    "        df.Text.replace(r'[^\\w\\d\\%\\.\\-\\s]+|[_]',' ', regex=True, inplace=True)         \n",
    "        return df\n",
    "    \n",
    "    def remove_numbers(df):\n",
    "        # to do? / check remove_years() first\n",
    "        return df\n",
    "    \n"
   ]
  },
  {
   "cell_type": "code",
   "execution_count": 4,
   "metadata": {},
   "outputs": [],
   "source": [
    "#df_all_news = pd.read_excel(\"data\\\\original_data\\\\all_news.xlsx\")\n",
    "#df_all_news.drop(['Unnamed: 0'], axis=1, inplace=True) #drop the unecessary columns\n",
    "\n",
    "df_all_news = pd.read_pickle(r'data/original_data/pickles/all_news')\n",
    "initial_size = len(df_all_news)#store the number of records. Will be used for statistics"
   ]
  },
  {
   "cell_type": "code",
   "execution_count": 260,
   "metadata": {},
   "outputs": [
    {
     "output_type": "execute_result",
     "data": {
      "text/plain": "                                                   Title  \\\n1      Tracy Morgan performs first stand-up show sinc...   \n3      President Barack Obama interviews author Maril...   \n4      I will perform at night clubs, shows β€“ Pasto...   \n7      MEG Records&#39; Country Star Tom MacLear will be ...   \n8                           Defeat the Zombie Apocalypse   \n...                                                  ...   \n60292  Bidenβ€™s Indecision Fuels Doubts He Could Sti...   \n60293  AFL grand final 2015: Hawthorn drop Billy Hart...   \n60294  Joaquin lashes Bahamas; Powerful hurricane cou...   \n60295  5 US service members among 12 dead in Afghan p...   \n60296  Hurricane Joaquin batters Bahamas, unleashes s...   \n\n                                                    Text       Category  \n1      Tracy Morgan performs first stand-up show sinc...  entertainment  \n3      FCC Information President Barack Obama intervi...  entertainment  \n4      Source: Ghana | Hitz FM | Euphemia Akpalu Date...  entertainment  \n7      MEG Records : In Latest Music News , Tom MacLe...  entertainment  \n8      Defeat the Zombie Apocalypse Zombie hunting in...  entertainment  \n...                                                  ...            ...  \n60292  Vice President Joe Bidenβ€™s summer of uncerta...          world  \n60293  Return to video Video settings Please Log in t...          world  \n60294  Photo: Tim Aylen, AP Image 1 of / 5 Caption\\nC...          world  \n60295  5 US service members among 12 dead in Afghan p...          world  \n60296  Updated: 10:17 a.m. Friday, Oct. 2, 2015 | Pos...          world  \n\n[337883 rows x 3 columns]",
      "text/html": "<div>\n<style scoped>\n    .dataframe tbody tr th:only-of-type {\n        vertical-align: middle;\n    }\n\n    .dataframe tbody tr th {\n        vertical-align: top;\n    }\n\n    .dataframe thead th {\n        text-align: right;\n    }\n</style>\n<table border=\"1\" class=\"dataframe\">\n  <thead>\n    <tr style=\"text-align: right;\">\n      <th></th>\n      <th>Title</th>\n      <th>Text</th>\n      <th>Category</th>\n    </tr>\n  </thead>\n  <tbody>\n    <tr>\n      <td>1</td>\n      <td>Tracy Morgan performs first stand-up show sinc...</td>\n      <td>Tracy Morgan performs first stand-up show sinc...</td>\n      <td>entertainment</td>\n    </tr>\n    <tr>\n      <td>3</td>\n      <td>President Barack Obama interviews author Maril...</td>\n      <td>FCC Information President Barack Obama intervi...</td>\n      <td>entertainment</td>\n    </tr>\n    <tr>\n      <td>4</td>\n      <td>I will perform at night clubs, shows β€“ Pasto...</td>\n      <td>Source: Ghana | Hitz FM | Euphemia Akpalu Date...</td>\n      <td>entertainment</td>\n    </tr>\n    <tr>\n      <td>7</td>\n      <td>MEG Records' Country Star Tom MacLear will be ...</td>\n      <td>MEG Records : In Latest Music News , Tom MacLe...</td>\n      <td>entertainment</td>\n    </tr>\n    <tr>\n      <td>8</td>\n      <td>Defeat the Zombie Apocalypse</td>\n      <td>Defeat the Zombie Apocalypse Zombie hunting in...</td>\n      <td>entertainment</td>\n    </tr>\n    <tr>\n      <td>...</td>\n      <td>...</td>\n      <td>...</td>\n      <td>...</td>\n    </tr>\n    <tr>\n      <td>60292</td>\n      <td>Bidenβ€™s Indecision Fuels Doubts He Could Sti...</td>\n      <td>Vice President Joe Bidenβ€™s summer of uncerta...</td>\n      <td>world</td>\n    </tr>\n    <tr>\n      <td>60293</td>\n      <td>AFL grand final 2015: Hawthorn drop Billy Hart...</td>\n      <td>Return to video Video settings Please Log in t...</td>\n      <td>world</td>\n    </tr>\n    <tr>\n      <td>60294</td>\n      <td>Joaquin lashes Bahamas; Powerful hurricane cou...</td>\n      <td>Photo: Tim Aylen, AP Image 1 of / 5 Caption\\nC...</td>\n      <td>world</td>\n    </tr>\n    <tr>\n      <td>60295</td>\n      <td>5 US service members among 12 dead in Afghan p...</td>\n      <td>5 US service members among 12 dead in Afghan p...</td>\n      <td>world</td>\n    </tr>\n    <tr>\n      <td>60296</td>\n      <td>Hurricane Joaquin batters Bahamas, unleashes s...</td>\n      <td>Updated: 10:17 a.m. Friday, Oct. 2, 2015 | Pos...</td>\n      <td>world</td>\n    </tr>\n  </tbody>\n</table>\n<p>337883 rows × 3 columns</p>\n</div>"
     },
     "metadata": {},
     "execution_count": 260
    }
   ],
   "source": [
    "df_all_news"
   ]
  },
  {
   "source": [
    "# Exploring the dataset"
   ],
   "cell_type": "markdown",
   "metadata": {}
  },
  {
   "cell_type": "code",
   "execution_count": 352,
   "metadata": {},
   "outputs": [
    {
     "output_type": "display_data",
     "data": {
      "application/vnd.plotly.v1+json": {
       "config": {
        "linkText": "Export to plot.ly",
        "plotlyServerURL": "https://plot.ly",
        "showLink": false
       },
       "data": [
        {
         "automargin": false,
         "domain": {
          "x": [
           0,
           0.77
          ]
         },
         "hole": 0.5,
         "labels": [
          "entertainment",
          "financial",
          "political",
          "sport",
          "technology",
          "travel",
          "world"
         ],
         "marker": {
          "colors": [
           "#e2d9e2",
           "#9ebbc9",
           "#6785be",
           "#5e43a5",
           "#421257",
           "#471340",
           "#8e2c50",
           "#ba6657",
           "#ceac94",
           "#e2d9e2"
          ]
         },
         "name": "Criticality",
         "textfont": {
          "color": "#000000",
          "size": 15
         },
         "textinfo": "percent+label",
         "textposition": "outside",
         "type": "pie",
         "values": [
          50282,
          47851,
          87157,
          156899,
          41476,
          49470,
          60297
         ]
        }
       ],
       "layout": {
        "annotations": [
         {
          "font": {
           "color": "#000000",
           "size": 25
          },
          "showarrow": false,
          "text": "News",
          "x": 0.31,
          "y": 0.5
         }
        ],
        "template": {
         "data": {
          "bar": [
           {
            "error_x": {
             "color": "#2a3f5f"
            },
            "error_y": {
             "color": "#2a3f5f"
            },
            "marker": {
             "line": {
              "color": "#E5ECF6",
              "width": 0.5
             }
            },
            "type": "bar"
           }
          ],
          "barpolar": [
           {
            "marker": {
             "line": {
              "color": "#E5ECF6",
              "width": 0.5
             }
            },
            "type": "barpolar"
           }
          ],
          "carpet": [
           {
            "aaxis": {
             "endlinecolor": "#2a3f5f",
             "gridcolor": "white",
             "linecolor": "white",
             "minorgridcolor": "white",
             "startlinecolor": "#2a3f5f"
            },
            "baxis": {
             "endlinecolor": "#2a3f5f",
             "gridcolor": "white",
             "linecolor": "white",
             "minorgridcolor": "white",
             "startlinecolor": "#2a3f5f"
            },
            "type": "carpet"
           }
          ],
          "choropleth": [
           {
            "colorbar": {
             "outlinewidth": 0,
             "ticks": ""
            },
            "type": "choropleth"
           }
          ],
          "contour": [
           {
            "colorbar": {
             "outlinewidth": 0,
             "ticks": ""
            },
            "colorscale": [
             [
              0,
              "#0d0887"
             ],
             [
              0.1111111111111111,
              "#46039f"
             ],
             [
              0.2222222222222222,
              "#7201a8"
             ],
             [
              0.3333333333333333,
              "#9c179e"
             ],
             [
              0.4444444444444444,
              "#bd3786"
             ],
             [
              0.5555555555555556,
              "#d8576b"
             ],
             [
              0.6666666666666666,
              "#ed7953"
             ],
             [
              0.7777777777777778,
              "#fb9f3a"
             ],
             [
              0.8888888888888888,
              "#fdca26"
             ],
             [
              1,
              "#f0f921"
             ]
            ],
            "type": "contour"
           }
          ],
          "contourcarpet": [
           {
            "colorbar": {
             "outlinewidth": 0,
             "ticks": ""
            },
            "type": "contourcarpet"
           }
          ],
          "heatmap": [
           {
            "colorbar": {
             "outlinewidth": 0,
             "ticks": ""
            },
            "colorscale": [
             [
              0,
              "#0d0887"
             ],
             [
              0.1111111111111111,
              "#46039f"
             ],
             [
              0.2222222222222222,
              "#7201a8"
             ],
             [
              0.3333333333333333,
              "#9c179e"
             ],
             [
              0.4444444444444444,
              "#bd3786"
             ],
             [
              0.5555555555555556,
              "#d8576b"
             ],
             [
              0.6666666666666666,
              "#ed7953"
             ],
             [
              0.7777777777777778,
              "#fb9f3a"
             ],
             [
              0.8888888888888888,
              "#fdca26"
             ],
             [
              1,
              "#f0f921"
             ]
            ],
            "type": "heatmap"
           }
          ],
          "heatmapgl": [
           {
            "colorbar": {
             "outlinewidth": 0,
             "ticks": ""
            },
            "colorscale": [
             [
              0,
              "#0d0887"
             ],
             [
              0.1111111111111111,
              "#46039f"
             ],
             [
              0.2222222222222222,
              "#7201a8"
             ],
             [
              0.3333333333333333,
              "#9c179e"
             ],
             [
              0.4444444444444444,
              "#bd3786"
             ],
             [
              0.5555555555555556,
              "#d8576b"
             ],
             [
              0.6666666666666666,
              "#ed7953"
             ],
             [
              0.7777777777777778,
              "#fb9f3a"
             ],
             [
              0.8888888888888888,
              "#fdca26"
             ],
             [
              1,
              "#f0f921"
             ]
            ],
            "type": "heatmapgl"
           }
          ],
          "histogram": [
           {
            "marker": {
             "colorbar": {
              "outlinewidth": 0,
              "ticks": ""
             }
            },
            "type": "histogram"
           }
          ],
          "histogram2d": [
           {
            "colorbar": {
             "outlinewidth": 0,
             "ticks": ""
            },
            "colorscale": [
             [
              0,
              "#0d0887"
             ],
             [
              0.1111111111111111,
              "#46039f"
             ],
             [
              0.2222222222222222,
              "#7201a8"
             ],
             [
              0.3333333333333333,
              "#9c179e"
             ],
             [
              0.4444444444444444,
              "#bd3786"
             ],
             [
              0.5555555555555556,
              "#d8576b"
             ],
             [
              0.6666666666666666,
              "#ed7953"
             ],
             [
              0.7777777777777778,
              "#fb9f3a"
             ],
             [
              0.8888888888888888,
              "#fdca26"
             ],
             [
              1,
              "#f0f921"
             ]
            ],
            "type": "histogram2d"
           }
          ],
          "histogram2dcontour": [
           {
            "colorbar": {
             "outlinewidth": 0,
             "ticks": ""
            },
            "colorscale": [
             [
              0,
              "#0d0887"
             ],
             [
              0.1111111111111111,
              "#46039f"
             ],
             [
              0.2222222222222222,
              "#7201a8"
             ],
             [
              0.3333333333333333,
              "#9c179e"
             ],
             [
              0.4444444444444444,
              "#bd3786"
             ],
             [
              0.5555555555555556,
              "#d8576b"
             ],
             [
              0.6666666666666666,
              "#ed7953"
             ],
             [
              0.7777777777777778,
              "#fb9f3a"
             ],
             [
              0.8888888888888888,
              "#fdca26"
             ],
             [
              1,
              "#f0f921"
             ]
            ],
            "type": "histogram2dcontour"
           }
          ],
          "mesh3d": [
           {
            "colorbar": {
             "outlinewidth": 0,
             "ticks": ""
            },
            "type": "mesh3d"
           }
          ],
          "parcoords": [
           {
            "line": {
             "colorbar": {
              "outlinewidth": 0,
              "ticks": ""
             }
            },
            "type": "parcoords"
           }
          ],
          "pie": [
           {
            "automargin": true,
            "type": "pie"
           }
          ],
          "scatter": [
           {
            "marker": {
             "colorbar": {
              "outlinewidth": 0,
              "ticks": ""
             }
            },
            "type": "scatter"
           }
          ],
          "scatter3d": [
           {
            "line": {
             "colorbar": {
              "outlinewidth": 0,
              "ticks": ""
             }
            },
            "marker": {
             "colorbar": {
              "outlinewidth": 0,
              "ticks": ""
             }
            },
            "type": "scatter3d"
           }
          ],
          "scattercarpet": [
           {
            "marker": {
             "colorbar": {
              "outlinewidth": 0,
              "ticks": ""
             }
            },
            "type": "scattercarpet"
           }
          ],
          "scattergeo": [
           {
            "marker": {
             "colorbar": {
              "outlinewidth": 0,
              "ticks": ""
             }
            },
            "type": "scattergeo"
           }
          ],
          "scattergl": [
           {
            "marker": {
             "colorbar": {
              "outlinewidth": 0,
              "ticks": ""
             }
            },
            "type": "scattergl"
           }
          ],
          "scattermapbox": [
           {
            "marker": {
             "colorbar": {
              "outlinewidth": 0,
              "ticks": ""
             }
            },
            "type": "scattermapbox"
           }
          ],
          "scatterpolar": [
           {
            "marker": {
             "colorbar": {
              "outlinewidth": 0,
              "ticks": ""
             }
            },
            "type": "scatterpolar"
           }
          ],
          "scatterpolargl": [
           {
            "marker": {
             "colorbar": {
              "outlinewidth": 0,
              "ticks": ""
             }
            },
            "type": "scatterpolargl"
           }
          ],
          "scatterternary": [
           {
            "marker": {
             "colorbar": {
              "outlinewidth": 0,
              "ticks": ""
             }
            },
            "type": "scatterternary"
           }
          ],
          "surface": [
           {
            "colorbar": {
             "outlinewidth": 0,
             "ticks": ""
            },
            "colorscale": [
             [
              0,
              "#0d0887"
             ],
             [
              0.1111111111111111,
              "#46039f"
             ],
             [
              0.2222222222222222,
              "#7201a8"
             ],
             [
              0.3333333333333333,
              "#9c179e"
             ],
             [
              0.4444444444444444,
              "#bd3786"
             ],
             [
              0.5555555555555556,
              "#d8576b"
             ],
             [
              0.6666666666666666,
              "#ed7953"
             ],
             [
              0.7777777777777778,
              "#fb9f3a"
             ],
             [
              0.8888888888888888,
              "#fdca26"
             ],
             [
              1,
              "#f0f921"
             ]
            ],
            "type": "surface"
           }
          ],
          "table": [
           {
            "cells": {
             "fill": {
              "color": "#EBF0F8"
             },
             "line": {
              "color": "white"
             }
            },
            "header": {
             "fill": {
              "color": "#C8D4E3"
             },
             "line": {
              "color": "white"
             }
            },
            "type": "table"
           }
          ]
         },
         "layout": {
          "annotationdefaults": {
           "arrowcolor": "#2a3f5f",
           "arrowhead": 0,
           "arrowwidth": 1
          },
          "coloraxis": {
           "colorbar": {
            "outlinewidth": 0,
            "ticks": ""
           }
          },
          "colorscale": {
           "diverging": [
            [
             0,
             "#8e0152"
            ],
            [
             0.1,
             "#c51b7d"
            ],
            [
             0.2,
             "#de77ae"
            ],
            [
             0.3,
             "#f1b6da"
            ],
            [
             0.4,
             "#fde0ef"
            ],
            [
             0.5,
             "#f7f7f7"
            ],
            [
             0.6,
             "#e6f5d0"
            ],
            [
             0.7,
             "#b8e186"
            ],
            [
             0.8,
             "#7fbc41"
            ],
            [
             0.9,
             "#4d9221"
            ],
            [
             1,
             "#276419"
            ]
           ],
           "sequential": [
            [
             0,
             "#0d0887"
            ],
            [
             0.1111111111111111,
             "#46039f"
            ],
            [
             0.2222222222222222,
             "#7201a8"
            ],
            [
             0.3333333333333333,
             "#9c179e"
            ],
            [
             0.4444444444444444,
             "#bd3786"
            ],
            [
             0.5555555555555556,
             "#d8576b"
            ],
            [
             0.6666666666666666,
             "#ed7953"
            ],
            [
             0.7777777777777778,
             "#fb9f3a"
            ],
            [
             0.8888888888888888,
             "#fdca26"
            ],
            [
             1,
             "#f0f921"
            ]
           ],
           "sequentialminus": [
            [
             0,
             "#0d0887"
            ],
            [
             0.1111111111111111,
             "#46039f"
            ],
            [
             0.2222222222222222,
             "#7201a8"
            ],
            [
             0.3333333333333333,
             "#9c179e"
            ],
            [
             0.4444444444444444,
             "#bd3786"
            ],
            [
             0.5555555555555556,
             "#d8576b"
            ],
            [
             0.6666666666666666,
             "#ed7953"
            ],
            [
             0.7777777777777778,
             "#fb9f3a"
            ],
            [
             0.8888888888888888,
             "#fdca26"
            ],
            [
             1,
             "#f0f921"
            ]
           ]
          },
          "colorway": [
           "#636efa",
           "#EF553B",
           "#00cc96",
           "#ab63fa",
           "#FFA15A",
           "#19d3f3",
           "#FF6692",
           "#B6E880",
           "#FF97FF",
           "#FECB52"
          ],
          "font": {
           "color": "#2a3f5f"
          },
          "geo": {
           "bgcolor": "white",
           "lakecolor": "white",
           "landcolor": "#E5ECF6",
           "showlakes": true,
           "showland": true,
           "subunitcolor": "white"
          },
          "hoverlabel": {
           "align": "left"
          },
          "hovermode": "closest",
          "mapbox": {
           "style": "light"
          },
          "paper_bgcolor": "white",
          "plot_bgcolor": "#E5ECF6",
          "polar": {
           "angularaxis": {
            "gridcolor": "white",
            "linecolor": "white",
            "ticks": ""
           },
           "bgcolor": "#E5ECF6",
           "radialaxis": {
            "gridcolor": "white",
            "linecolor": "white",
            "ticks": ""
           }
          },
          "scene": {
           "xaxis": {
            "backgroundcolor": "#E5ECF6",
            "gridcolor": "white",
            "gridwidth": 2,
            "linecolor": "white",
            "showbackground": true,
            "ticks": "",
            "zerolinecolor": "white"
           },
           "yaxis": {
            "backgroundcolor": "#E5ECF6",
            "gridcolor": "white",
            "gridwidth": 2,
            "linecolor": "white",
            "showbackground": true,
            "ticks": "",
            "zerolinecolor": "white"
           },
           "zaxis": {
            "backgroundcolor": "#E5ECF6",
            "gridcolor": "white",
            "gridwidth": 2,
            "linecolor": "white",
            "showbackground": true,
            "ticks": "",
            "zerolinecolor": "white"
           }
          },
          "shapedefaults": {
           "line": {
            "color": "#2a3f5f"
           }
          },
          "ternary": {
           "aaxis": {
            "gridcolor": "white",
            "linecolor": "white",
            "ticks": ""
           },
           "baxis": {
            "gridcolor": "white",
            "linecolor": "white",
            "ticks": ""
           },
           "bgcolor": "#E5ECF6",
           "caxis": {
            "gridcolor": "white",
            "linecolor": "white",
            "ticks": ""
           }
          },
          "title": {
           "x": 0.05
          },
          "xaxis": {
           "automargin": true,
           "gridcolor": "white",
           "linecolor": "white",
           "ticks": "",
           "title": {
            "standoff": 15
           },
           "zerolinecolor": "white",
           "zerolinewidth": 2
          },
          "yaxis": {
           "automargin": true,
           "gridcolor": "white",
           "linecolor": "white",
           "ticks": "",
           "title": {
            "standoff": 15
           },
           "zerolinecolor": "white",
           "zerolinewidth": 2
          }
         }
        },
        "title": {
         "text": "Dataset Distribution"
        }
       }
      }
     },
     "metadata": {}
    }
   ],
   "source": [
    "import plotly.express as px\n",
    "\n",
    "#count the number of records for each category and store it in a new dataframe\n",
    "df_process_stats = EDA.count_records_per_label(df_all_news, \"Count_Pre_Processing\")\n",
    "\n",
    "fig = {\n",
    "  \"data\": [\n",
    "    {\n",
    "      \"values\": df_process_stats['Count_Pre_Processing'],\n",
    "      \"labels\": df_process_stats['Category'],\n",
    "      \"textposition\": \"outside\",\n",
    "      \"domain\": {\"x\": [0, .77]},\n",
    "      \"name\": \"Criticality\",\n",
    "      \"marker\": {'colors': px.colors.cyclical.Twilight\n",
    "                },\n",
    "      \"textinfo\":\"percent+label\",\n",
    "      \"textfont\": {'color': '#000000', 'size': 15},\n",
    "      \"hole\": .5,\n",
    "      \"type\": \"pie\",\n",
    "      \"automargin\": False \n",
    "    } ],\n",
    "    \"layout\": {\n",
    "        \"title\":\"Dataset Distribution\",\n",
    "        \"annotations\": [\n",
    "            {\n",
    "                \"font\": {\n",
    "                    \"size\": 25,\n",
    "                    \"color\": '#000000'\n",
    "                },\n",
    "                \"showarrow\": False,\n",
    "                \"text\": \"News\",\n",
    "                \"x\": 0.31,\n",
    "                \"y\": 0.5\n",
    "            }\n",
    "        ]\n",
    "    }\n",
    "}\n",
    "\n",
    "iplot(fig)"
   ]
  },
  {
   "source": [
    "#### Lets remove the empty and duplicated records "
   ],
   "cell_type": "markdown",
   "metadata": {}
  },
  {
   "cell_type": "code",
   "execution_count": 6,
   "metadata": {},
   "outputs": [
    {
     "output_type": "execute_result",
     "data": {
      "text/plain": "        Category  Count_Pre_Processing  Count_Post_Processing\n0  entertainment                 50282                  34150\n1      financial                 47851                  44036\n2      political                 87157                  37076\n3          sport                156899                  81799\n4     technology                 41476                  37812\n5         travel                 49470                  46521\n6          world                 60297                  56489",
      "text/html": "<div>\n<style scoped>\n    .dataframe tbody tr th:only-of-type {\n        vertical-align: middle;\n    }\n\n    .dataframe tbody tr th {\n        vertical-align: top;\n    }\n\n    .dataframe thead th {\n        text-align: right;\n    }\n</style>\n<table border=\"1\" class=\"dataframe\">\n  <thead>\n    <tr style=\"text-align: right;\">\n      <th></th>\n      <th>Category</th>\n      <th>Count_Pre_Processing</th>\n      <th>Count_Post_Processing</th>\n    </tr>\n  </thead>\n  <tbody>\n    <tr>\n      <td>0</td>\n      <td>entertainment</td>\n      <td>50282</td>\n      <td>34150</td>\n    </tr>\n    <tr>\n      <td>1</td>\n      <td>financial</td>\n      <td>47851</td>\n      <td>44036</td>\n    </tr>\n    <tr>\n      <td>2</td>\n      <td>political</td>\n      <td>87157</td>\n      <td>37076</td>\n    </tr>\n    <tr>\n      <td>3</td>\n      <td>sport</td>\n      <td>156899</td>\n      <td>81799</td>\n    </tr>\n    <tr>\n      <td>4</td>\n      <td>technology</td>\n      <td>41476</td>\n      <td>37812</td>\n    </tr>\n    <tr>\n      <td>5</td>\n      <td>travel</td>\n      <td>49470</td>\n      <td>46521</td>\n    </tr>\n    <tr>\n      <td>6</td>\n      <td>world</td>\n      <td>60297</td>\n      <td>56489</td>\n    </tr>\n  </tbody>\n</table>\n</div>"
     },
     "metadata": {},
     "execution_count": 6
    }
   ],
   "source": [
    "df_all_news = Cleaner.drop_null_values(df_all_news)\n",
    "df_all_news = Cleaner.drop_duplicate_values(df_all_news)\n",
    "\n",
    "df_process_stats['Count_Post_Processing'] = EDA.count_records_per_label(df_all_news, \"Count_Post_Processing\")['Count_Post_Processing']\n",
    "\n",
    "df_process_stats"
   ]
  },
  {
   "cell_type": "code",
   "execution_count": 45,
   "metadata": {
    "tags": []
   },
   "outputs": [
    {
     "output_type": "stream",
     "name": "stdout",
     "text": "Total records pre-processing: 493432\nTotal subtracted records: -155549\nTotal records post-processing: 337883\nTotal loss: -31.52% of the initial records\n"
    },
    {
     "output_type": "execute_result",
     "data": {
      "text/plain": "        Category  Count_Pre_Processing  Count_Post_Processing Records_Loss\n0  entertainment                 50282                  34150      -32.08%\n1      financial                 47851                  44036       -7.97%\n2      political                 87157                  37076      -57.46%\n3          sport                156899                  81799      -47.87%\n4     technology                 41476                  37812       -8.83%\n5         travel                 49470                  46521       -5.96%\n6          world                 60297                  56489       -6.32%",
      "text/html": "<div>\n<style scoped>\n    .dataframe tbody tr th:only-of-type {\n        vertical-align: middle;\n    }\n\n    .dataframe tbody tr th {\n        vertical-align: top;\n    }\n\n    .dataframe thead th {\n        text-align: right;\n    }\n</style>\n<table border=\"1\" class=\"dataframe\">\n  <thead>\n    <tr style=\"text-align: right;\">\n      <th></th>\n      <th>Category</th>\n      <th>Count_Pre_Processing</th>\n      <th>Count_Post_Processing</th>\n      <th>Records_Loss</th>\n    </tr>\n  </thead>\n  <tbody>\n    <tr>\n      <td>0</td>\n      <td>entertainment</td>\n      <td>50282</td>\n      <td>34150</td>\n      <td>-32.08%</td>\n    </tr>\n    <tr>\n      <td>1</td>\n      <td>financial</td>\n      <td>47851</td>\n      <td>44036</td>\n      <td>-7.97%</td>\n    </tr>\n    <tr>\n      <td>2</td>\n      <td>political</td>\n      <td>87157</td>\n      <td>37076</td>\n      <td>-57.46%</td>\n    </tr>\n    <tr>\n      <td>3</td>\n      <td>sport</td>\n      <td>156899</td>\n      <td>81799</td>\n      <td>-47.87%</td>\n    </tr>\n    <tr>\n      <td>4</td>\n      <td>technology</td>\n      <td>41476</td>\n      <td>37812</td>\n      <td>-8.83%</td>\n    </tr>\n    <tr>\n      <td>5</td>\n      <td>travel</td>\n      <td>49470</td>\n      <td>46521</td>\n      <td>-5.96%</td>\n    </tr>\n    <tr>\n      <td>6</td>\n      <td>world</td>\n      <td>60297</td>\n      <td>56489</td>\n      <td>-6.32%</td>\n    </tr>\n  </tbody>\n</table>\n</div>"
     },
     "metadata": {},
     "execution_count": 45
    }
   ],
   "source": [
    "lossPercentage = []\n",
    "for index, row in df_process_stats.iterrows():\n",
    "    temp = EDA.difference_percentage(row['Count_Pre_Processing'], row['Count_Post_Processing'])\n",
    "    lossPercentage.append(str(temp)+\"%\")\n",
    "    \n",
    "df_process_stats['Records_Loss']=lossPercentage\n",
    "\n",
    "#TO IMPROVE THIS MAYBE MAKE SOME VISUALISATIONS?\n",
    "total_loss = round((((len(df_all_news)-initial_size)/initial_size)*100), 2)\n",
    "print(\"Total records pre-processing: \" + str(df_process_stats['Count_Pre_Processing'].sum()))\n",
    "print(\"Total subtracted records: \" + str(df_process_stats['Count_Post_Processing'].sum()-df_process_stats['Count_Pre_Processing'].sum()))\n",
    "print(\"Total records post-processing: \" + str(df_process_stats['Count_Post_Processing'].sum()))\n",
    "\n",
    "print(\"Total loss: \" + str(total_loss) +\"% of the initial records\")\n",
    "df_process_stats"
   ]
  },
  {
   "cell_type": "code",
   "execution_count": 259,
   "metadata": {},
   "outputs": [
    {
     "output_type": "display_data",
     "data": {
      "application/vnd.plotly.v1+json": {
       "config": {
        "linkText": "Export to plot.ly",
        "plotlyServerURL": "https://plot.ly",
        "showLink": false
       },
       "data": [
        {
         "hovertext": [
          "Reduced by -32.08%",
          "Reduced by -7.97%",
          "Reduced by -57.46%",
          "Reduced by -47.87%",
          "Reduced by -8.83%",
          "Reduced by -5.96%",
          "Reduced by -6.32%"
         ],
         "marker": {
          "color": "rgb(128, 0, 0)"
         },
         "name": "Pre-Processing",
         "text": [
          50282,
          47851,
          87157,
          156899,
          41476,
          49470,
          60297
         ],
         "textposition": "outside",
         "type": "bar",
         "x": [
          "entertainment",
          "financial",
          "political",
          "sport",
          "technology",
          "travel",
          "world"
         ],
         "y": [
          50282,
          47851,
          87157,
          156899,
          41476,
          49470,
          60297
         ]
        },
        {
         "hovertext": [
          "Reduced by -32.08%",
          "Reduced by -7.97%",
          "Reduced by -57.46%",
          "Reduced by -47.87%",
          "Reduced by -8.83%",
          "Reduced by -5.96%",
          "Reduced by -6.32%"
         ],
         "marker": {
          "color": "rgb(0, 64, 128)"
         },
         "name": "Post-Processing",
         "text": [
          34150,
          44036,
          37076,
          81799,
          37812,
          46521,
          56489
         ],
         "textposition": "outside",
         "type": "bar",
         "x": [
          "entertainment",
          "financial",
          "political",
          "sport",
          "technology",
          "travel",
          "world"
         ],
         "y": [
          34150,
          44036,
          37076,
          81799,
          37812,
          46521,
          56489
         ]
        }
       ],
       "layout": {
        "autosize": false,
        "barmode": "group",
        "height": 500,
        "legend": {
         "bgcolor": "rgba(255, 255, 255, 0)",
         "bordercolor": "rgba(255, 255, 255, 0)",
         "x": 0,
         "y": 0.99
        },
        "template": {
         "data": {
          "bar": [
           {
            "error_x": {
             "color": "#2a3f5f"
            },
            "error_y": {
             "color": "#2a3f5f"
            },
            "marker": {
             "line": {
              "color": "#E5ECF6",
              "width": 0.5
             }
            },
            "type": "bar"
           }
          ],
          "barpolar": [
           {
            "marker": {
             "line": {
              "color": "#E5ECF6",
              "width": 0.5
             }
            },
            "type": "barpolar"
           }
          ],
          "carpet": [
           {
            "aaxis": {
             "endlinecolor": "#2a3f5f",
             "gridcolor": "white",
             "linecolor": "white",
             "minorgridcolor": "white",
             "startlinecolor": "#2a3f5f"
            },
            "baxis": {
             "endlinecolor": "#2a3f5f",
             "gridcolor": "white",
             "linecolor": "white",
             "minorgridcolor": "white",
             "startlinecolor": "#2a3f5f"
            },
            "type": "carpet"
           }
          ],
          "choropleth": [
           {
            "colorbar": {
             "outlinewidth": 0,
             "ticks": ""
            },
            "type": "choropleth"
           }
          ],
          "contour": [
           {
            "colorbar": {
             "outlinewidth": 0,
             "ticks": ""
            },
            "colorscale": [
             [
              0,
              "#0d0887"
             ],
             [
              0.1111111111111111,
              "#46039f"
             ],
             [
              0.2222222222222222,
              "#7201a8"
             ],
             [
              0.3333333333333333,
              "#9c179e"
             ],
             [
              0.4444444444444444,
              "#bd3786"
             ],
             [
              0.5555555555555556,
              "#d8576b"
             ],
             [
              0.6666666666666666,
              "#ed7953"
             ],
             [
              0.7777777777777778,
              "#fb9f3a"
             ],
             [
              0.8888888888888888,
              "#fdca26"
             ],
             [
              1,
              "#f0f921"
             ]
            ],
            "type": "contour"
           }
          ],
          "contourcarpet": [
           {
            "colorbar": {
             "outlinewidth": 0,
             "ticks": ""
            },
            "type": "contourcarpet"
           }
          ],
          "heatmap": [
           {
            "colorbar": {
             "outlinewidth": 0,
             "ticks": ""
            },
            "colorscale": [
             [
              0,
              "#0d0887"
             ],
             [
              0.1111111111111111,
              "#46039f"
             ],
             [
              0.2222222222222222,
              "#7201a8"
             ],
             [
              0.3333333333333333,
              "#9c179e"
             ],
             [
              0.4444444444444444,
              "#bd3786"
             ],
             [
              0.5555555555555556,
              "#d8576b"
             ],
             [
              0.6666666666666666,
              "#ed7953"
             ],
             [
              0.7777777777777778,
              "#fb9f3a"
             ],
             [
              0.8888888888888888,
              "#fdca26"
             ],
             [
              1,
              "#f0f921"
             ]
            ],
            "type": "heatmap"
           }
          ],
          "heatmapgl": [
           {
            "colorbar": {
             "outlinewidth": 0,
             "ticks": ""
            },
            "colorscale": [
             [
              0,
              "#0d0887"
             ],
             [
              0.1111111111111111,
              "#46039f"
             ],
             [
              0.2222222222222222,
              "#7201a8"
             ],
             [
              0.3333333333333333,
              "#9c179e"
             ],
             [
              0.4444444444444444,
              "#bd3786"
             ],
             [
              0.5555555555555556,
              "#d8576b"
             ],
             [
              0.6666666666666666,
              "#ed7953"
             ],
             [
              0.7777777777777778,
              "#fb9f3a"
             ],
             [
              0.8888888888888888,
              "#fdca26"
             ],
             [
              1,
              "#f0f921"
             ]
            ],
            "type": "heatmapgl"
           }
          ],
          "histogram": [
           {
            "marker": {
             "colorbar": {
              "outlinewidth": 0,
              "ticks": ""
             }
            },
            "type": "histogram"
           }
          ],
          "histogram2d": [
           {
            "colorbar": {
             "outlinewidth": 0,
             "ticks": ""
            },
            "colorscale": [
             [
              0,
              "#0d0887"
             ],
             [
              0.1111111111111111,
              "#46039f"
             ],
             [
              0.2222222222222222,
              "#7201a8"
             ],
             [
              0.3333333333333333,
              "#9c179e"
             ],
             [
              0.4444444444444444,
              "#bd3786"
             ],
             [
              0.5555555555555556,
              "#d8576b"
             ],
             [
              0.6666666666666666,
              "#ed7953"
             ],
             [
              0.7777777777777778,
              "#fb9f3a"
             ],
             [
              0.8888888888888888,
              "#fdca26"
             ],
             [
              1,
              "#f0f921"
             ]
            ],
            "type": "histogram2d"
           }
          ],
          "histogram2dcontour": [
           {
            "colorbar": {
             "outlinewidth": 0,
             "ticks": ""
            },
            "colorscale": [
             [
              0,
              "#0d0887"
             ],
             [
              0.1111111111111111,
              "#46039f"
             ],
             [
              0.2222222222222222,
              "#7201a8"
             ],
             [
              0.3333333333333333,
              "#9c179e"
             ],
             [
              0.4444444444444444,
              "#bd3786"
             ],
             [
              0.5555555555555556,
              "#d8576b"
             ],
             [
              0.6666666666666666,
              "#ed7953"
             ],
             [
              0.7777777777777778,
              "#fb9f3a"
             ],
             [
              0.8888888888888888,
              "#fdca26"
             ],
             [
              1,
              "#f0f921"
             ]
            ],
            "type": "histogram2dcontour"
           }
          ],
          "mesh3d": [
           {
            "colorbar": {
             "outlinewidth": 0,
             "ticks": ""
            },
            "type": "mesh3d"
           }
          ],
          "parcoords": [
           {
            "line": {
             "colorbar": {
              "outlinewidth": 0,
              "ticks": ""
             }
            },
            "type": "parcoords"
           }
          ],
          "pie": [
           {
            "automargin": true,
            "type": "pie"
           }
          ],
          "scatter": [
           {
            "marker": {
             "colorbar": {
              "outlinewidth": 0,
              "ticks": ""
             }
            },
            "type": "scatter"
           }
          ],
          "scatter3d": [
           {
            "line": {
             "colorbar": {
              "outlinewidth": 0,
              "ticks": ""
             }
            },
            "marker": {
             "colorbar": {
              "outlinewidth": 0,
              "ticks": ""
             }
            },
            "type": "scatter3d"
           }
          ],
          "scattercarpet": [
           {
            "marker": {
             "colorbar": {
              "outlinewidth": 0,
              "ticks": ""
             }
            },
            "type": "scattercarpet"
           }
          ],
          "scattergeo": [
           {
            "marker": {
             "colorbar": {
              "outlinewidth": 0,
              "ticks": ""
             }
            },
            "type": "scattergeo"
           }
          ],
          "scattergl": [
           {
            "marker": {
             "colorbar": {
              "outlinewidth": 0,
              "ticks": ""
             }
            },
            "type": "scattergl"
           }
          ],
          "scattermapbox": [
           {
            "marker": {
             "colorbar": {
              "outlinewidth": 0,
              "ticks": ""
             }
            },
            "type": "scattermapbox"
           }
          ],
          "scatterpolar": [
           {
            "marker": {
             "colorbar": {
              "outlinewidth": 0,
              "ticks": ""
             }
            },
            "type": "scatterpolar"
           }
          ],
          "scatterpolargl": [
           {
            "marker": {
             "colorbar": {
              "outlinewidth": 0,
              "ticks": ""
             }
            },
            "type": "scatterpolargl"
           }
          ],
          "scatterternary": [
           {
            "marker": {
             "colorbar": {
              "outlinewidth": 0,
              "ticks": ""
             }
            },
            "type": "scatterternary"
           }
          ],
          "surface": [
           {
            "colorbar": {
             "outlinewidth": 0,
             "ticks": ""
            },
            "colorscale": [
             [
              0,
              "#0d0887"
             ],
             [
              0.1111111111111111,
              "#46039f"
             ],
             [
              0.2222222222222222,
              "#7201a8"
             ],
             [
              0.3333333333333333,
              "#9c179e"
             ],
             [
              0.4444444444444444,
              "#bd3786"
             ],
             [
              0.5555555555555556,
              "#d8576b"
             ],
             [
              0.6666666666666666,
              "#ed7953"
             ],
             [
              0.7777777777777778,
              "#fb9f3a"
             ],
             [
              0.8888888888888888,
              "#fdca26"
             ],
             [
              1,
              "#f0f921"
             ]
            ],
            "type": "surface"
           }
          ],
          "table": [
           {
            "cells": {
             "fill": {
              "color": "#EBF0F8"
             },
             "line": {
              "color": "white"
             }
            },
            "header": {
             "fill": {
              "color": "#C8D4E3"
             },
             "line": {
              "color": "white"
             }
            },
            "type": "table"
           }
          ]
         },
         "layout": {
          "annotationdefaults": {
           "arrowcolor": "#2a3f5f",
           "arrowhead": 0,
           "arrowwidth": 1
          },
          "coloraxis": {
           "colorbar": {
            "outlinewidth": 0,
            "ticks": ""
           }
          },
          "colorscale": {
           "diverging": [
            [
             0,
             "#8e0152"
            ],
            [
             0.1,
             "#c51b7d"
            ],
            [
             0.2,
             "#de77ae"
            ],
            [
             0.3,
             "#f1b6da"
            ],
            [
             0.4,
             "#fde0ef"
            ],
            [
             0.5,
             "#f7f7f7"
            ],
            [
             0.6,
             "#e6f5d0"
            ],
            [
             0.7,
             "#b8e186"
            ],
            [
             0.8,
             "#7fbc41"
            ],
            [
             0.9,
             "#4d9221"
            ],
            [
             1,
             "#276419"
            ]
           ],
           "sequential": [
            [
             0,
             "#0d0887"
            ],
            [
             0.1111111111111111,
             "#46039f"
            ],
            [
             0.2222222222222222,
             "#7201a8"
            ],
            [
             0.3333333333333333,
             "#9c179e"
            ],
            [
             0.4444444444444444,
             "#bd3786"
            ],
            [
             0.5555555555555556,
             "#d8576b"
            ],
            [
             0.6666666666666666,
             "#ed7953"
            ],
            [
             0.7777777777777778,
             "#fb9f3a"
            ],
            [
             0.8888888888888888,
             "#fdca26"
            ],
            [
             1,
             "#f0f921"
            ]
           ],
           "sequentialminus": [
            [
             0,
             "#0d0887"
            ],
            [
             0.1111111111111111,
             "#46039f"
            ],
            [
             0.2222222222222222,
             "#7201a8"
            ],
            [
             0.3333333333333333,
             "#9c179e"
            ],
            [
             0.4444444444444444,
             "#bd3786"
            ],
            [
             0.5555555555555556,
             "#d8576b"
            ],
            [
             0.6666666666666666,
             "#ed7953"
            ],
            [
             0.7777777777777778,
             "#fb9f3a"
            ],
            [
             0.8888888888888888,
             "#fdca26"
            ],
            [
             1,
             "#f0f921"
            ]
           ]
          },
          "colorway": [
           "#636efa",
           "#EF553B",
           "#00cc96",
           "#ab63fa",
           "#FFA15A",
           "#19d3f3",
           "#FF6692",
           "#B6E880",
           "#FF97FF",
           "#FECB52"
          ],
          "font": {
           "color": "#2a3f5f"
          },
          "geo": {
           "bgcolor": "white",
           "lakecolor": "white",
           "landcolor": "#E5ECF6",
           "showlakes": true,
           "showland": true,
           "subunitcolor": "white"
          },
          "hoverlabel": {
           "align": "left"
          },
          "hovermode": "closest",
          "mapbox": {
           "style": "light"
          },
          "paper_bgcolor": "white",
          "plot_bgcolor": "#E5ECF6",
          "polar": {
           "angularaxis": {
            "gridcolor": "white",
            "linecolor": "white",
            "ticks": ""
           },
           "bgcolor": "#E5ECF6",
           "radialaxis": {
            "gridcolor": "white",
            "linecolor": "white",
            "ticks": ""
           }
          },
          "scene": {
           "xaxis": {
            "backgroundcolor": "#E5ECF6",
            "gridcolor": "white",
            "gridwidth": 2,
            "linecolor": "white",
            "showbackground": true,
            "ticks": "",
            "zerolinecolor": "white"
           },
           "yaxis": {
            "backgroundcolor": "#E5ECF6",
            "gridcolor": "white",
            "gridwidth": 2,
            "linecolor": "white",
            "showbackground": true,
            "ticks": "",
            "zerolinecolor": "white"
           },
           "zaxis": {
            "backgroundcolor": "#E5ECF6",
            "gridcolor": "white",
            "gridwidth": 2,
            "linecolor": "white",
            "showbackground": true,
            "ticks": "",
            "zerolinecolor": "white"
           }
          },
          "shapedefaults": {
           "line": {
            "color": "#2a3f5f"
           }
          },
          "ternary": {
           "aaxis": {
            "gridcolor": "white",
            "linecolor": "white",
            "ticks": ""
           },
           "baxis": {
            "gridcolor": "white",
            "linecolor": "white",
            "ticks": ""
           },
           "bgcolor": "#E5ECF6",
           "caxis": {
            "gridcolor": "white",
            "linecolor": "white",
            "ticks": ""
           }
          },
          "title": {
           "x": 0.05
          },
          "xaxis": {
           "automargin": true,
           "gridcolor": "white",
           "linecolor": "white",
           "ticks": "",
           "title": {
            "standoff": 15
           },
           "zerolinecolor": "white",
           "zerolinewidth": 2
          },
          "yaxis": {
           "automargin": true,
           "gridcolor": "white",
           "linecolor": "white",
           "ticks": "",
           "title": {
            "standoff": 15
           },
           "zerolinecolor": "white",
           "zerolinewidth": 2
          }
         }
        },
        "title": {
         "text": "Removing duplicate and null records from the dataset (hover for percentages)"
        },
        "width": 900,
        "xaxis": {
         "title": {
          "text": "Categories"
         }
        },
        "yaxis": {
         "title": {
          "text": "# of Records"
         }
        }
       }
      }
     },
     "metadata": {}
    }
   ],
   "source": [
    "import plotly as py\n",
    "import plotly.graph_objs as go\n",
    "from plotly.offline import  plot, iplot\n",
    "\n",
    "\n",
    "data = [go.Bar(x=df_process_stats['Category'],\n",
    "               y=df_process_stats['Count_Pre_Processing'], \n",
    "               name = \"Pre-Processing\", \n",
    "               text=df_process_stats['Count_Pre_Processing'], \n",
    "               textposition='outside',\n",
    "               hovertext=\"Reduced by \"+df_process_stats['Records_Loss'],\n",
    "               marker_color='rgb(128, 0, 0)'),\n",
    "\n",
    "    go.Bar(x=df_process_stats['Category'],\n",
    "               y=df_process_stats['Count_Post_Processing'], \n",
    "               name = 'Post-Processing',\n",
    "               text=df_process_stats['Count_Post_Processing'], \n",
    "               textposition='outside',\n",
    "               hovertext=\"Reduced by \"+df_process_stats['Records_Loss'],\n",
    "               marker_color='rgb(0, 64, 128)')]\n",
    "\n",
    "\n",
    "\n",
    "layout = go.Layout(\n",
    "    barmode='group', \n",
    "    title = 'Removing duplicate and null records from the dataset (hover for percentages)',  \n",
    "    xaxis_title=\"Categories\",\n",
    "    yaxis_title=\"# of Records\",\n",
    "    autosize=False, \n",
    "    width=900, \n",
    "    height=500,\n",
    "    legend=dict(\n",
    "        x=0,\n",
    "        y=0.99,\n",
    "        bgcolor='rgba(255, 255, 255, 0)',\n",
    "        bordercolor='rgba(255, 255, 255, 0)'\n",
    "    ))\n",
    "\n",
    "\n",
    "fig = go.Figure(data=data, layout=layout)\n",
    "iplot(fig)"
   ]
  },
  {
   "source": [
    "As we see, there were a lot of null and duplicated records in each category. However there is still unbalance between the categories. <br/>\n",
    "*Tip: Click on Pre-Processing to get a view on the current balance of the dataset*"
   ],
   "cell_type": "markdown",
   "metadata": {}
  },
  {
   "source": [
    "#delete future unused variables at this point\n",
    "del index, row, temp, initial_size, lossPercentage, df_process_stats, total_loss"
   ],
   "cell_type": "code",
   "metadata": {},
   "execution_count": null,
   "outputs": []
  },
  {
   "cell_type": "markdown",
   "metadata": {},
   "source": [
    "#### Count the number of words of each article - Time comparisons between two options"
   ]
  },
  {
   "cell_type": "code",
   "execution_count": 390,
   "metadata": {
    "tags": []
   },
   "outputs": [
    {
     "output_type": "stream",
     "name": "stdout",
     "text": "Process completed.\nTime taken: 1mins 40secs\n"
    }
   ],
   "source": [
    "t1 = time.time() \n",
    "df_all_news['Text_TotalWords'] = EDA.count_words_per_records_opt_1(df_all_news)\n",
    "process_time(round(time.time()-t1))"
   ]
  },
  {
   "cell_type": "code",
   "execution_count": 393,
   "metadata": {
    "scrolled": true,
    "tags": []
   },
   "outputs": [
    {
     "output_type": "stream",
     "name": "stdout",
     "text": "Process completed.\nTime taken: 12 seconds\n"
    }
   ],
   "source": [
    "t1 = time.time() \n",
    "#df.col.apply(lambda x: len(x.split()))\n",
    "df_all_news['Text_TotalWords'] = EDA.count_words_per_records_opt_2(df_all_news)\n",
    "process_time(round(time.time()-t1))\n"
   ]
  },
  {
   "cell_type": "code",
   "execution_count": 395,
   "metadata": {
    "tags": []
   },
   "outputs": [
    {
     "output_type": "stream",
     "name": "stdout",
     "text": "Removed total 12918 records\n"
    }
   ],
   "source": [
    "df_all_news.reset_index(drop=True, inplace=True)\n",
    "df_all_news_processed = df_all_news.copy()\n",
    "df_all_news_processed = df_all_news_processed[df_all_news_processed['Text_TotalWords'] > 10]  \n",
    "print(\"Removed total {} records with less than 10 words\".format((len(df_all_news)-len(df_all_news_processed))))\n",
    "df_all_news_processed.to_pickle('data/original_data/pickles/df_all_news_processed_v1')"
   ]
  },
  {
   "cell_type": "code",
   "execution_count": null,
   "metadata": {
    "scrolled": true
   },
   "outputs": [],
   "source": [
    "#df_all_news_processed = pd.read_pickle(r'data/original_data/pickles/df_all_news_processed_v1')\n",
    "#df_all_news_processed"
   ]
  },
  {
   "source": [
    "pd.options.display.max_colwidth = 1000 #expand the padding (def is 50)\n",
    "df_all_news_processed.loc[df_all_news_processed['Category'] == 'travel']"
   ],
   "cell_type": "code",
   "metadata": {
    "scrolled": true
   },
   "execution_count": null,
   "outputs": []
  },
  {
   "cell_type": "code",
   "execution_count": null,
   "metadata": {},
   "outputs": [],
   "source": [
    "df_all_news_processed = Cleaner.remove_new_line(df_all_news_processed)\n",
    "\n",
    "df_all_news_processed = Cleaner.remove_non_ascii_chars(df_all_news_processed)\n",
    "\n",
    "df_all_news_processed = Cleaner.remove_multiple_spaces(df_all_news_processed)\n",
    "\n",
    "df_all_news_processed['Text'] = NLP.to_lower_case(df_all_news_processed, 'Text')"
   ]
  },
  {
   "cell_type": "code",
   "execution_count": null,
   "metadata": {},
   "outputs": [],
   "source": [
    "df_all_news_processed['Text_TotalWords'] = EDA.count_words_per_records_opt_2(df_all_news_processed)"
   ]
  },
  {
   "cell_type": "code",
   "execution_count": null,
   "metadata": {
    "scrolled": true
   },
   "outputs": [],
   "source": [
    "df_all_news_processed"
   ]
  },
  {
   "cell_type": "code",
   "execution_count": null,
   "metadata": {
    "scrolled": true
   },
   "outputs": [],
   "source": [
    "df_all_news_processed.loc[df_all_news_processed['Category'] == 'world']"
   ]
  },
  {
   "cell_type": "code",
   "execution_count": null,
   "metadata": {},
   "outputs": [],
   "source": [
    "df_all_news_processed[:5]['Text']"
   ]
  },
  {
   "cell_type": "code",
   "execution_count": null,
   "metadata": {
    "scrolled": true
   },
   "outputs": [],
   "source": [
    "##### NAME ENTITY RECOGNITION - START #####   \n",
    "###########################################\n",
    "'''\n",
    "MY COMMENTS:\n",
    "Entity Recognition package of NLTK does not work fully efficiently. It recognises false names.\n",
    "More importantly is super slow for 10 articles and it would require way better hardware capabilities to run for\n",
    "my large corpus 300k+ articles.\n",
    "\n",
    "todo: In the end I will exclude the jar files from the libraries folder and I will just mention \n",
    "it as observation to my final report.\n",
    "'''\n",
    "from nltk.tag import StanfordPOSTagger\n",
    "import nltk \n",
    "nltk.download('punkt')\n",
    "\n",
    "import os\n",
    "\n",
    "java_path = \"C:/Program Files/Java/jdk1.8.0_201/bin/java.exe\"   \n",
    "os.environ['JAVAHOME'] = java_path\n",
    "\n",
    "\n",
    "# Add the jar and model via their path (instead of setting environment variables):\n",
    "jar = 'libraries/stanford-postagger-full-2020-08-06/stanford-postagger.jar'\n",
    "model = 'libraries/stanford-postagger-full-2020-08-06/models/english-left3words-distsim.tagger'\n",
    "pos_tagger = StanfordPOSTagger(model, jar, encoding='utf8')\n",
    "\n",
    "def find_names(row):\n",
    "    for sent in nltk.sent_tokenize(row):\n",
    "        tokens = nltk.tokenize.word_tokenize(sent)\n",
    "        tags = pos_tagger.tag(tokens)\n",
    "        print(tags)\n",
    "        for tag in tags:\n",
    "            if tag[1] in [\"NNP\"]:\n",
    "                print(tag)\n",
    "        print(\"-----\")\n",
    "######################################            \n",
    "\n",
    "df_test=df_all_news_processed[:5].copy()\n",
    "df_test['Text'] = df_test['Text'].str.upper()\n",
    "df_test['Text'].apply(find_names) \n",
    "\n",
    "##### NAME ENTITY RECOGNITION - END #####     \n",
    "######################################### \n"
   ]
  },
  {
   "cell_type": "code",
   "execution_count": null,
   "metadata": {},
   "outputs": [],
   "source": [
    "articles_split_by_word"
   ]
  },
  {
   "cell_type": "code",
   "execution_count": null,
   "metadata": {
    "scrolled": true
   },
   "outputs": [],
   "source": [
    "df_all_news_processed"
   ]
  },
  {
   "cell_type": "code",
   "execution_count": null,
   "metadata": {
    "scrolled": true
   },
   "outputs": [],
   "source": [
    "########## N-GRAMS ###########\n",
    "### not working for N more than 6\n",
    "articles_split_by_word = NLP.tokenization(df_all_news_processed)\n",
    "n = 2 #Specify for N-Grams\n",
    "occurrences = EDA.find_most_common_n_grams(articles_split_by_word, n)"
   ]
  },
  {
   "cell_type": "code",
   "execution_count": null,
   "metadata": {
    "scrolled": true
   },
   "outputs": [],
   "source": [
    "sorted(occurrences.items(), key=lambda x: x[1], reverse=True)"
   ]
  },
  {
   "cell_type": "code",
   "execution_count": null,
   "metadata": {},
   "outputs": [],
   "source": [
    "df_all_news_processed['clean_data'] = articles_split_by_word.apply(NLP.remove_stop_words) \n",
    "df_all_news_processed.head(20)"
   ]
  },
  {
   "cell_type": "code",
   "execution_count": null,
   "metadata": {
    "scrolled": true
   },
   "outputs": [],
   "source": [
    "EDA.display_outliers_boxplot(df_all_news_processed, 'Text_TotalWords')"
   ]
  },
  {
   "cell_type": "code",
   "execution_count": null,
   "metadata": {
    "scrolled": true
   },
   "outputs": [],
   "source": [
    "initial_size = len(df_all_news_processed)\n",
    "print(\"----- Dataframe details before outliers removal: -----\\n\"+str(df_all_news_processed.describe())+\"\\n\")\n",
    "#display_outliers_boxplot(df_all_news_processed, 'Text_TotalWords')\n",
    "print(\"Skewness value:\")\n",
    "EDA.display_outliers_skewness_value(df_all_news_processed, 'Text_TotalWords')\n",
    "\n",
    "df_all_news_processed=EDA.remove_outliers_by_iqr_score(df_all_news_processed)\n",
    "\n",
    "#display_outliers_boxplot(df_all_news_processed, 'Text_TotalWords')\n",
    "print(\"\\n----- Dataframe details after outliers removal: -----\\n\"+str(df_all_news_processed.describe())+\"\\n\")\n",
    "print(\"Skewness value:\")\n",
    "EDA.display_outliers_skewness_value(df_all_news_processed, 'Text_TotalWords')\n",
    "\n",
    "total_loss=round((((len(df_all_news_processed)-initial_size)/initial_size)*100), 2)\n",
    "print(\"\\n----- Total loss: \" + str(total_loss) +\"% of the initial records -----\")"
   ]
  },
  {
   "cell_type": "code",
   "execution_count": null,
   "metadata": {
    "scrolled": true
   },
   "outputs": [],
   "source": [
    "df_all_news_processed['clean_data'] = df_all_news_processed['clean_data'].apply(NLP.rejoin_words) \n",
    "df_all_news_processed.head(20)"
   ]
  },
  {
   "cell_type": "code",
   "execution_count": null,
   "metadata": {},
   "outputs": [],
   "source": [
    "test_travel = df_all_news_processed.loc[df_all_news_processed['Category'] == 'travel'][:5]\n",
    "test_enter = df_all_news_processed.loc[df_all_news_processed['Category'] == 'entertainment'][:5]\n",
    "test_world = df_all_news_processed.loc[df_all_news_processed['Category'] == 'world'][:5]\n",
    "\n",
    "frames = [test_travel, test_enter, test_world]\n",
    "result = pd.concat(frames)\n",
    "result = result.reset_index(drop=True)\n",
    "result"
   ]
  },
  {
   "cell_type": "code",
   "execution_count": null,
   "metadata": {
    "scrolled": true
   },
   "outputs": [],
   "source": [
    "#test = df_all_news_processed[:100].copy()\n",
    "test = df_all_news_processed.copy()\n",
    "test"
   ]
  },
  {
   "cell_type": "code",
   "execution_count": null,
   "metadata": {
    "scrolled": true
   },
   "outputs": [],
   "source": [
    "#test.replace(',',' ', regex=True, inplace=True)\n",
    "#YOU NEED TO PASS THE DATA AS A LIST WITHOUT COMMA WITHIN THE TEXT.\n",
    "EDA.display_buzzwords(list(df_all_news_processed['Text'].values))\n",
    "'''\n",
    "buzzwords bechmark on my MAC: 16 GB 1600 MHz DDR3 / 2,5 GHz Quad-Core Intel Core i7\n",
    "    / articles: 324.965 \n",
    "    / total number of words: 150.614.863 (with stopwords)\n",
    "    / process time: 2.631 seconds (around 44 minutes)\n",
    "'''"
   ]
  },
  {
   "cell_type": "code",
   "execution_count": null,
   "metadata": {},
   "outputs": [],
   "source": [
    "df_all_news_processed.head(2)"
   ]
  },
  {
   "cell_type": "code",
   "execution_count": null,
   "metadata": {},
   "outputs": [],
   "source": [
    "#df_all_news_processed.groupby(['Category']).mean()\n",
    "asdf = df_all_news_processed.groupby('Category')['Text_TotalWords'].mean()\n",
    "EDA.display_distribution(asdf\n",
    "                        ,\"Mean Number of words per Article by Categories\"\n",
    "                        ,\"Categories\"\n",
    "                        ,\"Mean N# of words\")"
   ]
  },
  {
   "cell_type": "code",
   "execution_count": 22,
   "metadata": {
    "scrolled": false
   },
   "outputs": [
    {
     "output_type": "display_data",
     "data": {
      "text/plain": "&lt;Figure size 1080x720 with 1 Axes&gt;",
      "image/svg+xml": "<?xml version=\"1.0\" encoding=\"utf-8\" standalone=\"no\"?>\r\n<!DOCTYPE svg PUBLIC \"-//W3C//DTD SVG 1.1//EN\"\r\n  \"http://www.w3.org/Graphics/SVG/1.1/DTD/svg11.dtd\">\r\n<!-- Created with matplotlib (https://matplotlib.org/) -->\r\n<svg height=\"669.049375pt\" version=\"1.1\" viewBox=\"0 0 906.66625 669.049375\" width=\"906.66625pt\" xmlns=\"http://www.w3.org/2000/svg\" xmlns:xlink=\"http://www.w3.org/1999/xlink\">\r\n <defs>\r\n  <style type=\"text/css\">\r\n*{stroke-linecap:butt;stroke-linejoin:round;}\r\n  </style>\r\n </defs>\r\n <g id=\"figure_1\">\r\n  <g id=\"patch_1\">\r\n   <path d=\"M 0 669.049375 \r\nL 906.66625 669.049375 \r\nL 906.66625 0 \r\nL 0 0 \r\nz\r\n\" style=\"fill:none;\"/>\r\n  </g>\r\n  <g id=\"axes_1\">\r\n   <g id=\"patch_2\">\r\n    <path d=\"M 62.46625 572.815313 \r\nL 899.46625 572.815313 \r\nL 899.46625 29.215312 \r\nL 62.46625 29.215312 \r\nz\r\n\" style=\"fill:#ffffff;\"/>\r\n   </g>\r\n   <g id=\"patch_3\">\r\n    <path clip-path=\"url(#p3ddca38f47)\" d=\"M 74.423393 572.815313 \r\nL 170.080536 572.815313 \r\nL 170.080536 55.101027 \r\nL 74.423393 55.101027 \r\nz\r\n\" style=\"fill:#5875a4;stroke:#ffffff;stroke-linejoin:miter;\"/>\r\n   </g>\r\n   <g id=\"patch_4\">\r\n    <path clip-path=\"url(#p3ddca38f47)\" d=\"M 193.994821 572.815313 \r\nL 289.651964 572.815313 \r\nL 289.651964 182.452225 \r\nL 193.994821 182.452225 \r\nz\r\n\" style=\"fill:#cc8963;stroke:#ffffff;stroke-linejoin:miter;\"/>\r\n   </g>\r\n   <g id=\"patch_5\">\r\n    <path clip-path=\"url(#p3ddca38f47)\" d=\"M 313.56625 572.815313 \r\nL 409.223393 572.815313 \r\nL 409.223393 273.808466 \r\nL 313.56625 273.808466 \r\nz\r\n\" style=\"fill:#5f9e6e;stroke:#ffffff;stroke-linejoin:miter;\"/>\r\n   </g>\r\n   <g id=\"patch_6\">\r\n    <path clip-path=\"url(#p3ddca38f47)\" d=\"M 433.137679 572.815313 \r\nL 528.794821 572.815313 \r\nL 528.794821 278.686197 \r\nL 433.137679 278.686197 \r\nz\r\n\" style=\"fill:#b55d60;stroke:#ffffff;stroke-linejoin:miter;\"/>\r\n   </g>\r\n   <g id=\"patch_7\">\r\n    <path clip-path=\"url(#p3ddca38f47)\" d=\"M 552.709107 572.815313 \r\nL 648.36625 572.815313 \r\nL 648.36625 299.1611 \r\nL 552.709107 299.1611 \r\nz\r\n\" style=\"fill:#857aab;stroke:#ffffff;stroke-linejoin:miter;\"/>\r\n   </g>\r\n   <g id=\"patch_8\">\r\n    <path clip-path=\"url(#p3ddca38f47)\" d=\"M 672.280536 572.815313 \r\nL 767.937679 572.815313 \r\nL 767.937679 326.239256 \r\nL 672.280536 326.239256 \r\nz\r\n\" style=\"fill:#8d7866;stroke:#ffffff;stroke-linejoin:miter;\"/>\r\n   </g>\r\n   <g id=\"patch_9\">\r\n    <path clip-path=\"url(#p3ddca38f47)\" d=\"M 791.851964 572.815313 \r\nL 887.509107 572.815313 \r\nL 887.509107 340.718212 \r\nL 791.851964 340.718212 \r\nz\r\n\" style=\"fill:#d095bf;stroke:#ffffff;stroke-linejoin:miter;\"/>\r\n   </g>\r\n   <g id=\"matplotlib.axis_1\">\r\n    <g id=\"xtick_1\">\r\n     <g id=\"line2d_1\">\r\n      <defs>\r\n       <path d=\"M 0 0 \r\nL 0 3.5 \r\n\" id=\"md03217f5a6\" style=\"stroke:#000000;stroke-width:0.8;\"/>\r\n      </defs>\r\n      <g>\r\n       <use style=\"stroke:#000000;stroke-width:0.8;\" x=\"122.251964\" xlink:href=\"#md03217f5a6\" y=\"572.815313\"/>\r\n      </g>\r\n     </g>\r\n     <g id=\"text_1\">\r\n      <!-- sport -->\r\n      <defs>\r\n       <path d=\"M 3.078125 15.484375 \r\nL 11.765625 16.84375 \r\nQ 12.5 11.625 15.84375 8.84375 \r\nQ 19.1875 6.0625 25.203125 6.0625 \r\nQ 31.25 6.0625 34.171875 8.515625 \r\nQ 37.109375 10.984375 37.109375 14.3125 \r\nQ 37.109375 17.28125 34.515625 19 \r\nQ 32.71875 20.171875 25.53125 21.96875 \r\nQ 15.875 24.421875 12.140625 26.203125 \r\nQ 8.40625 27.984375 6.46875 31.125 \r\nQ 4.546875 34.28125 4.546875 38.09375 \r\nQ 4.546875 41.546875 6.125 44.5 \r\nQ 7.71875 47.46875 10.453125 49.421875 \r\nQ 12.5 50.921875 16.03125 51.96875 \r\nQ 19.578125 53.03125 23.640625 53.03125 \r\nQ 29.734375 53.03125 34.34375 51.265625 \r\nQ 38.96875 49.515625 41.15625 46.5 \r\nQ 43.359375 43.5 44.1875 38.484375 \r\nL 35.59375 37.3125 \r\nQ 35.015625 41.3125 32.203125 43.546875 \r\nQ 29.390625 45.796875 24.265625 45.796875 \r\nQ 18.21875 45.796875 15.625 43.796875 \r\nQ 13.03125 41.796875 13.03125 39.109375 \r\nQ 13.03125 37.40625 14.109375 36.03125 \r\nQ 15.1875 34.625 17.484375 33.6875 \r\nQ 18.796875 33.203125 25.25 31.453125 \r\nQ 34.578125 28.953125 38.25 27.359375 \r\nQ 41.9375 25.78125 44.03125 22.75 \r\nQ 46.140625 19.734375 46.140625 15.234375 \r\nQ 46.140625 10.84375 43.578125 6.953125 \r\nQ 41.015625 3.078125 36.171875 0.953125 \r\nQ 31.34375 -1.171875 25.25 -1.171875 \r\nQ 15.140625 -1.171875 9.84375 3.03125 \r\nQ 4.546875 7.234375 3.078125 15.484375 \r\nz\r\n\" id=\"ArialMT-115\"/>\r\n       <path d=\"M 6.59375 -19.875 \r\nL 6.59375 51.859375 \r\nL 14.59375 51.859375 \r\nL 14.59375 45.125 \r\nQ 17.4375 49.078125 21 51.046875 \r\nQ 24.5625 53.03125 29.640625 53.03125 \r\nQ 36.28125 53.03125 41.359375 49.609375 \r\nQ 46.4375 46.1875 49.015625 39.953125 \r\nQ 51.609375 33.734375 51.609375 26.3125 \r\nQ 51.609375 18.359375 48.75 11.984375 \r\nQ 45.90625 5.609375 40.453125 2.21875 \r\nQ 35.015625 -1.171875 29 -1.171875 \r\nQ 24.609375 -1.171875 21.109375 0.6875 \r\nQ 17.625 2.546875 15.375 5.375 \r\nL 15.375 -19.875 \r\nz\r\nM 14.546875 25.640625 \r\nQ 14.546875 15.625 18.59375 10.84375 \r\nQ 22.65625 6.0625 28.421875 6.0625 \r\nQ 34.28125 6.0625 38.453125 11.015625 \r\nQ 42.625 15.96875 42.625 26.375 \r\nQ 42.625 36.28125 38.546875 41.203125 \r\nQ 34.46875 46.140625 28.8125 46.140625 \r\nQ 23.1875 46.140625 18.859375 40.890625 \r\nQ 14.546875 35.640625 14.546875 25.640625 \r\nz\r\n\" id=\"ArialMT-112\"/>\r\n       <path d=\"M 3.328125 25.921875 \r\nQ 3.328125 40.328125 11.328125 47.265625 \r\nQ 18.015625 53.03125 27.640625 53.03125 \r\nQ 38.328125 53.03125 45.109375 46.015625 \r\nQ 51.90625 39.015625 51.90625 26.65625 \r\nQ 51.90625 16.65625 48.90625 10.90625 \r\nQ 45.90625 5.171875 40.15625 2 \r\nQ 34.421875 -1.171875 27.640625 -1.171875 \r\nQ 16.75 -1.171875 10.03125 5.8125 \r\nQ 3.328125 12.796875 3.328125 25.921875 \r\nz\r\nM 12.359375 25.921875 \r\nQ 12.359375 15.96875 16.703125 11.015625 \r\nQ 21.046875 6.0625 27.640625 6.0625 \r\nQ 34.1875 6.0625 38.53125 11.03125 \r\nQ 42.875 16.015625 42.875 26.21875 \r\nQ 42.875 35.84375 38.5 40.796875 \r\nQ 34.125 45.75 27.640625 45.75 \r\nQ 21.046875 45.75 16.703125 40.8125 \r\nQ 12.359375 35.890625 12.359375 25.921875 \r\nz\r\n\" id=\"ArialMT-111\"/>\r\n       <path d=\"M 6.5 0 \r\nL 6.5 51.859375 \r\nL 14.40625 51.859375 \r\nL 14.40625 44 \r\nQ 17.4375 49.515625 20 51.265625 \r\nQ 22.5625 53.03125 25.640625 53.03125 \r\nQ 30.078125 53.03125 34.671875 50.203125 \r\nL 31.640625 42.046875 \r\nQ 28.421875 43.953125 25.203125 43.953125 \r\nQ 22.3125 43.953125 20.015625 42.21875 \r\nQ 17.71875 40.484375 16.75 37.40625 \r\nQ 15.28125 32.71875 15.28125 27.15625 \r\nL 15.28125 0 \r\nz\r\n\" id=\"ArialMT-114\"/>\r\n       <path d=\"M 25.78125 7.859375 \r\nL 27.046875 0.09375 \r\nQ 23.34375 -0.6875 20.40625 -0.6875 \r\nQ 15.625 -0.6875 12.984375 0.828125 \r\nQ 10.359375 2.34375 9.28125 4.8125 \r\nQ 8.203125 7.28125 8.203125 15.1875 \r\nL 8.203125 45.015625 \r\nL 1.765625 45.015625 \r\nL 1.765625 51.859375 \r\nL 8.203125 51.859375 \r\nL 8.203125 64.703125 \r\nL 16.9375 69.96875 \r\nL 16.9375 51.859375 \r\nL 25.78125 51.859375 \r\nL 25.78125 45.015625 \r\nL 16.9375 45.015625 \r\nL 16.9375 14.703125 \r\nQ 16.9375 10.9375 17.40625 9.859375 \r\nQ 17.875 8.796875 18.921875 8.15625 \r\nQ 19.96875 7.515625 21.921875 7.515625 \r\nQ 23.390625 7.515625 25.78125 7.859375 \r\nz\r\n\" id=\"ArialMT-116\"/>\r\n      </defs>\r\n      <g transform=\"translate(124.837121 602.045)rotate(-90)scale(0.1 -0.1)\">\r\n       <use xlink:href=\"#ArialMT-115\"/>\r\n       <use x=\"50\" xlink:href=\"#ArialMT-112\"/>\r\n       <use x=\"105.615234\" xlink:href=\"#ArialMT-111\"/>\r\n       <use x=\"161.230469\" xlink:href=\"#ArialMT-114\"/>\r\n       <use x=\"194.53125\" xlink:href=\"#ArialMT-116\"/>\r\n      </g>\r\n     </g>\r\n    </g>\r\n    <g id=\"xtick_2\">\r\n     <g id=\"line2d_2\">\r\n      <g>\r\n       <use style=\"stroke:#000000;stroke-width:0.8;\" x=\"241.823393\" xlink:href=\"#md03217f5a6\" y=\"572.815313\"/>\r\n      </g>\r\n     </g>\r\n     <g id=\"text_2\">\r\n      <!-- world -->\r\n      <defs>\r\n       <path d=\"M 16.15625 0 \r\nL 0.296875 51.859375 \r\nL 9.375 51.859375 \r\nL 17.625 21.921875 \r\nL 20.703125 10.796875 \r\nQ 20.90625 11.625 23.390625 21.484375 \r\nL 31.640625 51.859375 \r\nL 40.671875 51.859375 \r\nL 48.4375 21.78125 \r\nL 51.03125 11.859375 \r\nL 54 21.875 \r\nL 62.890625 51.859375 \r\nL 71.4375 51.859375 \r\nL 55.21875 0 \r\nL 46.09375 0 \r\nL 37.84375 31.0625 \r\nL 35.84375 39.890625 \r\nL 25.34375 0 \r\nz\r\n\" id=\"ArialMT-119\"/>\r\n       <path d=\"M 6.390625 0 \r\nL 6.390625 71.578125 \r\nL 15.1875 71.578125 \r\nL 15.1875 0 \r\nz\r\n\" id=\"ArialMT-108\"/>\r\n       <path d=\"M 40.234375 0 \r\nL 40.234375 6.546875 \r\nQ 35.296875 -1.171875 25.734375 -1.171875 \r\nQ 19.53125 -1.171875 14.328125 2.25 \r\nQ 9.125 5.671875 6.265625 11.796875 \r\nQ 3.421875 17.921875 3.421875 25.875 \r\nQ 3.421875 33.640625 6 39.96875 \r\nQ 8.59375 46.296875 13.765625 49.65625 \r\nQ 18.953125 53.03125 25.34375 53.03125 \r\nQ 30.03125 53.03125 33.6875 51.046875 \r\nQ 37.359375 49.078125 39.65625 45.90625 \r\nL 39.65625 71.578125 \r\nL 48.390625 71.578125 \r\nL 48.390625 0 \r\nz\r\nM 12.453125 25.875 \r\nQ 12.453125 15.921875 16.640625 10.984375 \r\nQ 20.84375 6.0625 26.5625 6.0625 \r\nQ 32.328125 6.0625 36.34375 10.765625 \r\nQ 40.375 15.484375 40.375 25.140625 \r\nQ 40.375 35.796875 36.265625 40.765625 \r\nQ 32.171875 45.75 26.171875 45.75 \r\nQ 20.3125 45.75 16.375 40.96875 \r\nQ 12.453125 36.1875 12.453125 25.875 \r\nz\r\n\" id=\"ArialMT-100\"/>\r\n      </defs>\r\n      <g transform=\"translate(244.408549 603.710625)rotate(-90)scale(0.1 -0.1)\">\r\n       <use xlink:href=\"#ArialMT-119\"/>\r\n       <use x=\"72.216797\" xlink:href=\"#ArialMT-111\"/>\r\n       <use x=\"127.832031\" xlink:href=\"#ArialMT-114\"/>\r\n       <use x=\"161.132812\" xlink:href=\"#ArialMT-108\"/>\r\n       <use x=\"183.349609\" xlink:href=\"#ArialMT-100\"/>\r\n      </g>\r\n     </g>\r\n    </g>\r\n    <g id=\"xtick_3\">\r\n     <g id=\"line2d_3\">\r\n      <g>\r\n       <use style=\"stroke:#000000;stroke-width:0.8;\" x=\"361.394821\" xlink:href=\"#md03217f5a6\" y=\"572.815313\"/>\r\n      </g>\r\n     </g>\r\n     <g id=\"text_3\">\r\n      <!-- financial -->\r\n      <defs>\r\n       <path d=\"M 8.6875 0 \r\nL 8.6875 45.015625 \r\nL 0.921875 45.015625 \r\nL 0.921875 51.859375 \r\nL 8.6875 51.859375 \r\nL 8.6875 57.375 \r\nQ 8.6875 62.59375 9.625 65.140625 \r\nQ 10.890625 68.5625 14.078125 70.671875 \r\nQ 17.28125 72.796875 23.046875 72.796875 \r\nQ 26.765625 72.796875 31.25 71.921875 \r\nL 29.9375 64.265625 \r\nQ 27.203125 64.75 24.75 64.75 \r\nQ 20.75 64.75 19.09375 63.03125 \r\nQ 17.4375 61.328125 17.4375 56.640625 \r\nL 17.4375 51.859375 \r\nL 27.546875 51.859375 \r\nL 27.546875 45.015625 \r\nL 17.4375 45.015625 \r\nL 17.4375 0 \r\nz\r\n\" id=\"ArialMT-102\"/>\r\n       <path d=\"M 6.640625 61.46875 \r\nL 6.640625 71.578125 \r\nL 15.4375 71.578125 \r\nL 15.4375 61.46875 \r\nz\r\nM 6.640625 0 \r\nL 6.640625 51.859375 \r\nL 15.4375 51.859375 \r\nL 15.4375 0 \r\nz\r\n\" id=\"ArialMT-105\"/>\r\n       <path d=\"M 6.59375 0 \r\nL 6.59375 51.859375 \r\nL 14.5 51.859375 \r\nL 14.5 44.484375 \r\nQ 20.21875 53.03125 31 53.03125 \r\nQ 35.6875 53.03125 39.625 51.34375 \r\nQ 43.5625 49.65625 45.515625 46.921875 \r\nQ 47.46875 44.1875 48.25 40.4375 \r\nQ 48.734375 37.984375 48.734375 31.890625 \r\nL 48.734375 0 \r\nL 39.9375 0 \r\nL 39.9375 31.546875 \r\nQ 39.9375 36.921875 38.90625 39.578125 \r\nQ 37.890625 42.234375 35.28125 43.8125 \r\nQ 32.671875 45.40625 29.15625 45.40625 \r\nQ 23.53125 45.40625 19.453125 41.84375 \r\nQ 15.375 38.28125 15.375 28.328125 \r\nL 15.375 0 \r\nz\r\n\" id=\"ArialMT-110\"/>\r\n       <path d=\"M 40.4375 6.390625 \r\nQ 35.546875 2.25 31.03125 0.53125 \r\nQ 26.515625 -1.171875 21.34375 -1.171875 \r\nQ 12.796875 -1.171875 8.203125 3 \r\nQ 3.609375 7.171875 3.609375 13.671875 \r\nQ 3.609375 17.484375 5.34375 20.625 \r\nQ 7.078125 23.78125 9.890625 25.6875 \r\nQ 12.703125 27.59375 16.21875 28.5625 \r\nQ 18.796875 29.25 24.03125 29.890625 \r\nQ 34.671875 31.15625 39.703125 32.90625 \r\nQ 39.75 34.71875 39.75 35.203125 \r\nQ 39.75 40.578125 37.25 42.78125 \r\nQ 33.890625 45.75 27.25 45.75 \r\nQ 21.046875 45.75 18.09375 43.578125 \r\nQ 15.140625 41.40625 13.71875 35.890625 \r\nL 5.125 37.0625 \r\nQ 6.296875 42.578125 8.984375 45.96875 \r\nQ 11.671875 49.359375 16.75 51.1875 \r\nQ 21.828125 53.03125 28.515625 53.03125 \r\nQ 35.15625 53.03125 39.296875 51.46875 \r\nQ 43.453125 49.90625 45.40625 47.53125 \r\nQ 47.359375 45.171875 48.140625 41.546875 \r\nQ 48.578125 39.3125 48.578125 33.453125 \r\nL 48.578125 21.734375 \r\nQ 48.578125 9.46875 49.140625 6.21875 \r\nQ 49.703125 2.984375 51.375 0 \r\nL 42.1875 0 \r\nQ 40.828125 2.734375 40.4375 6.390625 \r\nz\r\nM 39.703125 26.03125 \r\nQ 34.90625 24.078125 25.34375 22.703125 \r\nQ 19.921875 21.921875 17.671875 20.9375 \r\nQ 15.4375 19.96875 14.203125 18.09375 \r\nQ 12.984375 16.21875 12.984375 13.921875 \r\nQ 12.984375 10.40625 15.640625 8.0625 \r\nQ 18.3125 5.71875 23.4375 5.71875 \r\nQ 28.515625 5.71875 32.46875 7.9375 \r\nQ 36.421875 10.15625 38.28125 14.015625 \r\nQ 39.703125 17 39.703125 22.796875 \r\nz\r\n\" id=\"ArialMT-97\"/>\r\n       <path d=\"M 40.4375 19 \r\nL 49.078125 17.875 \r\nQ 47.65625 8.9375 41.8125 3.875 \r\nQ 35.984375 -1.171875 27.484375 -1.171875 \r\nQ 16.84375 -1.171875 10.375 5.78125 \r\nQ 3.90625 12.75 3.90625 25.734375 \r\nQ 3.90625 34.125 6.6875 40.421875 \r\nQ 9.46875 46.734375 15.15625 49.875 \r\nQ 20.84375 53.03125 27.546875 53.03125 \r\nQ 35.984375 53.03125 41.359375 48.75 \r\nQ 46.734375 44.484375 48.25 36.625 \r\nL 39.703125 35.296875 \r\nQ 38.484375 40.53125 35.375 43.15625 \r\nQ 32.28125 45.796875 27.875 45.796875 \r\nQ 21.234375 45.796875 17.078125 41.03125 \r\nQ 12.9375 36.28125 12.9375 25.984375 \r\nQ 12.9375 15.53125 16.9375 10.796875 \r\nQ 20.953125 6.0625 27.390625 6.0625 \r\nQ 32.5625 6.0625 36.03125 9.234375 \r\nQ 39.5 12.40625 40.4375 19 \r\nz\r\n\" id=\"ArialMT-99\"/>\r\n      </defs>\r\n      <g transform=\"translate(363.979978 616.502813)rotate(-90)scale(0.1 -0.1)\">\r\n       <use xlink:href=\"#ArialMT-102\"/>\r\n       <use x=\"27.783203\" xlink:href=\"#ArialMT-105\"/>\r\n       <use x=\"50\" xlink:href=\"#ArialMT-110\"/>\r\n       <use x=\"105.615234\" xlink:href=\"#ArialMT-97\"/>\r\n       <use x=\"161.230469\" xlink:href=\"#ArialMT-110\"/>\r\n       <use x=\"216.845703\" xlink:href=\"#ArialMT-99\"/>\r\n       <use x=\"266.845703\" xlink:href=\"#ArialMT-105\"/>\r\n       <use x=\"289.0625\" xlink:href=\"#ArialMT-97\"/>\r\n       <use x=\"344.677734\" xlink:href=\"#ArialMT-108\"/>\r\n      </g>\r\n     </g>\r\n    </g>\r\n    <g id=\"xtick_4\">\r\n     <g id=\"line2d_4\">\r\n      <g>\r\n       <use style=\"stroke:#000000;stroke-width:0.8;\" x=\"480.96625\" xlink:href=\"#md03217f5a6\" y=\"572.815313\"/>\r\n      </g>\r\n     </g>\r\n     <g id=\"text_4\">\r\n      <!-- political -->\r\n      <g transform=\"translate(483.551406 613.16375)rotate(-90)scale(0.1 -0.1)\">\r\n       <use xlink:href=\"#ArialMT-112\"/>\r\n       <use x=\"55.615234\" xlink:href=\"#ArialMT-111\"/>\r\n       <use x=\"111.230469\" xlink:href=\"#ArialMT-108\"/>\r\n       <use x=\"133.447266\" xlink:href=\"#ArialMT-105\"/>\r\n       <use x=\"155.664062\" xlink:href=\"#ArialMT-116\"/>\r\n       <use x=\"183.447266\" xlink:href=\"#ArialMT-105\"/>\r\n       <use x=\"205.664062\" xlink:href=\"#ArialMT-99\"/>\r\n       <use x=\"255.664062\" xlink:href=\"#ArialMT-97\"/>\r\n       <use x=\"311.279297\" xlink:href=\"#ArialMT-108\"/>\r\n      </g>\r\n     </g>\r\n    </g>\r\n    <g id=\"xtick_5\">\r\n     <g id=\"line2d_5\">\r\n      <g>\r\n       <use style=\"stroke:#000000;stroke-width:0.8;\" x=\"600.537679\" xlink:href=\"#md03217f5a6\" y=\"572.815313\"/>\r\n      </g>\r\n     </g>\r\n     <g id=\"text_5\">\r\n      <!-- travel -->\r\n      <defs>\r\n       <path d=\"M 21 0 \r\nL 1.265625 51.859375 \r\nL 10.546875 51.859375 \r\nL 21.6875 20.796875 \r\nQ 23.484375 15.765625 25 10.359375 \r\nQ 26.171875 14.453125 28.265625 20.21875 \r\nL 39.796875 51.859375 \r\nL 48.828125 51.859375 \r\nL 29.203125 0 \r\nz\r\n\" id=\"ArialMT-118\"/>\r\n       <path d=\"M 42.09375 16.703125 \r\nL 51.171875 15.578125 \r\nQ 49.03125 7.625 43.21875 3.21875 \r\nQ 37.40625 -1.171875 28.375 -1.171875 \r\nQ 17 -1.171875 10.328125 5.828125 \r\nQ 3.65625 12.84375 3.65625 25.484375 \r\nQ 3.65625 38.578125 10.390625 45.796875 \r\nQ 17.140625 53.03125 27.875 53.03125 \r\nQ 38.28125 53.03125 44.875 45.953125 \r\nQ 51.46875 38.875 51.46875 26.03125 \r\nQ 51.46875 25.25 51.421875 23.6875 \r\nL 12.75 23.6875 \r\nQ 13.234375 15.140625 17.578125 10.59375 \r\nQ 21.921875 6.0625 28.421875 6.0625 \r\nQ 33.25 6.0625 36.671875 8.59375 \r\nQ 40.09375 11.140625 42.09375 16.703125 \r\nz\r\nM 13.234375 30.90625 \r\nL 42.1875 30.90625 \r\nQ 41.609375 37.453125 38.875 40.71875 \r\nQ 34.671875 45.796875 27.984375 45.796875 \r\nQ 21.921875 45.796875 17.796875 41.75 \r\nQ 13.671875 37.703125 13.234375 30.90625 \r\nz\r\n\" id=\"ArialMT-101\"/>\r\n      </defs>\r\n      <g transform=\"translate(603.122835 604.266875)rotate(-90)scale(0.1 -0.1)\">\r\n       <use xlink:href=\"#ArialMT-116\"/>\r\n       <use x=\"27.783203\" xlink:href=\"#ArialMT-114\"/>\r\n       <use x=\"61.083984\" xlink:href=\"#ArialMT-97\"/>\r\n       <use x=\"116.699219\" xlink:href=\"#ArialMT-118\"/>\r\n       <use x=\"166.699219\" xlink:href=\"#ArialMT-101\"/>\r\n       <use x=\"222.314453\" xlink:href=\"#ArialMT-108\"/>\r\n      </g>\r\n     </g>\r\n    </g>\r\n    <g id=\"xtick_6\">\r\n     <g id=\"line2d_6\">\r\n      <g>\r\n       <use style=\"stroke:#000000;stroke-width:0.8;\" x=\"720.109107\" xlink:href=\"#md03217f5a6\" y=\"572.815313\"/>\r\n      </g>\r\n     </g>\r\n     <g id=\"text_6\">\r\n      <!-- technology -->\r\n      <defs>\r\n       <path d=\"M 6.59375 0 \r\nL 6.59375 71.578125 \r\nL 15.375 71.578125 \r\nL 15.375 45.90625 \r\nQ 21.53125 53.03125 30.90625 53.03125 \r\nQ 36.671875 53.03125 40.921875 50.75 \r\nQ 45.171875 48.484375 47 44.484375 \r\nQ 48.828125 40.484375 48.828125 32.859375 \r\nL 48.828125 0 \r\nL 40.046875 0 \r\nL 40.046875 32.859375 \r\nQ 40.046875 39.453125 37.1875 42.453125 \r\nQ 34.328125 45.453125 29.109375 45.453125 \r\nQ 25.203125 45.453125 21.75 43.421875 \r\nQ 18.3125 41.40625 16.84375 37.9375 \r\nQ 15.375 34.46875 15.375 28.375 \r\nL 15.375 0 \r\nz\r\n\" id=\"ArialMT-104\"/>\r\n       <path d=\"M 4.984375 -4.296875 \r\nL 13.53125 -5.5625 \r\nQ 14.0625 -9.515625 16.5 -11.328125 \r\nQ 19.78125 -13.765625 25.4375 -13.765625 \r\nQ 31.546875 -13.765625 34.859375 -11.328125 \r\nQ 38.1875 -8.890625 39.359375 -4.5 \r\nQ 40.046875 -1.8125 39.984375 6.78125 \r\nQ 34.234375 0 25.640625 0 \r\nQ 14.9375 0 9.078125 7.71875 \r\nQ 3.21875 15.4375 3.21875 26.21875 \r\nQ 3.21875 33.640625 5.90625 39.90625 \r\nQ 8.59375 46.1875 13.6875 49.609375 \r\nQ 18.796875 53.03125 25.6875 53.03125 \r\nQ 34.859375 53.03125 40.828125 45.609375 \r\nL 40.828125 51.859375 \r\nL 48.921875 51.859375 \r\nL 48.921875 7.03125 \r\nQ 48.921875 -5.078125 46.453125 -10.125 \r\nQ 44 -15.1875 38.640625 -18.109375 \r\nQ 33.296875 -21.046875 25.484375 -21.046875 \r\nQ 16.21875 -21.046875 10.5 -16.875 \r\nQ 4.78125 -12.703125 4.984375 -4.296875 \r\nz\r\nM 12.25 26.859375 \r\nQ 12.25 16.65625 16.296875 11.96875 \r\nQ 20.359375 7.28125 26.46875 7.28125 \r\nQ 32.515625 7.28125 36.609375 11.9375 \r\nQ 40.71875 16.609375 40.71875 26.5625 \r\nQ 40.71875 36.078125 36.5 40.90625 \r\nQ 32.28125 45.75 26.3125 45.75 \r\nQ 20.453125 45.75 16.34375 40.984375 \r\nQ 12.25 36.234375 12.25 26.859375 \r\nz\r\n\" id=\"ArialMT-103\"/>\r\n       <path d=\"M 6.203125 -19.96875 \r\nL 5.21875 -11.71875 \r\nQ 8.109375 -12.5 10.25 -12.5 \r\nQ 13.1875 -12.5 14.9375 -11.515625 \r\nQ 16.703125 -10.546875 17.828125 -8.796875 \r\nQ 18.65625 -7.46875 20.515625 -2.25 \r\nQ 20.75 -1.515625 21.296875 -0.09375 \r\nL 1.609375 51.859375 \r\nL 11.078125 51.859375 \r\nL 21.875 21.828125 \r\nQ 23.96875 16.109375 25.640625 9.8125 \r\nQ 27.15625 15.875 29.25 21.625 \r\nL 40.328125 51.859375 \r\nL 49.125 51.859375 \r\nL 29.390625 -0.875 \r\nQ 26.21875 -9.421875 24.46875 -12.640625 \r\nQ 22.125 -17 19.09375 -19.015625 \r\nQ 16.0625 -21.046875 11.859375 -21.046875 \r\nQ 9.328125 -21.046875 6.203125 -19.96875 \r\nz\r\n\" id=\"ArialMT-121\"/>\r\n      </defs>\r\n      <g transform=\"translate(722.63567 628.180938)rotate(-90)scale(0.1 -0.1)\">\r\n       <use xlink:href=\"#ArialMT-116\"/>\r\n       <use x=\"27.783203\" xlink:href=\"#ArialMT-101\"/>\r\n       <use x=\"83.398438\" xlink:href=\"#ArialMT-99\"/>\r\n       <use x=\"133.398438\" xlink:href=\"#ArialMT-104\"/>\r\n       <use x=\"189.013672\" xlink:href=\"#ArialMT-110\"/>\r\n       <use x=\"244.628906\" xlink:href=\"#ArialMT-111\"/>\r\n       <use x=\"300.244141\" xlink:href=\"#ArialMT-108\"/>\r\n       <use x=\"322.460938\" xlink:href=\"#ArialMT-111\"/>\r\n       <use x=\"378.076172\" xlink:href=\"#ArialMT-103\"/>\r\n       <use x=\"433.691406\" xlink:href=\"#ArialMT-121\"/>\r\n      </g>\r\n     </g>\r\n    </g>\r\n    <g id=\"xtick_7\">\r\n     <g id=\"line2d_7\">\r\n      <g>\r\n       <use style=\"stroke:#000000;stroke-width:0.8;\" x=\"839.680536\" xlink:href=\"#md03217f5a6\" y=\"572.815313\"/>\r\n      </g>\r\n     </g>\r\n     <g id=\"text_7\">\r\n      <!-- entertainment -->\r\n      <defs>\r\n       <path d=\"M 6.59375 0 \r\nL 6.59375 51.859375 \r\nL 14.453125 51.859375 \r\nL 14.453125 44.578125 \r\nQ 16.890625 48.390625 20.9375 50.703125 \r\nQ 25 53.03125 30.171875 53.03125 \r\nQ 35.9375 53.03125 39.625 50.640625 \r\nQ 43.3125 48.25 44.828125 43.953125 \r\nQ 50.984375 53.03125 60.84375 53.03125 \r\nQ 68.5625 53.03125 72.703125 48.75 \r\nQ 76.859375 44.484375 76.859375 35.59375 \r\nL 76.859375 0 \r\nL 68.109375 0 \r\nL 68.109375 32.671875 \r\nQ 68.109375 37.9375 67.25 40.25 \r\nQ 66.40625 42.578125 64.15625 43.984375 \r\nQ 61.921875 45.40625 58.890625 45.40625 \r\nQ 53.421875 45.40625 49.796875 41.765625 \r\nQ 46.1875 38.140625 46.1875 30.125 \r\nL 46.1875 0 \r\nL 37.40625 0 \r\nL 37.40625 33.6875 \r\nQ 37.40625 39.546875 35.25 42.46875 \r\nQ 33.109375 45.40625 28.21875 45.40625 \r\nQ 24.515625 45.40625 21.359375 43.453125 \r\nQ 18.21875 41.5 16.796875 37.734375 \r\nQ 15.375 33.984375 15.375 26.90625 \r\nL 15.375 0 \r\nz\r\n\" id=\"ArialMT-109\"/>\r\n      </defs>\r\n      <g transform=\"translate(842.265692 640.9575)rotate(-90)scale(0.1 -0.1)\">\r\n       <use xlink:href=\"#ArialMT-101\"/>\r\n       <use x=\"55.615234\" xlink:href=\"#ArialMT-110\"/>\r\n       <use x=\"111.230469\" xlink:href=\"#ArialMT-116\"/>\r\n       <use x=\"139.013672\" xlink:href=\"#ArialMT-101\"/>\r\n       <use x=\"194.628906\" xlink:href=\"#ArialMT-114\"/>\r\n       <use x=\"227.929688\" xlink:href=\"#ArialMT-116\"/>\r\n       <use x=\"255.712891\" xlink:href=\"#ArialMT-97\"/>\r\n       <use x=\"311.328125\" xlink:href=\"#ArialMT-105\"/>\r\n       <use x=\"333.544922\" xlink:href=\"#ArialMT-110\"/>\r\n       <use x=\"389.160156\" xlink:href=\"#ArialMT-109\"/>\r\n       <use x=\"472.460938\" xlink:href=\"#ArialMT-101\"/>\r\n       <use x=\"528.076172\" xlink:href=\"#ArialMT-110\"/>\r\n       <use x=\"583.691406\" xlink:href=\"#ArialMT-116\"/>\r\n      </g>\r\n     </g>\r\n    </g>\r\n    <g id=\"text_8\">\r\n     <!-- Categories -->\r\n     <defs>\r\n      <path d=\"M 58.796875 25.09375 \r\nL 68.265625 22.703125 \r\nQ 65.28125 11.03125 57.546875 4.90625 \r\nQ 49.8125 -1.21875 38.625 -1.21875 \r\nQ 27.046875 -1.21875 19.796875 3.484375 \r\nQ 12.546875 8.203125 8.765625 17.140625 \r\nQ 4.984375 26.078125 4.984375 36.328125 \r\nQ 4.984375 47.515625 9.25 55.828125 \r\nQ 13.53125 64.15625 21.40625 68.46875 \r\nQ 29.296875 72.796875 38.765625 72.796875 \r\nQ 49.515625 72.796875 56.828125 67.328125 \r\nQ 64.15625 61.859375 67.046875 51.953125 \r\nL 57.71875 49.75 \r\nQ 55.21875 57.5625 50.484375 61.125 \r\nQ 45.75 64.703125 38.578125 64.703125 \r\nQ 30.328125 64.703125 24.78125 60.734375 \r\nQ 19.234375 56.78125 16.984375 50.109375 \r\nQ 14.75 43.453125 14.75 36.375 \r\nQ 14.75 27.25 17.40625 20.4375 \r\nQ 20.0625 13.625 25.671875 10.25 \r\nQ 31.296875 6.890625 37.84375 6.890625 \r\nQ 45.796875 6.890625 51.3125 11.46875 \r\nQ 56.84375 16.0625 58.796875 25.09375 \r\nz\r\n\" id=\"ArialMT-67\"/>\r\n     </defs>\r\n     <g transform=\"translate(437.445625 658.060938)scale(0.18 -0.18)\">\r\n      <use xlink:href=\"#ArialMT-67\"/>\r\n      <use x=\"72.216797\" xlink:href=\"#ArialMT-97\"/>\r\n      <use x=\"127.832031\" xlink:href=\"#ArialMT-116\"/>\r\n      <use x=\"155.615234\" xlink:href=\"#ArialMT-101\"/>\r\n      <use x=\"211.230469\" xlink:href=\"#ArialMT-103\"/>\r\n      <use x=\"266.845703\" xlink:href=\"#ArialMT-111\"/>\r\n      <use x=\"322.460938\" xlink:href=\"#ArialMT-114\"/>\r\n      <use x=\"355.761719\" xlink:href=\"#ArialMT-105\"/>\r\n      <use x=\"377.978516\" xlink:href=\"#ArialMT-101\"/>\r\n      <use x=\"433.59375\" xlink:href=\"#ArialMT-115\"/>\r\n     </g>\r\n    </g>\r\n   </g>\r\n   <g id=\"matplotlib.axis_2\">\r\n    <g id=\"ytick_1\">\r\n     <g id=\"line2d_8\">\r\n      <defs>\r\n       <path d=\"M 0 0 \r\nL -3.5 0 \r\n\" id=\"mc12ce35d4b\" style=\"stroke:#000000;stroke-width:0.8;\"/>\r\n      </defs>\r\n      <g>\r\n       <use style=\"stroke:#000000;stroke-width:0.8;\" x=\"62.46625\" xlink:href=\"#mc12ce35d4b\" y=\"572.815313\"/>\r\n      </g>\r\n     </g>\r\n     <g id=\"text_9\">\r\n      <!-- 0 -->\r\n      <defs>\r\n       <path d=\"M 4.15625 35.296875 \r\nQ 4.15625 48 6.765625 55.734375 \r\nQ 9.375 63.484375 14.515625 67.671875 \r\nQ 19.671875 71.875 27.484375 71.875 \r\nQ 33.25 71.875 37.59375 69.546875 \r\nQ 41.9375 67.234375 44.765625 62.859375 \r\nQ 47.609375 58.5 49.21875 52.21875 \r\nQ 50.828125 45.953125 50.828125 35.296875 \r\nQ 50.828125 22.703125 48.234375 14.96875 \r\nQ 45.65625 7.234375 40.5 3 \r\nQ 35.359375 -1.21875 27.484375 -1.21875 \r\nQ 17.140625 -1.21875 11.234375 6.203125 \r\nQ 4.15625 15.140625 4.15625 35.296875 \r\nz\r\nM 13.1875 35.296875 \r\nQ 13.1875 17.671875 17.3125 11.828125 \r\nQ 21.4375 6 27.484375 6 \r\nQ 33.546875 6 37.671875 11.859375 \r\nQ 41.796875 17.71875 41.796875 35.296875 \r\nQ 41.796875 52.984375 37.671875 58.78125 \r\nQ 33.546875 64.59375 27.390625 64.59375 \r\nQ 21.34375 64.59375 17.71875 59.46875 \r\nQ 13.1875 52.9375 13.1875 35.296875 \r\nz\r\n\" id=\"ArialMT-48\"/>\r\n      </defs>\r\n      <g transform=\"translate(49.905313 576.394219)scale(0.1 -0.1)\">\r\n       <use xlink:href=\"#ArialMT-48\"/>\r\n      </g>\r\n     </g>\r\n    </g>\r\n    <g id=\"ytick_2\">\r\n     <g id=\"line2d_9\">\r\n      <g>\r\n       <use style=\"stroke:#000000;stroke-width:0.8;\" x=\"62.46625\" xlink:href=\"#mc12ce35d4b\" y=\"476.417464\"/>\r\n      </g>\r\n     </g>\r\n     <g id=\"text_10\">\r\n      <!-- 10000 -->\r\n      <defs>\r\n       <path d=\"M 37.25 0 \r\nL 28.46875 0 \r\nL 28.46875 56 \r\nQ 25.296875 52.984375 20.140625 49.953125 \r\nQ 14.984375 46.921875 10.890625 45.40625 \r\nL 10.890625 53.90625 \r\nQ 18.265625 57.375 23.78125 62.296875 \r\nQ 29.296875 67.234375 31.59375 71.875 \r\nL 37.25 71.875 \r\nz\r\n\" id=\"ArialMT-49\"/>\r\n      </defs>\r\n      <g transform=\"translate(27.661563 479.99637)scale(0.1 -0.1)\">\r\n       <use xlink:href=\"#ArialMT-49\"/>\r\n       <use x=\"55.615234\" xlink:href=\"#ArialMT-48\"/>\r\n       <use x=\"111.230469\" xlink:href=\"#ArialMT-48\"/>\r\n       <use x=\"166.845703\" xlink:href=\"#ArialMT-48\"/>\r\n       <use x=\"222.460938\" xlink:href=\"#ArialMT-48\"/>\r\n      </g>\r\n     </g>\r\n    </g>\r\n    <g id=\"ytick_3\">\r\n     <g id=\"line2d_10\">\r\n      <g>\r\n       <use style=\"stroke:#000000;stroke-width:0.8;\" x=\"62.46625\" xlink:href=\"#mc12ce35d4b\" y=\"380.019615\"/>\r\n      </g>\r\n     </g>\r\n     <g id=\"text_11\">\r\n      <!-- 20000 -->\r\n      <defs>\r\n       <path d=\"M 50.34375 8.453125 \r\nL 50.34375 0 \r\nL 3.03125 0 \r\nQ 2.9375 3.171875 4.046875 6.109375 \r\nQ 5.859375 10.9375 9.828125 15.625 \r\nQ 13.8125 20.3125 21.34375 26.46875 \r\nQ 33.015625 36.03125 37.109375 41.625 \r\nQ 41.21875 47.21875 41.21875 52.203125 \r\nQ 41.21875 57.421875 37.46875 61 \r\nQ 33.734375 64.59375 27.734375 64.59375 \r\nQ 21.390625 64.59375 17.578125 60.78125 \r\nQ 13.765625 56.984375 13.71875 50.25 \r\nL 4.6875 51.171875 \r\nQ 5.609375 61.28125 11.65625 66.578125 \r\nQ 17.71875 71.875 27.9375 71.875 \r\nQ 38.234375 71.875 44.234375 66.15625 \r\nQ 50.25 60.453125 50.25 52 \r\nQ 50.25 47.703125 48.484375 43.546875 \r\nQ 46.734375 39.40625 42.65625 34.8125 \r\nQ 38.578125 30.21875 29.109375 22.21875 \r\nQ 21.1875 15.578125 18.9375 13.203125 \r\nQ 16.703125 10.84375 15.234375 8.453125 \r\nz\r\n\" id=\"ArialMT-50\"/>\r\n      </defs>\r\n      <g transform=\"translate(27.661563 383.598522)scale(0.1 -0.1)\">\r\n       <use xlink:href=\"#ArialMT-50\"/>\r\n       <use x=\"55.615234\" xlink:href=\"#ArialMT-48\"/>\r\n       <use x=\"111.230469\" xlink:href=\"#ArialMT-48\"/>\r\n       <use x=\"166.845703\" xlink:href=\"#ArialMT-48\"/>\r\n       <use x=\"222.460938\" xlink:href=\"#ArialMT-48\"/>\r\n      </g>\r\n     </g>\r\n    </g>\r\n    <g id=\"ytick_4\">\r\n     <g id=\"line2d_11\">\r\n      <g>\r\n       <use style=\"stroke:#000000;stroke-width:0.8;\" x=\"62.46625\" xlink:href=\"#mc12ce35d4b\" y=\"283.621767\"/>\r\n      </g>\r\n     </g>\r\n     <g id=\"text_12\">\r\n      <!-- 30000 -->\r\n      <defs>\r\n       <path d=\"M 4.203125 18.890625 \r\nL 12.984375 20.0625 \r\nQ 14.5 12.59375 18.140625 9.296875 \r\nQ 21.78125 6 27 6 \r\nQ 33.203125 6 37.46875 10.296875 \r\nQ 41.75 14.59375 41.75 20.953125 \r\nQ 41.75 27 37.796875 30.921875 \r\nQ 33.84375 34.859375 27.734375 34.859375 \r\nQ 25.25 34.859375 21.53125 33.890625 \r\nL 22.515625 41.609375 \r\nQ 23.390625 41.5 23.921875 41.5 \r\nQ 29.546875 41.5 34.03125 44.421875 \r\nQ 38.53125 47.359375 38.53125 53.46875 \r\nQ 38.53125 58.296875 35.25 61.46875 \r\nQ 31.984375 64.65625 26.8125 64.65625 \r\nQ 21.6875 64.65625 18.265625 61.421875 \r\nQ 14.84375 58.203125 13.875 51.765625 \r\nL 5.078125 53.328125 \r\nQ 6.6875 62.15625 12.390625 67.015625 \r\nQ 18.109375 71.875 26.609375 71.875 \r\nQ 32.46875 71.875 37.390625 69.359375 \r\nQ 42.328125 66.84375 44.9375 62.5 \r\nQ 47.5625 58.15625 47.5625 53.265625 \r\nQ 47.5625 48.640625 45.0625 44.828125 \r\nQ 42.578125 41.015625 37.703125 38.765625 \r\nQ 44.046875 37.3125 47.5625 32.6875 \r\nQ 51.078125 28.078125 51.078125 21.140625 \r\nQ 51.078125 11.765625 44.234375 5.25 \r\nQ 37.40625 -1.265625 26.953125 -1.265625 \r\nQ 17.53125 -1.265625 11.296875 4.34375 \r\nQ 5.078125 9.96875 4.203125 18.890625 \r\nz\r\n\" id=\"ArialMT-51\"/>\r\n      </defs>\r\n      <g transform=\"translate(27.661563 287.200673)scale(0.1 -0.1)\">\r\n       <use xlink:href=\"#ArialMT-51\"/>\r\n       <use x=\"55.615234\" xlink:href=\"#ArialMT-48\"/>\r\n       <use x=\"111.230469\" xlink:href=\"#ArialMT-48\"/>\r\n       <use x=\"166.845703\" xlink:href=\"#ArialMT-48\"/>\r\n       <use x=\"222.460938\" xlink:href=\"#ArialMT-48\"/>\r\n      </g>\r\n     </g>\r\n    </g>\r\n    <g id=\"ytick_5\">\r\n     <g id=\"line2d_12\">\r\n      <g>\r\n       <use style=\"stroke:#000000;stroke-width:0.8;\" x=\"62.46625\" xlink:href=\"#mc12ce35d4b\" y=\"187.223918\"/>\r\n      </g>\r\n     </g>\r\n     <g id=\"text_13\">\r\n      <!-- 40000 -->\r\n      <defs>\r\n       <path d=\"M 32.328125 0 \r\nL 32.328125 17.140625 \r\nL 1.265625 17.140625 \r\nL 1.265625 25.203125 \r\nL 33.9375 71.578125 \r\nL 41.109375 71.578125 \r\nL 41.109375 25.203125 \r\nL 50.78125 25.203125 \r\nL 50.78125 17.140625 \r\nL 41.109375 17.140625 \r\nL 41.109375 0 \r\nz\r\nM 32.328125 25.203125 \r\nL 32.328125 57.46875 \r\nL 9.90625 25.203125 \r\nz\r\n\" id=\"ArialMT-52\"/>\r\n      </defs>\r\n      <g transform=\"translate(27.661563 190.802824)scale(0.1 -0.1)\">\r\n       <use xlink:href=\"#ArialMT-52\"/>\r\n       <use x=\"55.615234\" xlink:href=\"#ArialMT-48\"/>\r\n       <use x=\"111.230469\" xlink:href=\"#ArialMT-48\"/>\r\n       <use x=\"166.845703\" xlink:href=\"#ArialMT-48\"/>\r\n       <use x=\"222.460938\" xlink:href=\"#ArialMT-48\"/>\r\n      </g>\r\n     </g>\r\n    </g>\r\n    <g id=\"ytick_6\">\r\n     <g id=\"line2d_13\">\r\n      <g>\r\n       <use style=\"stroke:#000000;stroke-width:0.8;\" x=\"62.46625\" xlink:href=\"#mc12ce35d4b\" y=\"90.826069\"/>\r\n      </g>\r\n     </g>\r\n     <g id=\"text_14\">\r\n      <!-- 50000 -->\r\n      <defs>\r\n       <path d=\"M 4.15625 18.75 \r\nL 13.375 19.53125 \r\nQ 14.40625 12.796875 18.140625 9.390625 \r\nQ 21.875 6 27.15625 6 \r\nQ 33.5 6 37.890625 10.78125 \r\nQ 42.28125 15.578125 42.28125 23.484375 \r\nQ 42.28125 31 38.0625 35.34375 \r\nQ 33.84375 39.703125 27 39.703125 \r\nQ 22.75 39.703125 19.328125 37.765625 \r\nQ 15.921875 35.84375 13.96875 32.765625 \r\nL 5.71875 33.84375 \r\nL 12.640625 70.609375 \r\nL 48.25 70.609375 \r\nL 48.25 62.203125 \r\nL 19.671875 62.203125 \r\nL 15.828125 42.96875 \r\nQ 22.265625 47.46875 29.34375 47.46875 \r\nQ 38.71875 47.46875 45.15625 40.96875 \r\nQ 51.609375 34.46875 51.609375 24.265625 \r\nQ 51.609375 14.546875 45.953125 7.46875 \r\nQ 39.0625 -1.21875 27.15625 -1.21875 \r\nQ 17.390625 -1.21875 11.203125 4.25 \r\nQ 5.03125 9.71875 4.15625 18.75 \r\nz\r\n\" id=\"ArialMT-53\"/>\r\n      </defs>\r\n      <g transform=\"translate(27.661563 94.404976)scale(0.1 -0.1)\">\r\n       <use xlink:href=\"#ArialMT-53\"/>\r\n       <use x=\"55.615234\" xlink:href=\"#ArialMT-48\"/>\r\n       <use x=\"111.230469\" xlink:href=\"#ArialMT-48\"/>\r\n       <use x=\"166.845703\" xlink:href=\"#ArialMT-48\"/>\r\n       <use x=\"222.460938\" xlink:href=\"#ArialMT-48\"/>\r\n      </g>\r\n     </g>\r\n    </g>\r\n    <g id=\"text_15\">\r\n     <!-- Number of Articles -->\r\n     <defs>\r\n      <path d=\"M 7.625 0 \r\nL 7.625 71.578125 \r\nL 17.328125 71.578125 \r\nL 54.9375 15.375 \r\nL 54.9375 71.578125 \r\nL 64.015625 71.578125 \r\nL 64.015625 0 \r\nL 54.296875 0 \r\nL 16.703125 56.25 \r\nL 16.703125 0 \r\nz\r\n\" id=\"ArialMT-78\"/>\r\n      <path d=\"M 40.578125 0 \r\nL 40.578125 7.625 \r\nQ 34.515625 -1.171875 24.125 -1.171875 \r\nQ 19.53125 -1.171875 15.546875 0.578125 \r\nQ 11.578125 2.34375 9.640625 5 \r\nQ 7.71875 7.671875 6.9375 11.53125 \r\nQ 6.390625 14.109375 6.390625 19.734375 \r\nL 6.390625 51.859375 \r\nL 15.1875 51.859375 \r\nL 15.1875 23.09375 \r\nQ 15.1875 16.21875 15.71875 13.8125 \r\nQ 16.546875 10.359375 19.234375 8.375 \r\nQ 21.921875 6.390625 25.875 6.390625 \r\nQ 29.828125 6.390625 33.296875 8.421875 \r\nQ 36.765625 10.453125 38.203125 13.9375 \r\nQ 39.65625 17.4375 39.65625 24.078125 \r\nL 39.65625 51.859375 \r\nL 48.4375 51.859375 \r\nL 48.4375 0 \r\nz\r\n\" id=\"ArialMT-117\"/>\r\n      <path d=\"M 14.703125 0 \r\nL 6.546875 0 \r\nL 6.546875 71.578125 \r\nL 15.328125 71.578125 \r\nL 15.328125 46.046875 \r\nQ 20.90625 53.03125 29.546875 53.03125 \r\nQ 34.328125 53.03125 38.59375 51.09375 \r\nQ 42.875 49.171875 45.625 45.671875 \r\nQ 48.390625 42.1875 49.953125 37.25 \r\nQ 51.515625 32.328125 51.515625 26.703125 \r\nQ 51.515625 13.375 44.921875 6.09375 \r\nQ 38.328125 -1.171875 29.109375 -1.171875 \r\nQ 19.921875 -1.171875 14.703125 6.5 \r\nz\r\nM 14.59375 26.3125 \r\nQ 14.59375 17 17.140625 12.84375 \r\nQ 21.296875 6.0625 28.375 6.0625 \r\nQ 34.125 6.0625 38.328125 11.0625 \r\nQ 42.53125 16.0625 42.53125 25.984375 \r\nQ 42.53125 36.140625 38.5 40.96875 \r\nQ 34.46875 45.796875 28.765625 45.796875 \r\nQ 23 45.796875 18.796875 40.796875 \r\nQ 14.59375 35.796875 14.59375 26.3125 \r\nz\r\n\" id=\"ArialMT-98\"/>\r\n      <path id=\"ArialMT-32\"/>\r\n      <path d=\"M -0.140625 0 \r\nL 27.34375 71.578125 \r\nL 37.546875 71.578125 \r\nL 66.84375 0 \r\nL 56.0625 0 \r\nL 47.703125 21.6875 \r\nL 17.78125 21.6875 \r\nL 9.90625 0 \r\nz\r\nM 20.515625 29.390625 \r\nL 44.78125 29.390625 \r\nL 37.3125 49.21875 \r\nQ 33.890625 58.25 32.234375 64.0625 \r\nQ 30.859375 57.171875 28.375 50.390625 \r\nz\r\n\" id=\"ArialMT-65\"/>\r\n     </defs>\r\n     <g transform=\"translate(20.084063 375.02625)rotate(-90)scale(0.18 -0.18)\">\r\n      <use xlink:href=\"#ArialMT-78\"/>\r\n      <use x=\"72.216797\" xlink:href=\"#ArialMT-117\"/>\r\n      <use x=\"127.832031\" xlink:href=\"#ArialMT-109\"/>\r\n      <use x=\"211.132812\" xlink:href=\"#ArialMT-98\"/>\r\n      <use x=\"266.748047\" xlink:href=\"#ArialMT-101\"/>\r\n      <use x=\"322.363281\" xlink:href=\"#ArialMT-114\"/>\r\n      <use x=\"355.664062\" xlink:href=\"#ArialMT-32\"/>\r\n      <use x=\"383.447266\" xlink:href=\"#ArialMT-111\"/>\r\n      <use x=\"439.0625\" xlink:href=\"#ArialMT-102\"/>\r\n      <use x=\"466.845703\" xlink:href=\"#ArialMT-32\"/>\r\n      <use x=\"494.550781\" xlink:href=\"#ArialMT-65\"/>\r\n      <use x=\"561.25\" xlink:href=\"#ArialMT-114\"/>\r\n      <use x=\"594.550781\" xlink:href=\"#ArialMT-116\"/>\r\n      <use x=\"622.333984\" xlink:href=\"#ArialMT-105\"/>\r\n      <use x=\"644.550781\" xlink:href=\"#ArialMT-99\"/>\r\n      <use x=\"694.550781\" xlink:href=\"#ArialMT-108\"/>\r\n      <use x=\"716.767578\" xlink:href=\"#ArialMT-101\"/>\r\n      <use x=\"772.382812\" xlink:href=\"#ArialMT-115\"/>\r\n     </g>\r\n    </g>\r\n   </g>\r\n   <g id=\"line2d_14\">\r\n    <path clip-path=\"url(#p3ddca38f47)\" d=\"M 0 0 \r\n\" style=\"fill:none;stroke:#424242;stroke-linecap:round;stroke-width:2.7;\"/>\r\n   </g>\r\n   <g id=\"line2d_15\">\r\n    <path clip-path=\"url(#p3ddca38f47)\" d=\"M 0 0 \r\n\" style=\"fill:none;stroke:#424242;stroke-linecap:round;stroke-width:2.7;\"/>\r\n   </g>\r\n   <g id=\"line2d_16\">\r\n    <path clip-path=\"url(#p3ddca38f47)\" d=\"M 0 0 \r\n\" style=\"fill:none;stroke:#424242;stroke-linecap:round;stroke-width:2.7;\"/>\r\n   </g>\r\n   <g id=\"line2d_17\">\r\n    <path clip-path=\"url(#p3ddca38f47)\" d=\"M 0 0 \r\n\" style=\"fill:none;stroke:#424242;stroke-linecap:round;stroke-width:2.7;\"/>\r\n   </g>\r\n   <g id=\"line2d_18\">\r\n    <path clip-path=\"url(#p3ddca38f47)\" d=\"M 0 0 \r\n\" style=\"fill:none;stroke:#424242;stroke-linecap:round;stroke-width:2.7;\"/>\r\n   </g>\r\n   <g id=\"line2d_19\">\r\n    <path clip-path=\"url(#p3ddca38f47)\" d=\"M 0 0 \r\n\" style=\"fill:none;stroke:#424242;stroke-linecap:round;stroke-width:2.7;\"/>\r\n   </g>\r\n   <g id=\"line2d_20\">\r\n    <path clip-path=\"url(#p3ddca38f47)\" d=\"M 0 0 \r\n\" style=\"fill:none;stroke:#424242;stroke-linecap:round;stroke-width:2.7;\"/>\r\n   </g>\r\n   <g id=\"patch_10\">\r\n    <path d=\"M 62.46625 572.815313 \r\nL 62.46625 29.215312 \r\n\" style=\"fill:none;stroke:#000000;stroke-linecap:square;stroke-linejoin:miter;stroke-width:0.8;\"/>\r\n   </g>\r\n   <g id=\"patch_11\">\r\n    <path d=\"M 899.46625 572.815313 \r\nL 899.46625 29.215312 \r\n\" style=\"fill:none;stroke:#000000;stroke-linecap:square;stroke-linejoin:miter;stroke-width:0.8;\"/>\r\n   </g>\r\n   <g id=\"patch_12\">\r\n    <path d=\"M 62.46625 572.815313 \r\nL 899.46625 572.815313 \r\n\" style=\"fill:none;stroke:#000000;stroke-linecap:square;stroke-linejoin:miter;stroke-width:0.8;\"/>\r\n   </g>\r\n   <g id=\"patch_13\">\r\n    <path d=\"M 62.46625 29.215312 \r\nL 899.46625 29.215312 \r\n\" style=\"fill:none;stroke:#000000;stroke-linecap:square;stroke-linejoin:miter;stroke-width:0.8;\"/>\r\n   </g>\r\n   <g id=\"text_16\">\r\n    <!-- Distribution of Categories -->\r\n    <defs>\r\n     <path d=\"M 7.71875 0 \r\nL 7.71875 71.578125 \r\nL 32.375 71.578125 \r\nQ 40.71875 71.578125 45.125 70.5625 \r\nQ 51.265625 69.140625 55.609375 65.4375 \r\nQ 61.28125 60.640625 64.078125 53.1875 \r\nQ 66.890625 45.75 66.890625 36.1875 \r\nQ 66.890625 28.03125 64.984375 21.734375 \r\nQ 63.09375 15.4375 60.109375 11.296875 \r\nQ 57.125 7.171875 53.578125 4.796875 \r\nQ 50.046875 2.4375 45.046875 1.21875 \r\nQ 40.046875 0 33.546875 0 \r\nz\r\nM 17.1875 8.453125 \r\nL 32.46875 8.453125 \r\nQ 39.546875 8.453125 43.578125 9.765625 \r\nQ 47.609375 11.078125 50 13.484375 \r\nQ 53.375 16.84375 55.25 22.53125 \r\nQ 57.125 28.21875 57.125 36.328125 \r\nQ 57.125 47.5625 53.4375 53.59375 \r\nQ 49.75 59.625 44.484375 61.671875 \r\nQ 40.671875 63.140625 32.234375 63.140625 \r\nL 17.1875 63.140625 \r\nz\r\n\" id=\"ArialMT-68\"/>\r\n    </defs>\r\n    <g transform=\"translate(357.470625 23.215312)scale(0.22 -0.22)\">\r\n     <use xlink:href=\"#ArialMT-68\"/>\r\n     <use x=\"72.216797\" xlink:href=\"#ArialMT-105\"/>\r\n     <use x=\"94.433594\" xlink:href=\"#ArialMT-115\"/>\r\n     <use x=\"144.433594\" xlink:href=\"#ArialMT-116\"/>\r\n     <use x=\"172.216797\" xlink:href=\"#ArialMT-114\"/>\r\n     <use x=\"205.517578\" xlink:href=\"#ArialMT-105\"/>\r\n     <use x=\"227.734375\" xlink:href=\"#ArialMT-98\"/>\r\n     <use x=\"283.349609\" xlink:href=\"#ArialMT-117\"/>\r\n     <use x=\"338.964844\" xlink:href=\"#ArialMT-116\"/>\r\n     <use x=\"366.748047\" xlink:href=\"#ArialMT-105\"/>\r\n     <use x=\"388.964844\" xlink:href=\"#ArialMT-111\"/>\r\n     <use x=\"444.580078\" xlink:href=\"#ArialMT-110\"/>\r\n     <use x=\"500.195312\" xlink:href=\"#ArialMT-32\"/>\r\n     <use x=\"527.978516\" xlink:href=\"#ArialMT-111\"/>\r\n     <use x=\"583.59375\" xlink:href=\"#ArialMT-102\"/>\r\n     <use x=\"611.376953\" xlink:href=\"#ArialMT-32\"/>\r\n     <use x=\"639.160156\" xlink:href=\"#ArialMT-67\"/>\r\n     <use x=\"711.376953\" xlink:href=\"#ArialMT-97\"/>\r\n     <use x=\"766.992188\" xlink:href=\"#ArialMT-116\"/>\r\n     <use x=\"794.775391\" xlink:href=\"#ArialMT-101\"/>\r\n     <use x=\"850.390625\" xlink:href=\"#ArialMT-103\"/>\r\n     <use x=\"906.005859\" xlink:href=\"#ArialMT-111\"/>\r\n     <use x=\"961.621094\" xlink:href=\"#ArialMT-114\"/>\r\n     <use x=\"994.921875\" xlink:href=\"#ArialMT-105\"/>\r\n     <use x=\"1017.138672\" xlink:href=\"#ArialMT-101\"/>\r\n     <use x=\"1072.753906\" xlink:href=\"#ArialMT-115\"/>\r\n    </g>\r\n   </g>\r\n  </g>\r\n </g>\r\n <defs>\r\n  <clipPath id=\"p3ddca38f47\">\r\n   <rect height=\"543.6\" width=\"837\" x=\"62.46625\" y=\"29.215312\"/>\r\n  </clipPath>\r\n </defs>\r\n</svg>\r\n",
      "image/png": "[encoded data removed]"
     },
     "metadata": {
      "needs_background": "light"
     }
    }
   ],
   "source": [
    "categories_count = df_all_news_processed['Category'].value_counts()\n",
    "EDA.display_distribution(categories_count\n",
    "                        ,\"Distribution of Categories\"\n",
    "                        ,\"Categories\"\n",
    "                        ,\"Number of Articles\")"
   ]
  },
  {
   "cell_type": "code",
   "execution_count": null,
   "metadata": {
    "scrolled": true
   },
   "outputs": [],
   "source": [
    "df_all_news_processed"
   ]
  },
  {
   "cell_type": "code",
   "execution_count": 9,
   "metadata": {},
   "outputs": [],
   "source": [
    "''''''''''''''''''' ___MAIN PIPELINE___ '''''''''''''''''''\n",
    "\n",
    "df_all_news = pd.read_pickle(r'data/original_data/pickles/all_news')\n",
    "\n",
    "### Cleaning part\n",
    "df_all_news['Text_TotalWords'] = EDA.count_words_per_records_opt_2(df_all_news)\n",
    "\n",
    "df_all_news.reset_index(drop=True, inplace=True)\n",
    "\n",
    "df_all_news_processed = df_all_news.copy()\n",
    "#remove outliers - first phase\n",
    "df_all_news_processed = df_all_news_processed[df_all_news_processed['Text_TotalWords'] > 10] \n",
    "df_all_news_processed = df_all_news_processed[df_all_news_processed['Text_TotalWords'] < 3000] \n",
    "\n",
    "df_all_news_processed = Cleaner.drop_duplicate_values(df_all_news_processed)\n",
    "df_all_news_processed = Cleaner.remove_new_line(df_all_news_processed)\n",
    "df_all_news_processed = Cleaner.remove_non_ascii_chars(df_all_news_processed)\n",
    "df_all_news_processed = Cleaner.remove_multiple_spaces(df_all_news_processed)\n",
    "df_all_news_processed = Cleaner.drop_null_values(df_all_news_processed)\n",
    "df_all_news_processed = Cleaner.drop_duplicate_values(df_all_news_processed)"
   ]
  },
  {
   "cell_type": "code",
   "execution_count": 10,
   "metadata": {},
   "outputs": [
    {
     "output_type": "execute_result",
     "data": {
      "text/plain": "                                                    Title  \\\n1       Tracy Morgan performs first stand-up show sinc...   \n3       President Barack Obama interviews author Maril...   \n4       I will perform at night clubs, shows β€“ Pasto...   \n7       MEG Records&#39; Country Star Tom MacLear will be ...   \n8                            Defeat the Zombie Apocalypse   \n...                                                   ...   \n493427  Bidenβ€™s Indecision Fuels Doubts He Could Sti...   \n493428  AFL grand final 2015: Hawthorn drop Billy Hart...   \n493429  Joaquin lashes Bahamas; Powerful hurricane cou...   \n493430  5 US service members among 12 dead in Afghan p...   \n493431  Hurricane Joaquin batters Bahamas, unleashes s...   \n\n                                                     Text       Category  \\\n1       Tracy Morgan performs first stand-up show sinc...  entertainment   \n3       FCC Information President Barack Obama intervi...  entertainment   \n4       Source: Ghana | Hitz FM | Euphemia Akpalu Date...  entertainment   \n7       MEG Records : In Latest Music News , Tom MacLe...  entertainment   \n8       Defeat the Zombie Apocalypse Zombie hunting in...  entertainment   \n...                                                   ...            ...   \n493427  Vice President Joe Biden s summer of uncertain...          world   \n493428  Return to video Video settings Please Log in t...          world   \n493429  Photo: Tim Aylen, AP Image 1 of / 5 Caption Cl...          world   \n493430  5 US service members among 12 dead in Afghan p...          world   \n493431  Updated: 10:17 a.m. Friday, Oct. 2, 2015 | Pos...          world   \n\n        Text_TotalWords  \n1                   380  \n3                   333  \n4                   404  \n7                   326  \n8                    36  \n...                 ...  \n493427              749  \n493428              635  \n493429             1226  \n493430              144  \n493431              818  \n\n[323107 rows x 4 columns]",
      "text/html": "<div>\n<style scoped>\n    .dataframe tbody tr th:only-of-type {\n        vertical-align: middle;\n    }\n\n    .dataframe tbody tr th {\n        vertical-align: top;\n    }\n\n    .dataframe thead th {\n        text-align: right;\n    }\n</style>\n<table border=\"1\" class=\"dataframe\">\n  <thead>\n    <tr style=\"text-align: right;\">\n      <th></th>\n      <th>Title</th>\n      <th>Text</th>\n      <th>Category</th>\n      <th>Text_TotalWords</th>\n    </tr>\n  </thead>\n  <tbody>\n    <tr>\n      <td>1</td>\n      <td>Tracy Morgan performs first stand-up show sinc...</td>\n      <td>Tracy Morgan performs first stand-up show sinc...</td>\n      <td>entertainment</td>\n      <td>380</td>\n    </tr>\n    <tr>\n      <td>3</td>\n      <td>President Barack Obama interviews author Maril...</td>\n      <td>FCC Information President Barack Obama intervi...</td>\n      <td>entertainment</td>\n      <td>333</td>\n    </tr>\n    <tr>\n      <td>4</td>\n      <td>I will perform at night clubs, shows β€“ Pasto...</td>\n      <td>Source: Ghana | Hitz FM | Euphemia Akpalu Date...</td>\n      <td>entertainment</td>\n      <td>404</td>\n    </tr>\n    <tr>\n      <td>7</td>\n      <td>MEG Records' Country Star Tom MacLear will be ...</td>\n      <td>MEG Records : In Latest Music News , Tom MacLe...</td>\n      <td>entertainment</td>\n      <td>326</td>\n    </tr>\n    <tr>\n      <td>8</td>\n      <td>Defeat the Zombie Apocalypse</td>\n      <td>Defeat the Zombie Apocalypse Zombie hunting in...</td>\n      <td>entertainment</td>\n      <td>36</td>\n    </tr>\n    <tr>\n      <td>...</td>\n      <td>...</td>\n      <td>...</td>\n      <td>...</td>\n      <td>...</td>\n    </tr>\n    <tr>\n      <td>493427</td>\n      <td>Bidenβ€™s Indecision Fuels Doubts He Could Sti...</td>\n      <td>Vice President Joe Biden s summer of uncertain...</td>\n      <td>world</td>\n      <td>749</td>\n    </tr>\n    <tr>\n      <td>493428</td>\n      <td>AFL grand final 2015: Hawthorn drop Billy Hart...</td>\n      <td>Return to video Video settings Please Log in t...</td>\n      <td>world</td>\n      <td>635</td>\n    </tr>\n    <tr>\n      <td>493429</td>\n      <td>Joaquin lashes Bahamas; Powerful hurricane cou...</td>\n      <td>Photo: Tim Aylen, AP Image 1 of / 5 Caption Cl...</td>\n      <td>world</td>\n      <td>1226</td>\n    </tr>\n    <tr>\n      <td>493430</td>\n      <td>5 US service members among 12 dead in Afghan p...</td>\n      <td>5 US service members among 12 dead in Afghan p...</td>\n      <td>world</td>\n      <td>144</td>\n    </tr>\n    <tr>\n      <td>493431</td>\n      <td>Hurricane Joaquin batters Bahamas, unleashes s...</td>\n      <td>Updated: 10:17 a.m. Friday, Oct. 2, 2015 | Pos...</td>\n      <td>world</td>\n      <td>818</td>\n    </tr>\n  </tbody>\n</table>\n<p>323107 rows × 4 columns</p>\n</div>"
     },
     "metadata": {},
     "execution_count": 10
    }
   ],
   "source": [
    "df_all_news_processed"
   ]
  },
  {
   "cell_type": "code",
   "execution_count": 11,
   "metadata": {},
   "outputs": [],
   "source": [
    "#N-grams function (done)\n",
    "#buzzwords function (done)\n",
    "#sentence encoder (too large texts to visaulise interactively)\n",
    "\n",
    "\n",
    "df_all_news_processed['Text'] = NLP.to_lower_case(df_all_news_processed, 'Text')\n",
    "df_all_news_processed = Cleaner.remove_most_noisy_words(df_all_news_processed, 'noisy_words.txt')\n",
    "df_all_news_processed = Cleaner.remove_multiple_spaces(df_all_news_processed)"
   ]
  },
  {
   "cell_type": "code",
   "execution_count": 12,
   "metadata": {
    "tags": []
   },
   "outputs": [
    {
     "output_type": "stream",
     "name": "stdout",
     "text": "reached here\n"
    }
   ],
   "source": [
    "articles_split_by_word = NLP.tokenization(df_all_news_processed)\n",
    "df_all_news_processed['Text'] = articles_split_by_word.apply(NLP.remove_stop_words)\n",
    "df_all_news_processed['Text'] = df_all_news_processed['Text'].apply(NLP.rejoin_words) \n",
    "print(\"reached here\")\n",
    "df_all_news_processed = Cleaner.remove_punctuation(df_all_news_processed)\n",
    "df_all_news_processed = Cleaner.remove_single_chars(df_all_news_processed)\n",
    "df_all_news_processed = Cleaner.remove_multiple_spaces(df_all_news_processed)\n",
    "#CHECKPOINT: Print N-grams"
   ]
  },
  {
   "cell_type": "code",
   "execution_count": 13,
   "metadata": {},
   "outputs": [
    {
     "output_type": "execute_result",
     "data": {
      "text/plain": "                                                    Title  \\\n1       Tracy Morgan performs first stand-up show sinc...   \n3       President Barack Obama interviews author Maril...   \n4       I will perform at night clubs, shows β€“ Pasto...   \n7       MEG Records&#39; Country Star Tom MacLear will be ...   \n8                            Defeat the Zombie Apocalypse   \n...                                                   ...   \n493427  Bidenβ€™s Indecision Fuels Doubts He Could Sti...   \n493428  AFL grand final 2015: Hawthorn drop Billy Hart...   \n493429  Joaquin lashes Bahamas; Powerful hurricane cou...   \n493430  5 US service members among 12 dead in Afghan p...   \n493431  Hurricane Joaquin batters Bahamas, unleashes s...   \n\n                                                     Text       Category  \\\n1       tracy morgan performs first stand-up show sinc...  entertainment   \n3       fcc information president barack obama intervi...  entertainment   \n4       source ghana hitz fm euphemia akpalu date 12-1...  entertainment   \n7       meg records latest music news tom maclear top ...  entertainment   \n8       defeat zombie apocalypse zombie hunting tukwil...  entertainment   \n...                                                   ...            ...   \n493427  vice president joe biden summer uncertainty tu...          world   \n493428   log update video settings video begin 5 secon...          world   \n493429   tim aylen ap image 1 5 caption close image 1 ...          world   \n493430  5 us service members among 12 dead afghan plan...          world   \n493431  updated 10 17 .m. friday oct. 2 2015 10 16 .m....          world   \n\n        Text_TotalWords  \n1                   380  \n3                   333  \n4                   404  \n7                   326  \n8                    36  \n...                 ...  \n493427              749  \n493428              635  \n493429             1226  \n493430              144  \n493431              818  \n\n[323107 rows x 4 columns]",
      "text/html": "<div>\n<style scoped>\n    .dataframe tbody tr th:only-of-type {\n        vertical-align: middle;\n    }\n\n    .dataframe tbody tr th {\n        vertical-align: top;\n    }\n\n    .dataframe thead th {\n        text-align: right;\n    }\n</style>\n<table border=\"1\" class=\"dataframe\">\n  <thead>\n    <tr style=\"text-align: right;\">\n      <th></th>\n      <th>Title</th>\n      <th>Text</th>\n      <th>Category</th>\n      <th>Text_TotalWords</th>\n    </tr>\n  </thead>\n  <tbody>\n    <tr>\n      <td>1</td>\n      <td>Tracy Morgan performs first stand-up show sinc...</td>\n      <td>tracy morgan performs first stand-up show sinc...</td>\n      <td>entertainment</td>\n      <td>380</td>\n    </tr>\n    <tr>\n      <td>3</td>\n      <td>President Barack Obama interviews author Maril...</td>\n      <td>fcc information president barack obama intervi...</td>\n      <td>entertainment</td>\n      <td>333</td>\n    </tr>\n    <tr>\n      <td>4</td>\n      <td>I will perform at night clubs, shows β€“ Pasto...</td>\n      <td>source ghana hitz fm euphemia akpalu date 12-1...</td>\n      <td>entertainment</td>\n      <td>404</td>\n    </tr>\n    <tr>\n      <td>7</td>\n      <td>MEG Records' Country Star Tom MacLear will be ...</td>\n      <td>meg records latest music news tom maclear top ...</td>\n      <td>entertainment</td>\n      <td>326</td>\n    </tr>\n    <tr>\n      <td>8</td>\n      <td>Defeat the Zombie Apocalypse</td>\n      <td>defeat zombie apocalypse zombie hunting tukwil...</td>\n      <td>entertainment</td>\n      <td>36</td>\n    </tr>\n    <tr>\n      <td>...</td>\n      <td>...</td>\n      <td>...</td>\n      <td>...</td>\n      <td>...</td>\n    </tr>\n    <tr>\n      <td>493427</td>\n      <td>Bidenβ€™s Indecision Fuels Doubts He Could Sti...</td>\n      <td>vice president joe biden summer uncertainty tu...</td>\n      <td>world</td>\n      <td>749</td>\n    </tr>\n    <tr>\n      <td>493428</td>\n      <td>AFL grand final 2015: Hawthorn drop Billy Hart...</td>\n      <td>log update video settings video begin 5 secon...</td>\n      <td>world</td>\n      <td>635</td>\n    </tr>\n    <tr>\n      <td>493429</td>\n      <td>Joaquin lashes Bahamas; Powerful hurricane cou...</td>\n      <td>tim aylen ap image 1 5 caption close image 1 ...</td>\n      <td>world</td>\n      <td>1226</td>\n    </tr>\n    <tr>\n      <td>493430</td>\n      <td>5 US service members among 12 dead in Afghan p...</td>\n      <td>5 us service members among 12 dead afghan plan...</td>\n      <td>world</td>\n      <td>144</td>\n    </tr>\n    <tr>\n      <td>493431</td>\n      <td>Hurricane Joaquin batters Bahamas, unleashes s...</td>\n      <td>updated 10 17 .m. friday oct. 2 2015 10 16 .m....</td>\n      <td>world</td>\n      <td>818</td>\n    </tr>\n  </tbody>\n</table>\n<p>323107 rows × 4 columns</p>\n</div>"
     },
     "metadata": {},
     "execution_count": 13
    }
   ],
   "source": [
    "df_all_news_processed"
   ]
  },
  {
   "cell_type": "code",
   "execution_count": 14,
   "metadata": {},
   "outputs": [],
   "source": [
    "df_all_news_processed = Cleaner.remove_links(df_all_news_processed)\n",
    "df_all_news_processed = Cleaner.remove_dates(df_all_news_processed)\n",
    "df_all_news_processed = Cleaner.remove_years(df_all_news_processed)\n",
    "df_all_news_processed = Cleaner.remove_months(df_all_news_processed)\n",
    "df_all_news_processed = Cleaner.remove_days(df_all_news_processed)\n",
    "df_all_news_processed = Cleaner.remove_time(df_all_news_processed)\n",
    "df_all_news_processed = Cleaner.remove_multiple_spaces(df_all_news_processed)\n",
    "#CHECKPOINT: Print N-grams"
   ]
  },
  {
   "cell_type": "code",
   "execution_count": 15,
   "metadata": {},
   "outputs": [],
   "source": [
    "#lemmatize (if applicable)\n",
    "#remove outliers\n",
    "df_all_news['Text_TotalWords'] = EDA.count_words_per_records_opt_2(df_all_news_processed)\n",
    "df_all_news_processed = df_all_news_processed[df_all_news_processed['Text_TotalWords'] > 10]\n",
    "df_all_news_processed = df_all_news_processed[df_all_news_processed['Text_TotalWords'] < 600]\n",
    "\n",
    "#N-grams function (done)\n",
    "#buzzwords function (done)\n",
    "\n"
   ]
  },
  {
   "cell_type": "code",
   "execution_count": 17,
   "metadata": {
    "tags": []
   },
   "outputs": [
    {
     "output_type": "stream",
     "name": "stdout",
     "text": "Process completed.\nTime taken:\n1446.15 seconds.\n"
    }
   ],
   "source": [
    "t1 = time.time() \n",
    "\n",
    "articles_split_by_word = NLP.tokenization(df_all_news_processed)\n",
    "df_all_news_processed['Text'] = NLP.stemming(articles_split_by_word)\n",
    "df_all_news_processed['Text'] = df_all_news_processed['Text'].apply(NLP.rejoin_words) \n",
    "\n",
    "t2 = time.time() \n",
    "print(\"Process completed.\\nTime taken:\") \n",
    "print(\"{:.2f}\".format(round(t2-t1, 2))+\" seconds.\")\n",
    "\n",
    "#took 1446 seconds(approx 24 mins) on my pc "
   ]
  },
  {
   "cell_type": "code",
   "execution_count": 18,
   "metadata": {},
   "outputs": [
    {
     "output_type": "execute_result",
     "data": {
      "text/plain": "                                                    Title  \\\n1       Tracy Morgan performs first stand-up show sinc...   \n3       President Barack Obama interviews author Maril...   \n4       I will perform at night clubs, shows β€“ Pasto...   \n7       MEG Records&#39; Country Star Tom MacLear will be ...   \n8                            Defeat the Zombie Apocalypse   \n...                                                   ...   \n493414  Sheriff in Oregon mass shooting probe opposes ...   \n493418  6 US airmen among at least 11 dead in Afghan p...   \n493421       Oregon college gunman kills seven, wounds 20   \n493426  Vatican: Pope&#39;s visit with Davis not a form of...   \n493430  5 US service members among 12 dead in Afghan p...   \n\n                                                     Text       Category  \\\n1       traci morgan perform first stand-up show sinc ...  entertainment   \n3       fcc inform presid barack obama interview autho...  entertainment   \n4       sourc ghana hitz fm euphemia akpalu date time ...  entertainment   \n7       meg record latest music news tom maclear top 4...  entertainment   \n8       defeat zombi apocalyps zombi hunt tukwila. sto...  entertainment   \n...                                                   ...            ...   \n493414  dougla counti sheriff john hanlin address medi...          world   \n493418  updat 6 48 6 48 6 us airmen a g least 11 dead ...          world   \n493421  oregon colleg gunman kill seven wound 20 assoc...          world   \n493426  updat 5 57 5 56 vatican pope visit davi form s...          world   \n493430  5 us servic member a g 12 dead afghan plane cr...          world   \n\n        Text_TotalWords  \n1                   380  \n3                   333  \n4                   404  \n7                   326  \n8                    36  \n...                 ...  \n493414              387  \n493418              278  \n493421              300  \n493426              505  \n493430              144  \n\n[233775 rows x 4 columns]",
      "text/html": "<div>\n<style scoped>\n    .dataframe tbody tr th:only-of-type {\n        vertical-align: middle;\n    }\n\n    .dataframe tbody tr th {\n        vertical-align: top;\n    }\n\n    .dataframe thead th {\n        text-align: right;\n    }\n</style>\n<table border=\"1\" class=\"dataframe\">\n  <thead>\n    <tr style=\"text-align: right;\">\n      <th></th>\n      <th>Title</th>\n      <th>Text</th>\n      <th>Category</th>\n      <th>Text_TotalWords</th>\n    </tr>\n  </thead>\n  <tbody>\n    <tr>\n      <td>1</td>\n      <td>Tracy Morgan performs first stand-up show sinc...</td>\n      <td>traci morgan perform first stand-up show sinc ...</td>\n      <td>entertainment</td>\n      <td>380</td>\n    </tr>\n    <tr>\n      <td>3</td>\n      <td>President Barack Obama interviews author Maril...</td>\n      <td>fcc inform presid barack obama interview autho...</td>\n      <td>entertainment</td>\n      <td>333</td>\n    </tr>\n    <tr>\n      <td>4</td>\n      <td>I will perform at night clubs, shows β€“ Pasto...</td>\n      <td>sourc ghana hitz fm euphemia akpalu date time ...</td>\n      <td>entertainment</td>\n      <td>404</td>\n    </tr>\n    <tr>\n      <td>7</td>\n      <td>MEG Records' Country Star Tom MacLear will be ...</td>\n      <td>meg record latest music news tom maclear top 4...</td>\n      <td>entertainment</td>\n      <td>326</td>\n    </tr>\n    <tr>\n      <td>8</td>\n      <td>Defeat the Zombie Apocalypse</td>\n      <td>defeat zombi apocalyps zombi hunt tukwila. sto...</td>\n      <td>entertainment</td>\n      <td>36</td>\n    </tr>\n    <tr>\n      <td>...</td>\n      <td>...</td>\n      <td>...</td>\n      <td>...</td>\n      <td>...</td>\n    </tr>\n    <tr>\n      <td>493414</td>\n      <td>Sheriff in Oregon mass shooting probe opposes ...</td>\n      <td>dougla counti sheriff john hanlin address medi...</td>\n      <td>world</td>\n      <td>387</td>\n    </tr>\n    <tr>\n      <td>493418</td>\n      <td>6 US airmen among at least 11 dead in Afghan p...</td>\n      <td>updat 6 48 6 48 6 us airmen a g least 11 dead ...</td>\n      <td>world</td>\n      <td>278</td>\n    </tr>\n    <tr>\n      <td>493421</td>\n      <td>Oregon college gunman kills seven, wounds 20</td>\n      <td>oregon colleg gunman kill seven wound 20 assoc...</td>\n      <td>world</td>\n      <td>300</td>\n    </tr>\n    <tr>\n      <td>493426</td>\n      <td>Vatican: Pope's visit with Davis not a form of...</td>\n      <td>updat 5 57 5 56 vatican pope visit davi form s...</td>\n      <td>world</td>\n      <td>505</td>\n    </tr>\n    <tr>\n      <td>493430</td>\n      <td>5 US service members among 12 dead in Afghan p...</td>\n      <td>5 us servic member a g 12 dead afghan plane cr...</td>\n      <td>world</td>\n      <td>144</td>\n    </tr>\n  </tbody>\n</table>\n<p>233775 rows × 4 columns</p>\n</div>"
     },
     "metadata": {},
     "execution_count": 18
    }
   ],
   "source": [
    "df_all_news_processed"
   ]
  },
  {
   "cell_type": "code",
   "execution_count": 24,
   "metadata": {},
   "outputs": [],
   "source": [
    "#df_all_news_processed.to_pickle('data/original_data/pickles/df_all_news_processed_stemmed')"
   ]
  },
  {
   "source": [
    "### Data Normalization & Feature Engineering  (normalize, tf-idf vectors)"
   ],
   "cell_type": "markdown",
   "metadata": {}
  },
  {
   "cell_type": "code",
   "execution_count": 27,
   "metadata": {
    "tags": []
   },
   "outputs": [
    {
     "output_type": "stream",
     "name": "stdout",
     "text": "Process completed.\nTime taken:\n47.70 seconds.\n"
    }
   ],
   "source": [
    "t1 = time.time() \n",
    "\n",
    "from sklearn.feature_extraction.text import TfidfVectorizer\n",
    "tfidfconverter = TfidfVectorizer(max_features=1500, min_df=5, max_df=0.7)\n",
    "X = tfidfconverter.fit_transform(df_all_news_processed['Text']).toarray()\n",
    "\n",
    "t2 = time.time() \n",
    "print(\"Process completed.\\nTime taken:\") \n",
    "print(\"{:.2f}\".format(round(t2-t1, 2))+\" seconds.\")"
   ]
  },
  {
   "cell_type": "code",
   "execution_count": 31,
   "metadata": {},
   "outputs": [
    {
     "output_type": "execute_result",
     "data": {
      "text/plain": "array([[0.        , 0.        , 0.        , ..., 0.        , 0.        ,\n        0.        ],\n       [0.        , 0.        , 0.        , ..., 0.        , 0.        ,\n        0.        ],\n       [0.        , 0.        , 0.        , ..., 0.        , 0.        ,\n        0.        ],\n       ...,\n       [0.        , 0.05239485, 0.        , ..., 0.        , 0.        ,\n        0.        ],\n       [0.        , 0.        , 0.        , ..., 0.        , 0.        ,\n        0.        ],\n       [0.        , 0.15335449, 0.        , ..., 0.        , 0.        ,\n        0.        ]])"
     },
     "metadata": {},
     "execution_count": 31
    }
   ],
   "source": [
    "X"
   ]
  },
  {
   "cell_type": "code",
   "execution_count": 46,
   "metadata": {
    "tags": []
   },
   "outputs": [
    {
     "output_type": "stream",
     "name": "stdout",
     "text": "Process completed.\nTime taken:\n6546.04 seconds.\n"
    }
   ],
   "source": [
    "t1 = time.time() \n",
    "\n",
    "y = df_all_news_processed['Category']\n",
    "\n",
    "from sklearn.ensemble import RandomForestClassifier\n",
    "from sklearn.model_selection import train_test_split\n",
    "X_train, X_test, y_train, y_test = train_test_split(X, y, test_size=0.2, random_state=0)\n",
    "\n",
    "classifier = RandomForestClassifier(n_estimators=1000, random_state=0)\n",
    "classifier.fit(X_train, y_train) \n",
    "\n",
    "t2 = time.time() \n",
    "print(\"Process completed.\\nTime taken:\") \n",
    "print(\"{:.2f}\".format(round(t2-t1, 2))+\" seconds.\")"
   ]
  },
  {
   "cell_type": "code",
   "execution_count": 47,
   "metadata": {},
   "outputs": [],
   "source": [
    "y_pred = classifier.predict(X_test)\n"
   ]
  },
  {
   "cell_type": "code",
   "execution_count": 42,
   "metadata": {
    "tags": []
   },
   "outputs": [
    {
     "output_type": "error",
     "ename": "Error",
     "evalue": "Pip module debugpy is required for debugging cells. You will need to install it to debug cells.",
     "traceback": [
      "Error: Pip module debugpy is required for debugging cells. You will need to install it to debug cells.",
      "at P.promptToInstallDebugger (c:\\Users\\Phil\\.vscode\\extensions\\ms-python.python-2020.9.112786\\out\\client\\extension.js:56:422972)",
      "at runMicrotasks (<anonymous>)",
      "at processTicksAndRejections (internal/process/task_queues.js:94:5)"
     ]
    }
   ],
   "source": [
    "from sklearn.metrics import classification_report, confusion_matrix, accuracy_score\n",
    "\n",
    "print(confusion_matrix(y_test,y_pred))\n",
    "print(classification_report(y_test,y_pred))\n",
    "print(accuracy_score(y_test, y_pred))"
   ]
  },
  {
   "source": [
    "### Model selection (SVM + kNN + naiveBayes + logistic regression on textual data?)"
   ],
   "cell_type": "markdown",
   "metadata": {}
  },
  {
   "source": [
    "pd.options.display.max_colwidth = 500\n",
    "df_all_news_processed.loc[df_all_news_processed['Category'] == 'travel']"
   ],
   "cell_type": "code",
   "metadata": {},
   "execution_count": null,
   "outputs": []
  },
  {
   "cell_type": "code",
   "execution_count": null,
   "metadata": {},
   "outputs": [],
   "source": [
    "'''######################## Find N-Grams ########################\n",
    "from collections import Counter\n",
    "from itertools import chain\n",
    "\n",
    "#This function is called from find_most_common_n_grams()\n",
    "def find_ngrams(input_list, n, n_common_words):\n",
    "    return list(zip(*[input_list[i:] for i in range(n)]))\n",
    "\n",
    "\n",
    "########### [Input] ###########\n",
    "########## df: The DataFrame with the data that would like to process\n",
    "########## n: The number of N-grams \n",
    "########## n_top_ngrams: The number the X most common N-grams\n",
    "########## Returns: A list with the X most common N-grams and their occurrences \n",
    "def find_most_common_n_grams(df, n, n_top_ngrams):\n",
    "    \n",
    "    n_grams_title = str(n) +'_grams'\n",
    "    \n",
    "    df[n_grams_title] = df['Text'].map(lambda x: find_ngrams(x.split(\" \"), n, 10))\n",
    "    \n",
    "    ngrams = df[n_grams_title].tolist()\n",
    "    ngrams = list(chain(*ngrams))\n",
    "\n",
    "    #TODO this: should have x,y,z as the n increases \n",
    "    # e.g. [(x.lower(), y.lower(), z.lower()) for x,y,z in ngrams] #--> For 3-grams etc.\n",
    "    #ngrams = [(x.lower(), y.lower()) for x,y in ngrams]\n",
    "\n",
    "    ngram_counts = Counter(ngrams)\n",
    "    return ngram_counts.most_common(n_top_ngrams)\n",
    "\n",
    "#4 stands for: fourgrams. Change to any n value\n",
    "#20 stands for: display the top 20 n-grams\n",
    "testing = find_most_common_n_grams(df_all_news_processed, 4, 20)'''"
   ]
  },
  {
   "cell_type": "code",
   "execution_count": null,
   "metadata": {},
   "outputs": [],
   "source": [
    "'''''''''''''''''''' -----NOT USED------''''''''''''''''''''''''''\n",
    "\n",
    "#THIS CANNOT BE DONE BECAUSE WE DONT WANT TO REPLACE THE OUTLIERS WITH THE MEAN VALUE\n",
    "#BECAUSE OF THE HIGH NUMBERS OF THE OUTLIERS, WE WANT TO REMOVE THEM COMPLETELY.\n",
    "#PLUS THIS IS ABOUT NUMBER OF WORDS PER ARTICLE. WE CANT REPLACE ARTICLES WITH OTHER ARTICLES\n",
    "#BECUASE THAT WOULD MESS UP OUR DATASET.\n",
    "def remove_outliers_quantile_percentages(df, column_name, low_percent, high_percent):\n",
    "    low_value = df[column_name].quantile(low_percent)\n",
    "    high_value = df[column_name].quantile(high_percent)\n",
    "    df[column_name] = np.where(df[column_name] <low_value, low_value,df[column_name])\n",
    "    df[column_name] = np.where(df[column_name] >high_value, high_value,df[column_name])\n",
    "    return df[column_name]\n",
    "    \n",
    "display_outliers_skewness_value(test, 'Text_TotalWords')\n",
    "test['Text_TotalWords'] = remove_outliers_quantile_percentages(test, 'Text_TotalWords', 0.10, 0.90)\n",
    "display_outliers_skewness_value(test, 'Text_TotalWords')\n",
    "'''''''''''''''''''' -----NOT USED------''''''''''''''''''''''''''"
   ]
  },
  {
   "cell_type": "code",
   "execution_count": null,
   "metadata": {
    "scrolled": false
   },
   "outputs": [],
   "source": [
    "######## SERIAL CLEANING STEPS ######\n",
    "Remove new line\n",
    "Remove non-ascii chars\n",
    "Remove multiple spaces\n",
    "Remove null values\n",
    "Remove duplicate values\n",
    "Remove noisy pre-defined words (by list) / n-grams (to-do)\n",
    "Remove punctuations\n",
    "to lower(NLP)\n",
    "Remove single chars\n",
    "Remove links\n",
    "Remove years\n",
    "Remove months (to do)\n",
    "Remove days\n",
    "Remove time\n",
    "Remove multiple spaces\n",
    "Remove stopwords(NLP)\n",
    "\n",
    "Remove outliers(EDA)"
   ]
  }
 ],
 "metadata": {
  "kernelspec": {
   "display_name": "Python 3",
   "language": "python",
   "name": "python3"
  },
  "language_info": {
   "codemirror_mode": {
    "name": "ipython",
    "version": 3
   },
   "file_extension": ".py",
   "mimetype": "text/x-python",
   "name": "python",
   "nbconvert_exporter": "python",
   "pygments_lexer": "ipython3",
   "version": "3.7.4-final"
  }
 },
 "nbformat": 4,
 "nbformat_minor": 2
}